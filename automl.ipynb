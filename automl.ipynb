{
 "cells": [
  {
   "cell_type": "markdown",
   "metadata": {},
   "source": [
    "# Automated ML\n",
    "\n",
    "In this capstone project I will showcase how we can use data science as a investigation tool, here we use classfication algorithm to distinguish between normal traffic (good connections) and intrusion or attacks traffic (bad connections). A connection is a sequence of TCP packets starting and ending at some well difined times, between which data flows to and from source IP address to a target IP address under some well defined protocol. We will create Intrusion Detection System (IDS)\n",
    "\n",
    "In this notebook you will learn how to:\n",
    "1. Create an `Experiment` in an existing `Workspace`.\n",
    "2. Create or Attach existing AmlCompute to a workspace.\n",
    "3. Define data loading in a `TabularDataset`.\n",
    "4. Configure AutoML using `AutoMLConfig`.\n",
    "5. Use AutoMLStep\n",
    "6. Train the model using AmlCompute\n",
    "7. Explore the results.\n",
    "8. Test the best fitted model."
   ]
  },
  {
   "cell_type": "markdown",
   "metadata": {},
   "source": [
    "#### Import Dependencies.\n",
    "In the cell below, import all the dependencies that you will need to complete the project."
   ]
  },
  {
   "cell_type": "code",
   "execution_count": 1,
   "metadata": {
    "gather": {
     "logged": 1598423888013
    },
    "jupyter": {
     "outputs_hidden": false,
     "source_hidden": false
    },
    "nteract": {
     "transient": {
      "deleting": false
     }
    }
   },
   "outputs": [],
   "source": [
    "import os"
   ]
  },
  {
   "cell_type": "markdown",
   "metadata": {},
   "source": [
    "## Dataset\n",
    "\n",
    "### Data description\n",
    "Data is collected by packet analyzers (also known as packet/network/protocol snifers) intercept and log traffic in the network.The dataset that we will use is the NSLKDD dataset. The original 1999 KDD Cup dataset was created for the DARPA Intrusion Detection Evaluation Program, prepared and managed by MIT Lincoln Laboratory. The data was collected over nine\n",
    "weeks and consists of raw tcpdump traffic in a local area network (LAN) that simulates the environment of a typical United States Air Force LAN. Some network attacks were deliberately carried out during the recording period. There were 38 different\n",
    "types of attacks, but only 24 are available in the training set. \n",
    "\n",
    "#### Data references\n",
    "\n",
    "https://www.unb.ca/cic/datasets/nsl.html     \n",
    "https://www.kaggle.com/hassan06/nslkdd"
   ]
  },
  {
   "cell_type": "markdown",
   "metadata": {},
   "source": [
    "## Initialize Workspace\n",
    "Initialize a workspace object from persisted configuration. Make sure the config file is present at .\\config.json"
   ]
  },
  {
   "cell_type": "code",
   "execution_count": 2,
   "metadata": {
    "gather": {
     "logged": 1598423890461
    },
    "jupyter": {
     "outputs_hidden": false,
     "source_hidden": false
    },
    "nteract": {
     "transient": {
      "deleting": false
     }
    }
   },
   "outputs": [
    {
     "name": "stdout",
     "output_type": "stream",
     "text": [
      "Workspace name: quick-starts-ws-142286\n",
      "Azure region: southcentralus\n",
      "Subscription id: 610d6e37-4747-4a20-80eb-3aad70a55f43\n",
      "Resource group: aml-quickstarts-142286\n"
     ]
    }
   ],
   "source": [
    "from azureml.core import Workspace, Experiment\n",
    "\n",
    "vrk_auto_ids_ws = Workspace.from_config()\n",
    "vrk_auto_ids_exp = Experiment(workspace=vrk_auto_ids_ws, name=\"vrk_ids_auto_exp\")\n",
    "\n",
    "print('Workspace name: ' + vrk_auto_ids_ws.name, \n",
    "      'Azure region: ' + vrk_auto_ids_ws.location, \n",
    "      'Subscription id: ' + vrk_auto_ids_ws.subscription_id, \n",
    "      'Resource group: ' + vrk_auto_ids_ws.resource_group, sep = '\\n')\n",
    "\n",
    "auto_ids_run = vrk_auto_ids_exp.start_logging()"
   ]
  },
  {
   "cell_type": "markdown",
   "metadata": {},
   "source": [
    "### Create or Attach an AmlCompute cluster\n",
    "You will need to create a [compute target](https://docs.microsoft.com/azure/machine-learning/service/concept-azure-machine-learning-architecture#compute-target) for your run. "
   ]
  },
  {
   "cell_type": "code",
   "execution_count": 3,
   "metadata": {},
   "outputs": [
    {
     "name": "stdout",
     "output_type": "stream",
     "text": [
      "Creating...\n",
      "SucceededProvisioning operation finished, operation \"Succeeded\"\n",
      "Succeeded\n",
      "AmlCompute wait for completion finished\n",
      "\n",
      "Minimum number of nodes requested have been provisioned\n"
     ]
    }
   ],
   "source": [
    "from azureml.core.compute import ComputeTarget, AmlCompute\n",
    "from azureml.core.compute_target import ComputeTargetException\n",
    "\n",
    "# Choose a name for your CPU cluster\n",
    "cpu_cluster_name = \"cpucluster\"\n",
    "\n",
    "# Verify that cluster does not exist already\n",
    "try:\n",
    "    cpu_cluster = ComputeTarget(workspace=vrk_auto_ids_ws, name=cpu_cluster_name)\n",
    "    print('Found existing cluster, use it.')\n",
    "except ComputeTargetException:\n",
    "    compute_config = AmlCompute.provisioning_configuration(vm_size='STANDARD_D2_V2',\n",
    "                                                           max_nodes=4)\n",
    "    cpu_cluster = ComputeTarget.create(vrk_auto_ids_ws, cpu_cluster_name, compute_config)\n",
    "\n",
    "cpu_cluster.wait_for_completion(show_output=True)"
   ]
  },
  {
   "cell_type": "markdown",
   "metadata": {},
   "source": [
    "### Download and prepare data for AutoML learning\n"
   ]
  },
  {
   "cell_type": "code",
   "execution_count": 4,
   "metadata": {},
   "outputs": [],
   "source": [
    "from azureml.data.dataset_factory import TabularDatasetFactory\n",
    "\n",
    "# Create TabularDataset using TabularDatasetFactory\n",
    "\n",
    "kdd_auto_webpath = [\n",
    "                     'https://raw.githubusercontent.com/venkataravikumaralladi/AzureMLCapstoneProject/main/KDDTrain.csv'\n",
    "                   ]\n",
    "\n",
    "#create bankmarketing data set in tabular format using TabularDatasetFactory\n",
    "ids_auto_dataset = TabularDatasetFactory.from_delimited_files(path=kdd_auto_webpath)"
   ]
  },
  {
   "cell_type": "code",
   "execution_count": 11,
   "metadata": {},
   "outputs": [
    {
     "name": "stdout",
     "output_type": "stream",
     "text": [
      "train df data shape  (125972, 43)\n"
     ]
    },
    {
     "data": {
      "text/html": [
       "<div>\n",
       "<style scoped>\n",
       "    .dataframe tbody tr th:only-of-type {\n",
       "        vertical-align: middle;\n",
       "    }\n",
       "\n",
       "    .dataframe tbody tr th {\n",
       "        vertical-align: top;\n",
       "    }\n",
       "\n",
       "    .dataframe thead th {\n",
       "        text-align: right;\n",
       "    }\n",
       "</style>\n",
       "<table border=\"1\" class=\"dataframe\">\n",
       "  <thead>\n",
       "    <tr style=\"text-align: right;\">\n",
       "      <th></th>\n",
       "      <th>duration</th>\n",
       "      <th>protocol_type</th>\n",
       "      <th>service</th>\n",
       "      <th>flag</th>\n",
       "      <th>src_bytes</th>\n",
       "      <th>dst_bytes</th>\n",
       "      <th>land</th>\n",
       "      <th>wrong_fragment</th>\n",
       "      <th>urgent</th>\n",
       "      <th>hot</th>\n",
       "      <th>...</th>\n",
       "      <th>dst_host_same_srv_rate</th>\n",
       "      <th>dst_host_diff_srv_rate</th>\n",
       "      <th>dst_host_same_src_port_rate</th>\n",
       "      <th>dst_host_srv_diff_host_rate</th>\n",
       "      <th>dst_host_serror_rate</th>\n",
       "      <th>dst_host_srv_serror_rate</th>\n",
       "      <th>dst_host_rerror_rate</th>\n",
       "      <th>dst_host_srv_rerror_rate</th>\n",
       "      <th>attack_type</th>\n",
       "      <th>success_pred</th>\n",
       "    </tr>\n",
       "  </thead>\n",
       "  <tbody>\n",
       "    <tr>\n",
       "      <th>0</th>\n",
       "      <td>0</td>\n",
       "      <td>udp</td>\n",
       "      <td>other</td>\n",
       "      <td>SF</td>\n",
       "      <td>146</td>\n",
       "      <td>0</td>\n",
       "      <td>0</td>\n",
       "      <td>0</td>\n",
       "      <td>0</td>\n",
       "      <td>0</td>\n",
       "      <td>...</td>\n",
       "      <td>0.00</td>\n",
       "      <td>0.60</td>\n",
       "      <td>0.88</td>\n",
       "      <td>0.00</td>\n",
       "      <td>0.00</td>\n",
       "      <td>0.00</td>\n",
       "      <td>0.0</td>\n",
       "      <td>0.00</td>\n",
       "      <td>normal</td>\n",
       "      <td>15</td>\n",
       "    </tr>\n",
       "    <tr>\n",
       "      <th>1</th>\n",
       "      <td>0</td>\n",
       "      <td>tcp</td>\n",
       "      <td>private</td>\n",
       "      <td>S0</td>\n",
       "      <td>0</td>\n",
       "      <td>0</td>\n",
       "      <td>0</td>\n",
       "      <td>0</td>\n",
       "      <td>0</td>\n",
       "      <td>0</td>\n",
       "      <td>...</td>\n",
       "      <td>0.10</td>\n",
       "      <td>0.05</td>\n",
       "      <td>0.00</td>\n",
       "      <td>0.00</td>\n",
       "      <td>1.00</td>\n",
       "      <td>1.00</td>\n",
       "      <td>0.0</td>\n",
       "      <td>0.00</td>\n",
       "      <td>neptune</td>\n",
       "      <td>19</td>\n",
       "    </tr>\n",
       "    <tr>\n",
       "      <th>2</th>\n",
       "      <td>0</td>\n",
       "      <td>tcp</td>\n",
       "      <td>http</td>\n",
       "      <td>SF</td>\n",
       "      <td>232</td>\n",
       "      <td>8153</td>\n",
       "      <td>0</td>\n",
       "      <td>0</td>\n",
       "      <td>0</td>\n",
       "      <td>0</td>\n",
       "      <td>...</td>\n",
       "      <td>1.00</td>\n",
       "      <td>0.00</td>\n",
       "      <td>0.03</td>\n",
       "      <td>0.04</td>\n",
       "      <td>0.03</td>\n",
       "      <td>0.01</td>\n",
       "      <td>0.0</td>\n",
       "      <td>0.01</td>\n",
       "      <td>normal</td>\n",
       "      <td>21</td>\n",
       "    </tr>\n",
       "    <tr>\n",
       "      <th>3</th>\n",
       "      <td>0</td>\n",
       "      <td>tcp</td>\n",
       "      <td>http</td>\n",
       "      <td>SF</td>\n",
       "      <td>199</td>\n",
       "      <td>420</td>\n",
       "      <td>0</td>\n",
       "      <td>0</td>\n",
       "      <td>0</td>\n",
       "      <td>0</td>\n",
       "      <td>...</td>\n",
       "      <td>1.00</td>\n",
       "      <td>0.00</td>\n",
       "      <td>0.00</td>\n",
       "      <td>0.00</td>\n",
       "      <td>0.00</td>\n",
       "      <td>0.00</td>\n",
       "      <td>0.0</td>\n",
       "      <td>0.00</td>\n",
       "      <td>normal</td>\n",
       "      <td>21</td>\n",
       "    </tr>\n",
       "    <tr>\n",
       "      <th>4</th>\n",
       "      <td>0</td>\n",
       "      <td>tcp</td>\n",
       "      <td>private</td>\n",
       "      <td>REJ</td>\n",
       "      <td>0</td>\n",
       "      <td>0</td>\n",
       "      <td>0</td>\n",
       "      <td>0</td>\n",
       "      <td>0</td>\n",
       "      <td>0</td>\n",
       "      <td>...</td>\n",
       "      <td>0.07</td>\n",
       "      <td>0.07</td>\n",
       "      <td>0.00</td>\n",
       "      <td>0.00</td>\n",
       "      <td>0.00</td>\n",
       "      <td>0.00</td>\n",
       "      <td>1.0</td>\n",
       "      <td>1.00</td>\n",
       "      <td>neptune</td>\n",
       "      <td>21</td>\n",
       "    </tr>\n",
       "  </tbody>\n",
       "</table>\n",
       "<p>5 rows × 43 columns</p>\n",
       "</div>"
      ],
      "text/plain": [
       "   duration protocol_type  service flag  src_bytes  dst_bytes  land  \\\n",
       "0         0           udp    other   SF        146          0     0   \n",
       "1         0           tcp  private   S0          0          0     0   \n",
       "2         0           tcp     http   SF        232       8153     0   \n",
       "3         0           tcp     http   SF        199        420     0   \n",
       "4         0           tcp  private  REJ          0          0     0   \n",
       "\n",
       "   wrong_fragment  urgent  hot  ...  dst_host_same_srv_rate  \\\n",
       "0               0       0    0  ...                    0.00   \n",
       "1               0       0    0  ...                    0.10   \n",
       "2               0       0    0  ...                    1.00   \n",
       "3               0       0    0  ...                    1.00   \n",
       "4               0       0    0  ...                    0.07   \n",
       "\n",
       "   dst_host_diff_srv_rate  dst_host_same_src_port_rate  \\\n",
       "0                    0.60                         0.88   \n",
       "1                    0.05                         0.00   \n",
       "2                    0.00                         0.03   \n",
       "3                    0.00                         0.00   \n",
       "4                    0.07                         0.00   \n",
       "\n",
       "   dst_host_srv_diff_host_rate  dst_host_serror_rate  \\\n",
       "0                         0.00                  0.00   \n",
       "1                         0.00                  1.00   \n",
       "2                         0.04                  0.03   \n",
       "3                         0.00                  0.00   \n",
       "4                         0.00                  0.00   \n",
       "\n",
       "   dst_host_srv_serror_rate  dst_host_rerror_rate  dst_host_srv_rerror_rate  \\\n",
       "0                      0.00                   0.0                      0.00   \n",
       "1                      1.00                   0.0                      0.00   \n",
       "2                      0.01                   0.0                      0.01   \n",
       "3                      0.00                   0.0                      0.00   \n",
       "4                      0.00                   1.0                      1.00   \n",
       "\n",
       "   attack_type  success_pred  \n",
       "0       normal            15  \n",
       "1      neptune            19  \n",
       "2       normal            21  \n",
       "3       normal            21  \n",
       "4      neptune            21  \n",
       "\n",
       "[5 rows x 43 columns]"
      ]
     },
     "execution_count": 11,
     "metadata": {},
     "output_type": "execute_result"
    }
   ],
   "source": [
    "# class variables\n",
    "network_data_column_names = [ \n",
    "                  'duration', 'protocol_type', 'service',\n",
    "                  'flag', 'src_bytes', 'dst_bytes',\n",
    "                  'land', 'wrong_fragment', 'urgent',\n",
    "    \n",
    "            \n",
    "                  'hot', 'num_failed_logins', 'logged_in',\n",
    "                  'num_compromised', 'root_shell', 'su_attempted',\n",
    "                  'num_root', 'num_file_creations', 'num_shells',\n",
    "                  'num_access_files', 'num_outbound_cmds', 'is_hot_login',\n",
    "                  'is_guest_login',\n",
    "    \n",
    "                 \n",
    "                  'count', 'srv_count', 'serror_rate',\n",
    "                  'srv_serror_rate', 'rerror_rate', 'srv_rerror_rate',\n",
    "                  'same_srv_rate', 'diff_srv_rate', 'srv_diff_host_rate',\n",
    "                 \n",
    "                  'dst_host_count', 'dst_host_srv_count', 'dst_host_same_srv_rate',\n",
    "                  'dst_host_diff_srv_rate', 'dst_host_same_src_port_rate', 'dst_host_srv_diff_host_rate',\n",
    "                  'dst_host_serror_rate', 'dst_host_srv_serror_rate', 'dst_host_rerror_rate',\n",
    "                  'dst_host_srv_rerror_rate',\n",
    "    \n",
    "                   'attack_type',\n",
    "                   'success_pred' ]\n",
    "\n",
    "train_df = ids_auto_dataset.to_pandas_dataframe().dropna()\n",
    "print(\"train df data shape \", train_df.shape)\n",
    "train_df.columns = network_data_column_names\n",
    "train_df.head()"
   ]
  },
  {
   "cell_type": "code",
   "execution_count": 12,
   "metadata": {},
   "outputs": [
    {
     "name": "stdout",
     "output_type": "stream",
     "text": [
      "train df data shape  (125972, 43)\n",
      "Train data frame after droping success pred is   (125972, 42)\n"
     ]
    }
   ],
   "source": [
    "print(\"train df data shape \", train_df.shape)\n",
    "# For this analysis we drop \"success_pred\" column\n",
    "train_df.drop('success_pred', axis=1, inplace=True)\n",
    "print(\"Train data frame after droping success pred is  \", train_df.shape)"
   ]
  },
  {
   "cell_type": "code",
   "execution_count": 13,
   "metadata": {},
   "outputs": [
    {
     "name": "stdout",
     "output_type": "stream",
     "text": [
      "Shape of train_X is  (125972, 41)\n",
      "Shape of train_Y is  (125972,)\n",
      "After join train_X shape is  (125972, 42)\n"
     ]
    },
    {
     "data": {
      "text/html": [
       "<div>\n",
       "<style scoped>\n",
       "    .dataframe tbody tr th:only-of-type {\n",
       "        vertical-align: middle;\n",
       "    }\n",
       "\n",
       "    .dataframe tbody tr th {\n",
       "        vertical-align: top;\n",
       "    }\n",
       "\n",
       "    .dataframe thead th {\n",
       "        text-align: right;\n",
       "    }\n",
       "</style>\n",
       "<table border=\"1\" class=\"dataframe\">\n",
       "  <thead>\n",
       "    <tr style=\"text-align: right;\">\n",
       "      <th></th>\n",
       "      <th>duration</th>\n",
       "      <th>protocol_type</th>\n",
       "      <th>service</th>\n",
       "      <th>flag</th>\n",
       "      <th>src_bytes</th>\n",
       "      <th>dst_bytes</th>\n",
       "      <th>land</th>\n",
       "      <th>wrong_fragment</th>\n",
       "      <th>urgent</th>\n",
       "      <th>hot</th>\n",
       "      <th>...</th>\n",
       "      <th>dst_host_srv_count</th>\n",
       "      <th>dst_host_same_srv_rate</th>\n",
       "      <th>dst_host_diff_srv_rate</th>\n",
       "      <th>dst_host_same_src_port_rate</th>\n",
       "      <th>dst_host_srv_diff_host_rate</th>\n",
       "      <th>dst_host_serror_rate</th>\n",
       "      <th>dst_host_srv_serror_rate</th>\n",
       "      <th>dst_host_rerror_rate</th>\n",
       "      <th>dst_host_srv_rerror_rate</th>\n",
       "      <th>attack_type</th>\n",
       "    </tr>\n",
       "  </thead>\n",
       "  <tbody>\n",
       "    <tr>\n",
       "      <th>0</th>\n",
       "      <td>0</td>\n",
       "      <td>udp</td>\n",
       "      <td>other</td>\n",
       "      <td>SF</td>\n",
       "      <td>146</td>\n",
       "      <td>0</td>\n",
       "      <td>0</td>\n",
       "      <td>0</td>\n",
       "      <td>0</td>\n",
       "      <td>0</td>\n",
       "      <td>...</td>\n",
       "      <td>1</td>\n",
       "      <td>0.00</td>\n",
       "      <td>0.60</td>\n",
       "      <td>0.88</td>\n",
       "      <td>0.00</td>\n",
       "      <td>0.00</td>\n",
       "      <td>0.00</td>\n",
       "      <td>0.0</td>\n",
       "      <td>0.00</td>\n",
       "      <td>0</td>\n",
       "    </tr>\n",
       "    <tr>\n",
       "      <th>1</th>\n",
       "      <td>0</td>\n",
       "      <td>tcp</td>\n",
       "      <td>private</td>\n",
       "      <td>S0</td>\n",
       "      <td>0</td>\n",
       "      <td>0</td>\n",
       "      <td>0</td>\n",
       "      <td>0</td>\n",
       "      <td>0</td>\n",
       "      <td>0</td>\n",
       "      <td>...</td>\n",
       "      <td>26</td>\n",
       "      <td>0.10</td>\n",
       "      <td>0.05</td>\n",
       "      <td>0.00</td>\n",
       "      <td>0.00</td>\n",
       "      <td>1.00</td>\n",
       "      <td>1.00</td>\n",
       "      <td>0.0</td>\n",
       "      <td>0.00</td>\n",
       "      <td>1</td>\n",
       "    </tr>\n",
       "    <tr>\n",
       "      <th>2</th>\n",
       "      <td>0</td>\n",
       "      <td>tcp</td>\n",
       "      <td>http</td>\n",
       "      <td>SF</td>\n",
       "      <td>232</td>\n",
       "      <td>8153</td>\n",
       "      <td>0</td>\n",
       "      <td>0</td>\n",
       "      <td>0</td>\n",
       "      <td>0</td>\n",
       "      <td>...</td>\n",
       "      <td>255</td>\n",
       "      <td>1.00</td>\n",
       "      <td>0.00</td>\n",
       "      <td>0.03</td>\n",
       "      <td>0.04</td>\n",
       "      <td>0.03</td>\n",
       "      <td>0.01</td>\n",
       "      <td>0.0</td>\n",
       "      <td>0.01</td>\n",
       "      <td>0</td>\n",
       "    </tr>\n",
       "    <tr>\n",
       "      <th>3</th>\n",
       "      <td>0</td>\n",
       "      <td>tcp</td>\n",
       "      <td>http</td>\n",
       "      <td>SF</td>\n",
       "      <td>199</td>\n",
       "      <td>420</td>\n",
       "      <td>0</td>\n",
       "      <td>0</td>\n",
       "      <td>0</td>\n",
       "      <td>0</td>\n",
       "      <td>...</td>\n",
       "      <td>255</td>\n",
       "      <td>1.00</td>\n",
       "      <td>0.00</td>\n",
       "      <td>0.00</td>\n",
       "      <td>0.00</td>\n",
       "      <td>0.00</td>\n",
       "      <td>0.00</td>\n",
       "      <td>0.0</td>\n",
       "      <td>0.00</td>\n",
       "      <td>0</td>\n",
       "    </tr>\n",
       "    <tr>\n",
       "      <th>4</th>\n",
       "      <td>0</td>\n",
       "      <td>tcp</td>\n",
       "      <td>private</td>\n",
       "      <td>REJ</td>\n",
       "      <td>0</td>\n",
       "      <td>0</td>\n",
       "      <td>0</td>\n",
       "      <td>0</td>\n",
       "      <td>0</td>\n",
       "      <td>0</td>\n",
       "      <td>...</td>\n",
       "      <td>19</td>\n",
       "      <td>0.07</td>\n",
       "      <td>0.07</td>\n",
       "      <td>0.00</td>\n",
       "      <td>0.00</td>\n",
       "      <td>0.00</td>\n",
       "      <td>0.00</td>\n",
       "      <td>1.0</td>\n",
       "      <td>1.00</td>\n",
       "      <td>1</td>\n",
       "    </tr>\n",
       "  </tbody>\n",
       "</table>\n",
       "<p>5 rows × 42 columns</p>\n",
       "</div>"
      ],
      "text/plain": [
       "   duration protocol_type  service flag  src_bytes  dst_bytes  land  \\\n",
       "0         0           udp    other   SF        146          0     0   \n",
       "1         0           tcp  private   S0          0          0     0   \n",
       "2         0           tcp     http   SF        232       8153     0   \n",
       "3         0           tcp     http   SF        199        420     0   \n",
       "4         0           tcp  private  REJ          0          0     0   \n",
       "\n",
       "   wrong_fragment  urgent  hot  ...  dst_host_srv_count  \\\n",
       "0               0       0    0  ...                   1   \n",
       "1               0       0    0  ...                  26   \n",
       "2               0       0    0  ...                 255   \n",
       "3               0       0    0  ...                 255   \n",
       "4               0       0    0  ...                  19   \n",
       "\n",
       "   dst_host_same_srv_rate  dst_host_diff_srv_rate  \\\n",
       "0                    0.00                    0.60   \n",
       "1                    0.10                    0.05   \n",
       "2                    1.00                    0.00   \n",
       "3                    1.00                    0.00   \n",
       "4                    0.07                    0.07   \n",
       "\n",
       "   dst_host_same_src_port_rate  dst_host_srv_diff_host_rate  \\\n",
       "0                         0.88                         0.00   \n",
       "1                         0.00                         0.00   \n",
       "2                         0.03                         0.04   \n",
       "3                         0.00                         0.00   \n",
       "4                         0.00                         0.00   \n",
       "\n",
       "   dst_host_serror_rate  dst_host_srv_serror_rate  dst_host_rerror_rate  \\\n",
       "0                  0.00                      0.00                   0.0   \n",
       "1                  1.00                      1.00                   0.0   \n",
       "2                  0.03                      0.01                   0.0   \n",
       "3                  0.00                      0.00                   0.0   \n",
       "4                  0.00                      0.00                   1.0   \n",
       "\n",
       "   dst_host_srv_rerror_rate  attack_type  \n",
       "0                      0.00            0  \n",
       "1                      0.00            1  \n",
       "2                      0.01            0  \n",
       "3                      0.00            0  \n",
       "4                      1.00            1  \n",
       "\n",
       "[5 rows x 42 columns]"
      ]
     },
     "execution_count": 13,
     "metadata": {},
     "output_type": "execute_result"
    }
   ],
   "source": [
    "# Drop attack type in training data which is to be predicted.\n",
    "train_X = train_df.drop(\"attack_type\", axis=1)\n",
    "train_Y = train_df['attack_type']\n",
    "# we build binary classifier for this project\n",
    "train_Y = train_Y.apply(lambda x: 0 if x == 'normal' else 1)  \n",
    "\n",
    "print(\"Shape of train_X is \", train_X.shape)\n",
    "print(\"Shape of train_Y is \", train_Y.shape)\n",
    "train_X = train_X.join(train_Y)\n",
    "print(\"After join train_X shape is \", train_X.shape)\n",
    "train_X.head()"
   ]
  },
  {
   "cell_type": "code",
   "execution_count": 14,
   "metadata": {},
   "outputs": [
    {
     "data": {
      "text/plain": [
       "{\n",
       "  \"name\": \"workspaceblobstore\",\n",
       "  \"container_name\": \"azureml-blobstore-1255c964-f867-4262-8ffe-389e6b54a7ca\",\n",
       "  \"account_name\": \"mlstrg142286\",\n",
       "  \"protocol\": \"https\",\n",
       "  \"endpoint\": \"core.windows.net\"\n",
       "}"
      ]
     },
     "execution_count": 14,
     "metadata": {},
     "output_type": "execute_result"
    }
   ],
   "source": [
    "#store data frame to data store for AutoMLConfig training\n",
    "train_X.to_csv('training/ids_training_data.csv')\n",
    "default_datastore = vrk_auto_ids_ws.get_default_datastore()\n",
    "default_datastore"
   ]
  },
  {
   "cell_type": "code",
   "execution_count": 15,
   "metadata": {},
   "outputs": [
    {
     "name": "stdout",
     "output_type": "stream",
     "text": [
      "Uploading an estimated of 1 files\n",
      "Uploading training/ids_training_data.csv\n",
      "Uploaded training/ids_training_data.csv, 1 files out of an estimated total of 1\n",
      "Uploaded 1 files\n"
     ]
    },
    {
     "data": {
      "text/plain": [
       "$AZUREML_DATAREFERENCE_805f3263c8d142fb9855f94b555d1c2e"
      ]
     },
     "execution_count": 15,
     "metadata": {},
     "output_type": "execute_result"
    }
   ],
   "source": [
    "#upload training data to data store for AutomMLConfig training\n",
    "default_datastore.upload(src_dir='training', target_path='data/')"
   ]
  },
  {
   "cell_type": "code",
   "execution_count": 16,
   "metadata": {},
   "outputs": [],
   "source": [
    "# get data set pointer to data store for bank training data\n",
    "from azureml.core import Dataset\n",
    "ids_auto_dataset = Dataset.Tabular.from_delimited_files(path=[(default_datastore, ('data/ids_training_data.csv'))])"
   ]
  },
  {
   "cell_type": "markdown",
   "metadata": {},
   "source": [
    "## AutoML Configuration\n",
    "\n",
    "TODO: Explain why you chose the automl settings and cofiguration you used below."
   ]
  },
  {
   "cell_type": "code",
   "execution_count": 17,
   "metadata": {
    "gather": {
     "logged": 1598429217746
    },
    "jupyter": {
     "outputs_hidden": false,
     "source_hidden": false
    },
    "nteract": {
     "transient": {
      "deleting": false
     }
    }
   },
   "outputs": [],
   "source": [
    "from azureml.train.automl import AutoMLConfig\n",
    "\n",
    "# Set parameters for AutoMLConfig\n",
    "# NOTE: DO NOT CHANGE THE experiment_timeout_minutes PARAMETER OR YOUR INSTANCE WILL TIME OUT.\n",
    "# If you wish to run the experiment longer, you will need to run this notebook in your own\n",
    "# Azure tenant, which will incur personal costs.\n",
    "vrk_ids_automl_config = AutoMLConfig(\n",
    "                   experiment_timeout_minutes=30,\n",
    "                   task=\"classification\",\n",
    "                   primary_metric=\"accuracy\",\n",
    "                   compute_target = cpu_cluster,\n",
    "                   training_data=ids_auto_dataset,\n",
    "                   blocked_models=['XGBoostClassifier'],\n",
    "                   label_column_name='attack_type',\n",
    "                   n_cross_validations=5)"
   ]
  },
  {
   "cell_type": "code",
   "execution_count": 18,
   "metadata": {
    "gather": {
     "logged": 1598431107951
    },
    "jupyter": {
     "outputs_hidden": false,
     "source_hidden": false
    },
    "nteract": {
     "transient": {
      "deleting": false
     }
    }
   },
   "outputs": [
    {
     "name": "stdout",
     "output_type": "stream",
     "text": [
      "Running on remote.\n",
      "No run_configuration provided, running on cpucluster with default configuration\n",
      "Running on remote compute: cpucluster\n",
      "Parent Run ID: AutoML_52d729eb-4c12-42fb-b93b-125aa69b16fc\n",
      "\n",
      "Current status: DatasetEvaluation. Gathering dataset statistics.\n",
      "Current status: FeaturesGeneration. Generating features for the dataset.\n",
      "Current status: DatasetFeaturization. Beginning to fit featurizers and featurize the dataset.\n",
      "Current status: DatasetFeaturizationCompleted. Generating individually featurized CV splits.\n",
      "Current status: DatasetCrossValidationSplit. Generating individually featurized CV splits.\n",
      "Current status: ModelSelection. Beginning model selection.\n",
      "\n",
      "****************************************************************************************************\n",
      "DATA GUARDRAILS: \n",
      "\n",
      "TYPE:         Class balancing detection\n",
      "STATUS:       PASSED\n",
      "DESCRIPTION:  Your inputs were analyzed, and all classes are balanced in your training data.\n",
      "              Learn more about imbalanced data: https://aka.ms/AutomatedMLImbalancedData\n",
      "\n",
      "****************************************************************************************************\n",
      "\n",
      "TYPE:         Missing feature values imputation\n",
      "STATUS:       PASSED\n",
      "DESCRIPTION:  No feature missing values were detected in the training data.\n",
      "              Learn more about missing value imputation: https://aka.ms/AutomatedMLFeaturization\n",
      "\n",
      "****************************************************************************************************\n",
      "\n",
      "TYPE:         High cardinality feature detection\n",
      "STATUS:       PASSED\n",
      "DESCRIPTION:  Your inputs were analyzed, and no high cardinality features were detected.\n",
      "              Learn more about high cardinality feature handling: https://aka.ms/AutomatedMLFeaturization\n",
      "\n",
      "****************************************************************************************************\n",
      "\n",
      "****************************************************************************************************\n",
      "ITERATION: The iteration being evaluated.\n",
      "PIPELINE: A summary description of the pipeline being evaluated.\n",
      "DURATION: Time taken for the current iteration.\n",
      "METRIC: The result of computing score on the fitted pipeline.\n",
      "BEST: The best observed score thus far.\n",
      "****************************************************************************************************\n",
      "\n",
      " ITERATION   PIPELINE                                       DURATION      METRIC      BEST\n",
      "         0   MaxAbsScaler LightGBM                          0:01:18       0.9990    0.9990\n",
      "         1   MaxAbsScaler RandomForest                      0:01:12       0.9448    0.9990\n",
      "         2   MaxAbsScaler RandomForest                      0:01:04       0.9185    0.9990\n",
      "         3   MaxAbsScaler RandomForest                      0:01:07       0.9339    0.9990\n",
      "         4   MaxAbsScaler RandomForest                      0:01:00       0.9291    0.9990\n",
      "         5   MaxAbsScaler SGD                               0:01:02       0.9827    0.9990\n",
      "         6   MaxAbsScaler RandomForest                      0:03:47       0.9284    0.9990\n",
      "         7   MaxAbsScaler ExtremeRandomTrees                0:01:12       0.9065    0.9990\n",
      "         8   MaxAbsScaler LogisticRegression                0:01:40       0.9852    0.9990\n",
      "         9   SparseNormalizer LogisticRegression            0:02:14       0.8761    0.9990\n",
      "        10   SparseNormalizer LogisticRegression            0:02:06       0.8883    0.9990\n",
      "        11   MaxAbsScaler ExtremeRandomTrees                0:03:13       0.8769    0.9990\n",
      "        12   StandardScalerWrapper ExtremeRandomTrees       0:01:13       0.9306    0.9990\n",
      "        13   StandardScalerWrapper LightGBM                 0:01:17       0.9859    0.9990\n",
      "        14   StandardScalerWrapper LightGBM                 0:00:57       0.9633    0.9990\n",
      "        15   MaxAbsScaler LightGBM                          0:01:01       0.9771    0.9990\n",
      "        16   MaxAbsScaler LightGBM                          0:01:07       0.9938    0.9990\n",
      "ERROR: {\n",
      "    \"additional_properties\": {},\n",
      "    \"error\": {\n",
      "        \"additional_properties\": {\n",
      "            \"debugInfo\": null\n",
      "        },\n",
      "        \"code\": \"UserError\",\n",
      "        \"severity\": null,\n",
      "        \"message\": \"Experiment timeout reached, please consider increasing your experiment timeout.\",\n",
      "        \"message_format\": \"Experiment timeout reached, please consider increasing your experiment timeout.\",\n",
      "        \"message_parameters\": {},\n",
      "        \"reference_code\": null,\n",
      "        \"details_uri\": null,\n",
      "        \"target\": null,\n",
      "        \"details\": [],\n",
      "        \"inner_error\": {\n",
      "            \"additional_properties\": {},\n",
      "            \"code\": \"ResourceExhausted\",\n",
      "            \"inner_error\": {\n",
      "                \"additional_properties\": {},\n",
      "                \"code\": \"Timeout\",\n",
      "                \"inner_error\": {\n",
      "                    \"additional_properties\": {},\n",
      "                    \"code\": \"ExperimentTimeoutForIterations\",\n",
      "                    \"inner_error\": null\n",
      "                }\n",
      "            }\n",
      "        }\n",
      "    },\n",
      "    \"correlation\": null,\n",
      "    \"environment\": null,\n",
      "    \"location\": null,\n",
      "    \"time\": {},\n",
      "    \"component_name\": null\n",
      "}\n",
      "        17    VotingEnsemble                                0:01:43       0.9989    0.9990\n",
      "        18    StackEnsemble                                 0:02:13       0.9990    0.9990\n"
     ]
    }
   ],
   "source": [
    "# Submit your automl run\n",
    "from azureml.pipeline.steps import AutoMLStep\n",
    "#vrk_auto__exp = Experiment(workspace=vrk_auto_ids_ws, name=\"vrk_auto_ids_train_exp\")\n",
    "automl_ids_run = vrk_auto_ids_exp.submit(vrk_ids_automl_config, show_output=True)"
   ]
  },
  {
   "cell_type": "markdown",
   "metadata": {},
   "source": [
    "## Run Details\n",
    "\n",
    "OPTIONAL: Write about the different models trained and their performance. Why do you think some models did better than others?\n",
    "\n",
    "TODO: In the cell below, use the `RunDetails` widget to show the different experiments."
   ]
  },
  {
   "cell_type": "code",
   "execution_count": 21,
   "metadata": {
    "gather": {
     "logged": 1598431121770
    },
    "jupyter": {
     "outputs_hidden": false,
     "source_hidden": false
    },
    "nteract": {
     "transient": {
      "deleting": false
     }
    }
   },
   "outputs": [
    {
     "data": {
      "application/vnd.jupyter.widget-view+json": {
       "model_id": "157c6855d3a84fc99709e417d36f6fa1",
       "version_major": 2,
       "version_minor": 0
      },
      "text/plain": [
       "_AutoMLWidget(widget_settings={'childWidgetDisplay': 'popup', 'send_telemetry': False, 'log_level': 'INFO', 's…"
      ]
     },
     "metadata": {},
     "output_type": "display_data"
    },
    {
     "data": {
      "application/aml.mini.widget.v1": "{\"status\": \"Completed\", \"workbench_run_details_uri\": \"https://ml.azure.com/experiments/vrk_ids_auto_exp/runs/AutoML_52d729eb-4c12-42fb-b93b-125aa69b16fc?wsid=/subscriptions/610d6e37-4747-4a20-80eb-3aad70a55f43/resourcegroups/aml-quickstarts-142286/workspaces/quick-starts-ws-142286\", \"run_id\": \"AutoML_52d729eb-4c12-42fb-b93b-125aa69b16fc\", \"run_properties\": {\"run_id\": \"AutoML_52d729eb-4c12-42fb-b93b-125aa69b16fc\", \"created_utc\": \"2021-04-09T10:10:55.652382Z\", \"properties\": {\"num_iterations\": \"1000\", \"training_type\": \"TrainFull\", \"acquisition_function\": \"EI\", \"primary_metric\": \"accuracy\", \"train_split\": \"0\", \"acquisition_parameter\": \"0\", \"num_cross_validation\": \"5\", \"target\": \"cpucluster\", \"AMLSettingsJsonString\": \"{\\\"path\\\":null,\\\"name\\\":\\\"vrk_ids_auto_exp\\\",\\\"subscription_id\\\":\\\"610d6e37-4747-4a20-80eb-3aad70a55f43\\\",\\\"resource_group\\\":\\\"aml-quickstarts-142286\\\",\\\"workspace_name\\\":\\\"quick-starts-ws-142286\\\",\\\"region\\\":\\\"southcentralus\\\",\\\"compute_target\\\":\\\"cpucluster\\\",\\\"spark_service\\\":null,\\\"azure_service\\\":\\\"remote\\\",\\\"many_models\\\":false,\\\"pipeline_fetch_max_batch_size\\\":1,\\\"enable_batch_run\\\":false,\\\"iterations\\\":1000,\\\"primary_metric\\\":\\\"accuracy\\\",\\\"task_type\\\":\\\"classification\\\",\\\"data_script\\\":null,\\\"validation_size\\\":0.0,\\\"n_cross_validations\\\":5,\\\"y_min\\\":null,\\\"y_max\\\":null,\\\"num_classes\\\":null,\\\"featurization\\\":\\\"auto\\\",\\\"_ignore_package_version_incompatibilities\\\":false,\\\"is_timeseries\\\":false,\\\"max_cores_per_iteration\\\":1,\\\"max_concurrent_iterations\\\":1,\\\"iteration_timeout_minutes\\\":null,\\\"mem_in_mb\\\":null,\\\"enforce_time_on_windows\\\":false,\\\"experiment_timeout_minutes\\\":30,\\\"experiment_exit_score\\\":null,\\\"whitelist_models\\\":null,\\\"blacklist_algos\\\":[\\\"XGBoostClassifier\\\",\\\"TensorFlowLinearClassifier\\\",\\\"TensorFlowDNN\\\"],\\\"supported_models\\\":[\\\"ExtremeRandomTrees\\\",\\\"TensorFlowLinearClassifier\\\",\\\"GradientBoosting\\\",\\\"LinearSVM\\\",\\\"LogisticRegression\\\",\\\"KNN\\\",\\\"AveragedPerceptronClassifier\\\",\\\"TensorFlowDNN\\\",\\\"BernoulliNaiveBayes\\\",\\\"MultinomialNaiveBayes\\\",\\\"SVM\\\",\\\"RandomForest\\\",\\\"XGBoostClassifier\\\",\\\"LightGBM\\\",\\\"SGD\\\",\\\"DecisionTree\\\"],\\\"private_models\\\":[],\\\"auto_blacklist\\\":true,\\\"blacklist_samples_reached\\\":false,\\\"exclude_nan_labels\\\":true,\\\"verbosity\\\":20,\\\"_debug_log\\\":\\\"azureml_automl.log\\\",\\\"show_warnings\\\":false,\\\"model_explainability\\\":true,\\\"service_url\\\":null,\\\"sdk_url\\\":null,\\\"sdk_packages\\\":null,\\\"enable_onnx_compatible_models\\\":false,\\\"enable_split_onnx_featurizer_estimator_models\\\":false,\\\"vm_type\\\":\\\"STANDARD_D2_V2\\\",\\\"telemetry_verbosity\\\":20,\\\"send_telemetry\\\":true,\\\"enable_dnn\\\":false,\\\"scenario\\\":\\\"SDK-1.13.0\\\",\\\"environment_label\\\":null,\\\"save_mlflow\\\":false,\\\"force_text_dnn\\\":false,\\\"enable_feature_sweeping\\\":true,\\\"enable_early_stopping\\\":false,\\\"early_stopping_n_iters\\\":10,\\\"metrics\\\":null,\\\"enable_metric_confidence\\\":false,\\\"enable_ensembling\\\":true,\\\"enable_stack_ensembling\\\":true,\\\"ensemble_iterations\\\":15,\\\"enable_tf\\\":false,\\\"enable_subsampling\\\":null,\\\"subsample_seed\\\":null,\\\"enable_nimbusml\\\":false,\\\"enable_streaming\\\":false,\\\"force_streaming\\\":false,\\\"track_child_runs\\\":true,\\\"allowed_private_models\\\":[],\\\"label_column_name\\\":\\\"attack_type\\\",\\\"weight_column_name\\\":null,\\\"cv_split_column_names\\\":null,\\\"enable_local_managed\\\":false,\\\"_local_managed_run_id\\\":null,\\\"cost_mode\\\":1,\\\"lag_length\\\":0,\\\"metric_operation\\\":\\\"maximize\\\",\\\"preprocess\\\":true}\", \"DataPrepJsonString\": \"{\\\\\\\"training_data\\\\\\\": \\\\\\\"{\\\\\\\\\\\\\\\"blocks\\\\\\\\\\\\\\\": [{\\\\\\\\\\\\\\\"id\\\\\\\\\\\\\\\": \\\\\\\\\\\\\\\"8837fa65-f734-4206-84bb-d4e47b894b5d\\\\\\\\\\\\\\\", \\\\\\\\\\\\\\\"type\\\\\\\\\\\\\\\": \\\\\\\\\\\\\\\"Microsoft.DPrep.GetDatastoreFilesBlock\\\\\\\\\\\\\\\", \\\\\\\\\\\\\\\"arguments\\\\\\\\\\\\\\\": {\\\\\\\\\\\\\\\"datastores\\\\\\\\\\\\\\\": [{\\\\\\\\\\\\\\\"datastoreName\\\\\\\\\\\\\\\": \\\\\\\\\\\\\\\"workspaceblobstore\\\\\\\\\\\\\\\", \\\\\\\\\\\\\\\"path\\\\\\\\\\\\\\\": \\\\\\\\\\\\\\\"data/ids_training_data.csv\\\\\\\\\\\\\\\", \\\\\\\\\\\\\\\"resourceGroup\\\\\\\\\\\\\\\": \\\\\\\\\\\\\\\"aml-quickstarts-142286\\\\\\\\\\\\\\\", \\\\\\\\\\\\\\\"subscription\\\\\\\\\\\\\\\": \\\\\\\\\\\\\\\"610d6e37-4747-4a20-80eb-3aad70a55f43\\\\\\\\\\\\\\\", \\\\\\\\\\\\\\\"workspaceName\\\\\\\\\\\\\\\": \\\\\\\\\\\\\\\"quick-starts-ws-142286\\\\\\\\\\\\\\\"}]}, \\\\\\\\\\\\\\\"localData\\\\\\\\\\\\\\\": {}, \\\\\\\\\\\\\\\"isEnabled\\\\\\\\\\\\\\\": true, \\\\\\\\\\\\\\\"name\\\\\\\\\\\\\\\": null, \\\\\\\\\\\\\\\"annotation\\\\\\\\\\\\\\\": null}, {\\\\\\\\\\\\\\\"id\\\\\\\\\\\\\\\": \\\\\\\\\\\\\\\"0a11105c-21d2-4bdb-8446-a41b90c818aa\\\\\\\\\\\\\\\", \\\\\\\\\\\\\\\"type\\\\\\\\\\\\\\\": \\\\\\\\\\\\\\\"Microsoft.DPrep.ParseDelimitedBlock\\\\\\\\\\\\\\\", \\\\\\\\\\\\\\\"arguments\\\\\\\\\\\\\\\": {\\\\\\\\\\\\\\\"columnHeadersMode\\\\\\\\\\\\\\\": 3, \\\\\\\\\\\\\\\"fileEncoding\\\\\\\\\\\\\\\": 0, \\\\\\\\\\\\\\\"handleQuotedLineBreaks\\\\\\\\\\\\\\\": false, \\\\\\\\\\\\\\\"preview\\\\\\\\\\\\\\\": false, \\\\\\\\\\\\\\\"separator\\\\\\\\\\\\\\\": \\\\\\\\\\\\\\\",\\\\\\\\\\\\\\\", \\\\\\\\\\\\\\\"skipRows\\\\\\\\\\\\\\\": 0, \\\\\\\\\\\\\\\"skipRowsMode\\\\\\\\\\\\\\\": 0}, \\\\\\\\\\\\\\\"localData\\\\\\\\\\\\\\\": {}, \\\\\\\\\\\\\\\"isEnabled\\\\\\\\\\\\\\\": true, \\\\\\\\\\\\\\\"name\\\\\\\\\\\\\\\": null, \\\\\\\\\\\\\\\"annotation\\\\\\\\\\\\\\\": null}, {\\\\\\\\\\\\\\\"id\\\\\\\\\\\\\\\": \\\\\\\\\\\\\\\"b51016a4-c14f-4276-aa31-5bb890fd0a5b\\\\\\\\\\\\\\\", \\\\\\\\\\\\\\\"type\\\\\\\\\\\\\\\": \\\\\\\\\\\\\\\"Microsoft.DPrep.DropColumnsBlock\\\\\\\\\\\\\\\", \\\\\\\\\\\\\\\"arguments\\\\\\\\\\\\\\\": {\\\\\\\\\\\\\\\"columns\\\\\\\\\\\\\\\": {\\\\\\\\\\\\\\\"type\\\\\\\\\\\\\\\": 0, \\\\\\\\\\\\\\\"details\\\\\\\\\\\\\\\": {\\\\\\\\\\\\\\\"selectedColumns\\\\\\\\\\\\\\\": [\\\\\\\\\\\\\\\"Path\\\\\\\\\\\\\\\"]}}}, \\\\\\\\\\\\\\\"localData\\\\\\\\\\\\\\\": {}, \\\\\\\\\\\\\\\"isEnabled\\\\\\\\\\\\\\\": true, \\\\\\\\\\\\\\\"name\\\\\\\\\\\\\\\": null, \\\\\\\\\\\\\\\"annotation\\\\\\\\\\\\\\\": null}, {\\\\\\\\\\\\\\\"id\\\\\\\\\\\\\\\": \\\\\\\\\\\\\\\"6ea84078-d1b6-4499-bb0e-aa34a6e83c9e\\\\\\\\\\\\\\\", \\\\\\\\\\\\\\\"type\\\\\\\\\\\\\\\": \\\\\\\\\\\\\\\"Microsoft.DPrep.SetColumnTypesBlock\\\\\\\\\\\\\\\", \\\\\\\\\\\\\\\"arguments\\\\\\\\\\\\\\\": {\\\\\\\\\\\\\\\"columnConversion\\\\\\\\\\\\\\\": [{\\\\\\\\\\\\\\\"column\\\\\\\\\\\\\\\": {\\\\\\\\\\\\\\\"type\\\\\\\\\\\\\\\": 2, \\\\\\\\\\\\\\\"details\\\\\\\\\\\\\\\": {\\\\\\\\\\\\\\\"selectedColumn\\\\\\\\\\\\\\\": \\\\\\\\\\\\\\\"Column1\\\\\\\\\\\\\\\"}}, \\\\\\\\\\\\\\\"typeProperty\\\\\\\\\\\\\\\": 2}, {\\\\\\\\\\\\\\\"column\\\\\\\\\\\\\\\": {\\\\\\\\\\\\\\\"type\\\\\\\\\\\\\\\": 2, \\\\\\\\\\\\\\\"details\\\\\\\\\\\\\\\": {\\\\\\\\\\\\\\\"selectedColumn\\\\\\\\\\\\\\\": \\\\\\\\\\\\\\\"duration\\\\\\\\\\\\\\\"}}, \\\\\\\\\\\\\\\"typeProperty\\\\\\\\\\\\\\\": 2}, {\\\\\\\\\\\\\\\"column\\\\\\\\\\\\\\\": {\\\\\\\\\\\\\\\"type\\\\\\\\\\\\\\\": 2, \\\\\\\\\\\\\\\"details\\\\\\\\\\\\\\\": {\\\\\\\\\\\\\\\"selectedColumn\\\\\\\\\\\\\\\": \\\\\\\\\\\\\\\"protocol_type\\\\\\\\\\\\\\\"}}, \\\\\\\\\\\\\\\"typeProperty\\\\\\\\\\\\\\\": 0}, {\\\\\\\\\\\\\\\"column\\\\\\\\\\\\\\\": {\\\\\\\\\\\\\\\"type\\\\\\\\\\\\\\\": 2, \\\\\\\\\\\\\\\"details\\\\\\\\\\\\\\\": {\\\\\\\\\\\\\\\"selectedColumn\\\\\\\\\\\\\\\": \\\\\\\\\\\\\\\"service\\\\\\\\\\\\\\\"}}, \\\\\\\\\\\\\\\"typeProperty\\\\\\\\\\\\\\\": 0}, {\\\\\\\\\\\\\\\"column\\\\\\\\\\\\\\\": {\\\\\\\\\\\\\\\"type\\\\\\\\\\\\\\\": 2, \\\\\\\\\\\\\\\"details\\\\\\\\\\\\\\\": {\\\\\\\\\\\\\\\"selectedColumn\\\\\\\\\\\\\\\": \\\\\\\\\\\\\\\"flag\\\\\\\\\\\\\\\"}}, \\\\\\\\\\\\\\\"typeProperty\\\\\\\\\\\\\\\": 0}, {\\\\\\\\\\\\\\\"column\\\\\\\\\\\\\\\": {\\\\\\\\\\\\\\\"type\\\\\\\\\\\\\\\": 2, \\\\\\\\\\\\\\\"details\\\\\\\\\\\\\\\": {\\\\\\\\\\\\\\\"selectedColumn\\\\\\\\\\\\\\\": \\\\\\\\\\\\\\\"src_bytes\\\\\\\\\\\\\\\"}}, \\\\\\\\\\\\\\\"typeProperty\\\\\\\\\\\\\\\": 2}, {\\\\\\\\\\\\\\\"column\\\\\\\\\\\\\\\": {\\\\\\\\\\\\\\\"type\\\\\\\\\\\\\\\": 2, \\\\\\\\\\\\\\\"details\\\\\\\\\\\\\\\": {\\\\\\\\\\\\\\\"selectedColumn\\\\\\\\\\\\\\\": \\\\\\\\\\\\\\\"dst_bytes\\\\\\\\\\\\\\\"}}, \\\\\\\\\\\\\\\"typeProperty\\\\\\\\\\\\\\\": 2}, {\\\\\\\\\\\\\\\"column\\\\\\\\\\\\\\\": {\\\\\\\\\\\\\\\"type\\\\\\\\\\\\\\\": 2, \\\\\\\\\\\\\\\"details\\\\\\\\\\\\\\\": {\\\\\\\\\\\\\\\"selectedColumn\\\\\\\\\\\\\\\": \\\\\\\\\\\\\\\"land\\\\\\\\\\\\\\\"}}, \\\\\\\\\\\\\\\"typeProperty\\\\\\\\\\\\\\\": 2}, {\\\\\\\\\\\\\\\"column\\\\\\\\\\\\\\\": {\\\\\\\\\\\\\\\"type\\\\\\\\\\\\\\\": 2, \\\\\\\\\\\\\\\"details\\\\\\\\\\\\\\\": {\\\\\\\\\\\\\\\"selectedColumn\\\\\\\\\\\\\\\": \\\\\\\\\\\\\\\"wrong_fragment\\\\\\\\\\\\\\\"}}, \\\\\\\\\\\\\\\"typeProperty\\\\\\\\\\\\\\\": 2}, {\\\\\\\\\\\\\\\"column\\\\\\\\\\\\\\\": {\\\\\\\\\\\\\\\"type\\\\\\\\\\\\\\\": 2, \\\\\\\\\\\\\\\"details\\\\\\\\\\\\\\\": {\\\\\\\\\\\\\\\"selectedColumn\\\\\\\\\\\\\\\": \\\\\\\\\\\\\\\"urgent\\\\\\\\\\\\\\\"}}, \\\\\\\\\\\\\\\"typeProperty\\\\\\\\\\\\\\\": 2}, {\\\\\\\\\\\\\\\"column\\\\\\\\\\\\\\\": {\\\\\\\\\\\\\\\"type\\\\\\\\\\\\\\\": 2, \\\\\\\\\\\\\\\"details\\\\\\\\\\\\\\\": {\\\\\\\\\\\\\\\"selectedColumn\\\\\\\\\\\\\\\": \\\\\\\\\\\\\\\"hot\\\\\\\\\\\\\\\"}}, \\\\\\\\\\\\\\\"typeProperty\\\\\\\\\\\\\\\": 2}, {\\\\\\\\\\\\\\\"column\\\\\\\\\\\\\\\": {\\\\\\\\\\\\\\\"type\\\\\\\\\\\\\\\": 2, \\\\\\\\\\\\\\\"details\\\\\\\\\\\\\\\": {\\\\\\\\\\\\\\\"selectedColumn\\\\\\\\\\\\\\\": \\\\\\\\\\\\\\\"num_failed_logins\\\\\\\\\\\\\\\"}}, \\\\\\\\\\\\\\\"typeProperty\\\\\\\\\\\\\\\": 2}, {\\\\\\\\\\\\\\\"column\\\\\\\\\\\\\\\": {\\\\\\\\\\\\\\\"type\\\\\\\\\\\\\\\": 2, \\\\\\\\\\\\\\\"details\\\\\\\\\\\\\\\": {\\\\\\\\\\\\\\\"selectedColumn\\\\\\\\\\\\\\\": \\\\\\\\\\\\\\\"logged_in\\\\\\\\\\\\\\\"}}, \\\\\\\\\\\\\\\"typeProperty\\\\\\\\\\\\\\\": 2}, {\\\\\\\\\\\\\\\"column\\\\\\\\\\\\\\\": {\\\\\\\\\\\\\\\"type\\\\\\\\\\\\\\\": 2, \\\\\\\\\\\\\\\"details\\\\\\\\\\\\\\\": {\\\\\\\\\\\\\\\"selectedColumn\\\\\\\\\\\\\\\": \\\\\\\\\\\\\\\"num_compromised\\\\\\\\\\\\\\\"}}, \\\\\\\\\\\\\\\"typeProperty\\\\\\\\\\\\\\\": 2}, {\\\\\\\\\\\\\\\"column\\\\\\\\\\\\\\\": {\\\\\\\\\\\\\\\"type\\\\\\\\\\\\\\\": 2, \\\\\\\\\\\\\\\"details\\\\\\\\\\\\\\\": {\\\\\\\\\\\\\\\"selectedColumn\\\\\\\\\\\\\\\": \\\\\\\\\\\\\\\"root_shell\\\\\\\\\\\\\\\"}}, \\\\\\\\\\\\\\\"typeProperty\\\\\\\\\\\\\\\": 2}, {\\\\\\\\\\\\\\\"column\\\\\\\\\\\\\\\": {\\\\\\\\\\\\\\\"type\\\\\\\\\\\\\\\": 2, \\\\\\\\\\\\\\\"details\\\\\\\\\\\\\\\": {\\\\\\\\\\\\\\\"selectedColumn\\\\\\\\\\\\\\\": \\\\\\\\\\\\\\\"su_attempted\\\\\\\\\\\\\\\"}}, \\\\\\\\\\\\\\\"typeProperty\\\\\\\\\\\\\\\": 2}, {\\\\\\\\\\\\\\\"column\\\\\\\\\\\\\\\": {\\\\\\\\\\\\\\\"type\\\\\\\\\\\\\\\": 2, \\\\\\\\\\\\\\\"details\\\\\\\\\\\\\\\": {\\\\\\\\\\\\\\\"selectedColumn\\\\\\\\\\\\\\\": \\\\\\\\\\\\\\\"num_root\\\\\\\\\\\\\\\"}}, \\\\\\\\\\\\\\\"typeProperty\\\\\\\\\\\\\\\": 2}, {\\\\\\\\\\\\\\\"column\\\\\\\\\\\\\\\": {\\\\\\\\\\\\\\\"type\\\\\\\\\\\\\\\": 2, \\\\\\\\\\\\\\\"details\\\\\\\\\\\\\\\": {\\\\\\\\\\\\\\\"selectedColumn\\\\\\\\\\\\\\\": \\\\\\\\\\\\\\\"num_file_creations\\\\\\\\\\\\\\\"}}, \\\\\\\\\\\\\\\"typeProperty\\\\\\\\\\\\\\\": 2}, {\\\\\\\\\\\\\\\"column\\\\\\\\\\\\\\\": {\\\\\\\\\\\\\\\"type\\\\\\\\\\\\\\\": 2, \\\\\\\\\\\\\\\"details\\\\\\\\\\\\\\\": {\\\\\\\\\\\\\\\"selectedColumn\\\\\\\\\\\\\\\": \\\\\\\\\\\\\\\"num_shells\\\\\\\\\\\\\\\"}}, \\\\\\\\\\\\\\\"typeProperty\\\\\\\\\\\\\\\": 2}, {\\\\\\\\\\\\\\\"column\\\\\\\\\\\\\\\": {\\\\\\\\\\\\\\\"type\\\\\\\\\\\\\\\": 2, \\\\\\\\\\\\\\\"details\\\\\\\\\\\\\\\": {\\\\\\\\\\\\\\\"selectedColumn\\\\\\\\\\\\\\\": \\\\\\\\\\\\\\\"num_access_files\\\\\\\\\\\\\\\"}}, \\\\\\\\\\\\\\\"typeProperty\\\\\\\\\\\\\\\": 2}, {\\\\\\\\\\\\\\\"column\\\\\\\\\\\\\\\": {\\\\\\\\\\\\\\\"type\\\\\\\\\\\\\\\": 2, \\\\\\\\\\\\\\\"details\\\\\\\\\\\\\\\": {\\\\\\\\\\\\\\\"selectedColumn\\\\\\\\\\\\\\\": \\\\\\\\\\\\\\\"num_outbound_cmds\\\\\\\\\\\\\\\"}}, \\\\\\\\\\\\\\\"typeProperty\\\\\\\\\\\\\\\": 2}, {\\\\\\\\\\\\\\\"column\\\\\\\\\\\\\\\": {\\\\\\\\\\\\\\\"type\\\\\\\\\\\\\\\": 2, \\\\\\\\\\\\\\\"details\\\\\\\\\\\\\\\": {\\\\\\\\\\\\\\\"selectedColumn\\\\\\\\\\\\\\\": \\\\\\\\\\\\\\\"is_hot_login\\\\\\\\\\\\\\\"}}, \\\\\\\\\\\\\\\"typeProperty\\\\\\\\\\\\\\\": 2}, {\\\\\\\\\\\\\\\"column\\\\\\\\\\\\\\\": {\\\\\\\\\\\\\\\"type\\\\\\\\\\\\\\\": 2, \\\\\\\\\\\\\\\"details\\\\\\\\\\\\\\\": {\\\\\\\\\\\\\\\"selectedColumn\\\\\\\\\\\\\\\": \\\\\\\\\\\\\\\"is_guest_login\\\\\\\\\\\\\\\"}}, \\\\\\\\\\\\\\\"typeProperty\\\\\\\\\\\\\\\": 2}, {\\\\\\\\\\\\\\\"column\\\\\\\\\\\\\\\": {\\\\\\\\\\\\\\\"type\\\\\\\\\\\\\\\": 2, \\\\\\\\\\\\\\\"details\\\\\\\\\\\\\\\": {\\\\\\\\\\\\\\\"selectedColumn\\\\\\\\\\\\\\\": \\\\\\\\\\\\\\\"count\\\\\\\\\\\\\\\"}}, \\\\\\\\\\\\\\\"typeProperty\\\\\\\\\\\\\\\": 2}, {\\\\\\\\\\\\\\\"column\\\\\\\\\\\\\\\": {\\\\\\\\\\\\\\\"type\\\\\\\\\\\\\\\": 2, \\\\\\\\\\\\\\\"details\\\\\\\\\\\\\\\": {\\\\\\\\\\\\\\\"selectedColumn\\\\\\\\\\\\\\\": \\\\\\\\\\\\\\\"srv_count\\\\\\\\\\\\\\\"}}, \\\\\\\\\\\\\\\"typeProperty\\\\\\\\\\\\\\\": 2}, {\\\\\\\\\\\\\\\"column\\\\\\\\\\\\\\\": {\\\\\\\\\\\\\\\"type\\\\\\\\\\\\\\\": 2, \\\\\\\\\\\\\\\"details\\\\\\\\\\\\\\\": {\\\\\\\\\\\\\\\"selectedColumn\\\\\\\\\\\\\\\": \\\\\\\\\\\\\\\"serror_rate\\\\\\\\\\\\\\\"}}, \\\\\\\\\\\\\\\"typeProperty\\\\\\\\\\\\\\\": 3}, {\\\\\\\\\\\\\\\"column\\\\\\\\\\\\\\\": {\\\\\\\\\\\\\\\"type\\\\\\\\\\\\\\\": 2, \\\\\\\\\\\\\\\"details\\\\\\\\\\\\\\\": {\\\\\\\\\\\\\\\"selectedColumn\\\\\\\\\\\\\\\": \\\\\\\\\\\\\\\"srv_serror_rate\\\\\\\\\\\\\\\"}}, \\\\\\\\\\\\\\\"typeProperty\\\\\\\\\\\\\\\": 3}, {\\\\\\\\\\\\\\\"column\\\\\\\\\\\\\\\": {\\\\\\\\\\\\\\\"type\\\\\\\\\\\\\\\": 2, \\\\\\\\\\\\\\\"details\\\\\\\\\\\\\\\": {\\\\\\\\\\\\\\\"selectedColumn\\\\\\\\\\\\\\\": \\\\\\\\\\\\\\\"rerror_rate\\\\\\\\\\\\\\\"}}, \\\\\\\\\\\\\\\"typeProperty\\\\\\\\\\\\\\\": 3}, {\\\\\\\\\\\\\\\"column\\\\\\\\\\\\\\\": {\\\\\\\\\\\\\\\"type\\\\\\\\\\\\\\\": 2, \\\\\\\\\\\\\\\"details\\\\\\\\\\\\\\\": {\\\\\\\\\\\\\\\"selectedColumn\\\\\\\\\\\\\\\": \\\\\\\\\\\\\\\"srv_rerror_rate\\\\\\\\\\\\\\\"}}, \\\\\\\\\\\\\\\"typeProperty\\\\\\\\\\\\\\\": 3}, {\\\\\\\\\\\\\\\"column\\\\\\\\\\\\\\\": {\\\\\\\\\\\\\\\"type\\\\\\\\\\\\\\\": 2, \\\\\\\\\\\\\\\"details\\\\\\\\\\\\\\\": {\\\\\\\\\\\\\\\"selectedColumn\\\\\\\\\\\\\\\": \\\\\\\\\\\\\\\"same_srv_rate\\\\\\\\\\\\\\\"}}, \\\\\\\\\\\\\\\"typeProperty\\\\\\\\\\\\\\\": 3}, {\\\\\\\\\\\\\\\"column\\\\\\\\\\\\\\\": {\\\\\\\\\\\\\\\"type\\\\\\\\\\\\\\\": 2, \\\\\\\\\\\\\\\"details\\\\\\\\\\\\\\\": {\\\\\\\\\\\\\\\"selectedColumn\\\\\\\\\\\\\\\": \\\\\\\\\\\\\\\"diff_srv_rate\\\\\\\\\\\\\\\"}}, \\\\\\\\\\\\\\\"typeProperty\\\\\\\\\\\\\\\": 3}, {\\\\\\\\\\\\\\\"column\\\\\\\\\\\\\\\": {\\\\\\\\\\\\\\\"type\\\\\\\\\\\\\\\": 2, \\\\\\\\\\\\\\\"details\\\\\\\\\\\\\\\": {\\\\\\\\\\\\\\\"selectedColumn\\\\\\\\\\\\\\\": \\\\\\\\\\\\\\\"srv_diff_host_rate\\\\\\\\\\\\\\\"}}, \\\\\\\\\\\\\\\"typeProperty\\\\\\\\\\\\\\\": 3}, {\\\\\\\\\\\\\\\"column\\\\\\\\\\\\\\\": {\\\\\\\\\\\\\\\"type\\\\\\\\\\\\\\\": 2, \\\\\\\\\\\\\\\"details\\\\\\\\\\\\\\\": {\\\\\\\\\\\\\\\"selectedColumn\\\\\\\\\\\\\\\": \\\\\\\\\\\\\\\"dst_host_count\\\\\\\\\\\\\\\"}}, \\\\\\\\\\\\\\\"typeProperty\\\\\\\\\\\\\\\": 2}, {\\\\\\\\\\\\\\\"column\\\\\\\\\\\\\\\": {\\\\\\\\\\\\\\\"type\\\\\\\\\\\\\\\": 2, \\\\\\\\\\\\\\\"details\\\\\\\\\\\\\\\": {\\\\\\\\\\\\\\\"selectedColumn\\\\\\\\\\\\\\\": \\\\\\\\\\\\\\\"dst_host_srv_count\\\\\\\\\\\\\\\"}}, \\\\\\\\\\\\\\\"typeProperty\\\\\\\\\\\\\\\": 2}, {\\\\\\\\\\\\\\\"column\\\\\\\\\\\\\\\": {\\\\\\\\\\\\\\\"type\\\\\\\\\\\\\\\": 2, \\\\\\\\\\\\\\\"details\\\\\\\\\\\\\\\": {\\\\\\\\\\\\\\\"selectedColumn\\\\\\\\\\\\\\\": \\\\\\\\\\\\\\\"dst_host_same_srv_rate\\\\\\\\\\\\\\\"}}, \\\\\\\\\\\\\\\"typeProperty\\\\\\\\\\\\\\\": 3}, {\\\\\\\\\\\\\\\"column\\\\\\\\\\\\\\\": {\\\\\\\\\\\\\\\"type\\\\\\\\\\\\\\\": 2, \\\\\\\\\\\\\\\"details\\\\\\\\\\\\\\\": {\\\\\\\\\\\\\\\"selectedColumn\\\\\\\\\\\\\\\": \\\\\\\\\\\\\\\"dst_host_diff_srv_rate\\\\\\\\\\\\\\\"}}, \\\\\\\\\\\\\\\"typeProperty\\\\\\\\\\\\\\\": 3}, {\\\\\\\\\\\\\\\"column\\\\\\\\\\\\\\\": {\\\\\\\\\\\\\\\"type\\\\\\\\\\\\\\\": 2, \\\\\\\\\\\\\\\"details\\\\\\\\\\\\\\\": {\\\\\\\\\\\\\\\"selectedColumn\\\\\\\\\\\\\\\": \\\\\\\\\\\\\\\"dst_host_same_src_port_rate\\\\\\\\\\\\\\\"}}, \\\\\\\\\\\\\\\"typeProperty\\\\\\\\\\\\\\\": 3}, {\\\\\\\\\\\\\\\"column\\\\\\\\\\\\\\\": {\\\\\\\\\\\\\\\"type\\\\\\\\\\\\\\\": 2, \\\\\\\\\\\\\\\"details\\\\\\\\\\\\\\\": {\\\\\\\\\\\\\\\"selectedColumn\\\\\\\\\\\\\\\": \\\\\\\\\\\\\\\"dst_host_srv_diff_host_rate\\\\\\\\\\\\\\\"}}, \\\\\\\\\\\\\\\"typeProperty\\\\\\\\\\\\\\\": 3}, {\\\\\\\\\\\\\\\"column\\\\\\\\\\\\\\\": {\\\\\\\\\\\\\\\"type\\\\\\\\\\\\\\\": 2, \\\\\\\\\\\\\\\"details\\\\\\\\\\\\\\\": {\\\\\\\\\\\\\\\"selectedColumn\\\\\\\\\\\\\\\": \\\\\\\\\\\\\\\"dst_host_serror_rate\\\\\\\\\\\\\\\"}}, \\\\\\\\\\\\\\\"typeProperty\\\\\\\\\\\\\\\": 3}, {\\\\\\\\\\\\\\\"column\\\\\\\\\\\\\\\": {\\\\\\\\\\\\\\\"type\\\\\\\\\\\\\\\": 2, \\\\\\\\\\\\\\\"details\\\\\\\\\\\\\\\": {\\\\\\\\\\\\\\\"selectedColumn\\\\\\\\\\\\\\\": \\\\\\\\\\\\\\\"dst_host_srv_serror_rate\\\\\\\\\\\\\\\"}}, \\\\\\\\\\\\\\\"typeProperty\\\\\\\\\\\\\\\": 3}, {\\\\\\\\\\\\\\\"column\\\\\\\\\\\\\\\": {\\\\\\\\\\\\\\\"type\\\\\\\\\\\\\\\": 2, \\\\\\\\\\\\\\\"details\\\\\\\\\\\\\\\": {\\\\\\\\\\\\\\\"selectedColumn\\\\\\\\\\\\\\\": \\\\\\\\\\\\\\\"dst_host_rerror_rate\\\\\\\\\\\\\\\"}}, \\\\\\\\\\\\\\\"typeProperty\\\\\\\\\\\\\\\": 3}, {\\\\\\\\\\\\\\\"column\\\\\\\\\\\\\\\": {\\\\\\\\\\\\\\\"type\\\\\\\\\\\\\\\": 2, \\\\\\\\\\\\\\\"details\\\\\\\\\\\\\\\": {\\\\\\\\\\\\\\\"selectedColumn\\\\\\\\\\\\\\\": \\\\\\\\\\\\\\\"dst_host_srv_rerror_rate\\\\\\\\\\\\\\\"}}, \\\\\\\\\\\\\\\"typeProperty\\\\\\\\\\\\\\\": 3}, {\\\\\\\\\\\\\\\"column\\\\\\\\\\\\\\\": {\\\\\\\\\\\\\\\"type\\\\\\\\\\\\\\\": 2, \\\\\\\\\\\\\\\"details\\\\\\\\\\\\\\\": {\\\\\\\\\\\\\\\"selectedColumn\\\\\\\\\\\\\\\": \\\\\\\\\\\\\\\"attack_type\\\\\\\\\\\\\\\"}}, \\\\\\\\\\\\\\\"typeProperty\\\\\\\\\\\\\\\": 2}]}, \\\\\\\\\\\\\\\"localData\\\\\\\\\\\\\\\": {}, \\\\\\\\\\\\\\\"isEnabled\\\\\\\\\\\\\\\": true, \\\\\\\\\\\\\\\"name\\\\\\\\\\\\\\\": null, \\\\\\\\\\\\\\\"annotation\\\\\\\\\\\\\\\": null}], \\\\\\\\\\\\\\\"inspectors\\\\\\\\\\\\\\\": [], \\\\\\\\\\\\\\\"meta\\\\\\\\\\\\\\\": {\\\\\\\\\\\\\\\"savedDatasetId\\\\\\\\\\\\\\\": \\\\\\\\\\\\\\\"652fdbbf-2af0-483b-b866-e4c1a266af5c\\\\\\\\\\\\\\\", \\\\\\\\\\\\\\\"datasetType\\\\\\\\\\\\\\\": \\\\\\\\\\\\\\\"tabular\\\\\\\\\\\\\\\", \\\\\\\\\\\\\\\"subscriptionId\\\\\\\\\\\\\\\": \\\\\\\\\\\\\\\"610d6e37-4747-4a20-80eb-3aad70a55f43\\\\\\\\\\\\\\\", \\\\\\\\\\\\\\\"workspaceId\\\\\\\\\\\\\\\": \\\\\\\\\\\\\\\"1255c964-f867-4262-8ffe-389e6b54a7ca\\\\\\\\\\\\\\\", \\\\\\\\\\\\\\\"workspaceLocation\\\\\\\\\\\\\\\": \\\\\\\\\\\\\\\"southcentralus\\\\\\\\\\\\\\\", \\\\\\\\\\\\\\\"partition_keys\\\\\\\\\\\\\\\": \\\\\\\\\\\\\\\"true\\\\\\\\\\\\\\\"}}\\\\\\\", \\\\\\\"activities\\\\\\\": 0}\", \"EnableSubsampling\": null, \"runTemplate\": \"AutoML\", \"azureml.runsource\": \"automl\", \"display_task_type\": \"classification\", \"dependencies_versions\": \"{\\\"azureml-widgets\\\": \\\"1.24.0\\\", \\\"azureml-train\\\": \\\"1.24.0\\\", \\\"azureml-train-restclients-hyperdrive\\\": \\\"1.24.0\\\", \\\"azureml-train-core\\\": \\\"1.24.0\\\", \\\"azureml-train-automl\\\": \\\"1.24.0\\\", \\\"azureml-train-automl-runtime\\\": \\\"1.24.0\\\", \\\"azureml-train-automl-client\\\": \\\"1.24.0\\\", \\\"azureml-tensorboard\\\": \\\"1.24.0\\\", \\\"azureml-telemetry\\\": \\\"1.24.0\\\", \\\"azureml-sdk\\\": \\\"1.24.0\\\", \\\"azureml-samples\\\": \\\"0+unknown\\\", \\\"azureml-pipeline\\\": \\\"1.24.0\\\", \\\"azureml-pipeline-steps\\\": \\\"1.24.0\\\", \\\"azureml-pipeline-core\\\": \\\"1.24.0\\\", \\\"azureml-opendatasets\\\": \\\"1.24.0\\\", \\\"azureml-model-management-sdk\\\": \\\"1.0.1b6.post1\\\", \\\"azureml-mlflow\\\": \\\"1.24.0\\\", \\\"azureml-interpret\\\": \\\"1.24.0\\\", \\\"azureml-explain-model\\\": \\\"1.24.0\\\", \\\"azureml-defaults\\\": \\\"1.24.0\\\", \\\"azureml-dataset-runtime\\\": \\\"1.24.0\\\", \\\"azureml-dataprep\\\": \\\"2.11.1\\\", \\\"azureml-dataprep-rslex\\\": \\\"1.9.0\\\", \\\"azureml-dataprep-native\\\": \\\"30.0.0\\\", \\\"azureml-datadrift\\\": \\\"1.24.0\\\", \\\"azureml-core\\\": \\\"1.24.0\\\", \\\"azureml-contrib-services\\\": \\\"1.24.0\\\", \\\"azureml-contrib-server\\\": \\\"1.24.0\\\", \\\"azureml-contrib-reinforcementlearning\\\": \\\"1.24.0\\\", \\\"azureml-contrib-pipeline-steps\\\": \\\"1.24.0\\\", \\\"azureml-contrib-notebook\\\": \\\"1.24.0\\\", \\\"azureml-contrib-gbdt\\\": \\\"1.24.0\\\", \\\"azureml-contrib-fairness\\\": \\\"1.24.0\\\", \\\"azureml-contrib-dataset\\\": \\\"1.24.0\\\", \\\"azureml-cli-common\\\": \\\"1.24.0\\\", \\\"azureml-automl-runtime\\\": \\\"1.24.0\\\", \\\"azureml-automl-dnn-nlp\\\": \\\"1.24.0\\\", \\\"azureml-automl-core\\\": \\\"1.24.0\\\", \\\"azureml-accel-models\\\": \\\"1.24.0\\\"}\", \"_aml_system_scenario_identification\": \"Remote.Parent\", \"ClientType\": \"SDK\", \"environment_cpu_name\": \"AzureML-AutoML\", \"environment_cpu_label\": \"prod\", \"environment_gpu_name\": \"AzureML-AutoML-GPU\", \"environment_gpu_label\": \"prod\", \"root_attribution\": \"automl\", \"attribution\": \"AutoML\", \"Orchestrator\": \"AutoML\", \"CancelUri\": \"https://southcentralus.experiments.azureml.net/jasmine/v1.0/subscriptions/610d6e37-4747-4a20-80eb-3aad70a55f43/resourceGroups/aml-quickstarts-142286/providers/Microsoft.MachineLearningServices/workspaces/quick-starts-ws-142286/experimentids/adbeee2f-1a86-4815-961c-d8fdb14c2634/cancel/AutoML_52d729eb-4c12-42fb-b93b-125aa69b16fc\", \"ClientSdkVersion\": \"1.25.0\", \"snapshotId\": \"00000000-0000-0000-0000-000000000000\", \"SetupRunId\": \"AutoML_52d729eb-4c12-42fb-b93b-125aa69b16fc_setup\", \"SetupRunContainerId\": \"dcid.AutoML_52d729eb-4c12-42fb-b93b-125aa69b16fc_setup\", \"FeaturizationRunJsonPath\": \"featurizer_container.json\", \"FeaturizationRunId\": \"AutoML_52d729eb-4c12-42fb-b93b-125aa69b16fc_featurize\", \"ProblemInfoJsonString\": \"{\\\"dataset_num_categorical\\\": 0, \\\"is_sparse\\\": true, \\\"subsampling\\\": false, \\\"dataset_classes\\\": 2, \\\"dataset_features\\\": 206, \\\"dataset_samples\\\": 125972, \\\"single_frequency_class_detected\\\": false}\", \"ModelExplainRunId\": \"AutoML_52d729eb-4c12-42fb-b93b-125aa69b16fc_ModelExplain\", \"azureml.git.repository_uri\": \"https://github.com/venkataravikumaralladi/AzureMLCapstoneProject.git\", \"mlflow.source.git.repoURL\": \"https://github.com/venkataravikumaralladi/AzureMLCapstoneProject.git\", \"azureml.git.branch\": \"main\", \"mlflow.source.git.branch\": \"main\", \"azureml.git.commit\": \"3b24f73d8ce0e770740677bd69757269a3a8cd14\", \"mlflow.source.git.commit\": \"3b24f73d8ce0e770740677bd69757269a3a8cd14\", \"azureml.git.dirty\": \"True\"}, \"tags\": {\"model_explain_run\": \"best_run\", \"_aml_system_azureml.automlComponent\": \"AutoML\", \"pipeline_id\": \"\", \"score\": \"\", \"predicted_cost\": \"\", \"fit_time\": \"\", \"training_percent\": \"\", \"iteration\": \"\", \"run_preprocessor\": \"\", \"run_algorithm\": \"\", \"automl_best_child_run_id\": \"AutoML_52d729eb-4c12-42fb-b93b-125aa69b16fc_18\", \"model_explain_best_run_child_id\": \"AutoML_52d729eb-4c12-42fb-b93b-125aa69b16fc_18\"}, \"end_time_utc\": \"2021-04-09T11:05:36.754122Z\", \"status\": \"Completed\", \"log_files\": {}, \"log_groups\": [], \"run_duration\": \"0:54:41\", \"run_number\": \"2\", \"run_queued_details\": {\"status\": \"Completed\", \"details\": null}}, \"child_runs\": [{\"run_id\": \"AutoML_52d729eb-4c12-42fb-b93b-125aa69b16fc_0\", \"run_number\": 6, \"metric\": null, \"status\": \"Completed\", \"run_type\": \"azureml.scriptrun\", \"training_percent\": \"100\", \"start_time\": \"2021-04-09T10:30:48.8387Z\", \"end_time\": \"2021-04-09T10:32:06.378509Z\", \"created_time\": \"2021-04-09T10:30:38.517278Z\", \"created_time_dt\": \"2021-04-09T10:30:38.517278Z\", \"duration\": \"0:01:27\", \"iteration\": \"0\", \"goal\": \"accuracy_max\", \"run_name\": \"MaxAbsScaler, LightGBM\", \"run_properties\": \"copy=True\", \"primary_metric\": 0.9989839, \"best_metric\": 0.9989839}, {\"run_id\": \"AutoML_52d729eb-4c12-42fb-b93b-125aa69b16fc_1\", \"run_number\": 7, \"metric\": null, \"status\": \"Completed\", \"run_type\": \"azureml.scriptrun\", \"training_percent\": \"100\", \"start_time\": \"2021-04-09T10:32:23.381508Z\", \"end_time\": \"2021-04-09T10:33:34.995274Z\", \"created_time\": \"2021-04-09T10:32:08.513609Z\", \"created_time_dt\": \"2021-04-09T10:32:08.513609Z\", \"duration\": \"0:01:26\", \"iteration\": \"1\", \"goal\": \"accuracy_max\", \"run_name\": \"MaxAbsScaler, RandomForest\", \"run_properties\": \"copy=True\", \"primary_metric\": 0.94479717, \"best_metric\": 0.9989839}, {\"run_id\": \"AutoML_52d729eb-4c12-42fb-b93b-125aa69b16fc_2\", \"run_number\": 8, \"metric\": null, \"status\": \"Completed\", \"run_type\": \"azureml.scriptrun\", \"training_percent\": \"100\", \"start_time\": \"2021-04-09T10:33:49.309476Z\", \"end_time\": \"2021-04-09T10:34:53.08128Z\", \"created_time\": \"2021-04-09T10:33:36.838793Z\", \"created_time_dt\": \"2021-04-09T10:33:36.838793Z\", \"duration\": \"0:01:16\", \"iteration\": \"2\", \"goal\": \"accuracy_max\", \"run_name\": \"MaxAbsScaler, RandomForest\", \"run_properties\": \"copy=True\", \"primary_metric\": 0.91848239, \"best_metric\": 0.9989839}, {\"run_id\": \"AutoML_52d729eb-4c12-42fb-b93b-125aa69b16fc_3\", \"run_number\": 9, \"metric\": null, \"status\": \"Completed\", \"run_type\": \"azureml.scriptrun\", \"training_percent\": \"100\", \"start_time\": \"2021-04-09T10:35:07.059456Z\", \"end_time\": \"2021-04-09T10:36:13.649061Z\", \"created_time\": \"2021-04-09T10:34:54.869537Z\", \"created_time_dt\": \"2021-04-09T10:34:54.869537Z\", \"duration\": \"0:01:18\", \"iteration\": \"3\", \"goal\": \"accuracy_max\", \"run_name\": \"MaxAbsScaler, RandomForest\", \"run_properties\": \"copy=True\", \"primary_metric\": 0.93385034, \"best_metric\": 0.9989839}, {\"run_id\": \"AutoML_52d729eb-4c12-42fb-b93b-125aa69b16fc_4\", \"run_number\": 10, \"metric\": null, \"status\": \"Completed\", \"run_type\": \"azureml.scriptrun\", \"training_percent\": \"100\", \"start_time\": \"2021-04-09T10:36:28.790715Z\", \"end_time\": \"2021-04-09T10:37:29.070286Z\", \"created_time\": \"2021-04-09T10:36:17.03727Z\", \"created_time_dt\": \"2021-04-09T10:36:17.03727Z\", \"duration\": \"0:01:12\", \"iteration\": \"4\", \"goal\": \"accuracy_max\", \"run_name\": \"MaxAbsScaler, RandomForest\", \"run_properties\": \"copy=True\", \"primary_metric\": 0.92912721, \"best_metric\": 0.9989839}, {\"run_id\": \"AutoML_52d729eb-4c12-42fb-b93b-125aa69b16fc_5\", \"run_number\": 11, \"metric\": null, \"status\": \"Completed\", \"run_type\": \"azureml.scriptrun\", \"training_percent\": \"100\", \"start_time\": \"2021-04-09T10:37:43.830993Z\", \"end_time\": \"2021-04-09T10:38:45.858324Z\", \"created_time\": \"2021-04-09T10:37:32.190865Z\", \"created_time_dt\": \"2021-04-09T10:37:32.190865Z\", \"duration\": \"0:01:13\", \"iteration\": \"5\", \"goal\": \"accuracy_max\", \"run_name\": \"MaxAbsScaler, SGD\", \"run_properties\": \"copy=True\", \"primary_metric\": 0.98273426, \"best_metric\": 0.9989839}, {\"run_id\": \"AutoML_52d729eb-4c12-42fb-b93b-125aa69b16fc_6\", \"run_number\": 12, \"metric\": null, \"status\": \"Completed\", \"run_type\": \"azureml.scriptrun\", \"training_percent\": \"100\", \"start_time\": \"2021-04-09T10:39:02.038345Z\", \"end_time\": \"2021-04-09T10:42:48.860417Z\", \"created_time\": \"2021-04-09T10:38:48.88211Z\", \"created_time_dt\": \"2021-04-09T10:38:48.88211Z\", \"duration\": \"0:03:59\", \"iteration\": \"6\", \"goal\": \"accuracy_max\", \"run_name\": \"MaxAbsScaler, RandomForest\", \"run_properties\": \"copy=True\", \"primary_metric\": 0.9284364, \"best_metric\": 0.9989839}, {\"run_id\": \"AutoML_52d729eb-4c12-42fb-b93b-125aa69b16fc_7\", \"run_number\": 13, \"metric\": null, \"status\": \"Completed\", \"run_type\": \"azureml.scriptrun\", \"training_percent\": \"100\", \"start_time\": \"2021-04-09T10:43:03.22062Z\", \"end_time\": \"2021-04-09T10:44:15.092837Z\", \"created_time\": \"2021-04-09T10:42:51.720867Z\", \"created_time_dt\": \"2021-04-09T10:42:51.720867Z\", \"duration\": \"0:01:23\", \"iteration\": \"7\", \"goal\": \"accuracy_max\", \"run_name\": \"MaxAbsScaler, ExtremeRandomTrees\", \"run_properties\": \"copy=True\", \"primary_metric\": 0.90650303, \"best_metric\": 0.9989839}, {\"run_id\": \"AutoML_52d729eb-4c12-42fb-b93b-125aa69b16fc_8\", \"run_number\": 14, \"metric\": null, \"status\": \"Completed\", \"run_type\": \"azureml.scriptrun\", \"training_percent\": \"100\", \"start_time\": \"2021-04-09T10:44:31.742397Z\", \"end_time\": \"2021-04-09T10:46:11.243497Z\", \"created_time\": \"2021-04-09T10:44:18.798912Z\", \"created_time_dt\": \"2021-04-09T10:44:18.798912Z\", \"duration\": \"0:01:52\", \"iteration\": \"8\", \"goal\": \"accuracy_max\", \"run_name\": \"MaxAbsScaler, LogisticRegression\", \"run_properties\": \"copy=True\", \"primary_metric\": 0.98524276, \"best_metric\": 0.9989839}, {\"run_id\": \"AutoML_52d729eb-4c12-42fb-b93b-125aa69b16fc_9\", \"run_number\": 15, \"metric\": null, \"status\": \"Completed\", \"run_type\": \"azureml.scriptrun\", \"training_percent\": \"100\", \"start_time\": \"2021-04-09T10:46:23.522037Z\", \"end_time\": \"2021-04-09T10:48:37.345668Z\", \"created_time\": \"2021-04-09T10:46:14.314099Z\", \"created_time_dt\": \"2021-04-09T10:46:14.314099Z\", \"duration\": \"0:02:23\", \"iteration\": \"9\", \"goal\": \"accuracy_max\", \"run_name\": \"SparseNormalizer, LogisticRegression\", \"run_properties\": \"<azureml.automl.runtime.shared.model_wrappers.SparseNormalizer object at 0x7f39e0b97438\", \"primary_metric\": 0.87612328, \"best_metric\": 0.9989839}, {\"run_id\": \"AutoML_52d729eb-4c12-42fb-b93b-125aa69b16fc_10\", \"run_number\": 16, \"metric\": null, \"status\": \"Completed\", \"run_type\": \"azureml.scriptrun\", \"training_percent\": \"100\", \"start_time\": \"2021-04-09T10:48:50.959315Z\", \"end_time\": \"2021-04-09T10:50:57.277362Z\", \"created_time\": \"2021-04-09T10:48:39.183769Z\", \"created_time_dt\": \"2021-04-09T10:48:39.183769Z\", \"duration\": \"0:02:18\", \"iteration\": \"10\", \"goal\": \"accuracy_max\", \"run_name\": \"SparseNormalizer, LogisticRegression\", \"run_properties\": \"<azureml.automl.runtime.shared.model_wrappers.SparseNormalizer object at 0x7f530e970390\", \"primary_metric\": 0.88831644, \"best_metric\": 0.9989839}, {\"run_id\": \"AutoML_52d729eb-4c12-42fb-b93b-125aa69b16fc_11\", \"run_number\": 17, \"metric\": null, \"status\": \"Completed\", \"run_type\": \"azureml.scriptrun\", \"training_percent\": \"100\", \"start_time\": \"2021-04-09T10:51:10.379783Z\", \"end_time\": \"2021-04-09T10:54:23.181551Z\", \"created_time\": \"2021-04-09T10:51:00.00661Z\", \"created_time_dt\": \"2021-04-09T10:51:00.00661Z\", \"duration\": \"0:03:23\", \"iteration\": \"11\", \"goal\": \"accuracy_max\", \"run_name\": \"MaxAbsScaler, ExtremeRandomTrees\", \"run_properties\": \"copy=True\", \"primary_metric\": 0.8769409, \"best_metric\": 0.9989839}, {\"run_id\": \"AutoML_52d729eb-4c12-42fb-b93b-125aa69b16fc_12\", \"run_number\": 18, \"metric\": null, \"status\": \"Completed\", \"run_type\": \"azureml.scriptrun\", \"training_percent\": \"100\", \"start_time\": \"2021-04-09T10:54:38.035065Z\", \"end_time\": \"2021-04-09T10:55:50.787824Z\", \"created_time\": \"2021-04-09T10:54:26.198402Z\", \"created_time_dt\": \"2021-04-09T10:54:26.198402Z\", \"duration\": \"0:01:24\", \"iteration\": \"12\", \"goal\": \"accuracy_max\", \"run_name\": \"StandardScalerWrapper, ExtremeRandomTrees\", \"run_properties\": \"<azureml.automl.runtime.shared.model_wrappers.StandardScalerWrapper object at 0x7faad67b51d0\", \"primary_metric\": 0.93062737, \"best_metric\": 0.9989839}, {\"run_id\": \"AutoML_52d729eb-4c12-42fb-b93b-125aa69b16fc_13\", \"run_number\": 19, \"metric\": null, \"status\": \"Completed\", \"run_type\": \"azureml.scriptrun\", \"training_percent\": \"100\", \"start_time\": \"2021-04-09T10:56:05.376129Z\", \"end_time\": \"2021-04-09T10:57:21.957867Z\", \"created_time\": \"2021-04-09T10:55:53.469594Z\", \"created_time_dt\": \"2021-04-09T10:55:53.469594Z\", \"duration\": \"0:01:28\", \"iteration\": \"13\", \"goal\": \"accuracy_max\", \"run_name\": \"StandardScalerWrapper, LightGBM\", \"run_properties\": \"<azureml.automl.runtime.shared.model_wrappers.StandardScalerWrapper object at 0x7f304924cfd0\", \"primary_metric\": 0.9859175, \"best_metric\": 0.9989839}, {\"run_id\": \"AutoML_52d729eb-4c12-42fb-b93b-125aa69b16fc_14\", \"run_number\": 20, \"metric\": null, \"status\": \"Completed\", \"run_type\": \"azureml.scriptrun\", \"training_percent\": \"100\", \"start_time\": \"2021-04-09T10:57:36.59647Z\", \"end_time\": \"2021-04-09T10:58:33.439814Z\", \"created_time\": \"2021-04-09T10:57:24.530168Z\", \"created_time_dt\": \"2021-04-09T10:57:24.530168Z\", \"duration\": \"0:01:08\", \"iteration\": \"14\", \"goal\": \"accuracy_max\", \"run_name\": \"StandardScalerWrapper, LightGBM\", \"run_properties\": \"<azureml.automl.runtime.shared.model_wrappers.StandardScalerWrapper object at 0x7fbb8211aba8\", \"primary_metric\": 0.96327756, \"best_metric\": 0.9989839}, {\"run_id\": \"AutoML_52d729eb-4c12-42fb-b93b-125aa69b16fc_15\", \"run_number\": 21, \"metric\": null, \"status\": \"Completed\", \"run_type\": \"azureml.scriptrun\", \"training_percent\": \"100\", \"start_time\": \"2021-04-09T10:58:48.662964Z\", \"end_time\": \"2021-04-09T10:59:49.179127Z\", \"created_time\": \"2021-04-09T10:58:36.069715Z\", \"created_time_dt\": \"2021-04-09T10:58:36.069715Z\", \"duration\": \"0:01:13\", \"iteration\": \"15\", \"goal\": \"accuracy_max\", \"run_name\": \"MaxAbsScaler, LightGBM\", \"run_properties\": \"copy=True\", \"primary_metric\": 0.97711397, \"best_metric\": 0.9989839}, {\"run_id\": \"AutoML_52d729eb-4c12-42fb-b93b-125aa69b16fc_16\", \"run_number\": 22, \"metric\": null, \"status\": \"Canceled\", \"run_type\": \"azureml.scriptrun\", \"training_percent\": \"100\", \"start_time\": \"2021-04-09T11:00:04.200614Z\", \"end_time\": \"2021-04-09T11:01:10.940688Z\", \"created_time\": \"2021-04-09T10:59:51.627824Z\", \"created_time_dt\": \"2021-04-09T10:59:51.627824Z\", \"duration\": \"0:01:19\", \"iteration\": \"16\", \"goal\": \"accuracy_max\", \"run_name\": \"MaxAbsScaler, LightGBM\", \"run_properties\": \"copy=True\", \"primary_metric\": 0.99382402, \"best_metric\": 0.9989839}, {\"run_id\": \"AutoML_52d729eb-4c12-42fb-b93b-125aa69b16fc_17\", \"run_number\": 23, \"metric\": null, \"status\": \"Completed\", \"run_type\": \"azureml.scriptrun\", \"training_percent\": \"100\", \"start_time\": \"2021-04-09T11:01:25.224776Z\", \"end_time\": \"2021-04-09T11:03:08.146881Z\", \"created_time\": \"2021-04-09T11:01:12.050148Z\", \"created_time_dt\": \"2021-04-09T11:01:12.050148Z\", \"duration\": \"0:01:56\", \"iteration\": \"17\", \"goal\": \"accuracy_max\", \"run_name\": \"VotingEnsemble\", \"run_properties\": \"classification_labels=None,\\n                              estimators=[('0',\\n                                           Pipeline(memory=None,\\n                                                    steps=[('maxabsscaler',\\n                                                            MaxAbsScaler(copy=True\", \"primary_metric\": 0.99893627, \"best_metric\": 0.9989839}, {\"run_id\": \"AutoML_52d729eb-4c12-42fb-b93b-125aa69b16fc_18\", \"run_number\": 24, \"metric\": null, \"status\": \"Completed\", \"run_type\": \"azureml.scriptrun\", \"training_percent\": \"100\", \"start_time\": \"2021-04-09T11:03:21.305537Z\", \"end_time\": \"2021-04-09T11:05:34.69191Z\", \"created_time\": \"2021-04-09T11:03:09.738911Z\", \"created_time_dt\": \"2021-04-09T11:03:09.738911Z\", \"duration\": \"0:02:24\", \"iteration\": \"18\", \"goal\": \"accuracy_max\", \"run_name\": \"StackEnsemble\", \"run_properties\": \"base_learners=[('0',\\n                                        Pipeline(memory=None,\\n                                                 steps=[('maxabsscaler',\\n                                                         MaxAbsScaler(copy=True\", \"primary_metric\": 0.99899978, \"best_metric\": 0.99899978}], \"children_metrics\": {\"categories\": [0], \"series\": {\"AUC_macro\": [{\"categories\": [\"0\", \"1\", \"2\", \"3\", \"4\", \"5\", \"6\", \"7\", \"8\", \"9\", \"10\", \"11\", \"12\", \"13\", \"14\", \"15\", \"16\", \"17\", \"18\"], \"mode\": \"markers\", \"name\": \"AUC_macro\", \"stepped\": false, \"type\": \"scatter\", \"data\": [0.9999889828474927, 0.9908038294138048, 0.9798747777485985, 0.9893453255138379, 0.9850376159289249, 0.9973394634810676, 0.9842782599300864, 0.9717072954245225, 0.9985864627760254, 0.9398798057612139, 0.9393356926559575, 0.9693243311500932, 0.983493735402918, 0.9988496364879389, 0.991483017684231, 0.998173025162909, 0.9994554429939632, 0.9999650658085306, 0.9999046164471744]}, {\"categories\": [\"0\", \"1\", \"2\", \"3\", \"4\", \"5\", \"6\", \"7\", \"8\", \"9\", \"10\", \"11\", \"12\", \"13\", \"14\", \"15\", \"16\", \"17\", \"18\"], \"mode\": \"lines\", \"name\": \"AUC_macro_max\", \"stepped\": true, \"type\": \"scatter\", \"data\": [0.9999889828474927, 0.9999889828474927, 0.9999889828474927, 0.9999889828474927, 0.9999889828474927, 0.9999889828474927, 0.9999889828474927, 0.9999889828474927, 0.9999889828474927, 0.9999889828474927, 0.9999889828474927, 0.9999889828474927, 0.9999889828474927, 0.9999889828474927, 0.9999889828474927, 0.9999889828474927, 0.9999889828474927, 0.9999889828474927, 0.9999889828474927]}], \"precision_score_macro\": [{\"categories\": [\"0\", \"1\", \"2\", \"3\", \"4\", \"5\", \"6\", \"7\", \"8\", \"9\", \"10\", \"11\", \"12\", \"13\", \"14\", \"15\", \"16\", \"17\", \"18\"], \"mode\": \"markers\", \"name\": \"precision_score_macro\", \"stepped\": false, \"type\": \"scatter\", \"data\": [0.9989988235957045, 0.949873197616388, 0.9259550746588159, 0.9416907651475646, 0.9337151525574819, 0.982702767918863, 0.9368371848426207, 0.9234604744383317, 0.9853430221122869, 0.890267661151165, 0.8889059208791703, 0.8842250595026007, 0.9304784138968405, 0.9860595676076318, 0.9645797830721037, 0.9782859484614477, 0.993963899594575, 0.9989563122630283, 0.9990135196866797]}, {\"categories\": [\"0\", \"1\", \"2\", \"3\", \"4\", \"5\", \"6\", \"7\", \"8\", \"9\", \"10\", \"11\", \"12\", \"13\", \"14\", \"15\", \"16\", \"17\", \"18\"], \"mode\": \"lines\", \"name\": \"precision_score_macro_max\", \"stepped\": true, \"type\": \"scatter\", \"data\": [0.9989988235957045, 0.9989988235957045, 0.9989988235957045, 0.9989988235957045, 0.9989988235957045, 0.9989988235957045, 0.9989988235957045, 0.9989988235957045, 0.9989988235957045, 0.9989988235957045, 0.9989988235957045, 0.9989988235957045, 0.9989988235957045, 0.9989988235957045, 0.9989988235957045, 0.9989988235957045, 0.9989988235957045, 0.9989988235957045, 0.9990135196866797]}], \"recall_score_macro\": [{\"categories\": [\"0\", \"1\", \"2\", \"3\", \"4\", \"5\", \"6\", \"7\", \"8\", \"9\", \"10\", \"11\", \"12\", \"13\", \"14\", \"15\", \"16\", \"17\", \"18\"], \"mode\": \"markers\", \"name\": \"recall_score_macro\", \"stepped\": false, \"type\": \"scatter\", \"data\": [0.9989592498187913, 0.9418409072941165, 0.9144664283895306, 0.9299411786521874, 0.9262276522127942, 0.982601554934932, 0.9241085908874822, 0.899947426087816, 0.9850033896835431, 0.8695966936913541, 0.8865861202942206, 0.8721498534180714, 0.9301954663973963, 0.9856453040108886, 0.961963397154214, 0.9760231714645247, 0.9936315668915819, 0.9989060978662152, 0.9989764466062242]}, {\"categories\": [\"0\", \"1\", \"2\", \"3\", \"4\", \"5\", \"6\", \"7\", \"8\", \"9\", \"10\", \"11\", \"12\", \"13\", \"14\", \"15\", \"16\", \"17\", \"18\"], \"mode\": \"lines\", \"name\": \"recall_score_macro_max\", \"stepped\": true, \"type\": \"scatter\", \"data\": [0.9989592498187913, 0.9989592498187913, 0.9989592498187913, 0.9989592498187913, 0.9989592498187913, 0.9989592498187913, 0.9989592498187913, 0.9989592498187913, 0.9989592498187913, 0.9989592498187913, 0.9989592498187913, 0.9989592498187913, 0.9989592498187913, 0.9989592498187913, 0.9989592498187913, 0.9989592498187913, 0.9989592498187913, 0.9989592498187913, 0.9989764466062242]}], \"f1_score_macro\": [{\"categories\": [\"0\", \"1\", \"2\", \"3\", \"4\", \"5\", \"6\", \"7\", \"8\", \"9\", \"10\", \"11\", \"12\", \"13\", \"14\", \"15\", \"16\", \"17\", \"18\"], \"mode\": \"markers\", \"name\": \"f1_score_macro\", \"stepped\": false, \"type\": \"scatter\", \"data\": [0.9989789042297208, 0.9440839199258046, 0.9171011897253954, 0.9327408126294092, 0.9282121396800804, 0.9826489498365953, 0.9272639074507542, 0.9041350319227721, 0.9851665342734408, 0.8730909270935407, 0.88747433054296, 0.8748355952875629, 0.9302807098073845, 0.9858432609799594, 0.9630064315236868, 0.9769538720271631, 0.9937919310179376, 0.9989310387767038, 0.9989948660264556]}, {\"categories\": [\"0\", \"1\", \"2\", \"3\", \"4\", \"5\", \"6\", \"7\", \"8\", \"9\", \"10\", \"11\", \"12\", \"13\", \"14\", \"15\", \"16\", \"17\", \"18\"], \"mode\": \"lines\", \"name\": \"f1_score_macro_max\", \"stepped\": true, \"type\": \"scatter\", \"data\": [0.9989789042297208, 0.9989789042297208, 0.9989789042297208, 0.9989789042297208, 0.9989789042297208, 0.9989789042297208, 0.9989789042297208, 0.9989789042297208, 0.9989789042297208, 0.9989789042297208, 0.9989789042297208, 0.9989789042297208, 0.9989789042297208, 0.9989789042297208, 0.9989789042297208, 0.9989789042297208, 0.9989789042297208, 0.9989789042297208, 0.9989948660264556]}], \"precision_score_weighted\": [{\"categories\": [\"0\", \"1\", \"2\", \"3\", \"4\", \"5\", \"6\", \"7\", \"8\", \"9\", \"10\", \"11\", \"12\", \"13\", \"14\", \"15\", \"16\", \"17\", \"18\"], \"mode\": \"markers\", \"name\": \"precision_score_weighted\", \"stepped\": false, \"type\": \"scatter\", \"data\": [0.9989841230143315, 0.9477223724508838, 0.9232675813885247, 0.93886597542937, 0.9318515993720521, 0.9827388065609048, 0.9336840984746863, 0.9186837598638936, 0.985250804269139, 0.8861905921900568, 0.8885205766542006, 0.8815755134297116, 0.9307251663375655, 0.985929715815358, 0.9636983040716771, 0.9774567377715909, 0.9938334302177816, 0.9989365473870013, 0.9989999729533181]}, {\"categories\": [\"0\", \"1\", \"2\", \"3\", \"4\", \"5\", \"6\", \"7\", \"8\", \"9\", \"10\", \"11\", \"12\", \"13\", \"14\", \"15\", \"16\", \"17\", \"18\"], \"mode\": \"lines\", \"name\": \"precision_score_weighted_max\", \"stepped\": true, \"type\": \"scatter\", \"data\": [0.9989841230143315, 0.9989841230143315, 0.9989841230143315, 0.9989841230143315, 0.9989841230143315, 0.9989841230143315, 0.9989841230143315, 0.9989841230143315, 0.9989841230143315, 0.9989841230143315, 0.9989841230143315, 0.9989841230143315, 0.9989841230143315, 0.9989841230143315, 0.9989841230143315, 0.9989841230143315, 0.9989841230143315, 0.9989841230143315, 0.9989999729533181]}], \"AUC_micro\": [{\"categories\": [\"0\", \"1\", \"2\", \"3\", \"4\", \"5\", \"6\", \"7\", \"8\", \"9\", \"10\", \"11\", \"12\", \"13\", \"14\", \"15\", \"16\", \"17\", \"18\"], \"mode\": \"markers\", \"name\": \"AUC_micro\", \"stepped\": false, \"type\": \"scatter\", \"data\": [0.9999886821120333, 0.9891963134672326, 0.9791709142353732, 0.9867743800171869, 0.9839782192612248, 0.9973391803652378, 0.9826126636774596, 0.9674360930317552, 0.9986212815887301, 0.9428251042216027, 0.9412554528740497, 0.9624571528454554, 0.9837295435323107, 0.9988996610306773, 0.9918201532419694, 0.9982606531163276, 0.9995054564562279, 0.9999667650414821, 0.9999024245820062]}, {\"categories\": [\"0\", \"1\", \"2\", \"3\", \"4\", \"5\", \"6\", \"7\", \"8\", \"9\", \"10\", \"11\", \"12\", \"13\", \"14\", \"15\", \"16\", \"17\", \"18\"], \"mode\": \"lines\", \"name\": \"AUC_micro_max\", \"stepped\": true, \"type\": \"scatter\", \"data\": [0.9999886821120333, 0.9999886821120333, 0.9999886821120333, 0.9999886821120333, 0.9999886821120333, 0.9999886821120333, 0.9999886821120333, 0.9999886821120333, 0.9999886821120333, 0.9999886821120333, 0.9999886821120333, 0.9999886821120333, 0.9999886821120333, 0.9999886821120333, 0.9999886821120333, 0.9999886821120333, 0.9999886821120333, 0.9999886821120333, 0.9999886821120333]}], \"recall_score_micro\": [{\"categories\": [\"0\", \"1\", \"2\", \"3\", \"4\", \"5\", \"6\", \"7\", \"8\", \"9\", \"10\", \"11\", \"12\", \"13\", \"14\", \"15\", \"16\", \"17\", \"18\"], \"mode\": \"markers\", \"name\": \"recall_score_micro\", \"stepped\": false, \"type\": \"scatter\", \"data\": [0.9989838992305206, 0.9447971671561172, 0.918482385617948, 0.9338503418670561, 0.9291272149631068, 0.9827342568247104, 0.928436399150845, 0.9065030320064581, 0.9852427581495281, 0.8761232755232375, 0.8883164365500104, 0.8769408977523149, 0.9306273733766043, 0.9859174955156085, 0.9632775611640649, 0.9771139680626858, 0.9938240221154727, 0.9989362701026462, 0.9989997757115047]}, {\"categories\": [\"0\", \"1\", \"2\", \"3\", \"4\", \"5\", \"6\", \"7\", \"8\", \"9\", \"10\", \"11\", \"12\", \"13\", \"14\", \"15\", \"16\", \"17\", \"18\"], \"mode\": \"lines\", \"name\": \"recall_score_micro_max\", \"stepped\": true, \"type\": \"scatter\", \"data\": [0.9989838992305206, 0.9989838992305206, 0.9989838992305206, 0.9989838992305206, 0.9989838992305206, 0.9989838992305206, 0.9989838992305206, 0.9989838992305206, 0.9989838992305206, 0.9989838992305206, 0.9989838992305206, 0.9989838992305206, 0.9989838992305206, 0.9989838992305206, 0.9989838992305206, 0.9989838992305206, 0.9989838992305206, 0.9989838992305206, 0.9989997757115047]}], \"average_precision_score_micro\": [{\"categories\": [\"0\", \"1\", \"2\", \"3\", \"4\", \"5\", \"6\", \"7\", \"8\", \"9\", \"10\", \"11\", \"12\", \"13\", \"14\", \"15\", \"16\", \"17\", \"18\"], \"mode\": \"markers\", \"name\": \"average_precision_score_micro\", \"stepped\": false, \"type\": \"scatter\", \"data\": [0.9999888085202604, 0.9895860193445876, 0.979504960884509, 0.9872657231858696, 0.9845480209962147, 0.996538681100331, 0.9831326339773975, 0.9675143315876984, 0.998624604291787, 0.9375022915913018, 0.934189597744058, 0.9612508945153919, 0.9840769554247787, 0.9989198058317335, 0.9920535159625974, 0.998293064085305, 0.9995070646851023, 0.9999672235356846, 0.999806486880457]}, {\"categories\": [\"0\", \"1\", \"2\", \"3\", \"4\", \"5\", \"6\", \"7\", \"8\", \"9\", \"10\", \"11\", \"12\", \"13\", \"14\", \"15\", \"16\", \"17\", \"18\"], \"mode\": \"lines\", \"name\": \"average_precision_score_micro_max\", \"stepped\": true, \"type\": \"scatter\", \"data\": [0.9999888085202604, 0.9999888085202604, 0.9999888085202604, 0.9999888085202604, 0.9999888085202604, 0.9999888085202604, 0.9999888085202604, 0.9999888085202604, 0.9999888085202604, 0.9999888085202604, 0.9999888085202604, 0.9999888085202604, 0.9999888085202604, 0.9999888085202604, 0.9999888085202604, 0.9999888085202604, 0.9999888085202604, 0.9999888085202604, 0.9999888085202604]}], \"f1_score_weighted\": [{\"categories\": [\"0\", \"1\", \"2\", \"3\", \"4\", \"5\", \"6\", \"7\", \"8\", \"9\", \"10\", \"11\", \"12\", \"13\", \"14\", \"15\", \"16\", \"17\", \"18\"], \"mode\": \"markers\", \"name\": \"f1_score_weighted\", \"stepped\": false, \"type\": \"scatter\", \"data\": [0.9989838800745566, 0.9445146386621458, 0.9178167901463082, 0.9333384551951924, 0.9287628798091602, 0.9827333487292528, 0.9279049178667836, 0.9051784364712081, 0.9852401765828279, 0.8744502841189311, 0.8881498281376133, 0.8759618727678442, 0.9306206232482757, 0.9859145224912179, 0.963225850366492, 0.9770869356306692, 0.993822980145999, 0.9989362441874532, 0.998999758476103]}, {\"categories\": [\"0\", \"1\", \"2\", \"3\", \"4\", \"5\", \"6\", \"7\", \"8\", \"9\", \"10\", \"11\", \"12\", \"13\", \"14\", \"15\", \"16\", \"17\", \"18\"], \"mode\": \"lines\", \"name\": \"f1_score_weighted_max\", \"stepped\": true, \"type\": \"scatter\", \"data\": [0.9989838800745566, 0.9989838800745566, 0.9989838800745566, 0.9989838800745566, 0.9989838800745566, 0.9989838800745566, 0.9989838800745566, 0.9989838800745566, 0.9989838800745566, 0.9989838800745566, 0.9989838800745566, 0.9989838800745566, 0.9989838800745566, 0.9989838800745566, 0.9989838800745566, 0.9989838800745566, 0.9989838800745566, 0.9989838800745566, 0.998999758476103]}], \"accuracy\": [{\"categories\": [\"0\", \"1\", \"2\", \"3\", \"4\", \"5\", \"6\", \"7\", \"8\", \"9\", \"10\", \"11\", \"12\", \"13\", \"14\", \"15\", \"16\", \"17\", \"18\"], \"mode\": \"markers\", \"name\": \"accuracy\", \"stepped\": false, \"type\": \"scatter\", \"data\": [0.9989838992305206, 0.9447971671561172, 0.918482385617948, 0.9338503418670561, 0.9291272149631068, 0.9827342568247104, 0.928436399150845, 0.9065030320064581, 0.9852427581495281, 0.8761232755232375, 0.8883164365500104, 0.8769408977523149, 0.9306273733766043, 0.9859174955156085, 0.9632775611640649, 0.9771139680626858, 0.9938240221154727, 0.9989362701026462, 0.9989997757115047]}, {\"categories\": [\"0\", \"1\", \"2\", \"3\", \"4\", \"5\", \"6\", \"7\", \"8\", \"9\", \"10\", \"11\", \"12\", \"13\", \"14\", \"15\", \"16\", \"17\", \"18\"], \"mode\": \"lines\", \"name\": \"accuracy_max\", \"stepped\": true, \"type\": \"scatter\", \"data\": [0.9989838992305206, 0.9989838992305206, 0.9989838992305206, 0.9989838992305206, 0.9989838992305206, 0.9989838992305206, 0.9989838992305206, 0.9989838992305206, 0.9989838992305206, 0.9989838992305206, 0.9989838992305206, 0.9989838992305206, 0.9989838992305206, 0.9989838992305206, 0.9989838992305206, 0.9989838992305206, 0.9989838992305206, 0.9989838992305206, 0.9989997757115047]}], \"AUC_weighted\": [{\"categories\": [\"0\", \"1\", \"2\", \"3\", \"4\", \"5\", \"6\", \"7\", \"8\", \"9\", \"10\", \"11\", \"12\", \"13\", \"14\", \"15\", \"16\", \"17\", \"18\"], \"mode\": \"markers\", \"name\": \"AUC_weighted\", \"stepped\": false, \"type\": \"scatter\", \"data\": [0.9999889828474927, 0.9908038294138046, 0.9798747777485985, 0.9893453255138377, 0.9850376159289249, 0.9973394634810676, 0.9842782599300864, 0.9717072954245225, 0.9985864627760254, 0.9398798497561494, 0.9393357097988682, 0.9693243311500932, 0.983493735402918, 0.9988496364879389, 0.991483017684231, 0.998173025162909, 0.9994554429939632, 0.9999650658085306, 0.9999046164471744]}, {\"categories\": [\"0\", \"1\", \"2\", \"3\", \"4\", \"5\", \"6\", \"7\", \"8\", \"9\", \"10\", \"11\", \"12\", \"13\", \"14\", \"15\", \"16\", \"17\", \"18\"], \"mode\": \"lines\", \"name\": \"AUC_weighted_max\", \"stepped\": true, \"type\": \"scatter\", \"data\": [0.9999889828474927, 0.9999889828474927, 0.9999889828474927, 0.9999889828474927, 0.9999889828474927, 0.9999889828474927, 0.9999889828474927, 0.9999889828474927, 0.9999889828474927, 0.9999889828474927, 0.9999889828474927, 0.9999889828474927, 0.9999889828474927, 0.9999889828474927, 0.9999889828474927, 0.9999889828474927, 0.9999889828474927, 0.9999889828474927, 0.9999889828474927]}], \"precision_score_micro\": [{\"categories\": [\"0\", \"1\", \"2\", \"3\", \"4\", \"5\", \"6\", \"7\", \"8\", \"9\", \"10\", \"11\", \"12\", \"13\", \"14\", \"15\", \"16\", \"17\", \"18\"], \"mode\": \"markers\", \"name\": \"precision_score_micro\", \"stepped\": false, \"type\": \"scatter\", \"data\": [0.9989838992305206, 0.9447971671561172, 0.918482385617948, 0.9338503418670561, 0.9291272149631068, 0.9827342568247104, 0.928436399150845, 0.9065030320064581, 0.9852427581495281, 0.8761232755232375, 0.8883164365500104, 0.8769408977523149, 0.9306273733766043, 0.9859174955156085, 0.9632775611640649, 0.9771139680626858, 0.9938240221154727, 0.9989362701026462, 0.9989997757115047]}, {\"categories\": [\"0\", \"1\", \"2\", \"3\", \"4\", \"5\", \"6\", \"7\", \"8\", \"9\", \"10\", \"11\", \"12\", \"13\", \"14\", \"15\", \"16\", \"17\", \"18\"], \"mode\": \"lines\", \"name\": \"precision_score_micro_max\", \"stepped\": true, \"type\": \"scatter\", \"data\": [0.9989838992305206, 0.9989838992305206, 0.9989838992305206, 0.9989838992305206, 0.9989838992305206, 0.9989838992305206, 0.9989838992305206, 0.9989838992305206, 0.9989838992305206, 0.9989838992305206, 0.9989838992305206, 0.9989838992305206, 0.9989838992305206, 0.9989838992305206, 0.9989838992305206, 0.9989838992305206, 0.9989838992305206, 0.9989838992305206, 0.9989997757115047]}], \"matthews_correlation\": [{\"categories\": [\"0\", \"1\", \"2\", \"3\", \"4\", \"5\", \"6\", \"7\", \"8\", \"9\", \"10\", \"11\", \"12\", \"13\", \"14\", \"15\", \"16\", \"17\", \"18\"], \"mode\": \"markers\", \"name\": \"matthews_correlation\", \"stepped\": false, \"type\": \"scatter\", \"data\": [0.9979580719749006, 0.8916640748519811, 0.8403225326573303, 0.8715274817112629, 0.8598830826218856, 0.9653042934341339, 0.8608507146628106, 0.8230711299067339, 0.970346342373411, 0.7595823713465243, 0.7754885086114098, 0.7562781103886813, 0.8606731956772506, 0.9717047763304987, 0.9265394429742893, 0.9543064110777408, 0.9875954083864158, 0.9978624083869099, 0.9979899650211337]}, {\"categories\": [\"0\", \"1\", \"2\", \"3\", \"4\", \"5\", \"6\", \"7\", \"8\", \"9\", \"10\", \"11\", \"12\", \"13\", \"14\", \"15\", \"16\", \"17\", \"18\"], \"mode\": \"lines\", \"name\": \"matthews_correlation_max\", \"stepped\": true, \"type\": \"scatter\", \"data\": [0.9979580719749006, 0.9979580719749006, 0.9979580719749006, 0.9979580719749006, 0.9979580719749006, 0.9979580719749006, 0.9979580719749006, 0.9979580719749006, 0.9979580719749006, 0.9979580719749006, 0.9979580719749006, 0.9979580719749006, 0.9979580719749006, 0.9979580719749006, 0.9979580719749006, 0.9979580719749006, 0.9979580719749006, 0.9979580719749006, 0.9979899650211337]}], \"norm_macro_recall\": [{\"categories\": [\"0\", \"1\", \"2\", \"3\", \"4\", \"5\", \"6\", \"7\", \"8\", \"9\", \"10\", \"11\", \"12\", \"13\", \"14\", \"15\", \"16\", \"17\", \"18\"], \"mode\": \"markers\", \"name\": \"norm_macro_recall\", \"stepped\": false, \"type\": \"scatter\", \"data\": [0.9979184996375825, 0.8836818145882329, 0.8289328567790616, 0.8598823573043749, 0.8524553044255885, 0.9652031098698639, 0.8482171817749646, 0.7998948521756315, 0.9700067793670863, 0.7391933873827081, 0.7731722405884411, 0.7442997068361427, 0.8603909327947925, 0.9712906080217772, 0.9239267943084275, 0.9520463429290494, 0.9872631337831639, 0.9978121957324303, 0.9979528932124484]}, {\"categories\": [\"0\", \"1\", \"2\", \"3\", \"4\", \"5\", \"6\", \"7\", \"8\", \"9\", \"10\", \"11\", \"12\", \"13\", \"14\", \"15\", \"16\", \"17\", \"18\"], \"mode\": \"lines\", \"name\": \"norm_macro_recall_max\", \"stepped\": true, \"type\": \"scatter\", \"data\": [0.9979184996375825, 0.9979184996375825, 0.9979184996375825, 0.9979184996375825, 0.9979184996375825, 0.9979184996375825, 0.9979184996375825, 0.9979184996375825, 0.9979184996375825, 0.9979184996375825, 0.9979184996375825, 0.9979184996375825, 0.9979184996375825, 0.9979184996375825, 0.9979184996375825, 0.9979184996375825, 0.9979184996375825, 0.9979184996375825, 0.9979528932124484]}], \"average_precision_score_macro\": [{\"categories\": [\"0\", \"1\", \"2\", \"3\", \"4\", \"5\", \"6\", \"7\", \"8\", \"9\", \"10\", \"11\", \"12\", \"13\", \"14\", \"15\", \"16\", \"17\", \"18\"], \"mode\": \"markers\", \"name\": \"average_precision_score_macro\", \"stepped\": false, \"type\": \"scatter\", \"data\": [0.9999889350212918, 0.9911420384295757, 0.9800704202020716, 0.9897712484568082, 0.9856422234152452, 0.9965447394856575, 0.984883393959586, 0.9729847751597699, 0.9985226331584929, 0.9359856417428439, 0.9349689851576194, 0.9673128430492264, 0.9841158842015909, 0.9988790886107264, 0.9918945555928247, 0.9982257227200086, 0.9994567287799347, 0.9999656948967853, 0.999779646104064]}, {\"categories\": [\"0\", \"1\", \"2\", \"3\", \"4\", \"5\", \"6\", \"7\", \"8\", \"9\", \"10\", \"11\", \"12\", \"13\", \"14\", \"15\", \"16\", \"17\", \"18\"], \"mode\": \"lines\", \"name\": \"average_precision_score_macro_max\", \"stepped\": true, \"type\": \"scatter\", \"data\": [0.9999889350212918, 0.9999889350212918, 0.9999889350212918, 0.9999889350212918, 0.9999889350212918, 0.9999889350212918, 0.9999889350212918, 0.9999889350212918, 0.9999889350212918, 0.9999889350212918, 0.9999889350212918, 0.9999889350212918, 0.9999889350212918, 0.9999889350212918, 0.9999889350212918, 0.9999889350212918, 0.9999889350212918, 0.9999889350212918, 0.9999889350212918]}], \"recall_score_weighted\": [{\"categories\": [\"0\", \"1\", \"2\", \"3\", \"4\", \"5\", \"6\", \"7\", \"8\", \"9\", \"10\", \"11\", \"12\", \"13\", \"14\", \"15\", \"16\", \"17\", \"18\"], \"mode\": \"markers\", \"name\": \"recall_score_weighted\", \"stepped\": false, \"type\": \"scatter\", \"data\": [0.9989838992305206, 0.9447971671561172, 0.918482385617948, 0.9338503418670561, 0.9291272149631068, 0.9827342568247104, 0.928436399150845, 0.9065030320064581, 0.9852427581495281, 0.8761232755232375, 0.8883164365500104, 0.8769408977523149, 0.9306273733766043, 0.9859174955156085, 0.9632775611640649, 0.9771139680626858, 0.9938240221154727, 0.9989362701026462, 0.9989997757115047]}, {\"categories\": [\"0\", \"1\", \"2\", \"3\", \"4\", \"5\", \"6\", \"7\", \"8\", \"9\", \"10\", \"11\", \"12\", \"13\", \"14\", \"15\", \"16\", \"17\", \"18\"], \"mode\": \"lines\", \"name\": \"recall_score_weighted_max\", \"stepped\": true, \"type\": \"scatter\", \"data\": [0.9989838992305206, 0.9989838992305206, 0.9989838992305206, 0.9989838992305206, 0.9989838992305206, 0.9989838992305206, 0.9989838992305206, 0.9989838992305206, 0.9989838992305206, 0.9989838992305206, 0.9989838992305206, 0.9989838992305206, 0.9989838992305206, 0.9989838992305206, 0.9989838992305206, 0.9989838992305206, 0.9989838992305206, 0.9989838992305206, 0.9989997757115047]}], \"average_precision_score_weighted\": [{\"categories\": [\"0\", \"1\", \"2\", \"3\", \"4\", \"5\", \"6\", \"7\", \"8\", \"9\", \"10\", \"11\", \"12\", \"13\", \"14\", \"15\", \"16\", \"17\", \"18\"], \"mode\": \"markers\", \"name\": \"average_precision_score_weighted\", \"stepped\": false, \"type\": \"scatter\", \"data\": [0.9999890616535012, 0.9911760168284791, 0.9799886299119278, 0.9897978589543287, 0.9856765690149354, 0.9965581772948975, 0.9848487955769036, 0.9730029949896378, 0.9985240743466797, 0.9352790747421169, 0.9344117908538065, 0.9672624138608077, 0.984085863428281, 0.9988830261856186, 0.9918865158495456, 0.9982297655472264, 0.9994555300054955, 0.999965884794447, 0.999767967116623]}, {\"categories\": [\"0\", \"1\", \"2\", \"3\", \"4\", \"5\", \"6\", \"7\", \"8\", \"9\", \"10\", \"11\", \"12\", \"13\", \"14\", \"15\", \"16\", \"17\", \"18\"], \"mode\": \"lines\", \"name\": \"average_precision_score_weighted_max\", \"stepped\": true, \"type\": \"scatter\", \"data\": [0.9999890616535012, 0.9999890616535012, 0.9999890616535012, 0.9999890616535012, 0.9999890616535012, 0.9999890616535012, 0.9999890616535012, 0.9999890616535012, 0.9999890616535012, 0.9999890616535012, 0.9999890616535012, 0.9999890616535012, 0.9999890616535012, 0.9999890616535012, 0.9999890616535012, 0.9999890616535012, 0.9999890616535012, 0.9999890616535012, 0.9999890616535012]}], \"f1_score_micro\": [{\"categories\": [\"0\", \"1\", \"2\", \"3\", \"4\", \"5\", \"6\", \"7\", \"8\", \"9\", \"10\", \"11\", \"12\", \"13\", \"14\", \"15\", \"16\", \"17\", \"18\"], \"mode\": \"markers\", \"name\": \"f1_score_micro\", \"stepped\": false, \"type\": \"scatter\", \"data\": [0.9989838992305206, 0.9447971671561172, 0.918482385617948, 0.9338503418670561, 0.9291272149631068, 0.9827342568247104, 0.928436399150845, 0.9065030320064583, 0.9852427581495281, 0.8761232755232375, 0.8883164365500104, 0.8769408977523149, 0.9306273733766043, 0.9859174955156085, 0.9632775611640649, 0.9771139680626858, 0.9938240221154727, 0.9989362701026462, 0.9989997757115047]}, {\"categories\": [\"0\", \"1\", \"2\", \"3\", \"4\", \"5\", \"6\", \"7\", \"8\", \"9\", \"10\", \"11\", \"12\", \"13\", \"14\", \"15\", \"16\", \"17\", \"18\"], \"mode\": \"lines\", \"name\": \"f1_score_micro_max\", \"stepped\": true, \"type\": \"scatter\", \"data\": [0.9989838992305206, 0.9989838992305206, 0.9989838992305206, 0.9989838992305206, 0.9989838992305206, 0.9989838992305206, 0.9989838992305206, 0.9989838992305206, 0.9989838992305206, 0.9989838992305206, 0.9989838992305206, 0.9989838992305206, 0.9989838992305206, 0.9989838992305206, 0.9989838992305206, 0.9989838992305206, 0.9989838992305206, 0.9989838992305206, 0.9989997757115047]}], \"log_loss\": [{\"categories\": [\"0\", \"1\", \"2\", \"3\", \"4\", \"5\", \"6\", \"7\", \"8\", \"9\", \"10\", \"11\", \"12\", \"13\", \"14\", \"15\", \"16\", \"17\", \"18\"], \"mode\": \"markers\", \"name\": \"log_loss\", \"stepped\": false, \"type\": \"scatter\", \"data\": [0.0031984309368911995, 0.19907614867196205, 0.2727575835004334, 0.3659133499223026, 0.24699879610214834, 0.09512771361446062, 0.2287818290585398, 0.47189109944148366, 0.0425050817845909, 0.37949831017479796, 0.40819934469825536, 0.27086988275999324, 0.1799857967342615, 0.05084725402710492, 0.18229358489210995, 0.06972418039290283, 0.027994223405880238, 0.010198861162843846, 0.005019933162124388]}, {\"categories\": [\"0\", \"1\", \"2\", \"3\", \"4\", \"5\", \"6\", \"7\", \"8\", \"9\", \"10\", \"11\", \"12\", \"13\", \"14\", \"15\", \"16\", \"17\", \"18\"], \"mode\": \"lines\", \"name\": \"log_loss_min\", \"stepped\": true, \"type\": \"scatter\", \"data\": [0.0031984309368911995, 0.0031984309368911995, 0.0031984309368911995, 0.0031984309368911995, 0.0031984309368911995, 0.0031984309368911995, 0.0031984309368911995, 0.0031984309368911995, 0.0031984309368911995, 0.0031984309368911995, 0.0031984309368911995, 0.0031984309368911995, 0.0031984309368911995, 0.0031984309368911995, 0.0031984309368911995, 0.0031984309368911995, 0.0031984309368911995, 0.0031984309368911995, 0.0031984309368911995]}], \"weighted_accuracy\": [{\"categories\": [\"0\", \"1\", \"2\", \"3\", \"4\", \"5\", \"6\", \"7\", \"8\", \"9\", \"10\", \"11\", \"12\", \"13\", \"14\", \"15\", \"16\", \"17\", \"18\"], \"mode\": \"markers\", \"name\": \"weighted_accuracy\", \"stepped\": false, \"type\": \"scatter\", \"data\": [0.9990082905849622, 0.9477253574299734, 0.922460963387574, 0.9377206185755631, 0.931997309921287, 0.9828657819142075, 0.9327221367645375, 0.91299500373411, 0.9854797749576383, 0.8825863507824924, 0.8900299586273063, 0.8816852795736361, 0.931055360400238, 0.986187036234609, 0.9645789370872185, 0.9781941911184028, 0.9940146192322377, 0.9989661348544688, 0.9990228617457155]}, {\"categories\": [\"0\", \"1\", \"2\", \"3\", \"4\", \"5\", \"6\", \"7\", \"8\", \"9\", \"10\", \"11\", \"12\", \"13\", \"14\", \"15\", \"16\", \"17\", \"18\"], \"mode\": \"lines\", \"name\": \"weighted_accuracy_max\", \"stepped\": true, \"type\": \"scatter\", \"data\": [0.9990082905849622, 0.9990082905849622, 0.9990082905849622, 0.9990082905849622, 0.9990082905849622, 0.9990082905849622, 0.9990082905849622, 0.9990082905849622, 0.9990082905849622, 0.9990082905849622, 0.9990082905849622, 0.9990082905849622, 0.9990082905849622, 0.9990082905849622, 0.9990082905849622, 0.9990082905849622, 0.9990082905849622, 0.9990082905849622, 0.9990228617457155]}], \"balanced_accuracy\": [{\"categories\": [\"0\", \"1\", \"2\", \"3\", \"4\", \"5\", \"6\", \"7\", \"8\", \"9\", \"10\", \"11\", \"12\", \"13\", \"14\", \"15\", \"16\", \"17\", \"18\"], \"mode\": \"markers\", \"name\": \"balanced_accuracy\", \"stepped\": false, \"type\": \"scatter\", \"data\": [0.9989592498187913, 0.9418409072941165, 0.9144664283895306, 0.9299411786521874, 0.9262276522127942, 0.982601554934932, 0.9241085908874822, 0.899947426087816, 0.9850033896835431, 0.8695966936913541, 0.8865861202942206, 0.8721498534180714, 0.9301954663973963, 0.9856453040108886, 0.961963397154214, 0.9760231714645247, 0.9936315668915819, 0.9989060978662152, 0.9989764466062242]}, {\"categories\": [\"0\", \"1\", \"2\", \"3\", \"4\", \"5\", \"6\", \"7\", \"8\", \"9\", \"10\", \"11\", \"12\", \"13\", \"14\", \"15\", \"16\", \"17\", \"18\"], \"mode\": \"lines\", \"name\": \"balanced_accuracy_max\", \"stepped\": true, \"type\": \"scatter\", \"data\": [0.9989592498187913, 0.9989592498187913, 0.9989592498187913, 0.9989592498187913, 0.9989592498187913, 0.9989592498187913, 0.9989592498187913, 0.9989592498187913, 0.9989592498187913, 0.9989592498187913, 0.9989592498187913, 0.9989592498187913, 0.9989592498187913, 0.9989592498187913, 0.9989592498187913, 0.9989592498187913, 0.9989592498187913, 0.9989592498187913, 0.9989764466062242]}]}, \"metricName\": null, \"primaryMetricName\": \"accuracy\", \"showLegend\": false}, \"run_metrics\": [{\"name\": \"experiment_status\", \"run_id\": \"AutoML_52d729eb-4c12-42fb-b93b-125aa69b16fc\", \"categories\": [0, 1, 2, 3, 4, 5, 6, 7, 8, 9, 10, 11, 12, 13], \"series\": [{\"data\": [\"DatasetEvaluation\", \"FeaturesGeneration\", \"DatasetFeaturization\", \"DatasetFeaturizationCompleted\", \"DatasetCrossValidationSplit\", \"ModelSelection\", \"BestRunExplainModel\", \"ModelExplanationDataSetSetup\", \"PickSurrogateModel\", \"EngineeredFeatureExplanations\", \"EngineeredFeatureExplanations\", \"RawFeaturesExplanations\", \"RawFeaturesExplanations\", \"BestRunExplainModel\"]}]}, {\"name\": \"experiment_status_description\", \"run_id\": \"AutoML_52d729eb-4c12-42fb-b93b-125aa69b16fc\", \"categories\": [0, 1, 2, 3, 4, 5, 6, 7, 8, 9, 10, 11, 12, 13], \"series\": [{\"data\": [\"Gathering dataset statistics.\", \"Generating features for the dataset.\", \"Beginning to fit featurizers and featurize the dataset.\", \"Completed fit featurizers and featurizing the dataset.\", \"Generating individually featurized CV splits.\", \"Beginning model selection.\", \"Best run model explanations started\", \"Model explanations data setup completed\", \"Choosing LightGBM as the surrogate model for explanations\", \"Computation of engineered features started\", \"Computation of engineered features completed\", \"Computation of raw features started\", \"Computation of raw features completed\", \"Best run model explanations completed\"]}]}, {\"name\": \"recall_score_micro\", \"run_id\": \"AutoML_52d729eb-4c12-42fb-b93b-125aa69b16fc\", \"categories\": [0], \"series\": [{\"data\": [0.9989997757115047]}]}, {\"name\": \"average_precision_score_weighted\", \"run_id\": \"AutoML_52d729eb-4c12-42fb-b93b-125aa69b16fc\", \"categories\": [0], \"series\": [{\"data\": [0.999767967116623]}]}, {\"name\": \"recall_score_macro\", \"run_id\": \"AutoML_52d729eb-4c12-42fb-b93b-125aa69b16fc\", \"categories\": [0], \"series\": [{\"data\": [0.9989764466062242]}]}, {\"name\": \"f1_score_macro\", \"run_id\": \"AutoML_52d729eb-4c12-42fb-b93b-125aa69b16fc\", \"categories\": [0], \"series\": [{\"data\": [0.9989948660264556]}]}, {\"name\": \"AUC_micro\", \"run_id\": \"AutoML_52d729eb-4c12-42fb-b93b-125aa69b16fc\", \"categories\": [0], \"series\": [{\"data\": [0.9999024245820062]}]}, {\"name\": \"precision_score_macro\", \"run_id\": \"AutoML_52d729eb-4c12-42fb-b93b-125aa69b16fc\", \"categories\": [0], \"series\": [{\"data\": [0.9990135196866797]}]}, {\"name\": \"AUC_weighted\", \"run_id\": \"AutoML_52d729eb-4c12-42fb-b93b-125aa69b16fc\", \"categories\": [0], \"series\": [{\"data\": [0.9999046164471744]}]}, {\"name\": \"log_loss\", \"run_id\": \"AutoML_52d729eb-4c12-42fb-b93b-125aa69b16fc\", \"categories\": [0], \"series\": [{\"data\": [0.005019933162124388]}]}, {\"name\": \"precision_score_micro\", \"run_id\": \"AutoML_52d729eb-4c12-42fb-b93b-125aa69b16fc\", \"categories\": [0], \"series\": [{\"data\": [0.9989997757115047]}]}, {\"name\": \"f1_score_micro\", \"run_id\": \"AutoML_52d729eb-4c12-42fb-b93b-125aa69b16fc\", \"categories\": [0], \"series\": [{\"data\": [0.9989997757115047]}]}, {\"name\": \"average_precision_score_macro\", \"run_id\": \"AutoML_52d729eb-4c12-42fb-b93b-125aa69b16fc\", \"categories\": [0], \"series\": [{\"data\": [0.999779646104064]}]}, {\"name\": \"balanced_accuracy\", \"run_id\": \"AutoML_52d729eb-4c12-42fb-b93b-125aa69b16fc\", \"categories\": [0], \"series\": [{\"data\": [0.9989764466062242]}]}, {\"name\": \"f1_score_weighted\", \"run_id\": \"AutoML_52d729eb-4c12-42fb-b93b-125aa69b16fc\", \"categories\": [0], \"series\": [{\"data\": [0.998999758476103]}]}, {\"name\": \"accuracy\", \"run_id\": \"AutoML_52d729eb-4c12-42fb-b93b-125aa69b16fc\", \"categories\": [0], \"series\": [{\"data\": [0.9989997757115047]}]}, {\"name\": \"precision_score_weighted\", \"run_id\": \"AutoML_52d729eb-4c12-42fb-b93b-125aa69b16fc\", \"categories\": [0], \"series\": [{\"data\": [0.9989999729533181]}]}, {\"name\": \"matthews_correlation\", \"run_id\": \"AutoML_52d729eb-4c12-42fb-b93b-125aa69b16fc\", \"categories\": [0], \"series\": [{\"data\": [0.9979899650211337]}]}, {\"name\": \"average_precision_score_micro\", \"run_id\": \"AutoML_52d729eb-4c12-42fb-b93b-125aa69b16fc\", \"categories\": [0], \"series\": [{\"data\": [0.999806486880457]}]}, {\"name\": \"recall_score_weighted\", \"run_id\": \"AutoML_52d729eb-4c12-42fb-b93b-125aa69b16fc\", \"categories\": [0], \"series\": [{\"data\": [0.9989997757115047]}]}, {\"name\": \"weighted_accuracy\", \"run_id\": \"AutoML_52d729eb-4c12-42fb-b93b-125aa69b16fc\", \"categories\": [0], \"series\": [{\"data\": [0.9990228617457155]}]}, {\"name\": \"AUC_macro\", \"run_id\": \"AutoML_52d729eb-4c12-42fb-b93b-125aa69b16fc\", \"categories\": [0], \"series\": [{\"data\": [0.9999046164471744]}]}, {\"name\": \"norm_macro_recall\", \"run_id\": \"AutoML_52d729eb-4c12-42fb-b93b-125aa69b16fc\", \"categories\": [0], \"series\": [{\"data\": [0.9979528932124484]}]}], \"run_logs\": \"\\nRun is completed.\", \"graph\": {}, \"widget_settings\": {\"childWidgetDisplay\": \"popup\", \"send_telemetry\": false, \"log_level\": \"INFO\", \"sdk_version\": \"1.24.0\"}, \"loading\": false}"
     },
     "metadata": {},
     "output_type": "display_data"
    }
   ],
   "source": [
    "from azureml.widgets import RunDetails\n",
    "RunDetails(automl_ids_run).show()"
   ]
  },
  {
   "cell_type": "code",
   "execution_count": 22,
   "metadata": {},
   "outputs": [
    {
     "data": {
      "text/plain": [
       "{'runId': 'AutoML_52d729eb-4c12-42fb-b93b-125aa69b16fc',\n",
       " 'target': 'cpucluster',\n",
       " 'status': 'Completed',\n",
       " 'startTimeUtc': '2021-04-09T10:11:14.698209Z',\n",
       " 'endTimeUtc': '2021-04-09T11:05:36.754122Z',\n",
       " 'properties': {'num_iterations': '1000',\n",
       "  'training_type': 'TrainFull',\n",
       "  'acquisition_function': 'EI',\n",
       "  'primary_metric': 'accuracy',\n",
       "  'train_split': '0',\n",
       "  'acquisition_parameter': '0',\n",
       "  'num_cross_validation': '5',\n",
       "  'target': 'cpucluster',\n",
       "  'AMLSettingsJsonString': '{\"path\":null,\"name\":\"vrk_ids_auto_exp\",\"subscription_id\":\"610d6e37-4747-4a20-80eb-3aad70a55f43\",\"resource_group\":\"aml-quickstarts-142286\",\"workspace_name\":\"quick-starts-ws-142286\",\"region\":\"southcentralus\",\"compute_target\":\"cpucluster\",\"spark_service\":null,\"azure_service\":\"remote\",\"many_models\":false,\"pipeline_fetch_max_batch_size\":1,\"enable_batch_run\":false,\"iterations\":1000,\"primary_metric\":\"accuracy\",\"task_type\":\"classification\",\"data_script\":null,\"validation_size\":0.0,\"n_cross_validations\":5,\"y_min\":null,\"y_max\":null,\"num_classes\":null,\"featurization\":\"auto\",\"_ignore_package_version_incompatibilities\":false,\"is_timeseries\":false,\"max_cores_per_iteration\":1,\"max_concurrent_iterations\":1,\"iteration_timeout_minutes\":null,\"mem_in_mb\":null,\"enforce_time_on_windows\":false,\"experiment_timeout_minutes\":30,\"experiment_exit_score\":null,\"whitelist_models\":null,\"blacklist_algos\":[\"XGBoostClassifier\",\"TensorFlowLinearClassifier\",\"TensorFlowDNN\"],\"supported_models\":[\"ExtremeRandomTrees\",\"TensorFlowLinearClassifier\",\"GradientBoosting\",\"LinearSVM\",\"LogisticRegression\",\"KNN\",\"AveragedPerceptronClassifier\",\"TensorFlowDNN\",\"BernoulliNaiveBayes\",\"MultinomialNaiveBayes\",\"SVM\",\"RandomForest\",\"XGBoostClassifier\",\"LightGBM\",\"SGD\",\"DecisionTree\"],\"private_models\":[],\"auto_blacklist\":true,\"blacklist_samples_reached\":false,\"exclude_nan_labels\":true,\"verbosity\":20,\"_debug_log\":\"azureml_automl.log\",\"show_warnings\":false,\"model_explainability\":true,\"service_url\":null,\"sdk_url\":null,\"sdk_packages\":null,\"enable_onnx_compatible_models\":false,\"enable_split_onnx_featurizer_estimator_models\":false,\"vm_type\":\"STANDARD_D2_V2\",\"telemetry_verbosity\":20,\"send_telemetry\":true,\"enable_dnn\":false,\"scenario\":\"SDK-1.13.0\",\"environment_label\":null,\"save_mlflow\":false,\"force_text_dnn\":false,\"enable_feature_sweeping\":true,\"enable_early_stopping\":false,\"early_stopping_n_iters\":10,\"metrics\":null,\"enable_metric_confidence\":false,\"enable_ensembling\":true,\"enable_stack_ensembling\":true,\"ensemble_iterations\":15,\"enable_tf\":false,\"enable_subsampling\":null,\"subsample_seed\":null,\"enable_nimbusml\":false,\"enable_streaming\":false,\"force_streaming\":false,\"track_child_runs\":true,\"allowed_private_models\":[],\"label_column_name\":\"attack_type\",\"weight_column_name\":null,\"cv_split_column_names\":null,\"enable_local_managed\":false,\"_local_managed_run_id\":null,\"cost_mode\":1,\"lag_length\":0,\"metric_operation\":\"maximize\",\"preprocess\":true}',\n",
       "  'DataPrepJsonString': '{\\\\\"training_data\\\\\": \\\\\"{\\\\\\\\\\\\\"blocks\\\\\\\\\\\\\": [{\\\\\\\\\\\\\"id\\\\\\\\\\\\\": \\\\\\\\\\\\\"8837fa65-f734-4206-84bb-d4e47b894b5d\\\\\\\\\\\\\", \\\\\\\\\\\\\"type\\\\\\\\\\\\\": \\\\\\\\\\\\\"Microsoft.DPrep.GetDatastoreFilesBlock\\\\\\\\\\\\\", \\\\\\\\\\\\\"arguments\\\\\\\\\\\\\": {\\\\\\\\\\\\\"datastores\\\\\\\\\\\\\": [{\\\\\\\\\\\\\"datastoreName\\\\\\\\\\\\\": \\\\\\\\\\\\\"workspaceblobstore\\\\\\\\\\\\\", \\\\\\\\\\\\\"path\\\\\\\\\\\\\": \\\\\\\\\\\\\"data/ids_training_data.csv\\\\\\\\\\\\\", \\\\\\\\\\\\\"resourceGroup\\\\\\\\\\\\\": \\\\\\\\\\\\\"aml-quickstarts-142286\\\\\\\\\\\\\", \\\\\\\\\\\\\"subscription\\\\\\\\\\\\\": \\\\\\\\\\\\\"610d6e37-4747-4a20-80eb-3aad70a55f43\\\\\\\\\\\\\", \\\\\\\\\\\\\"workspaceName\\\\\\\\\\\\\": \\\\\\\\\\\\\"quick-starts-ws-142286\\\\\\\\\\\\\"}]}, \\\\\\\\\\\\\"localData\\\\\\\\\\\\\": {}, \\\\\\\\\\\\\"isEnabled\\\\\\\\\\\\\": true, \\\\\\\\\\\\\"name\\\\\\\\\\\\\": null, \\\\\\\\\\\\\"annotation\\\\\\\\\\\\\": null}, {\\\\\\\\\\\\\"id\\\\\\\\\\\\\": \\\\\\\\\\\\\"0a11105c-21d2-4bdb-8446-a41b90c818aa\\\\\\\\\\\\\", \\\\\\\\\\\\\"type\\\\\\\\\\\\\": \\\\\\\\\\\\\"Microsoft.DPrep.ParseDelimitedBlock\\\\\\\\\\\\\", \\\\\\\\\\\\\"arguments\\\\\\\\\\\\\": {\\\\\\\\\\\\\"columnHeadersMode\\\\\\\\\\\\\": 3, \\\\\\\\\\\\\"fileEncoding\\\\\\\\\\\\\": 0, \\\\\\\\\\\\\"handleQuotedLineBreaks\\\\\\\\\\\\\": false, \\\\\\\\\\\\\"preview\\\\\\\\\\\\\": false, \\\\\\\\\\\\\"separator\\\\\\\\\\\\\": \\\\\\\\\\\\\",\\\\\\\\\\\\\", \\\\\\\\\\\\\"skipRows\\\\\\\\\\\\\": 0, \\\\\\\\\\\\\"skipRowsMode\\\\\\\\\\\\\": 0}, \\\\\\\\\\\\\"localData\\\\\\\\\\\\\": {}, \\\\\\\\\\\\\"isEnabled\\\\\\\\\\\\\": true, \\\\\\\\\\\\\"name\\\\\\\\\\\\\": null, \\\\\\\\\\\\\"annotation\\\\\\\\\\\\\": null}, {\\\\\\\\\\\\\"id\\\\\\\\\\\\\": \\\\\\\\\\\\\"b51016a4-c14f-4276-aa31-5bb890fd0a5b\\\\\\\\\\\\\", \\\\\\\\\\\\\"type\\\\\\\\\\\\\": \\\\\\\\\\\\\"Microsoft.DPrep.DropColumnsBlock\\\\\\\\\\\\\", \\\\\\\\\\\\\"arguments\\\\\\\\\\\\\": {\\\\\\\\\\\\\"columns\\\\\\\\\\\\\": {\\\\\\\\\\\\\"type\\\\\\\\\\\\\": 0, \\\\\\\\\\\\\"details\\\\\\\\\\\\\": {\\\\\\\\\\\\\"selectedColumns\\\\\\\\\\\\\": [\\\\\\\\\\\\\"Path\\\\\\\\\\\\\"]}}}, \\\\\\\\\\\\\"localData\\\\\\\\\\\\\": {}, \\\\\\\\\\\\\"isEnabled\\\\\\\\\\\\\": true, \\\\\\\\\\\\\"name\\\\\\\\\\\\\": null, \\\\\\\\\\\\\"annotation\\\\\\\\\\\\\": null}, {\\\\\\\\\\\\\"id\\\\\\\\\\\\\": \\\\\\\\\\\\\"6ea84078-d1b6-4499-bb0e-aa34a6e83c9e\\\\\\\\\\\\\", \\\\\\\\\\\\\"type\\\\\\\\\\\\\": \\\\\\\\\\\\\"Microsoft.DPrep.SetColumnTypesBlock\\\\\\\\\\\\\", \\\\\\\\\\\\\"arguments\\\\\\\\\\\\\": {\\\\\\\\\\\\\"columnConversion\\\\\\\\\\\\\": [{\\\\\\\\\\\\\"column\\\\\\\\\\\\\": {\\\\\\\\\\\\\"type\\\\\\\\\\\\\": 2, \\\\\\\\\\\\\"details\\\\\\\\\\\\\": {\\\\\\\\\\\\\"selectedColumn\\\\\\\\\\\\\": \\\\\\\\\\\\\"Column1\\\\\\\\\\\\\"}}, \\\\\\\\\\\\\"typeProperty\\\\\\\\\\\\\": 2}, {\\\\\\\\\\\\\"column\\\\\\\\\\\\\": {\\\\\\\\\\\\\"type\\\\\\\\\\\\\": 2, \\\\\\\\\\\\\"details\\\\\\\\\\\\\": {\\\\\\\\\\\\\"selectedColumn\\\\\\\\\\\\\": \\\\\\\\\\\\\"duration\\\\\\\\\\\\\"}}, \\\\\\\\\\\\\"typeProperty\\\\\\\\\\\\\": 2}, {\\\\\\\\\\\\\"column\\\\\\\\\\\\\": {\\\\\\\\\\\\\"type\\\\\\\\\\\\\": 2, \\\\\\\\\\\\\"details\\\\\\\\\\\\\": {\\\\\\\\\\\\\"selectedColumn\\\\\\\\\\\\\": \\\\\\\\\\\\\"protocol_type\\\\\\\\\\\\\"}}, \\\\\\\\\\\\\"typeProperty\\\\\\\\\\\\\": 0}, {\\\\\\\\\\\\\"column\\\\\\\\\\\\\": {\\\\\\\\\\\\\"type\\\\\\\\\\\\\": 2, \\\\\\\\\\\\\"details\\\\\\\\\\\\\": {\\\\\\\\\\\\\"selectedColumn\\\\\\\\\\\\\": \\\\\\\\\\\\\"service\\\\\\\\\\\\\"}}, \\\\\\\\\\\\\"typeProperty\\\\\\\\\\\\\": 0}, {\\\\\\\\\\\\\"column\\\\\\\\\\\\\": {\\\\\\\\\\\\\"type\\\\\\\\\\\\\": 2, \\\\\\\\\\\\\"details\\\\\\\\\\\\\": {\\\\\\\\\\\\\"selectedColumn\\\\\\\\\\\\\": \\\\\\\\\\\\\"flag\\\\\\\\\\\\\"}}, \\\\\\\\\\\\\"typeProperty\\\\\\\\\\\\\": 0}, {\\\\\\\\\\\\\"column\\\\\\\\\\\\\": {\\\\\\\\\\\\\"type\\\\\\\\\\\\\": 2, \\\\\\\\\\\\\"details\\\\\\\\\\\\\": {\\\\\\\\\\\\\"selectedColumn\\\\\\\\\\\\\": \\\\\\\\\\\\\"src_bytes\\\\\\\\\\\\\"}}, \\\\\\\\\\\\\"typeProperty\\\\\\\\\\\\\": 2}, {\\\\\\\\\\\\\"column\\\\\\\\\\\\\": {\\\\\\\\\\\\\"type\\\\\\\\\\\\\": 2, \\\\\\\\\\\\\"details\\\\\\\\\\\\\": {\\\\\\\\\\\\\"selectedColumn\\\\\\\\\\\\\": \\\\\\\\\\\\\"dst_bytes\\\\\\\\\\\\\"}}, \\\\\\\\\\\\\"typeProperty\\\\\\\\\\\\\": 2}, {\\\\\\\\\\\\\"column\\\\\\\\\\\\\": {\\\\\\\\\\\\\"type\\\\\\\\\\\\\": 2, \\\\\\\\\\\\\"details\\\\\\\\\\\\\": {\\\\\\\\\\\\\"selectedColumn\\\\\\\\\\\\\": \\\\\\\\\\\\\"land\\\\\\\\\\\\\"}}, \\\\\\\\\\\\\"typeProperty\\\\\\\\\\\\\": 2}, {\\\\\\\\\\\\\"column\\\\\\\\\\\\\": {\\\\\\\\\\\\\"type\\\\\\\\\\\\\": 2, \\\\\\\\\\\\\"details\\\\\\\\\\\\\": {\\\\\\\\\\\\\"selectedColumn\\\\\\\\\\\\\": \\\\\\\\\\\\\"wrong_fragment\\\\\\\\\\\\\"}}, \\\\\\\\\\\\\"typeProperty\\\\\\\\\\\\\": 2}, {\\\\\\\\\\\\\"column\\\\\\\\\\\\\": {\\\\\\\\\\\\\"type\\\\\\\\\\\\\": 2, \\\\\\\\\\\\\"details\\\\\\\\\\\\\": {\\\\\\\\\\\\\"selectedColumn\\\\\\\\\\\\\": \\\\\\\\\\\\\"urgent\\\\\\\\\\\\\"}}, \\\\\\\\\\\\\"typeProperty\\\\\\\\\\\\\": 2}, {\\\\\\\\\\\\\"column\\\\\\\\\\\\\": {\\\\\\\\\\\\\"type\\\\\\\\\\\\\": 2, \\\\\\\\\\\\\"details\\\\\\\\\\\\\": {\\\\\\\\\\\\\"selectedColumn\\\\\\\\\\\\\": \\\\\\\\\\\\\"hot\\\\\\\\\\\\\"}}, \\\\\\\\\\\\\"typeProperty\\\\\\\\\\\\\": 2}, {\\\\\\\\\\\\\"column\\\\\\\\\\\\\": {\\\\\\\\\\\\\"type\\\\\\\\\\\\\": 2, \\\\\\\\\\\\\"details\\\\\\\\\\\\\": {\\\\\\\\\\\\\"selectedColumn\\\\\\\\\\\\\": \\\\\\\\\\\\\"num_failed_logins\\\\\\\\\\\\\"}}, \\\\\\\\\\\\\"typeProperty\\\\\\\\\\\\\": 2}, {\\\\\\\\\\\\\"column\\\\\\\\\\\\\": {\\\\\\\\\\\\\"type\\\\\\\\\\\\\": 2, \\\\\\\\\\\\\"details\\\\\\\\\\\\\": {\\\\\\\\\\\\\"selectedColumn\\\\\\\\\\\\\": \\\\\\\\\\\\\"logged_in\\\\\\\\\\\\\"}}, \\\\\\\\\\\\\"typeProperty\\\\\\\\\\\\\": 2}, {\\\\\\\\\\\\\"column\\\\\\\\\\\\\": {\\\\\\\\\\\\\"type\\\\\\\\\\\\\": 2, \\\\\\\\\\\\\"details\\\\\\\\\\\\\": {\\\\\\\\\\\\\"selectedColumn\\\\\\\\\\\\\": \\\\\\\\\\\\\"num_compromised\\\\\\\\\\\\\"}}, \\\\\\\\\\\\\"typeProperty\\\\\\\\\\\\\": 2}, {\\\\\\\\\\\\\"column\\\\\\\\\\\\\": {\\\\\\\\\\\\\"type\\\\\\\\\\\\\": 2, \\\\\\\\\\\\\"details\\\\\\\\\\\\\": {\\\\\\\\\\\\\"selectedColumn\\\\\\\\\\\\\": \\\\\\\\\\\\\"root_shell\\\\\\\\\\\\\"}}, \\\\\\\\\\\\\"typeProperty\\\\\\\\\\\\\": 2}, {\\\\\\\\\\\\\"column\\\\\\\\\\\\\": {\\\\\\\\\\\\\"type\\\\\\\\\\\\\": 2, \\\\\\\\\\\\\"details\\\\\\\\\\\\\": {\\\\\\\\\\\\\"selectedColumn\\\\\\\\\\\\\": \\\\\\\\\\\\\"su_attempted\\\\\\\\\\\\\"}}, \\\\\\\\\\\\\"typeProperty\\\\\\\\\\\\\": 2}, {\\\\\\\\\\\\\"column\\\\\\\\\\\\\": {\\\\\\\\\\\\\"type\\\\\\\\\\\\\": 2, \\\\\\\\\\\\\"details\\\\\\\\\\\\\": {\\\\\\\\\\\\\"selectedColumn\\\\\\\\\\\\\": \\\\\\\\\\\\\"num_root\\\\\\\\\\\\\"}}, \\\\\\\\\\\\\"typeProperty\\\\\\\\\\\\\": 2}, {\\\\\\\\\\\\\"column\\\\\\\\\\\\\": {\\\\\\\\\\\\\"type\\\\\\\\\\\\\": 2, \\\\\\\\\\\\\"details\\\\\\\\\\\\\": {\\\\\\\\\\\\\"selectedColumn\\\\\\\\\\\\\": \\\\\\\\\\\\\"num_file_creations\\\\\\\\\\\\\"}}, \\\\\\\\\\\\\"typeProperty\\\\\\\\\\\\\": 2}, {\\\\\\\\\\\\\"column\\\\\\\\\\\\\": {\\\\\\\\\\\\\"type\\\\\\\\\\\\\": 2, \\\\\\\\\\\\\"details\\\\\\\\\\\\\": {\\\\\\\\\\\\\"selectedColumn\\\\\\\\\\\\\": \\\\\\\\\\\\\"num_shells\\\\\\\\\\\\\"}}, \\\\\\\\\\\\\"typeProperty\\\\\\\\\\\\\": 2}, {\\\\\\\\\\\\\"column\\\\\\\\\\\\\": {\\\\\\\\\\\\\"type\\\\\\\\\\\\\": 2, \\\\\\\\\\\\\"details\\\\\\\\\\\\\": {\\\\\\\\\\\\\"selectedColumn\\\\\\\\\\\\\": \\\\\\\\\\\\\"num_access_files\\\\\\\\\\\\\"}}, \\\\\\\\\\\\\"typeProperty\\\\\\\\\\\\\": 2}, {\\\\\\\\\\\\\"column\\\\\\\\\\\\\": {\\\\\\\\\\\\\"type\\\\\\\\\\\\\": 2, \\\\\\\\\\\\\"details\\\\\\\\\\\\\": {\\\\\\\\\\\\\"selectedColumn\\\\\\\\\\\\\": \\\\\\\\\\\\\"num_outbound_cmds\\\\\\\\\\\\\"}}, \\\\\\\\\\\\\"typeProperty\\\\\\\\\\\\\": 2}, {\\\\\\\\\\\\\"column\\\\\\\\\\\\\": {\\\\\\\\\\\\\"type\\\\\\\\\\\\\": 2, \\\\\\\\\\\\\"details\\\\\\\\\\\\\": {\\\\\\\\\\\\\"selectedColumn\\\\\\\\\\\\\": \\\\\\\\\\\\\"is_hot_login\\\\\\\\\\\\\"}}, \\\\\\\\\\\\\"typeProperty\\\\\\\\\\\\\": 2}, {\\\\\\\\\\\\\"column\\\\\\\\\\\\\": {\\\\\\\\\\\\\"type\\\\\\\\\\\\\": 2, \\\\\\\\\\\\\"details\\\\\\\\\\\\\": {\\\\\\\\\\\\\"selectedColumn\\\\\\\\\\\\\": \\\\\\\\\\\\\"is_guest_login\\\\\\\\\\\\\"}}, \\\\\\\\\\\\\"typeProperty\\\\\\\\\\\\\": 2}, {\\\\\\\\\\\\\"column\\\\\\\\\\\\\": {\\\\\\\\\\\\\"type\\\\\\\\\\\\\": 2, \\\\\\\\\\\\\"details\\\\\\\\\\\\\": {\\\\\\\\\\\\\"selectedColumn\\\\\\\\\\\\\": \\\\\\\\\\\\\"count\\\\\\\\\\\\\"}}, \\\\\\\\\\\\\"typeProperty\\\\\\\\\\\\\": 2}, {\\\\\\\\\\\\\"column\\\\\\\\\\\\\": {\\\\\\\\\\\\\"type\\\\\\\\\\\\\": 2, \\\\\\\\\\\\\"details\\\\\\\\\\\\\": {\\\\\\\\\\\\\"selectedColumn\\\\\\\\\\\\\": \\\\\\\\\\\\\"srv_count\\\\\\\\\\\\\"}}, \\\\\\\\\\\\\"typeProperty\\\\\\\\\\\\\": 2}, {\\\\\\\\\\\\\"column\\\\\\\\\\\\\": {\\\\\\\\\\\\\"type\\\\\\\\\\\\\": 2, \\\\\\\\\\\\\"details\\\\\\\\\\\\\": {\\\\\\\\\\\\\"selectedColumn\\\\\\\\\\\\\": \\\\\\\\\\\\\"serror_rate\\\\\\\\\\\\\"}}, \\\\\\\\\\\\\"typeProperty\\\\\\\\\\\\\": 3}, {\\\\\\\\\\\\\"column\\\\\\\\\\\\\": {\\\\\\\\\\\\\"type\\\\\\\\\\\\\": 2, \\\\\\\\\\\\\"details\\\\\\\\\\\\\": {\\\\\\\\\\\\\"selectedColumn\\\\\\\\\\\\\": \\\\\\\\\\\\\"srv_serror_rate\\\\\\\\\\\\\"}}, \\\\\\\\\\\\\"typeProperty\\\\\\\\\\\\\": 3}, {\\\\\\\\\\\\\"column\\\\\\\\\\\\\": {\\\\\\\\\\\\\"type\\\\\\\\\\\\\": 2, \\\\\\\\\\\\\"details\\\\\\\\\\\\\": {\\\\\\\\\\\\\"selectedColumn\\\\\\\\\\\\\": \\\\\\\\\\\\\"rerror_rate\\\\\\\\\\\\\"}}, \\\\\\\\\\\\\"typeProperty\\\\\\\\\\\\\": 3}, {\\\\\\\\\\\\\"column\\\\\\\\\\\\\": {\\\\\\\\\\\\\"type\\\\\\\\\\\\\": 2, \\\\\\\\\\\\\"details\\\\\\\\\\\\\": {\\\\\\\\\\\\\"selectedColumn\\\\\\\\\\\\\": \\\\\\\\\\\\\"srv_rerror_rate\\\\\\\\\\\\\"}}, \\\\\\\\\\\\\"typeProperty\\\\\\\\\\\\\": 3}, {\\\\\\\\\\\\\"column\\\\\\\\\\\\\": {\\\\\\\\\\\\\"type\\\\\\\\\\\\\": 2, \\\\\\\\\\\\\"details\\\\\\\\\\\\\": {\\\\\\\\\\\\\"selectedColumn\\\\\\\\\\\\\": \\\\\\\\\\\\\"same_srv_rate\\\\\\\\\\\\\"}}, \\\\\\\\\\\\\"typeProperty\\\\\\\\\\\\\": 3}, {\\\\\\\\\\\\\"column\\\\\\\\\\\\\": {\\\\\\\\\\\\\"type\\\\\\\\\\\\\": 2, \\\\\\\\\\\\\"details\\\\\\\\\\\\\": {\\\\\\\\\\\\\"selectedColumn\\\\\\\\\\\\\": \\\\\\\\\\\\\"diff_srv_rate\\\\\\\\\\\\\"}}, \\\\\\\\\\\\\"typeProperty\\\\\\\\\\\\\": 3}, {\\\\\\\\\\\\\"column\\\\\\\\\\\\\": {\\\\\\\\\\\\\"type\\\\\\\\\\\\\": 2, \\\\\\\\\\\\\"details\\\\\\\\\\\\\": {\\\\\\\\\\\\\"selectedColumn\\\\\\\\\\\\\": \\\\\\\\\\\\\"srv_diff_host_rate\\\\\\\\\\\\\"}}, \\\\\\\\\\\\\"typeProperty\\\\\\\\\\\\\": 3}, {\\\\\\\\\\\\\"column\\\\\\\\\\\\\": {\\\\\\\\\\\\\"type\\\\\\\\\\\\\": 2, \\\\\\\\\\\\\"details\\\\\\\\\\\\\": {\\\\\\\\\\\\\"selectedColumn\\\\\\\\\\\\\": \\\\\\\\\\\\\"dst_host_count\\\\\\\\\\\\\"}}, \\\\\\\\\\\\\"typeProperty\\\\\\\\\\\\\": 2}, {\\\\\\\\\\\\\"column\\\\\\\\\\\\\": {\\\\\\\\\\\\\"type\\\\\\\\\\\\\": 2, \\\\\\\\\\\\\"details\\\\\\\\\\\\\": {\\\\\\\\\\\\\"selectedColumn\\\\\\\\\\\\\": \\\\\\\\\\\\\"dst_host_srv_count\\\\\\\\\\\\\"}}, \\\\\\\\\\\\\"typeProperty\\\\\\\\\\\\\": 2}, {\\\\\\\\\\\\\"column\\\\\\\\\\\\\": {\\\\\\\\\\\\\"type\\\\\\\\\\\\\": 2, \\\\\\\\\\\\\"details\\\\\\\\\\\\\": {\\\\\\\\\\\\\"selectedColumn\\\\\\\\\\\\\": \\\\\\\\\\\\\"dst_host_same_srv_rate\\\\\\\\\\\\\"}}, \\\\\\\\\\\\\"typeProperty\\\\\\\\\\\\\": 3}, {\\\\\\\\\\\\\"column\\\\\\\\\\\\\": {\\\\\\\\\\\\\"type\\\\\\\\\\\\\": 2, \\\\\\\\\\\\\"details\\\\\\\\\\\\\": {\\\\\\\\\\\\\"selectedColumn\\\\\\\\\\\\\": \\\\\\\\\\\\\"dst_host_diff_srv_rate\\\\\\\\\\\\\"}}, \\\\\\\\\\\\\"typeProperty\\\\\\\\\\\\\": 3}, {\\\\\\\\\\\\\"column\\\\\\\\\\\\\": {\\\\\\\\\\\\\"type\\\\\\\\\\\\\": 2, \\\\\\\\\\\\\"details\\\\\\\\\\\\\": {\\\\\\\\\\\\\"selectedColumn\\\\\\\\\\\\\": \\\\\\\\\\\\\"dst_host_same_src_port_rate\\\\\\\\\\\\\"}}, \\\\\\\\\\\\\"typeProperty\\\\\\\\\\\\\": 3}, {\\\\\\\\\\\\\"column\\\\\\\\\\\\\": {\\\\\\\\\\\\\"type\\\\\\\\\\\\\": 2, \\\\\\\\\\\\\"details\\\\\\\\\\\\\": {\\\\\\\\\\\\\"selectedColumn\\\\\\\\\\\\\": \\\\\\\\\\\\\"dst_host_srv_diff_host_rate\\\\\\\\\\\\\"}}, \\\\\\\\\\\\\"typeProperty\\\\\\\\\\\\\": 3}, {\\\\\\\\\\\\\"column\\\\\\\\\\\\\": {\\\\\\\\\\\\\"type\\\\\\\\\\\\\": 2, \\\\\\\\\\\\\"details\\\\\\\\\\\\\": {\\\\\\\\\\\\\"selectedColumn\\\\\\\\\\\\\": \\\\\\\\\\\\\"dst_host_serror_rate\\\\\\\\\\\\\"}}, \\\\\\\\\\\\\"typeProperty\\\\\\\\\\\\\": 3}, {\\\\\\\\\\\\\"column\\\\\\\\\\\\\": {\\\\\\\\\\\\\"type\\\\\\\\\\\\\": 2, \\\\\\\\\\\\\"details\\\\\\\\\\\\\": {\\\\\\\\\\\\\"selectedColumn\\\\\\\\\\\\\": \\\\\\\\\\\\\"dst_host_srv_serror_rate\\\\\\\\\\\\\"}}, \\\\\\\\\\\\\"typeProperty\\\\\\\\\\\\\": 3}, {\\\\\\\\\\\\\"column\\\\\\\\\\\\\": {\\\\\\\\\\\\\"type\\\\\\\\\\\\\": 2, \\\\\\\\\\\\\"details\\\\\\\\\\\\\": {\\\\\\\\\\\\\"selectedColumn\\\\\\\\\\\\\": \\\\\\\\\\\\\"dst_host_rerror_rate\\\\\\\\\\\\\"}}, \\\\\\\\\\\\\"typeProperty\\\\\\\\\\\\\": 3}, {\\\\\\\\\\\\\"column\\\\\\\\\\\\\": {\\\\\\\\\\\\\"type\\\\\\\\\\\\\": 2, \\\\\\\\\\\\\"details\\\\\\\\\\\\\": {\\\\\\\\\\\\\"selectedColumn\\\\\\\\\\\\\": \\\\\\\\\\\\\"dst_host_srv_rerror_rate\\\\\\\\\\\\\"}}, \\\\\\\\\\\\\"typeProperty\\\\\\\\\\\\\": 3}, {\\\\\\\\\\\\\"column\\\\\\\\\\\\\": {\\\\\\\\\\\\\"type\\\\\\\\\\\\\": 2, \\\\\\\\\\\\\"details\\\\\\\\\\\\\": {\\\\\\\\\\\\\"selectedColumn\\\\\\\\\\\\\": \\\\\\\\\\\\\"attack_type\\\\\\\\\\\\\"}}, \\\\\\\\\\\\\"typeProperty\\\\\\\\\\\\\": 2}]}, \\\\\\\\\\\\\"localData\\\\\\\\\\\\\": {}, \\\\\\\\\\\\\"isEnabled\\\\\\\\\\\\\": true, \\\\\\\\\\\\\"name\\\\\\\\\\\\\": null, \\\\\\\\\\\\\"annotation\\\\\\\\\\\\\": null}], \\\\\\\\\\\\\"inspectors\\\\\\\\\\\\\": [], \\\\\\\\\\\\\"meta\\\\\\\\\\\\\": {\\\\\\\\\\\\\"savedDatasetId\\\\\\\\\\\\\": \\\\\\\\\\\\\"652fdbbf-2af0-483b-b866-e4c1a266af5c\\\\\\\\\\\\\", \\\\\\\\\\\\\"datasetType\\\\\\\\\\\\\": \\\\\\\\\\\\\"tabular\\\\\\\\\\\\\", \\\\\\\\\\\\\"subscriptionId\\\\\\\\\\\\\": \\\\\\\\\\\\\"610d6e37-4747-4a20-80eb-3aad70a55f43\\\\\\\\\\\\\", \\\\\\\\\\\\\"workspaceId\\\\\\\\\\\\\": \\\\\\\\\\\\\"1255c964-f867-4262-8ffe-389e6b54a7ca\\\\\\\\\\\\\", \\\\\\\\\\\\\"workspaceLocation\\\\\\\\\\\\\": \\\\\\\\\\\\\"southcentralus\\\\\\\\\\\\\", \\\\\\\\\\\\\"partition_keys\\\\\\\\\\\\\": \\\\\\\\\\\\\"true\\\\\\\\\\\\\"}}\\\\\", \\\\\"activities\\\\\": 0}',\n",
       "  'EnableSubsampling': None,\n",
       "  'runTemplate': 'AutoML',\n",
       "  'azureml.runsource': 'automl',\n",
       "  'display_task_type': 'classification',\n",
       "  'dependencies_versions': '{\"azureml-widgets\": \"1.24.0\", \"azureml-train\": \"1.24.0\", \"azureml-train-restclients-hyperdrive\": \"1.24.0\", \"azureml-train-core\": \"1.24.0\", \"azureml-train-automl\": \"1.24.0\", \"azureml-train-automl-runtime\": \"1.24.0\", \"azureml-train-automl-client\": \"1.24.0\", \"azureml-tensorboard\": \"1.24.0\", \"azureml-telemetry\": \"1.24.0\", \"azureml-sdk\": \"1.24.0\", \"azureml-samples\": \"0+unknown\", \"azureml-pipeline\": \"1.24.0\", \"azureml-pipeline-steps\": \"1.24.0\", \"azureml-pipeline-core\": \"1.24.0\", \"azureml-opendatasets\": \"1.24.0\", \"azureml-model-management-sdk\": \"1.0.1b6.post1\", \"azureml-mlflow\": \"1.24.0\", \"azureml-interpret\": \"1.24.0\", \"azureml-explain-model\": \"1.24.0\", \"azureml-defaults\": \"1.24.0\", \"azureml-dataset-runtime\": \"1.24.0\", \"azureml-dataprep\": \"2.11.1\", \"azureml-dataprep-rslex\": \"1.9.0\", \"azureml-dataprep-native\": \"30.0.0\", \"azureml-datadrift\": \"1.24.0\", \"azureml-core\": \"1.24.0\", \"azureml-contrib-services\": \"1.24.0\", \"azureml-contrib-server\": \"1.24.0\", \"azureml-contrib-reinforcementlearning\": \"1.24.0\", \"azureml-contrib-pipeline-steps\": \"1.24.0\", \"azureml-contrib-notebook\": \"1.24.0\", \"azureml-contrib-gbdt\": \"1.24.0\", \"azureml-contrib-fairness\": \"1.24.0\", \"azureml-contrib-dataset\": \"1.24.0\", \"azureml-cli-common\": \"1.24.0\", \"azureml-automl-runtime\": \"1.24.0\", \"azureml-automl-dnn-nlp\": \"1.24.0\", \"azureml-automl-core\": \"1.24.0\", \"azureml-accel-models\": \"1.24.0\"}',\n",
       "  '_aml_system_scenario_identification': 'Remote.Parent',\n",
       "  'ClientType': 'SDK',\n",
       "  'environment_cpu_name': 'AzureML-AutoML',\n",
       "  'environment_cpu_label': 'prod',\n",
       "  'environment_gpu_name': 'AzureML-AutoML-GPU',\n",
       "  'environment_gpu_label': 'prod',\n",
       "  'root_attribution': 'automl',\n",
       "  'attribution': 'AutoML',\n",
       "  'Orchestrator': 'AutoML',\n",
       "  'CancelUri': 'https://southcentralus.experiments.azureml.net/jasmine/v1.0/subscriptions/610d6e37-4747-4a20-80eb-3aad70a55f43/resourceGroups/aml-quickstarts-142286/providers/Microsoft.MachineLearningServices/workspaces/quick-starts-ws-142286/experimentids/adbeee2f-1a86-4815-961c-d8fdb14c2634/cancel/AutoML_52d729eb-4c12-42fb-b93b-125aa69b16fc',\n",
       "  'ClientSdkVersion': '1.25.0',\n",
       "  'snapshotId': '00000000-0000-0000-0000-000000000000',\n",
       "  'SetupRunId': 'AutoML_52d729eb-4c12-42fb-b93b-125aa69b16fc_setup',\n",
       "  'SetupRunContainerId': 'dcid.AutoML_52d729eb-4c12-42fb-b93b-125aa69b16fc_setup',\n",
       "  'FeaturizationRunJsonPath': 'featurizer_container.json',\n",
       "  'FeaturizationRunId': 'AutoML_52d729eb-4c12-42fb-b93b-125aa69b16fc_featurize',\n",
       "  'ProblemInfoJsonString': '{\"dataset_num_categorical\": 0, \"is_sparse\": true, \"subsampling\": false, \"dataset_classes\": 2, \"dataset_features\": 206, \"dataset_samples\": 125972, \"single_frequency_class_detected\": false}',\n",
       "  'ModelExplainRunId': 'AutoML_52d729eb-4c12-42fb-b93b-125aa69b16fc_ModelExplain',\n",
       "  'azureml.git.repository_uri': 'https://github.com/venkataravikumaralladi/AzureMLCapstoneProject.git',\n",
       "  'mlflow.source.git.repoURL': 'https://github.com/venkataravikumaralladi/AzureMLCapstoneProject.git',\n",
       "  'azureml.git.branch': 'main',\n",
       "  'mlflow.source.git.branch': 'main',\n",
       "  'azureml.git.commit': '3b24f73d8ce0e770740677bd69757269a3a8cd14',\n",
       "  'mlflow.source.git.commit': '3b24f73d8ce0e770740677bd69757269a3a8cd14',\n",
       "  'azureml.git.dirty': 'True'},\n",
       " 'inputDatasets': [{'dataset': {'id': '652fdbbf-2af0-483b-b866-e4c1a266af5c'}, 'consumptionDetails': {'type': 'RunInput', 'inputName': 'training_data', 'mechanism': 'Direct'}}],\n",
       " 'outputDatasets': [],\n",
       " 'logFiles': {},\n",
       " 'submittedBy': 'ODL_User 142286'}"
      ]
     },
     "execution_count": 22,
     "metadata": {},
     "output_type": "execute_result"
    }
   ],
   "source": [
    "automl_ids_run.wait_for_completion()"
   ]
  },
  {
   "cell_type": "code",
   "execution_count": 23,
   "metadata": {},
   "outputs": [],
   "source": [
    "assert(automl_ids_run.get_status() == \"Completed\")"
   ]
  },
  {
   "cell_type": "markdown",
   "metadata": {},
   "source": [
    "## Best Model\n",
    "\n",
    "TODO: In the cell below, get the best model from the automl experiments and display all the properties of the model.\n",
    "\n"
   ]
  },
  {
   "cell_type": "code",
   "execution_count": 24,
   "metadata": {
    "gather": {
     "logged": 1598431425670
    },
    "jupyter": {
     "outputs_hidden": false,
     "source_hidden": false
    },
    "nteract": {
     "transient": {
      "deleting": false
     }
    }
   },
   "outputs": [
    {
     "name": "stderr",
     "output_type": "stream",
     "text": [
      "WARNING:root:The version of the SDK does not match the version the model was trained on.\n",
      "WARNING:root:The consistency in the result may not be guaranteed.\n",
      "WARNING:root:Package:azureml-automl-core, training version:1.25.0, current version:1.24.0\n",
      "Package:azureml-automl-runtime, training version:1.25.0, current version:1.24.0\n",
      "Package:azureml-core, training version:1.25.0, current version:1.24.0\n",
      "Package:azureml-dataset-runtime, training version:1.25.0, current version:1.24.0\n",
      "Package:azureml-defaults, training version:1.25.0, current version:1.24.0\n",
      "Package:azureml-interpret, training version:1.25.0, current version:1.24.0\n",
      "Package:azureml-mlflow, training version:1.25.0, current version:1.24.0\n",
      "Package:azureml-pipeline-core, training version:1.25.0, current version:1.24.0\n",
      "Package:azureml-telemetry, training version:1.25.0, current version:1.24.0\n",
      "Package:azureml-train-automl-client, training version:1.25.0, current version:1.24.0\n",
      "Package:azureml-train-automl-runtime, training version:1.25.0, current version:1.24.0\n",
      "WARNING:root:Please ensure the version of your local conda dependencies match the version on which your model was trained in order to properly retrieve your model.\n"
     ]
    }
   ],
   "source": [
    "# Retrieve and save your best automl model.\n",
    "best_auto_run, best_fitted_model = automl_ids_run.get_output()"
   ]
  },
  {
   "cell_type": "code",
   "execution_count": 26,
   "metadata": {
    "gather": {
     "logged": 1598431426111
    },
    "jupyter": {
     "outputs_hidden": false,
     "source_hidden": false
    },
    "nteract": {
     "transient": {
      "deleting": false
     }
    }
   },
   "outputs": [
    {
     "data": {
      "text/plain": [
       "StackEnsembleClassifier(base_learners=[('0',\n",
       "                                        Pipeline(memory=None,\n",
       "                                                 steps=[('maxabsscaler',\n",
       "                                                         MaxAbsScaler(copy=True)),\n",
       "                                                        ('lightgbmclassifier',\n",
       "                                                         LightGBMClassifier(boosting_type='gbdt',\n",
       "                                                                            class_weight=None,\n",
       "                                                                            colsample_bytree=1.0,\n",
       "                                                                            importance_type='split',\n",
       "                                                                            learning_rate=0.1,\n",
       "                                                                            max_depth=-1,\n",
       "                                                                            min_child_samples=20,\n",
       "                                                                            min_child_weight=0.001,\n",
       "                                                                            min_split_gain=0.0,\n",
       "                                                                            n_estimators=100,\n",
       "                                                                            n...\n",
       "                        meta_learner=LogisticRegressionCV(Cs=10,\n",
       "                                                          class_weight=None,\n",
       "                                                          cv=None, dual=False,\n",
       "                                                          fit_intercept=True,\n",
       "                                                          intercept_scaling=1.0,\n",
       "                                                          l1_ratios=None,\n",
       "                                                          max_iter=100,\n",
       "                                                          multi_class='auto',\n",
       "                                                          n_jobs=None,\n",
       "                                                          penalty='l2',\n",
       "                                                          random_state=None,\n",
       "                                                          refit=True,\n",
       "                                                          scoring=<azureml.automl.runtime.stack_ensemble_base.Scorer object at 0x7f0a9791d2b0>,\n",
       "                                                          solver='lbfgs',\n",
       "                                                          tol=0.0001,\n",
       "                                                          verbose=0),\n",
       "                        training_cv_folds=5)"
      ]
     },
     "execution_count": 26,
     "metadata": {},
     "output_type": "execute_result"
    }
   ],
   "source": [
    "#TODO: Save the best model\n",
    "best_fitted_model._final_estimator\n"
   ]
  },
  {
   "cell_type": "markdown",
   "metadata": {},
   "source": [
    "## Model Deployment\n",
    "\n",
    "Remember you have to deploy only one of the two models you trained.. Perform the steps in the rest of this notebook only if you wish to deploy this model.\n",
    "\n",
    "TODO: In the cell below, register the model, create an inference config and deploy the model as a web service."
   ]
  },
  {
   "cell_type": "code",
   "execution_count": 27,
   "metadata": {
    "gather": {
     "logged": 1598431435189
    },
    "jupyter": {
     "outputs_hidden": false,
     "source_hidden": false
    },
    "nteract": {
     "transient": {
      "deleting": false
     }
    }
   },
   "outputs": [],
   "source": [
    "ids_auto_mdl = best_auto_run.register_model(model_name='vrk_ids_auto1_mdl', model_path='./outputs')"
   ]
  },
  {
   "cell_type": "markdown",
   "metadata": {
    "collapsed": true,
    "gather": {
     "logged": 1598431657736
    },
    "jupyter": {
     "outputs_hidden": false,
     "source_hidden": false
    },
    "nteract": {
     "transient": {
      "deleting": false
     }
    }
   },
   "source": [
    "TODO: In the cell below, send a request to the web service you deployed to test it."
   ]
  },
  {
   "cell_type": "code",
   "execution_count": 28,
   "metadata": {
    "gather": {
     "logged": 1598432707604
    },
    "jupyter": {
     "outputs_hidden": false,
     "source_hidden": false
    },
    "nteract": {
     "transient": {
      "deleting": false
     }
    }
   },
   "outputs": [],
   "source": [
    "autoscore_file = 'inference/autoscore.py'\n",
    "best_auto_run.download_file('outputs/scoring_file_v_1_0_0.py', 'inference/autoscore.py' )"
   ]
  },
  {
   "cell_type": "markdown",
   "metadata": {
    "collapsed": true,
    "gather": {
     "logged": 1598432765711
    },
    "jupyter": {
     "outputs_hidden": false,
     "source_hidden": false
    },
    "nteract": {
     "transient": {
      "deleting": false
     }
    }
   },
   "source": [
    "TODO: In the cell below, print the logs of the web service and delete the service"
   ]
  },
  {
   "cell_type": "code",
   "execution_count": 29,
   "metadata": {
    "jupyter": {
     "outputs_hidden": false,
     "source_hidden": false
    },
    "nteract": {
     "transient": {
      "deleting": false
     }
    }
   },
   "outputs": [
    {
     "data": {
      "text/plain": [
       "'AutoML52d729eb418'"
      ]
     },
     "execution_count": 29,
     "metadata": {},
     "output_type": "execute_result"
    }
   ],
   "source": [
    "model_name = best_auto_run.properties['model_name']\n",
    "model_name"
   ]
  },
  {
   "cell_type": "code",
   "execution_count": 37,
   "metadata": {},
   "outputs": [
    {
     "name": "stdout",
     "output_type": "stream",
     "text": [
      "Tips: You can try get_logs(): https://aka.ms/debugimage#dockerlog or local deployment: https://aka.ms/debugimage#debug-locally to debug if deployment takes longer than 10 minutes.\n",
      "Running\n",
      "2021-04-09 11:56:38+00:00 Creating Container Registry if not exists.\n",
      "2021-04-09 11:56:39+00:00 Registering the environment.\n",
      "2021-04-09 11:56:40+00:00 Use the existing image.\n",
      "2021-04-09 11:56:40+00:00 Generating deployment configuration.\n",
      "2021-04-09 11:56:42+00:00 Submitting deployment to compute..\n",
      "2021-04-09 11:56:45+00:00 Checking the status of deployment vrk-auto-ids..\n",
      "2021-04-09 12:01:21+00:00 Checking the status of inference endpoint vrk-auto-ids.\n",
      "Succeeded\n",
      "ACI service creation operation finished, operation \"Succeeded\"\n",
      "Healthy\n",
      "http://2812921d-4655-43a9-8e6f-cb44cb78786a.southcentralus.azurecontainer.io/score\n",
      "http://2812921d-4655-43a9-8e6f-cb44cb78786a.southcentralus.azurecontainer.io/swagger.json\n"
     ]
    }
   ],
   "source": [
    "from azureml.core.environment import Environment\n",
    "from azureml.core.model import InferenceConfig\n",
    "from azureml.core.webservice import Webservice, AciWebservice\n",
    "from azureml.core.model import Model\n",
    "\n",
    "\n",
    "\n",
    "inference_config = InferenceConfig(entry_script=autoscore_file, environment=best_auto_run.get_environment())\n",
    "\n",
    "deployment_config = AciWebservice.deploy_configuration(cpu_cores=1, memory_gb=4, enable_app_insights=True)\n",
    "\n",
    "networkd_ids_service = Model.deploy(vrk_auto_ids_ws, 'vrk-auto-ids', [ids_auto_mdl], inference_config, deployment_config)\n",
    "networkd_ids_service.wait_for_deployment(show_output = True)\n",
    "\n",
    "print(networkd_ids_service.state)\n",
    "print(networkd_ids_service.scoring_uri)\n",
    "print(networkd_ids_service.swagger_uri)"
   ]
  },
  {
   "cell_type": "code",
   "execution_count": 38,
   "metadata": {},
   "outputs": [
    {
     "name": "stdout",
     "output_type": "stream",
     "text": [
      "Response Code :  200\n",
      "Predicted Value :  {\"error\": \"DataException:\\n\\tMessage: The number of features in [fitted data](42) does not match with those in [input data](41). Please inspect your data, and make sure that features are aligned in both the Datasets.\\n\\tInnerException: None\\n\\tErrorResponse \\n{\\n    \\\"error\\\": {\\n        \\\"code\\\": \\\"UserError\\\",\\n        \\\"message\\\": \\\"The number of features in [fitted data](42) does not match with those in [input data](41). Please inspect your data, and make sure that features are aligned in both the Datasets.\\\",\\n        \\\"target\\\": \\\"X\\\",\\n        \\\"inner_error\\\": {\\n            \\\"code\\\": \\\"BadData\\\",\\n            \\\"inner_error\\\": {\\n                \\\"code\\\": \\\"InvalidDimension\\\",\\n                \\\"inner_error\\\": {\\n                    \\\"code\\\": \\\"DataShapeMismatch\\\"\\n                }\\n            }\\n        },\\n        \\\"reference_code\\\": \\\"c402b6c2-3870-45a7-8745-c063bd385962\\\"\\n    }\\n}\"}\n"
     ]
    }
   ],
   "source": [
    "import requests\n",
    "import json\n",
    "\n",
    "# URL for the web service\n",
    "scoring_uri = 'http://2812921d-4655-43a9-8e6f-cb44cb78786a.southcentralus.azurecontainer.io/score'\n",
    "\n",
    "# Set the content type\n",
    "headers = {'Content-Type': 'application/json'}\n",
    "\n",
    "# Two sets of data to score, so we get two results back\n",
    "data = {\"data\":\n",
    "        [{\n",
    "            \"duration\": 0,\n",
    "            \"protocol_type\": \"tcp\",\n",
    "            \"service\": \"http\",\n",
    "            \"flag\": \"REJ\",\n",
    "            \"src_bytes\": 0,\n",
    "            \"dst_bytes\": 0,\n",
    "            \"land\": 0,\n",
    "            \"wrong_fragment\": 0,\n",
    "            \"urgent\": 0,\n",
    "            \"hot\": 0,\n",
    "            \"num_failed_logins\": 0,\n",
    "            \"logged_in\": 0,\n",
    "            \"num_compromised\": 0,\n",
    "            \"root_shell\": 0,\n",
    "            \"su_attempted\": 0,\n",
    "            \"num_root\": 0,\n",
    "            \"num_file_creations\": 0,\n",
    "            \"num_shells\": 0,\n",
    "            \"num_access_files\": 0,\n",
    "            \"num_outbound_cmds\": 0,\n",
    "            \"is_hot_login\": 0,\n",
    "            \"is_guest_login\": 0,\n",
    "            \"count\": 0,\n",
    "            \"srv_count\": 0,\n",
    "            \"serror_rate\": 0,\n",
    "            \"srv_serror_rate\": 0,\n",
    "            \"rerror_rate\": 0,\n",
    "            \"srv_rerror_rate\": 0,\n",
    "            \"same_srv_rate\": 0,\n",
    "            \"diff_srv_rate\": 0,\n",
    "            \"srv_diff_host_rate\": 0,\n",
    "            \"dst_host_count\": 0,\n",
    "            \"dst_host_srv_count\": 0,\n",
    "            \"dst_host_same_srv_rate\": 0,\n",
    "            \"dst_host_diff_srv_rate\": 0,\n",
    "            \"dst_host_same_src_port_rate\": 0,\n",
    "            \"dst_host_srv_diff_host_rate\": 0,\n",
    "            \"dst_host_serror_rate\": 0,\n",
    "            \"dst_host_srv_serror_rate\": 0,\n",
    "            \"dst_host_rerror_rate\": 0,\n",
    "            \"dst_host_srv_rerror_rate\": 0 }\n",
    "        ]\n",
    "    }\n",
    "# Convert to JSON string\n",
    "input_data = json.dumps(data)\n",
    "\n",
    "# Make the request and display the response\n",
    "resp = requests.post(scoring_uri, input_data, headers=headers)\n",
    "\n",
    "print(\"Response Code : \", resp.status_code)\n",
    "print(\"Predicted Value : \",resp.json())"
   ]
  },
  {
   "cell_type": "code",
   "execution_count": 40,
   "metadata": {},
   "outputs": [
    {
     "data": {
      "text/plain": [
       "['best_fit_automm_ids.pkl']"
      ]
     },
     "execution_count": 40,
     "metadata": {},
     "output_type": "execute_result"
    }
   ],
   "source": [
    "import joblib\n",
    "#TODO: Save the best model\n",
    "joblib.dump(best_fitted_model, 'best_fit_automm_ids.pkl')"
   ]
  },
  {
   "cell_type": "code",
   "execution_count": 42,
   "metadata": {},
   "outputs": [],
   "source": [
    "best_ids_auto_model = joblib.load('best_fit_automm_ids.pkl')"
   ]
  },
  {
   "cell_type": "code",
   "execution_count": 46,
   "metadata": {},
   "outputs": [
    {
     "name": "stdout",
     "output_type": "stream",
     "text": [
      "data     duration protocol_type service flag  src_bytes  dst_bytes  land  \\\n",
      "0         0           tcp    http  REJ          0          0     0   \n",
      "\n",
      "   wrong_fragment  urgent  hot  ...  dst_host_count  dst_host_srv_count  \\\n",
      "0               0       0    0  ...               0                   0   \n",
      "\n",
      "   dst_host_same_srv_rate  dst_host_diff_srv_rate  \\\n",
      "0                       0                       0   \n",
      "\n",
      "   dst_host_same_src_port_rate  dst_host_srv_diff_host_rate  \\\n",
      "0                            0                            0   \n",
      "\n",
      "   dst_host_serror_rate  dst_host_srv_serror_rate  dst_host_rerror_rate  \\\n",
      "0                     0                         0                     0   \n",
      "\n",
      "   dst_host_srv_rerror_rate  \n",
      "0                         0  \n",
      "\n",
      "[1 rows x 41 columns]\n"
     ]
    },
    {
     "ename": "DataException",
     "evalue": "DataException:\n\tMessage: The number of features in [fitted data](42) does not match with those in [input data](41). Please inspect your data, and make sure that features are aligned in both the Datasets.\n\tInnerException: None\n\tErrorResponse \n{\n    \"error\": {\n        \"code\": \"UserError\",\n        \"message\": \"The number of features in [fitted data](42) does not match with those in [input data](41). Please inspect your data, and make sure that features are aligned in both the Datasets.\",\n        \"target\": \"X\",\n        \"inner_error\": {\n            \"code\": \"BadData\",\n            \"inner_error\": {\n                \"code\": \"InvalidDimension\",\n                \"inner_error\": {\n                    \"code\": \"DataShapeMismatch\"\n                }\n            }\n        },\n        \"reference_code\": \"c402b6c2-3870-45a7-8745-c063bd385962\"\n    }\n}",
     "output_type": "error",
     "traceback": [
      "\u001b[0;31m---------------------------------------------------------------------------\u001b[0m",
      "\u001b[0;31mDataException\u001b[0m                             Traceback (most recent call last)",
      "\u001b[0;32m<ipython-input-46-0fe57bb71512>\u001b[0m in \u001b[0;36m<module>\u001b[0;34m\u001b[0m\n\u001b[1;32m      3\u001b[0m \u001b[0mdata_df\u001b[0m \u001b[0;34m=\u001b[0m \u001b[0mpd\u001b[0m\u001b[0;34m.\u001b[0m\u001b[0mDataFrame\u001b[0m\u001b[0;34m(\u001b[0m\u001b[0mtemp\u001b[0m\u001b[0;34m[\u001b[0m\u001b[0;34m'data'\u001b[0m\u001b[0;34m]\u001b[0m\u001b[0;34m)\u001b[0m\u001b[0;34m\u001b[0m\u001b[0;34m\u001b[0m\u001b[0m\n\u001b[1;32m      4\u001b[0m \u001b[0mprint\u001b[0m\u001b[0;34m(\u001b[0m\u001b[0;34m\"data \"\u001b[0m\u001b[0;34m,\u001b[0m \u001b[0mdata_df\u001b[0m\u001b[0;34m)\u001b[0m\u001b[0;34m\u001b[0m\u001b[0;34m\u001b[0m\u001b[0m\n\u001b[0;32m----> 5\u001b[0;31m \u001b[0mbest_ids_auto_model\u001b[0m\u001b[0;34m.\u001b[0m\u001b[0mpredict\u001b[0m\u001b[0;34m(\u001b[0m\u001b[0mdata_df\u001b[0m\u001b[0;34m)\u001b[0m\u001b[0;34m\u001b[0m\u001b[0;34m\u001b[0m\u001b[0m\n\u001b[0m",
      "\u001b[0;32m/anaconda/envs/azureml_py36/lib/python3.6/site-packages/sklearn/utils/metaestimators.py\u001b[0m in \u001b[0;36m<lambda>\u001b[0;34m(*args, **kwargs)\u001b[0m\n\u001b[1;32m    114\u001b[0m \u001b[0;34m\u001b[0m\u001b[0m\n\u001b[1;32m    115\u001b[0m         \u001b[0;31m# lambda, but not partial, allows help() to work with update_wrapper\u001b[0m\u001b[0;34m\u001b[0m\u001b[0;34m\u001b[0m\u001b[0;34m\u001b[0m\u001b[0m\n\u001b[0;32m--> 116\u001b[0;31m         \u001b[0mout\u001b[0m \u001b[0;34m=\u001b[0m \u001b[0;32mlambda\u001b[0m \u001b[0;34m*\u001b[0m\u001b[0margs\u001b[0m\u001b[0;34m,\u001b[0m \u001b[0;34m**\u001b[0m\u001b[0mkwargs\u001b[0m\u001b[0;34m:\u001b[0m \u001b[0mself\u001b[0m\u001b[0;34m.\u001b[0m\u001b[0mfn\u001b[0m\u001b[0;34m(\u001b[0m\u001b[0mobj\u001b[0m\u001b[0;34m,\u001b[0m \u001b[0;34m*\u001b[0m\u001b[0margs\u001b[0m\u001b[0;34m,\u001b[0m \u001b[0;34m**\u001b[0m\u001b[0mkwargs\u001b[0m\u001b[0;34m)\u001b[0m\u001b[0;34m\u001b[0m\u001b[0;34m\u001b[0m\u001b[0m\n\u001b[0m\u001b[1;32m    117\u001b[0m         \u001b[0;31m# update the docstring of the returned function\u001b[0m\u001b[0;34m\u001b[0m\u001b[0;34m\u001b[0m\u001b[0;34m\u001b[0m\u001b[0m\n\u001b[1;32m    118\u001b[0m         \u001b[0mupdate_wrapper\u001b[0m\u001b[0;34m(\u001b[0m\u001b[0mout\u001b[0m\u001b[0;34m,\u001b[0m \u001b[0mself\u001b[0m\u001b[0;34m.\u001b[0m\u001b[0mfn\u001b[0m\u001b[0;34m)\u001b[0m\u001b[0;34m\u001b[0m\u001b[0;34m\u001b[0m\u001b[0m\n",
      "\u001b[0;32m/anaconda/envs/azureml_py36/lib/python3.6/site-packages/sklearn/pipeline.py\u001b[0m in \u001b[0;36mpredict\u001b[0;34m(self, X, **predict_params)\u001b[0m\n\u001b[1;32m    417\u001b[0m         \u001b[0mXt\u001b[0m \u001b[0;34m=\u001b[0m \u001b[0mX\u001b[0m\u001b[0;34m\u001b[0m\u001b[0;34m\u001b[0m\u001b[0m\n\u001b[1;32m    418\u001b[0m         \u001b[0;32mfor\u001b[0m \u001b[0m_\u001b[0m\u001b[0;34m,\u001b[0m \u001b[0mname\u001b[0m\u001b[0;34m,\u001b[0m \u001b[0mtransform\u001b[0m \u001b[0;32min\u001b[0m \u001b[0mself\u001b[0m\u001b[0;34m.\u001b[0m\u001b[0m_iter\u001b[0m\u001b[0;34m(\u001b[0m\u001b[0mwith_final\u001b[0m\u001b[0;34m=\u001b[0m\u001b[0;32mFalse\u001b[0m\u001b[0;34m)\u001b[0m\u001b[0;34m:\u001b[0m\u001b[0;34m\u001b[0m\u001b[0;34m\u001b[0m\u001b[0m\n\u001b[0;32m--> 419\u001b[0;31m             \u001b[0mXt\u001b[0m \u001b[0;34m=\u001b[0m \u001b[0mtransform\u001b[0m\u001b[0;34m.\u001b[0m\u001b[0mtransform\u001b[0m\u001b[0;34m(\u001b[0m\u001b[0mXt\u001b[0m\u001b[0;34m)\u001b[0m\u001b[0;34m\u001b[0m\u001b[0;34m\u001b[0m\u001b[0m\n\u001b[0m\u001b[1;32m    420\u001b[0m         \u001b[0;32mreturn\u001b[0m \u001b[0mself\u001b[0m\u001b[0;34m.\u001b[0m\u001b[0msteps\u001b[0m\u001b[0;34m[\u001b[0m\u001b[0;34m-\u001b[0m\u001b[0;36m1\u001b[0m\u001b[0;34m]\u001b[0m\u001b[0;34m[\u001b[0m\u001b[0;34m-\u001b[0m\u001b[0;36m1\u001b[0m\u001b[0;34m]\u001b[0m\u001b[0;34m.\u001b[0m\u001b[0mpredict\u001b[0m\u001b[0;34m(\u001b[0m\u001b[0mXt\u001b[0m\u001b[0;34m,\u001b[0m \u001b[0;34m**\u001b[0m\u001b[0mpredict_params\u001b[0m\u001b[0;34m)\u001b[0m\u001b[0;34m\u001b[0m\u001b[0;34m\u001b[0m\u001b[0m\n\u001b[1;32m    421\u001b[0m \u001b[0;34m\u001b[0m\u001b[0m\n",
      "\u001b[0;32m/anaconda/envs/azureml_py36/lib/python3.6/site-packages/azureml/automl/core/shared/logging_utilities.py\u001b[0m in \u001b[0;36mdebug_log_wrapped\u001b[0;34m(self, *args, **kwargs)\u001b[0m\n\u001b[1;32m    299\u001b[0m         \u001b[0;32mdef\u001b[0m \u001b[0mdebug_log_wrapped\u001b[0m\u001b[0;34m(\u001b[0m\u001b[0mself\u001b[0m\u001b[0;34m:\u001b[0m \u001b[0mAny\u001b[0m\u001b[0;34m,\u001b[0m \u001b[0;34m*\u001b[0m\u001b[0margs\u001b[0m\u001b[0;34m:\u001b[0m \u001b[0mAny\u001b[0m\u001b[0;34m,\u001b[0m \u001b[0;34m**\u001b[0m\u001b[0mkwargs\u001b[0m\u001b[0;34m:\u001b[0m \u001b[0mAny\u001b[0m\u001b[0;34m)\u001b[0m \u001b[0;34m->\u001b[0m \u001b[0mAny\u001b[0m\u001b[0;34m:\u001b[0m\u001b[0;34m\u001b[0m\u001b[0;34m\u001b[0m\u001b[0m\n\u001b[1;32m    300\u001b[0m             \u001b[0mself\u001b[0m\u001b[0;34m.\u001b[0m\u001b[0m_logger_wrapper\u001b[0m\u001b[0;34m(\u001b[0m\u001b[0mlog_level\u001b[0m\u001b[0;34m,\u001b[0m \u001b[0;34m\"Starting {} operation of {}.\"\u001b[0m\u001b[0;34m.\u001b[0m\u001b[0mformat\u001b[0m\u001b[0;34m(\u001b[0m\u001b[0mf\u001b[0m\u001b[0;34m.\u001b[0m\u001b[0m__name__\u001b[0m\u001b[0;34m,\u001b[0m \u001b[0mself\u001b[0m\u001b[0;34m.\u001b[0m\u001b[0m__class__\u001b[0m\u001b[0;34m.\u001b[0m\u001b[0m__name__\u001b[0m\u001b[0;34m)\u001b[0m\u001b[0;34m)\u001b[0m\u001b[0;34m\u001b[0m\u001b[0;34m\u001b[0m\u001b[0m\n\u001b[0;32m--> 301\u001b[0;31m             \u001b[0mr\u001b[0m \u001b[0;34m=\u001b[0m \u001b[0mf\u001b[0m\u001b[0;34m(\u001b[0m\u001b[0mself\u001b[0m\u001b[0;34m,\u001b[0m \u001b[0;34m*\u001b[0m\u001b[0margs\u001b[0m\u001b[0;34m,\u001b[0m \u001b[0;34m**\u001b[0m\u001b[0mkwargs\u001b[0m\u001b[0;34m)\u001b[0m\u001b[0;34m\u001b[0m\u001b[0;34m\u001b[0m\u001b[0m\n\u001b[0m\u001b[1;32m    302\u001b[0m             \u001b[0mself\u001b[0m\u001b[0;34m.\u001b[0m\u001b[0m_logger_wrapper\u001b[0m\u001b[0;34m(\u001b[0m\u001b[0mlog_level\u001b[0m\u001b[0;34m,\u001b[0m \u001b[0;34m\"{} {} operation complete.\"\u001b[0m\u001b[0;34m.\u001b[0m\u001b[0mformat\u001b[0m\u001b[0;34m(\u001b[0m\u001b[0mself\u001b[0m\u001b[0;34m.\u001b[0m\u001b[0m__class__\u001b[0m\u001b[0;34m.\u001b[0m\u001b[0m__name__\u001b[0m\u001b[0;34m,\u001b[0m \u001b[0mf\u001b[0m\u001b[0;34m.\u001b[0m\u001b[0m__name__\u001b[0m\u001b[0;34m)\u001b[0m\u001b[0;34m)\u001b[0m\u001b[0;34m\u001b[0m\u001b[0;34m\u001b[0m\u001b[0m\n\u001b[1;32m    303\u001b[0m             \u001b[0;32mreturn\u001b[0m \u001b[0mr\u001b[0m\u001b[0;34m\u001b[0m\u001b[0;34m\u001b[0m\u001b[0m\n",
      "\u001b[0;32m/anaconda/envs/azureml_py36/lib/python3.6/site-packages/azureml/automl/runtime/featurization/data_transformer.py\u001b[0m in \u001b[0;36mtransform\u001b[0;34m(self, df)\u001b[0m\n\u001b[1;32m    396\u001b[0m         \u001b[0;32mif\u001b[0m \u001b[0mself\u001b[0m\u001b[0;34m.\u001b[0m\u001b[0m_columns_types_mapping\u001b[0m \u001b[0;32mis\u001b[0m \u001b[0;32mnot\u001b[0m \u001b[0;32mNone\u001b[0m\u001b[0;34m:\u001b[0m\u001b[0;34m\u001b[0m\u001b[0;34m\u001b[0m\u001b[0m\n\u001b[1;32m    397\u001b[0m             df = self._check_columns_names_and_convert_types(\n\u001b[0;32m--> 398\u001b[0;31m                 \u001b[0mdf\u001b[0m\u001b[0;34m,\u001b[0m \u001b[0mself\u001b[0m\u001b[0;34m.\u001b[0m\u001b[0m_columns_types_mapping\u001b[0m\u001b[0;34m\u001b[0m\u001b[0;34m\u001b[0m\u001b[0m\n\u001b[0m\u001b[1;32m    399\u001b[0m             )\n\u001b[1;32m    400\u001b[0m \u001b[0;34m\u001b[0m\u001b[0m\n",
      "\u001b[0;32m/anaconda/envs/azureml_py36/lib/python3.6/site-packages/azureml/automl/runtime/featurization/data_transformer.py\u001b[0m in \u001b[0;36m_check_columns_names_and_convert_types\u001b[0;34m(df, columns_types_mapping)\u001b[0m\n\u001b[1;32m    674\u001b[0m                     \u001b[0msecond_dataset_name\u001b[0m\u001b[0;34m=\u001b[0m\u001b[0;34m\"input data\"\u001b[0m\u001b[0;34m,\u001b[0m\u001b[0;34m\u001b[0m\u001b[0;34m\u001b[0m\u001b[0m\n\u001b[1;32m    675\u001b[0m                     \u001b[0msecond_dataset_shape\u001b[0m\u001b[0;34m=\u001b[0m\u001b[0mlen\u001b[0m\u001b[0;34m(\u001b[0m\u001b[0mcurr_columns_types_mapping\u001b[0m\u001b[0;34m)\u001b[0m\u001b[0;34m,\u001b[0m\u001b[0;34m\u001b[0m\u001b[0;34m\u001b[0m\u001b[0m\n\u001b[0;32m--> 676\u001b[0;31m                     \u001b[0mreference_code\u001b[0m\u001b[0;34m=\u001b[0m\u001b[0mReferenceCodes\u001b[0m\u001b[0;34m.\u001b[0m\u001b[0m_DATA_TRANSFORMER_TRANSFROM_WRONG_COLUMN\u001b[0m\u001b[0;34m,\u001b[0m\u001b[0;34m\u001b[0m\u001b[0;34m\u001b[0m\u001b[0m\n\u001b[0m\u001b[1;32m    677\u001b[0m                 )\n\u001b[1;32m    678\u001b[0m             )\n",
      "\u001b[0;31mDataException\u001b[0m: DataException:\n\tMessage: The number of features in [fitted data](42) does not match with those in [input data](41). Please inspect your data, and make sure that features are aligned in both the Datasets.\n\tInnerException: None\n\tErrorResponse \n{\n    \"error\": {\n        \"code\": \"UserError\",\n        \"message\": \"The number of features in [fitted data](42) does not match with those in [input data](41). Please inspect your data, and make sure that features are aligned in both the Datasets.\",\n        \"target\": \"X\",\n        \"inner_error\": {\n            \"code\": \"BadData\",\n            \"inner_error\": {\n                \"code\": \"InvalidDimension\",\n                \"inner_error\": {\n                    \"code\": \"DataShapeMismatch\"\n                }\n            }\n        },\n        \"reference_code\": \"c402b6c2-3870-45a7-8745-c063bd385962\"\n    }\n}"
     ]
    }
   ],
   "source": [
    "import pandas as pd\n",
    "temp = json.loads(input_data)\n",
    "data_df = pd.DataFrame(temp['data'])\n",
    "print(\"data \", data_df)\n",
    "best_ids_auto_model.predict(data_df)"
   ]
  },
  {
   "cell_type": "code",
   "execution_count": null,
   "metadata": {},
   "outputs": [],
   "source": []
  }
 ],
 "metadata": {
  "kernel_info": {
   "name": "python3-azureml"
  },
  "kernelspec": {
   "display_name": "Python 3",
   "language": "python",
   "name": "python3"
  },
  "language_info": {
   "codemirror_mode": {
    "name": "ipython",
    "version": 3
   },
   "file_extension": ".py",
   "mimetype": "text/x-python",
   "name": "python",
   "nbconvert_exporter": "python",
   "pygments_lexer": "ipython3",
   "version": "3.6.9"
  },
  "nteract": {
   "version": "nteract-front-end@1.0.0"
  }
 },
 "nbformat": 4,
 "nbformat_minor": 2
}
