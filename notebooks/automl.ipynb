{
 "cells": [
  {
   "cell_type": "code",
   "execution_count": null,
   "metadata": {},
   "outputs": [],
   "source": [
    "https://github.com/venkataravikumaralladi/AzureMLCapstoneProject.git"
   ]
  },
  {
   "cell_type": "markdown",
   "metadata": {},
   "source": [
    "# Automated ML\n",
    "\n",
    "In this capstone project I will showcase how we can use data science as a investigation tool, here we use classfication algorithm to distinguish between normal traffic (good connections) and intrusion or attacks traffic (bad connections). A connection is a sequence of TCP packets starting and ending at some well difined times, between which data flows to and from source IP address to a target IP address under some well defined protocol. We will create Intrusion Detection System (IDS)\n",
    "\n",
    "In this notebook you will learn how to:\n",
    "1. Create an `Experiment` in an existing `Workspace`.\n",
    "2. Create or Attach existing AmlCompute to a workspace.\n",
    "3. Define data loading in a `TabularDataset`.\n",
    "4. Configure AutoML using `AutoMLConfig`.\n",
    "5. Use AutoMLStep\n",
    "6. Train the model using AmlCompute\n",
    "7. Explore the results.\n",
    "8. Test the best fitted model."
   ]
  },
  {
   "cell_type": "markdown",
   "metadata": {},
   "source": [
    "#### Import Dependencies.\n",
    "In the cell below, import all the dependencies that you will need to complete the project."
   ]
  },
  {
   "cell_type": "code",
   "execution_count": 13,
   "metadata": {
    "gather": {
     "logged": 1598423888013
    },
    "jupyter": {
     "outputs_hidden": false,
     "source_hidden": false
    },
    "nteract": {
     "transient": {
      "deleting": false
     }
    }
   },
   "outputs": [],
   "source": [
    "import os"
   ]
  },
  {
   "cell_type": "markdown",
   "metadata": {},
   "source": [
    "## Dataset\n",
    "\n",
    "### Data description\n",
    "Data is collected by packet analyzers (also known as packet/network/protocol snifers) intercept and log traffic in the network.The dataset that we will use is the NSLKDD dataset. The original 1999 KDD Cup dataset was created for the DARPA Intrusion Detection Evaluation Program, prepared and managed by MIT Lincoln Laboratory. The data was collected over nine\n",
    "weeks and consists of raw tcpdump traffic in a local area network (LAN) that simulates the environment of a typical United States Air Force LAN. Some network attacks were deliberately carried out during the recording period. There were 38 different\n",
    "types of attacks, but only 24 are available in the training set. \n",
    "\n",
    "#### Data references\n",
    "\n",
    "https://www.unb.ca/cic/datasets/nsl.html     \n",
    "https://www.kaggle.com/hassan06/nslkdd"
   ]
  },
  {
   "cell_type": "markdown",
   "metadata": {},
   "source": [
    "## Initialize Workspace\n",
    "Initialize a workspace object from persisted configuration. Make sure the config file is present at .\\config.json"
   ]
  },
  {
   "cell_type": "code",
   "execution_count": 14,
   "metadata": {
    "gather": {
     "logged": 1598423890461
    },
    "jupyter": {
     "outputs_hidden": false,
     "source_hidden": false
    },
    "nteract": {
     "transient": {
      "deleting": false
     }
    }
   },
   "outputs": [
    {
     "name": "stdout",
     "output_type": "stream",
     "text": [
      "Workspace name: quick-starts-ws-142471\n",
      "Azure region: southcentralus\n",
      "Subscription id: a0a76bad-11a1-4a2d-9887-97a29122c8ed\n",
      "Resource group: aml-quickstarts-142471\n",
      "SDK version: 1.26.0\n"
     ]
    }
   ],
   "source": [
    "from azureml.core import Workspace, Experiment\n",
    "\n",
    "vrk_auto_ids_ws = Workspace.from_config()\n",
    "vrk_auto_ids_exp = Experiment(workspace=vrk_auto_ids_ws, name=\"vrk_ids_auto_exp\")\n",
    "\n",
    "print('Workspace name: ' + vrk_auto_ids_ws.name, \n",
    "      'Azure region: ' + vrk_auto_ids_ws.location, \n",
    "      'Subscription id: ' + vrk_auto_ids_ws.subscription_id, \n",
    "      'Resource group: ' + vrk_auto_ids_ws.resource_group, sep = '\\n')\n",
    "\n",
    "auto_ids_run = vrk_auto_ids_exp.start_logging()\n",
    "print(\"SDK version:\", azureml.core.VERSION)"
   ]
  },
  {
   "cell_type": "markdown",
   "metadata": {},
   "source": [
    "### Create or Attach an AmlCompute cluster\n",
    "You will need to create a [compute target](https://docs.microsoft.com/azure/machine-learning/service/concept-azure-machine-learning-architecture#compute-target) for your run. "
   ]
  },
  {
   "cell_type": "code",
   "execution_count": 15,
   "metadata": {},
   "outputs": [
    {
     "name": "stdout",
     "output_type": "stream",
     "text": [
      "Creating...\n",
      "SucceededProvisioning operation finished, operation \"Succeeded\"\n",
      "Succeeded\n",
      "AmlCompute wait for completion finished\n",
      "\n",
      "Minimum number of nodes requested have been provisioned\n"
     ]
    }
   ],
   "source": [
    "from azureml.core.compute import ComputeTarget, AmlCompute\n",
    "from azureml.core.compute_target import ComputeTargetException\n",
    "\n",
    "# Choose a name for your CPU cluster\n",
    "cpu_cluster_name = \"cpucluster\"\n",
    "\n",
    "# Verify that cluster does not exist already\n",
    "try:\n",
    "    cpu_cluster = ComputeTarget(workspace=vrk_auto_ids_ws, name=cpu_cluster_name)\n",
    "    print('Found existing cluster, use it.')\n",
    "except ComputeTargetException:\n",
    "    compute_config = AmlCompute.provisioning_configuration(vm_size='STANDARD_D2_V2',\n",
    "                                                           max_nodes=4)\n",
    "    cpu_cluster = ComputeTarget.create(vrk_auto_ids_ws, cpu_cluster_name, compute_config)\n",
    "\n",
    "cpu_cluster.wait_for_completion(show_output=True)"
   ]
  },
  {
   "cell_type": "markdown",
   "metadata": {},
   "source": [
    "### Download and prepare data for AutoML learning\n"
   ]
  },
  {
   "cell_type": "code",
   "execution_count": 16,
   "metadata": {},
   "outputs": [],
   "source": [
    "from azureml.data.dataset_factory import TabularDatasetFactory\n",
    "\n",
    "# Create TabularDataset using TabularDatasetFactory\n",
    "\n",
    "kdd_auto_webpath = [\n",
    "                     'https://raw.githubusercontent.com/venkataravikumaralladi/AzureMLCapstoneProject/main/input/KDDTrain.csv'\n",
    "                   ]\n",
    "\n",
    "#create bankmarketing data set in tabular format using TabularDatasetFactory\n",
    "ids_auto_dataset = TabularDatasetFactory.from_delimited_files(path=kdd_auto_webpath)"
   ]
  },
  {
   "cell_type": "code",
   "execution_count": 17,
   "metadata": {},
   "outputs": [
    {
     "name": "stdout",
     "output_type": "stream",
     "text": [
      "train df data shape  (125972, 43)\n"
     ]
    },
    {
     "data": {
      "text/html": [
       "<div>\n",
       "<style scoped>\n",
       "    .dataframe tbody tr th:only-of-type {\n",
       "        vertical-align: middle;\n",
       "    }\n",
       "\n",
       "    .dataframe tbody tr th {\n",
       "        vertical-align: top;\n",
       "    }\n",
       "\n",
       "    .dataframe thead th {\n",
       "        text-align: right;\n",
       "    }\n",
       "</style>\n",
       "<table border=\"1\" class=\"dataframe\">\n",
       "  <thead>\n",
       "    <tr style=\"text-align: right;\">\n",
       "      <th></th>\n",
       "      <th>duration</th>\n",
       "      <th>protocol_type</th>\n",
       "      <th>service</th>\n",
       "      <th>flag</th>\n",
       "      <th>src_bytes</th>\n",
       "      <th>dst_bytes</th>\n",
       "      <th>land</th>\n",
       "      <th>wrong_fragment</th>\n",
       "      <th>urgent</th>\n",
       "      <th>hot</th>\n",
       "      <th>...</th>\n",
       "      <th>dst_host_same_srv_rate</th>\n",
       "      <th>dst_host_diff_srv_rate</th>\n",
       "      <th>dst_host_same_src_port_rate</th>\n",
       "      <th>dst_host_srv_diff_host_rate</th>\n",
       "      <th>dst_host_serror_rate</th>\n",
       "      <th>dst_host_srv_serror_rate</th>\n",
       "      <th>dst_host_rerror_rate</th>\n",
       "      <th>dst_host_srv_rerror_rate</th>\n",
       "      <th>attack_type</th>\n",
       "      <th>success_pred</th>\n",
       "    </tr>\n",
       "  </thead>\n",
       "  <tbody>\n",
       "    <tr>\n",
       "      <th>0</th>\n",
       "      <td>0</td>\n",
       "      <td>udp</td>\n",
       "      <td>other</td>\n",
       "      <td>SF</td>\n",
       "      <td>146</td>\n",
       "      <td>0</td>\n",
       "      <td>0</td>\n",
       "      <td>0</td>\n",
       "      <td>0</td>\n",
       "      <td>0</td>\n",
       "      <td>...</td>\n",
       "      <td>0.00</td>\n",
       "      <td>0.60</td>\n",
       "      <td>0.88</td>\n",
       "      <td>0.00</td>\n",
       "      <td>0.00</td>\n",
       "      <td>0.00</td>\n",
       "      <td>0.0</td>\n",
       "      <td>0.00</td>\n",
       "      <td>normal</td>\n",
       "      <td>15</td>\n",
       "    </tr>\n",
       "    <tr>\n",
       "      <th>1</th>\n",
       "      <td>0</td>\n",
       "      <td>tcp</td>\n",
       "      <td>private</td>\n",
       "      <td>S0</td>\n",
       "      <td>0</td>\n",
       "      <td>0</td>\n",
       "      <td>0</td>\n",
       "      <td>0</td>\n",
       "      <td>0</td>\n",
       "      <td>0</td>\n",
       "      <td>...</td>\n",
       "      <td>0.10</td>\n",
       "      <td>0.05</td>\n",
       "      <td>0.00</td>\n",
       "      <td>0.00</td>\n",
       "      <td>1.00</td>\n",
       "      <td>1.00</td>\n",
       "      <td>0.0</td>\n",
       "      <td>0.00</td>\n",
       "      <td>neptune</td>\n",
       "      <td>19</td>\n",
       "    </tr>\n",
       "    <tr>\n",
       "      <th>2</th>\n",
       "      <td>0</td>\n",
       "      <td>tcp</td>\n",
       "      <td>http</td>\n",
       "      <td>SF</td>\n",
       "      <td>232</td>\n",
       "      <td>8153</td>\n",
       "      <td>0</td>\n",
       "      <td>0</td>\n",
       "      <td>0</td>\n",
       "      <td>0</td>\n",
       "      <td>...</td>\n",
       "      <td>1.00</td>\n",
       "      <td>0.00</td>\n",
       "      <td>0.03</td>\n",
       "      <td>0.04</td>\n",
       "      <td>0.03</td>\n",
       "      <td>0.01</td>\n",
       "      <td>0.0</td>\n",
       "      <td>0.01</td>\n",
       "      <td>normal</td>\n",
       "      <td>21</td>\n",
       "    </tr>\n",
       "    <tr>\n",
       "      <th>3</th>\n",
       "      <td>0</td>\n",
       "      <td>tcp</td>\n",
       "      <td>http</td>\n",
       "      <td>SF</td>\n",
       "      <td>199</td>\n",
       "      <td>420</td>\n",
       "      <td>0</td>\n",
       "      <td>0</td>\n",
       "      <td>0</td>\n",
       "      <td>0</td>\n",
       "      <td>...</td>\n",
       "      <td>1.00</td>\n",
       "      <td>0.00</td>\n",
       "      <td>0.00</td>\n",
       "      <td>0.00</td>\n",
       "      <td>0.00</td>\n",
       "      <td>0.00</td>\n",
       "      <td>0.0</td>\n",
       "      <td>0.00</td>\n",
       "      <td>normal</td>\n",
       "      <td>21</td>\n",
       "    </tr>\n",
       "    <tr>\n",
       "      <th>4</th>\n",
       "      <td>0</td>\n",
       "      <td>tcp</td>\n",
       "      <td>private</td>\n",
       "      <td>REJ</td>\n",
       "      <td>0</td>\n",
       "      <td>0</td>\n",
       "      <td>0</td>\n",
       "      <td>0</td>\n",
       "      <td>0</td>\n",
       "      <td>0</td>\n",
       "      <td>...</td>\n",
       "      <td>0.07</td>\n",
       "      <td>0.07</td>\n",
       "      <td>0.00</td>\n",
       "      <td>0.00</td>\n",
       "      <td>0.00</td>\n",
       "      <td>0.00</td>\n",
       "      <td>1.0</td>\n",
       "      <td>1.00</td>\n",
       "      <td>neptune</td>\n",
       "      <td>21</td>\n",
       "    </tr>\n",
       "  </tbody>\n",
       "</table>\n",
       "<p>5 rows × 43 columns</p>\n",
       "</div>"
      ],
      "text/plain": [
       "   duration protocol_type  service flag  src_bytes  dst_bytes  land  \\\n",
       "0         0           udp    other   SF        146          0     0   \n",
       "1         0           tcp  private   S0          0          0     0   \n",
       "2         0           tcp     http   SF        232       8153     0   \n",
       "3         0           tcp     http   SF        199        420     0   \n",
       "4         0           tcp  private  REJ          0          0     0   \n",
       "\n",
       "   wrong_fragment  urgent  hot  ...  dst_host_same_srv_rate  \\\n",
       "0               0       0    0  ...                    0.00   \n",
       "1               0       0    0  ...                    0.10   \n",
       "2               0       0    0  ...                    1.00   \n",
       "3               0       0    0  ...                    1.00   \n",
       "4               0       0    0  ...                    0.07   \n",
       "\n",
       "   dst_host_diff_srv_rate  dst_host_same_src_port_rate  \\\n",
       "0                    0.60                         0.88   \n",
       "1                    0.05                         0.00   \n",
       "2                    0.00                         0.03   \n",
       "3                    0.00                         0.00   \n",
       "4                    0.07                         0.00   \n",
       "\n",
       "   dst_host_srv_diff_host_rate  dst_host_serror_rate  \\\n",
       "0                         0.00                  0.00   \n",
       "1                         0.00                  1.00   \n",
       "2                         0.04                  0.03   \n",
       "3                         0.00                  0.00   \n",
       "4                         0.00                  0.00   \n",
       "\n",
       "   dst_host_srv_serror_rate  dst_host_rerror_rate  dst_host_srv_rerror_rate  \\\n",
       "0                      0.00                   0.0                      0.00   \n",
       "1                      1.00                   0.0                      0.00   \n",
       "2                      0.01                   0.0                      0.01   \n",
       "3                      0.00                   0.0                      0.00   \n",
       "4                      0.00                   1.0                      1.00   \n",
       "\n",
       "   attack_type  success_pred  \n",
       "0       normal            15  \n",
       "1      neptune            19  \n",
       "2       normal            21  \n",
       "3       normal            21  \n",
       "4      neptune            21  \n",
       "\n",
       "[5 rows x 43 columns]"
      ]
     },
     "execution_count": 17,
     "metadata": {},
     "output_type": "execute_result"
    }
   ],
   "source": [
    "# class variables\n",
    "network_data_column_names = [ \n",
    "                  'duration', 'protocol_type', 'service',\n",
    "                  'flag', 'src_bytes', 'dst_bytes',\n",
    "                  'land', 'wrong_fragment', 'urgent',\n",
    "    \n",
    "            \n",
    "                  'hot', 'num_failed_logins', 'logged_in',\n",
    "                  'num_compromised', 'root_shell', 'su_attempted',\n",
    "                  'num_root', 'num_file_creations', 'num_shells',\n",
    "                  'num_access_files', 'num_outbound_cmds', 'is_hot_login',\n",
    "                  'is_guest_login',\n",
    "    \n",
    "                 \n",
    "                  'count', 'srv_count', 'serror_rate',\n",
    "                  'srv_serror_rate', 'rerror_rate', 'srv_rerror_rate',\n",
    "                  'same_srv_rate', 'diff_srv_rate', 'srv_diff_host_rate',\n",
    "                 \n",
    "                  'dst_host_count', 'dst_host_srv_count', 'dst_host_same_srv_rate',\n",
    "                  'dst_host_diff_srv_rate', 'dst_host_same_src_port_rate', 'dst_host_srv_diff_host_rate',\n",
    "                  'dst_host_serror_rate', 'dst_host_srv_serror_rate', 'dst_host_rerror_rate',\n",
    "                  'dst_host_srv_rerror_rate',\n",
    "    \n",
    "                   'attack_type',\n",
    "                   'success_pred' ]\n",
    "\n",
    "train_df = ids_auto_dataset.to_pandas_dataframe().dropna()\n",
    "print(\"train df data shape \", train_df.shape)\n",
    "train_df.columns = network_data_column_names\n",
    "train_df.head()"
   ]
  },
  {
   "cell_type": "code",
   "execution_count": 18,
   "metadata": {},
   "outputs": [
    {
     "name": "stdout",
     "output_type": "stream",
     "text": [
      "train df data shape  (125972, 43)\n",
      "Train data frame after droping success pred is   (125972, 42)\n"
     ]
    }
   ],
   "source": [
    "print(\"train df data shape \", train_df.shape)\n",
    "# For this analysis we drop \"success_pred\" column\n",
    "train_df.drop('success_pred', axis=1, inplace=True)\n",
    "print(\"Train data frame after droping success pred is  \", train_df.shape)"
   ]
  },
  {
   "cell_type": "code",
   "execution_count": 19,
   "metadata": {},
   "outputs": [
    {
     "name": "stdout",
     "output_type": "stream",
     "text": [
      "Shape of train_X is  (125972, 41)\n",
      "Shape of train_Y is  (125972,)\n",
      "After join train_X shape is  (125972, 42)\n"
     ]
    },
    {
     "data": {
      "text/html": [
       "<div>\n",
       "<style scoped>\n",
       "    .dataframe tbody tr th:only-of-type {\n",
       "        vertical-align: middle;\n",
       "    }\n",
       "\n",
       "    .dataframe tbody tr th {\n",
       "        vertical-align: top;\n",
       "    }\n",
       "\n",
       "    .dataframe thead th {\n",
       "        text-align: right;\n",
       "    }\n",
       "</style>\n",
       "<table border=\"1\" class=\"dataframe\">\n",
       "  <thead>\n",
       "    <tr style=\"text-align: right;\">\n",
       "      <th></th>\n",
       "      <th>duration</th>\n",
       "      <th>protocol_type</th>\n",
       "      <th>service</th>\n",
       "      <th>flag</th>\n",
       "      <th>src_bytes</th>\n",
       "      <th>dst_bytes</th>\n",
       "      <th>land</th>\n",
       "      <th>wrong_fragment</th>\n",
       "      <th>urgent</th>\n",
       "      <th>hot</th>\n",
       "      <th>...</th>\n",
       "      <th>dst_host_srv_count</th>\n",
       "      <th>dst_host_same_srv_rate</th>\n",
       "      <th>dst_host_diff_srv_rate</th>\n",
       "      <th>dst_host_same_src_port_rate</th>\n",
       "      <th>dst_host_srv_diff_host_rate</th>\n",
       "      <th>dst_host_serror_rate</th>\n",
       "      <th>dst_host_srv_serror_rate</th>\n",
       "      <th>dst_host_rerror_rate</th>\n",
       "      <th>dst_host_srv_rerror_rate</th>\n",
       "      <th>attack_type</th>\n",
       "    </tr>\n",
       "  </thead>\n",
       "  <tbody>\n",
       "    <tr>\n",
       "      <th>0</th>\n",
       "      <td>0</td>\n",
       "      <td>udp</td>\n",
       "      <td>other</td>\n",
       "      <td>SF</td>\n",
       "      <td>146</td>\n",
       "      <td>0</td>\n",
       "      <td>0</td>\n",
       "      <td>0</td>\n",
       "      <td>0</td>\n",
       "      <td>0</td>\n",
       "      <td>...</td>\n",
       "      <td>1</td>\n",
       "      <td>0.00</td>\n",
       "      <td>0.60</td>\n",
       "      <td>0.88</td>\n",
       "      <td>0.00</td>\n",
       "      <td>0.00</td>\n",
       "      <td>0.00</td>\n",
       "      <td>0.0</td>\n",
       "      <td>0.00</td>\n",
       "      <td>0</td>\n",
       "    </tr>\n",
       "    <tr>\n",
       "      <th>1</th>\n",
       "      <td>0</td>\n",
       "      <td>tcp</td>\n",
       "      <td>private</td>\n",
       "      <td>S0</td>\n",
       "      <td>0</td>\n",
       "      <td>0</td>\n",
       "      <td>0</td>\n",
       "      <td>0</td>\n",
       "      <td>0</td>\n",
       "      <td>0</td>\n",
       "      <td>...</td>\n",
       "      <td>26</td>\n",
       "      <td>0.10</td>\n",
       "      <td>0.05</td>\n",
       "      <td>0.00</td>\n",
       "      <td>0.00</td>\n",
       "      <td>1.00</td>\n",
       "      <td>1.00</td>\n",
       "      <td>0.0</td>\n",
       "      <td>0.00</td>\n",
       "      <td>1</td>\n",
       "    </tr>\n",
       "    <tr>\n",
       "      <th>2</th>\n",
       "      <td>0</td>\n",
       "      <td>tcp</td>\n",
       "      <td>http</td>\n",
       "      <td>SF</td>\n",
       "      <td>232</td>\n",
       "      <td>8153</td>\n",
       "      <td>0</td>\n",
       "      <td>0</td>\n",
       "      <td>0</td>\n",
       "      <td>0</td>\n",
       "      <td>...</td>\n",
       "      <td>255</td>\n",
       "      <td>1.00</td>\n",
       "      <td>0.00</td>\n",
       "      <td>0.03</td>\n",
       "      <td>0.04</td>\n",
       "      <td>0.03</td>\n",
       "      <td>0.01</td>\n",
       "      <td>0.0</td>\n",
       "      <td>0.01</td>\n",
       "      <td>0</td>\n",
       "    </tr>\n",
       "    <tr>\n",
       "      <th>3</th>\n",
       "      <td>0</td>\n",
       "      <td>tcp</td>\n",
       "      <td>http</td>\n",
       "      <td>SF</td>\n",
       "      <td>199</td>\n",
       "      <td>420</td>\n",
       "      <td>0</td>\n",
       "      <td>0</td>\n",
       "      <td>0</td>\n",
       "      <td>0</td>\n",
       "      <td>...</td>\n",
       "      <td>255</td>\n",
       "      <td>1.00</td>\n",
       "      <td>0.00</td>\n",
       "      <td>0.00</td>\n",
       "      <td>0.00</td>\n",
       "      <td>0.00</td>\n",
       "      <td>0.00</td>\n",
       "      <td>0.0</td>\n",
       "      <td>0.00</td>\n",
       "      <td>0</td>\n",
       "    </tr>\n",
       "    <tr>\n",
       "      <th>4</th>\n",
       "      <td>0</td>\n",
       "      <td>tcp</td>\n",
       "      <td>private</td>\n",
       "      <td>REJ</td>\n",
       "      <td>0</td>\n",
       "      <td>0</td>\n",
       "      <td>0</td>\n",
       "      <td>0</td>\n",
       "      <td>0</td>\n",
       "      <td>0</td>\n",
       "      <td>...</td>\n",
       "      <td>19</td>\n",
       "      <td>0.07</td>\n",
       "      <td>0.07</td>\n",
       "      <td>0.00</td>\n",
       "      <td>0.00</td>\n",
       "      <td>0.00</td>\n",
       "      <td>0.00</td>\n",
       "      <td>1.0</td>\n",
       "      <td>1.00</td>\n",
       "      <td>1</td>\n",
       "    </tr>\n",
       "  </tbody>\n",
       "</table>\n",
       "<p>5 rows × 42 columns</p>\n",
       "</div>"
      ],
      "text/plain": [
       "   duration protocol_type  service flag  src_bytes  dst_bytes  land  \\\n",
       "0         0           udp    other   SF        146          0     0   \n",
       "1         0           tcp  private   S0          0          0     0   \n",
       "2         0           tcp     http   SF        232       8153     0   \n",
       "3         0           tcp     http   SF        199        420     0   \n",
       "4         0           tcp  private  REJ          0          0     0   \n",
       "\n",
       "   wrong_fragment  urgent  hot  ...  dst_host_srv_count  \\\n",
       "0               0       0    0  ...                   1   \n",
       "1               0       0    0  ...                  26   \n",
       "2               0       0    0  ...                 255   \n",
       "3               0       0    0  ...                 255   \n",
       "4               0       0    0  ...                  19   \n",
       "\n",
       "   dst_host_same_srv_rate  dst_host_diff_srv_rate  \\\n",
       "0                    0.00                    0.60   \n",
       "1                    0.10                    0.05   \n",
       "2                    1.00                    0.00   \n",
       "3                    1.00                    0.00   \n",
       "4                    0.07                    0.07   \n",
       "\n",
       "   dst_host_same_src_port_rate  dst_host_srv_diff_host_rate  \\\n",
       "0                         0.88                         0.00   \n",
       "1                         0.00                         0.00   \n",
       "2                         0.03                         0.04   \n",
       "3                         0.00                         0.00   \n",
       "4                         0.00                         0.00   \n",
       "\n",
       "   dst_host_serror_rate  dst_host_srv_serror_rate  dst_host_rerror_rate  \\\n",
       "0                  0.00                      0.00                   0.0   \n",
       "1                  1.00                      1.00                   0.0   \n",
       "2                  0.03                      0.01                   0.0   \n",
       "3                  0.00                      0.00                   0.0   \n",
       "4                  0.00                      0.00                   1.0   \n",
       "\n",
       "   dst_host_srv_rerror_rate  attack_type  \n",
       "0                      0.00            0  \n",
       "1                      0.00            1  \n",
       "2                      0.01            0  \n",
       "3                      0.00            0  \n",
       "4                      1.00            1  \n",
       "\n",
       "[5 rows x 42 columns]"
      ]
     },
     "execution_count": 19,
     "metadata": {},
     "output_type": "execute_result"
    }
   ],
   "source": [
    "# Drop attack type in training data which is to be predicted.\n",
    "train_X = train_df.drop(\"attack_type\", axis=1)\n",
    "train_Y = train_df['attack_type']\n",
    "# we build binary classifier for this project\n",
    "train_Y = train_Y.apply(lambda x: 0 if x == 'normal' else 1)  \n",
    "\n",
    "print(\"Shape of train_X is \", train_X.shape)\n",
    "print(\"Shape of train_Y is \", train_Y.shape)\n",
    "train_X = train_X.join(train_Y)\n",
    "print(\"After join train_X shape is \", train_X.shape)\n",
    "train_X.head()"
   ]
  },
  {
   "cell_type": "code",
   "execution_count": 20,
   "metadata": {},
   "outputs": [
    {
     "data": {
      "text/plain": [
       "{\n",
       "  \"name\": \"workspaceblobstore\",\n",
       "  \"container_name\": \"azureml-blobstore-fe8c40c6-bc10-48c7-abc7-4c2fbd29ee54\",\n",
       "  \"account_name\": \"mlstrg142471\",\n",
       "  \"protocol\": \"https\",\n",
       "  \"endpoint\": \"core.windows.net\"\n",
       "}"
      ]
     },
     "execution_count": 20,
     "metadata": {},
     "output_type": "execute_result"
    }
   ],
   "source": [
    "#store data frame to data store for AutoMLConfig training\n",
    "if \"training\" not in os.listdir():\n",
    "    os.mkdir(\"./training\")\n",
    "train_X.to_csv('training/ids_train_data.csv', index=False)\n",
    "default_datastore = vrk_auto_ids_ws.get_default_datastore()\n",
    "default_datastore"
   ]
  },
  {
   "cell_type": "code",
   "execution_count": 21,
   "metadata": {},
   "outputs": [
    {
     "name": "stdout",
     "output_type": "stream",
     "text": [
      "Uploading an estimated of 1 files\n",
      "Uploading training/ids_train_data.csv\n",
      "Uploaded training/ids_train_data.csv, 1 files out of an estimated total of 1\n",
      "Uploaded 1 files\n"
     ]
    },
    {
     "data": {
      "text/plain": [
       "$AZUREML_DATAREFERENCE_f1a53cfe2e1d451583fb7dfeae314cd8"
      ]
     },
     "execution_count": 21,
     "metadata": {},
     "output_type": "execute_result"
    }
   ],
   "source": [
    "#upload training data to data store for AutomMLConfig training\n",
    "default_datastore.upload(src_dir='training', target_path='data/')"
   ]
  },
  {
   "cell_type": "code",
   "execution_count": 22,
   "metadata": {},
   "outputs": [],
   "source": [
    "# get data set pointer to data store for bank training data\n",
    "from azureml.core import Dataset\n",
    "ids_auto_dataset = Dataset.Tabular.from_delimited_files(path=[(default_datastore, ('data/ids_train_data.csv'))])"
   ]
  },
  {
   "cell_type": "markdown",
   "metadata": {},
   "source": [
    "## AutoML Configuration\n",
    "\n",
    "Intrusion Detection system is a classification task. According AutomMLConfigParameters are set which are used for this job as mentioned here.\n",
    "\n",
    "#### AutoML Settings:\n",
    "\n",
    "`max_cores_per_iteration`: int = 1 <br>\n",
    "\n",
    "`max_concurrent_iterations`: int = 1 <br>\n",
    "\n",
    "`featurization` = auto (by default so not set here) AutoMLConfig provides featurization arguments by default auto which provided learning features automatically. <br>\n",
    "\n",
    "`n_cross_validations` = 5 Number of cross validations to perform configured are 5.<br>\n",
    "\n",
    "`experiment timeout_minutes` = 30 minutes is set according to lab time provided. <br>\n",
    "\n",
    "\n",
    "`blocked_modles`: In this project I blocked XGBoostClassifier as I am facing issues in importing the model created in AutoML environment to compute envirnoment due to version difference of XGBoost library.<br>\n",
    "\n",
    "`primary_metric` = accuracy is used as provided dataset is balanced and is best suited for job at hand. <br>\n",
    "\n",
    "#### AutoML Config:\n",
    "\n",
    "`training_data` : Registered tabular data pointer in default data store is provided here. <br>\n",
    "                 \n",
    "`label_column_name` : attack_type is one we have to predict if traffic is normal or attack. <br>\n",
    "\n",
    "`compute_target`: The Azure Machine Learning compute target to run the Automated Machine Learning experiment on.<br>"
   ]
  },
  {
   "cell_type": "code",
   "execution_count": 38,
   "metadata": {
    "gather": {
     "logged": 1598429217746
    },
    "jupyter": {
     "outputs_hidden": false,
     "source_hidden": false
    },
    "nteract": {
     "transient": {
      "deleting": false
     }
    }
   },
   "outputs": [],
   "source": [
    "from azureml.train.automl import AutoMLConfig\n",
    "\n",
    "automl_settings = {\n",
    "    \"iterations\" : 7,\n",
    "    \"experiment_timeout_minutes\" : 30,\n",
    "    \"primary_metric\" : 'accuracy',\n",
    "    \"featurization\" : 'auto',\n",
    "    \"blocked_models\" : ['XGBoostClassifier'],\n",
    "    \"n_cross_validations\" : 5\n",
    "}\n",
    "\n",
    "# Set parameters for AutoMLConfig\n",
    "vrk_ids_automl_config = AutoMLConfig(\n",
    "                   task=\"classification\",\n",
    "                   compute_target = cpu_cluster,\n",
    "                   training_data=ids_auto_dataset,\n",
    "                   label_column_name='attack_type',\n",
    "                   **automl_settings)"
   ]
  },
  {
   "cell_type": "code",
   "execution_count": 39,
   "metadata": {
    "gather": {
     "logged": 1598431107951
    },
    "jupyter": {
     "outputs_hidden": false,
     "source_hidden": false
    },
    "nteract": {
     "transient": {
      "deleting": false
     }
    }
   },
   "outputs": [
    {
     "name": "stdout",
     "output_type": "stream",
     "text": [
      "Submitting remote run.\n",
      "No run_configuration provided, running on cpucluster with default configuration\n",
      "Running on remote compute: cpucluster\n"
     ]
    },
    {
     "data": {
      "text/html": [
       "<table style=\"width:100%\"><tr><th>Experiment</th><th>Id</th><th>Type</th><th>Status</th><th>Details Page</th><th>Docs Page</th></tr><tr><td>vrk_ids_auto_exp</td><td>AutoML_66b4861e-0acf-428b-8efe-279b87fc0d96</td><td>automl</td><td>NotStarted</td><td><a href=\"https://ml.azure.com/runs/AutoML_66b4861e-0acf-428b-8efe-279b87fc0d96?wsid=/subscriptions/a0a76bad-11a1-4a2d-9887-97a29122c8ed/resourcegroups/aml-quickstarts-142471/workspaces/quick-starts-ws-142471&amp;tid=660b3398-b80e-49d2-bc5b-ac1dc93b5254\" target=\"_blank\" rel=\"noopener\">Link to Azure Machine Learning studio</a></td><td><a href=\"https://docs.microsoft.com/en-us/python/api/overview/azure/ml/intro?view=azure-ml-py\" target=\"_blank\" rel=\"noopener\">Link to Documentation</a></td></tr></table>"
      ],
      "text/plain": [
       "<IPython.core.display.HTML object>"
      ]
     },
     "metadata": {},
     "output_type": "display_data"
    },
    {
     "name": "stdout",
     "output_type": "stream",
     "text": [
      "\n",
      "Current status: DatasetEvaluation. Gathering dataset statistics.\n",
      "Current status: FeaturesGeneration. Generating features for the dataset.\n",
      "Current status: DatasetFeaturization. Beginning to fit featurizers and featurize the dataset.\n",
      "Current status: DatasetCrossValidationSplit. Generating individually featurized CV splits.\n",
      "Current status: ModelSelection. Beginning model selection.\n",
      "\n",
      "****************************************************************************************************\n",
      "DATA GUARDRAILS: \n",
      "\n",
      "TYPE:         Class balancing detection\n",
      "STATUS:       PASSED\n",
      "DESCRIPTION:  Your inputs were analyzed, and all classes are balanced in your training data.\n",
      "              Learn more about imbalanced data: https://aka.ms/AutomatedMLImbalancedData\n",
      "\n",
      "****************************************************************************************************\n",
      "\n",
      "TYPE:         Missing feature values imputation\n",
      "STATUS:       PASSED\n",
      "DESCRIPTION:  No feature missing values were detected in the training data.\n",
      "              Learn more about missing value imputation: https://aka.ms/AutomatedMLFeaturization\n",
      "\n",
      "****************************************************************************************************\n",
      "\n",
      "TYPE:         High cardinality feature detection\n",
      "STATUS:       PASSED\n",
      "DESCRIPTION:  Your inputs were analyzed, and no high cardinality features were detected.\n",
      "              Learn more about high cardinality feature handling: https://aka.ms/AutomatedMLFeaturization\n",
      "\n",
      "****************************************************************************************************\n",
      "\n",
      "****************************************************************************************************\n",
      "ITERATION: The iteration being evaluated.\n",
      "PIPELINE: A summary description of the pipeline being evaluated.\n",
      "DURATION: Time taken for the current iteration.\n",
      "METRIC: The result of computing score on the fitted pipeline.\n",
      "BEST: The best observed score thus far.\n",
      "****************************************************************************************************\n",
      "\n",
      " ITERATION   PIPELINE                                       DURATION      METRIC      BEST\n",
      "         0   MaxAbsScaler LightGBM                          0:02:21       0.9990    0.9990\n",
      "         1   MaxAbsScaler RandomForest                      0:00:57       0.9471    0.9990\n",
      "         2   MaxAbsScaler RandomForest                      0:00:59       0.9179    0.9990\n",
      "         3   MaxAbsScaler RandomForest                      0:05:48       0.9270    0.9990\n",
      "         4   MaxAbsScaler RandomForest                      0:00:56       0.9256    0.9990\n",
      "         5   SparseNormalizer LogisticRegression            0:01:16       0.9558    0.9990\n",
      "         6   MaxAbsScaler ExtremeRandomTrees                0:01:12       0.9013    0.9990\n",
      "         7   MaxAbsScaler RandomForest                      0:03:34       0.9256    0.9990\n",
      "         8   MaxAbsScaler SGD                               0:01:02       0.9834    0.9990\n",
      "         9   StandardScalerWrapper LightGBM                 0:02:00       0.9759    0.9990\n",
      "        10   SparseNormalizer LightGBM                      0:01:33       0.9950    0.9990\n",
      "        11   MaxAbsScaler LogisticRegression                0:01:53       0.9860    0.9990\n",
      "        12    VotingEnsemble                                0:01:24       0.9989    0.9990\n",
      "        13    StackEnsemble                                 0:02:03       0.9990    0.9990\n"
     ]
    }
   ],
   "source": [
    "# Submit your automl run\n",
    "from azureml.pipeline.steps import AutoMLStep\n",
    "#vrk_auto__exp = Experiment(workspace=vrk_auto_ids_ws, name=\"vrk_auto_ids_train_exp\")\n",
    "automl_ids_run = vrk_auto_ids_exp.submit(vrk_ids_automl_config, show_output=True)"
   ]
  },
  {
   "cell_type": "markdown",
   "metadata": {},
   "source": [
    "## Run Details\n",
    "\n",
    "OPTIONAL: Write about the different models trained and their performance. Why do you think some models did better than others?\n",
    "\n",
    "In the cell below, `RunDetails` widget to show the different experiments."
   ]
  },
  {
   "cell_type": "code",
   "execution_count": 40,
   "metadata": {
    "gather": {
     "logged": 1598431121770
    },
    "jupyter": {
     "outputs_hidden": false,
     "source_hidden": false
    },
    "nteract": {
     "transient": {
      "deleting": false
     }
    }
   },
   "outputs": [
    {
     "data": {
      "application/vnd.jupyter.widget-view+json": {
       "model_id": "a6498e73d06e433682f6004407d9af55",
       "version_major": 2,
       "version_minor": 0
      },
      "text/plain": [
       "_AutoMLWidget(widget_settings={'childWidgetDisplay': 'popup', 'send_telemetry': False, 'log_level': 'INFO', 's…"
      ]
     },
     "metadata": {},
     "output_type": "display_data"
    },
    {
     "data": {
      "application/aml.mini.widget.v1": "{\"status\": \"Completed\", \"workbench_run_details_uri\": \"https://ml.azure.com/runs/AutoML_66b4861e-0acf-428b-8efe-279b87fc0d96?wsid=/subscriptions/a0a76bad-11a1-4a2d-9887-97a29122c8ed/resourcegroups/aml-quickstarts-142471/workspaces/quick-starts-ws-142471&tid=660b3398-b80e-49d2-bc5b-ac1dc93b5254\", \"run_id\": \"AutoML_66b4861e-0acf-428b-8efe-279b87fc0d96\", \"run_properties\": {\"run_id\": \"AutoML_66b4861e-0acf-428b-8efe-279b87fc0d96\", \"created_utc\": \"2021-04-12T10:18:28.162467Z\", \"properties\": {\"num_iterations\": \"1000\", \"training_type\": \"TrainFull\", \"acquisition_function\": \"EI\", \"primary_metric\": \"accuracy\", \"train_split\": \"0\", \"acquisition_parameter\": \"0\", \"num_cross_validation\": \"5\", \"target\": \"cpucluster\", \"AMLSettingsJsonString\": \"{\\\"path\\\":null,\\\"name\\\":\\\"vrk_ids_auto_exp\\\",\\\"subscription_id\\\":\\\"a0a76bad-11a1-4a2d-9887-97a29122c8ed\\\",\\\"resource_group\\\":\\\"aml-quickstarts-142471\\\",\\\"workspace_name\\\":\\\"quick-starts-ws-142471\\\",\\\"region\\\":\\\"southcentralus\\\",\\\"compute_target\\\":\\\"cpucluster\\\",\\\"spark_service\\\":null,\\\"azure_service\\\":\\\"remote\\\",\\\"many_models\\\":false,\\\"pipeline_fetch_max_batch_size\\\":1,\\\"enable_batch_run\\\":false,\\\"enable_run_restructure\\\":false,\\\"iterations\\\":1000,\\\"primary_metric\\\":\\\"accuracy\\\",\\\"task_type\\\":\\\"classification\\\",\\\"data_script\\\":null,\\\"test_size\\\":0.0,\\\"validation_size\\\":0.0,\\\"n_cross_validations\\\":5,\\\"y_min\\\":null,\\\"y_max\\\":null,\\\"num_classes\\\":null,\\\"featurization\\\":\\\"auto\\\",\\\"_ignore_package_version_incompatibilities\\\":false,\\\"is_timeseries\\\":false,\\\"max_cores_per_iteration\\\":1,\\\"max_concurrent_iterations\\\":1,\\\"iteration_timeout_minutes\\\":null,\\\"mem_in_mb\\\":null,\\\"enforce_time_on_windows\\\":false,\\\"experiment_timeout_minutes\\\":30,\\\"experiment_exit_score\\\":null,\\\"whitelist_models\\\":null,\\\"blacklist_algos\\\":[\\\"XGBoostClassifier\\\",\\\"TensorFlowLinearClassifier\\\",\\\"TensorFlowDNN\\\"],\\\"supported_models\\\":[\\\"ExtremeRandomTrees\\\",\\\"KNN\\\",\\\"LightGBM\\\",\\\"XGBoostClassifier\\\",\\\"TensorFlowDNN\\\",\\\"MultinomialNaiveBayes\\\",\\\"TensorFlowLinearClassifier\\\",\\\"DecisionTree\\\",\\\"RandomForest\\\",\\\"AveragedPerceptronClassifier\\\",\\\"SVM\\\",\\\"SGD\\\",\\\"LogisticRegression\\\",\\\"GradientBoosting\\\",\\\"LinearSVM\\\",\\\"BernoulliNaiveBayes\\\"],\\\"private_models\\\":[],\\\"auto_blacklist\\\":true,\\\"blacklist_samples_reached\\\":false,\\\"exclude_nan_labels\\\":true,\\\"verbosity\\\":20,\\\"_debug_log\\\":\\\"azureml_automl.log\\\",\\\"show_warnings\\\":false,\\\"model_explainability\\\":true,\\\"service_url\\\":null,\\\"sdk_url\\\":null,\\\"sdk_packages\\\":null,\\\"enable_onnx_compatible_models\\\":false,\\\"enable_split_onnx_featurizer_estimator_models\\\":false,\\\"vm_type\\\":\\\"STANDARD_D2_V2\\\",\\\"telemetry_verbosity\\\":20,\\\"send_telemetry\\\":true,\\\"enable_dnn\\\":false,\\\"scenario\\\":\\\"SDK-1.13.0\\\",\\\"environment_label\\\":null,\\\"save_mlflow\\\":false,\\\"force_text_dnn\\\":false,\\\"enable_feature_sweeping\\\":true,\\\"enable_early_stopping\\\":false,\\\"early_stopping_n_iters\\\":10,\\\"metrics\\\":null,\\\"enable_metric_confidence\\\":false,\\\"enable_ensembling\\\":true,\\\"enable_stack_ensembling\\\":true,\\\"ensemble_iterations\\\":15,\\\"enable_tf\\\":false,\\\"enable_subsampling\\\":null,\\\"subsample_seed\\\":null,\\\"enable_nimbusml\\\":false,\\\"enable_streaming\\\":false,\\\"force_streaming\\\":false,\\\"track_child_runs\\\":true,\\\"allowed_private_models\\\":[],\\\"label_column_name\\\":\\\"attack_type\\\",\\\"weight_column_name\\\":null,\\\"cv_split_column_names\\\":null,\\\"enable_local_managed\\\":false,\\\"_local_managed_run_id\\\":null,\\\"cost_mode\\\":1,\\\"lag_length\\\":0,\\\"metric_operation\\\":\\\"maximize\\\",\\\"preprocess\\\":true}\", \"DataPrepJsonString\": \"{\\\\\\\"training_data\\\\\\\": {\\\\\\\"datasetId\\\\\\\": \\\\\\\"fe9cb9fb-2bd2-47b4-8fad-4e95c710a91c\\\\\\\"}, \\\\\\\"datasets\\\\\\\": 0}\", \"EnableSubsampling\": null, \"runTemplate\": \"AutoML\", \"azureml.runsource\": \"automl\", \"display_task_type\": \"classification\", \"dependencies_versions\": \"{\\\"azureml-widgets\\\": \\\"1.26.0\\\", \\\"azureml-train\\\": \\\"1.26.0\\\", \\\"azureml-train-restclients-hyperdrive\\\": \\\"1.26.0\\\", \\\"azureml-train-core\\\": \\\"1.26.0\\\", \\\"azureml-train-automl\\\": \\\"1.26.0\\\", \\\"azureml-train-automl-runtime\\\": \\\"1.26.0\\\", \\\"azureml-train-automl-client\\\": \\\"1.26.0\\\", \\\"azureml-tensorboard\\\": \\\"1.26.0\\\", \\\"azureml-telemetry\\\": \\\"1.26.0\\\", \\\"azureml-sdk\\\": \\\"1.26.0\\\", \\\"azureml-samples\\\": \\\"0+unknown\\\", \\\"azureml-pipeline\\\": \\\"1.26.0\\\", \\\"azureml-pipeline-steps\\\": \\\"1.26.0\\\", \\\"azureml-pipeline-core\\\": \\\"1.26.0\\\", \\\"azureml-opendatasets\\\": \\\"1.26.0\\\", \\\"azureml-model-management-sdk\\\": \\\"1.0.1b6.post1\\\", \\\"azureml-mlflow\\\": \\\"1.26.0\\\", \\\"azureml-interpret\\\": \\\"1.26.0\\\", \\\"azureml-explain-model\\\": \\\"1.26.0\\\", \\\"azureml-defaults\\\": \\\"1.26.0\\\", \\\"azureml-dataset-runtime\\\": \\\"1.26.0\\\", \\\"azureml-dataprep\\\": \\\"2.13.2\\\", \\\"azureml-dataprep-rslex\\\": \\\"1.11.2\\\", \\\"azureml-dataprep-native\\\": \\\"32.0.0\\\", \\\"azureml-datadrift\\\": \\\"1.26.0\\\", \\\"azureml-core\\\": \\\"1.26.0\\\", \\\"azureml-contrib-services\\\": \\\"1.26.0\\\", \\\"azureml-contrib-server\\\": \\\"1.26.0\\\", \\\"azureml-contrib-reinforcementlearning\\\": \\\"1.26.0\\\", \\\"azureml-contrib-pipeline-steps\\\": \\\"1.26.0\\\", \\\"azureml-contrib-notebook\\\": \\\"1.26.0\\\", \\\"azureml-contrib-gbdt\\\": \\\"1.26.0\\\", \\\"azureml-contrib-fairness\\\": \\\"1.26.0\\\", \\\"azureml-contrib-dataset\\\": \\\"1.26.0\\\", \\\"azureml-cli-common\\\": \\\"1.26.0\\\", \\\"azureml-automl-runtime\\\": \\\"1.26.0\\\", \\\"azureml-automl-dnn-nlp\\\": \\\"1.26.0\\\", \\\"azureml-automl-core\\\": \\\"1.26.0\\\", \\\"azureml-accel-models\\\": \\\"1.26.0\\\"}\", \"_aml_system_scenario_identification\": \"Remote.Parent\", \"ClientType\": \"SDK\", \"environment_cpu_name\": \"AzureML-AutoML\", \"environment_cpu_label\": \"prod\", \"environment_gpu_name\": \"AzureML-AutoML-GPU\", \"environment_gpu_label\": \"prod\", \"root_attribution\": \"automl\", \"attribution\": \"AutoML\", \"Orchestrator\": \"AutoML\", \"CancelUri\": \"https://southcentralus.experiments.azureml.net/jasmine/v1.0/subscriptions/a0a76bad-11a1-4a2d-9887-97a29122c8ed/resourceGroups/aml-quickstarts-142471/providers/Microsoft.MachineLearningServices/workspaces/quick-starts-ws-142471/experimentids/555e1bc9-28c7-4a82-a8c7-f6dde41968d9/cancel/AutoML_66b4861e-0acf-428b-8efe-279b87fc0d96\", \"ClientSdkVersion\": \"1.25.0\", \"snapshotId\": \"00000000-0000-0000-0000-000000000000\", \"SetupRunId\": \"AutoML_66b4861e-0acf-428b-8efe-279b87fc0d96_setup\", \"SetupRunContainerId\": \"dcid.AutoML_66b4861e-0acf-428b-8efe-279b87fc0d96_setup\", \"FeaturizationRunJsonPath\": \"featurizer_container.json\", \"FeaturizationRunId\": \"AutoML_66b4861e-0acf-428b-8efe-279b87fc0d96_featurize\", \"ProblemInfoJsonString\": \"{\\\"dataset_num_categorical\\\": 0, \\\"is_sparse\\\": true, \\\"subsampling\\\": false, \\\"dataset_classes\\\": 2, \\\"dataset_features\\\": 205, \\\"dataset_samples\\\": 125972, \\\"single_frequency_class_detected\\\": false}\", \"ModelExplainRunId\": \"AutoML_66b4861e-0acf-428b-8efe-279b87fc0d96_ModelExplain\"}, \"tags\": {\"model_explain_run\": \"best_run\", \"_aml_system_azureml.automlComponent\": \"AutoML\", \"pipeline_id\": \"\", \"score\": \"\", \"predicted_cost\": \"\", \"fit_time\": \"\", \"training_percent\": \"\", \"iteration\": \"\", \"run_preprocessor\": \"\", \"run_algorithm\": \"\", \"automl_best_child_run_id\": \"AutoML_66b4861e-0acf-428b-8efe-279b87fc0d96_0\", \"model_explain_best_run_child_id\": \"AutoML_66b4861e-0acf-428b-8efe-279b87fc0d96_0\"}, \"end_time_utc\": \"2021-04-12T11:11:10.029153Z\", \"status\": \"Completed\", \"log_files\": {}, \"log_groups\": [], \"run_duration\": \"0:52:41\", \"run_number\": \"26\", \"run_queued_details\": {\"status\": \"Completed\", \"details\": null}}, \"child_runs\": [{\"run_id\": \"AutoML_66b4861e-0acf-428b-8efe-279b87fc0d96_0\", \"run_number\": 30, \"metric\": null, \"status\": \"Completed\", \"run_type\": \"azureml.scriptrun\", \"training_percent\": \"100\", \"start_time\": \"2021-04-12T10:36:08.197608Z\", \"end_time\": \"2021-04-12T10:38:29.162387Z\", \"created_time\": \"2021-04-12T10:35:25.635056Z\", \"created_time_dt\": \"2021-04-12T10:35:25.635056Z\", \"duration\": \"0:03:03\", \"iteration\": \"0\", \"goal\": \"accuracy_max\", \"run_name\": \"MaxAbsScaler, LightGBM\", \"run_properties\": \"copy=True\", \"primary_metric\": 0.99901565, \"best_metric\": 0.99901565}, {\"run_id\": \"AutoML_66b4861e-0acf-428b-8efe-279b87fc0d96_1\", \"run_number\": 31, \"metric\": null, \"status\": \"Completed\", \"run_type\": \"azureml.scriptrun\", \"training_percent\": \"100\", \"start_time\": \"2021-04-12T10:38:43.75318Z\", \"end_time\": \"2021-04-12T10:39:41.142504Z\", \"created_time\": \"2021-04-12T10:38:31.056721Z\", \"created_time_dt\": \"2021-04-12T10:38:31.056721Z\", \"duration\": \"0:01:10\", \"iteration\": \"1\", \"goal\": \"accuracy_max\", \"run_name\": \"MaxAbsScaler, RandomForest\", \"run_properties\": \"copy=True\", \"primary_metric\": 0.9470913, \"best_metric\": 0.99901565}, {\"run_id\": \"AutoML_66b4861e-0acf-428b-8efe-279b87fc0d96_2\", \"run_number\": 32, \"metric\": null, \"status\": \"Completed\", \"run_type\": \"azureml.scriptrun\", \"training_percent\": \"100\", \"start_time\": \"2021-04-12T10:39:59.849272Z\", \"end_time\": \"2021-04-12T10:40:59.32431Z\", \"created_time\": \"2021-04-12T10:39:43.028963Z\", \"created_time_dt\": \"2021-04-12T10:39:43.028963Z\", \"duration\": \"0:01:16\", \"iteration\": \"2\", \"goal\": \"accuracy_max\", \"run_name\": \"MaxAbsScaler, RandomForest\", \"run_properties\": \"copy=True\", \"primary_metric\": 0.91786256, \"best_metric\": 0.99901565}, {\"run_id\": \"AutoML_66b4861e-0acf-428b-8efe-279b87fc0d96_3\", \"run_number\": 33, \"metric\": null, \"status\": \"Completed\", \"run_type\": \"azureml.scriptrun\", \"training_percent\": \"100\", \"start_time\": \"2021-04-12T10:43:41.818297Z\", \"end_time\": \"2021-04-12T10:49:29.727559Z\", \"created_time\": \"2021-04-12T10:41:00.987536Z\", \"created_time_dt\": \"2021-04-12T10:41:00.987536Z\", \"duration\": \"0:08:28\", \"iteration\": \"3\", \"goal\": \"accuracy_max\", \"run_name\": \"MaxAbsScaler, RandomForest\", \"run_properties\": \"copy=True\", \"primary_metric\": 0.92699945, \"best_metric\": 0.99901565}, {\"run_id\": \"AutoML_66b4861e-0acf-428b-8efe-279b87fc0d96_4\", \"run_number\": 34, \"metric\": null, \"status\": \"Completed\", \"run_type\": \"azureml.scriptrun\", \"training_percent\": \"100\", \"start_time\": \"2021-04-12T10:49:47.252014Z\", \"end_time\": \"2021-04-12T10:50:43.171505Z\", \"created_time\": \"2021-04-12T10:49:32.192963Z\", \"created_time_dt\": \"2021-04-12T10:49:32.192963Z\", \"duration\": \"0:01:10\", \"iteration\": \"4\", \"goal\": \"accuracy_max\", \"run_name\": \"MaxAbsScaler, RandomForest\", \"run_properties\": \"copy=True\", \"primary_metric\": 0.92557881, \"best_metric\": 0.99901565}, {\"run_id\": \"AutoML_66b4861e-0acf-428b-8efe-279b87fc0d96_5\", \"run_number\": 35, \"metric\": null, \"status\": \"Completed\", \"run_type\": \"azureml.scriptrun\", \"training_percent\": \"100\", \"start_time\": \"2021-04-12T10:50:57.868208Z\", \"end_time\": \"2021-04-12T10:52:13.979734Z\", \"created_time\": \"2021-04-12T10:50:45.041025Z\", \"created_time_dt\": \"2021-04-12T10:50:45.041025Z\", \"duration\": \"0:01:28\", \"iteration\": \"5\", \"goal\": \"accuracy_max\", \"run_name\": \"SparseNormalizer, LogisticRegression\", \"run_properties\": \"<azureml.automl.runtime.shared.model_wrappers.SparseNormalizer object at 0x7fb3855af898\", \"primary_metric\": 0.95577593, \"best_metric\": 0.99901565}, {\"run_id\": \"AutoML_66b4861e-0acf-428b-8efe-279b87fc0d96_6\", \"run_number\": 36, \"metric\": null, \"status\": \"Completed\", \"run_type\": \"azureml.scriptrun\", \"training_percent\": \"100\", \"start_time\": \"2021-04-12T10:52:31.974708Z\", \"end_time\": \"2021-04-12T10:53:44.36601Z\", \"created_time\": \"2021-04-12T10:52:16.591634Z\", \"created_time_dt\": \"2021-04-12T10:52:16.591634Z\", \"duration\": \"0:01:27\", \"iteration\": \"6\", \"goal\": \"accuracy_max\", \"run_name\": \"MaxAbsScaler, ExtremeRandomTrees\", \"run_properties\": \"copy=True\", \"primary_metric\": 0.9012717, \"best_metric\": 0.99901565}, {\"run_id\": \"AutoML_66b4861e-0acf-428b-8efe-279b87fc0d96_7\", \"run_number\": 37, \"metric\": null, \"status\": \"Completed\", \"run_type\": \"azureml.scriptrun\", \"training_percent\": \"100\", \"start_time\": \"2021-04-12T10:54:02.411719Z\", \"end_time\": \"2021-04-12T10:57:36.608039Z\", \"created_time\": \"2021-04-12T10:53:47.168522Z\", \"created_time_dt\": \"2021-04-12T10:53:47.168522Z\", \"duration\": \"0:03:49\", \"iteration\": \"7\", \"goal\": \"accuracy_max\", \"run_name\": \"MaxAbsScaler, RandomForest\", \"run_properties\": \"copy=True\", \"primary_metric\": 0.9256342, \"best_metric\": 0.99901565}, {\"run_id\": \"AutoML_66b4861e-0acf-428b-8efe-279b87fc0d96_8\", \"run_number\": 38, \"metric\": null, \"status\": \"Completed\", \"run_type\": \"azureml.scriptrun\", \"training_percent\": \"100\", \"start_time\": \"2021-04-12T10:59:50.01951Z\", \"end_time\": \"2021-04-12T11:00:52.251558Z\", \"created_time\": \"2021-04-12T10:57:39.793876Z\", \"created_time_dt\": \"2021-04-12T10:57:39.793876Z\", \"duration\": \"0:03:12\", \"iteration\": \"8\", \"goal\": \"accuracy_max\", \"run_name\": \"MaxAbsScaler, SGD\", \"run_properties\": \"copy=True\", \"primary_metric\": 0.98337726, \"best_metric\": 0.99901565}, {\"run_id\": \"AutoML_66b4861e-0acf-428b-8efe-279b87fc0d96_9\", \"run_number\": 39, \"metric\": null, \"status\": \"Completed\", \"run_type\": \"azureml.scriptrun\", \"training_percent\": \"100\", \"start_time\": \"2021-04-12T11:01:12.558712Z\", \"end_time\": \"2021-04-12T11:03:12.720041Z\", \"created_time\": \"2021-04-12T11:00:55.980844Z\", \"created_time_dt\": \"2021-04-12T11:00:55.980844Z\", \"duration\": \"0:02:16\", \"iteration\": \"9\", \"goal\": \"accuracy_max\", \"run_name\": \"StandardScalerWrapper, LightGBM\", \"run_properties\": \"<azureml.automl.runtime.shared.model_wrappers.StandardScalerWrapper object at 0x7ffadfe7c0f0\", \"primary_metric\": 0.97594704, \"best_metric\": 0.99901565}, {\"run_id\": \"AutoML_66b4861e-0acf-428b-8efe-279b87fc0d96_10\", \"run_number\": 40, \"metric\": null, \"status\": \"Completed\", \"run_type\": \"azureml.scriptrun\", \"training_percent\": \"100\", \"start_time\": \"2021-04-12T11:03:25.600297Z\", \"end_time\": \"2021-04-12T11:04:58.755264Z\", \"created_time\": \"2021-04-12T11:03:14.509892Z\", \"created_time_dt\": \"2021-04-12T11:03:14.509892Z\", \"duration\": \"0:01:44\", \"iteration\": \"10\", \"goal\": \"accuracy_max\", \"run_name\": \"SparseNormalizer, LightGBM\", \"run_properties\": \"<azureml.automl.runtime.shared.model_wrappers.SparseNormalizer object at 0x7f67f83ca438\", \"primary_metric\": 0.99500683, \"best_metric\": 0.99901565}, {\"run_id\": \"AutoML_66b4861e-0acf-428b-8efe-279b87fc0d96_11\", \"run_number\": 41, \"metric\": null, \"status\": \"Completed\", \"run_type\": \"azureml.scriptrun\", \"training_percent\": \"100\", \"start_time\": \"2021-04-12T11:05:14.307247Z\", \"end_time\": \"2021-04-12T11:07:07.224528Z\", \"created_time\": \"2021-04-12T11:05:00.602023Z\", \"created_time_dt\": \"2021-04-12T11:05:00.602023Z\", \"duration\": \"0:02:06\", \"iteration\": \"11\", \"goal\": \"accuracy_max\", \"run_name\": \"MaxAbsScaler, LogisticRegression\", \"run_properties\": \"copy=True\", \"primary_metric\": 0.98604452, \"best_metric\": 0.99901565}, {\"run_id\": \"AutoML_66b4861e-0acf-428b-8efe-279b87fc0d96_12\", \"run_number\": 42, \"metric\": null, \"status\": \"Completed\", \"run_type\": \"azureml.scriptrun\", \"training_percent\": \"100\", \"start_time\": \"2021-04-12T11:07:22.495062Z\", \"end_time\": \"2021-04-12T11:08:46.963706Z\", \"created_time\": \"2021-04-12T11:07:08.020483Z\", \"created_time_dt\": \"2021-04-12T11:07:08.020483Z\", \"duration\": \"0:01:38\", \"iteration\": \"12\", \"goal\": \"accuracy_max\", \"run_name\": \"VotingEnsemble\", \"run_properties\": \"classification_labels=None,\\n                              estimators=[('0',\\n                                           Pipeline(memory=None,\\n                                                    steps=[('maxabsscaler',\\n                                                            MaxAbsScaler(copy=True\", \"primary_metric\": 0.99893627, \"best_metric\": 0.99901565}, {\"run_id\": \"AutoML_66b4861e-0acf-428b-8efe-279b87fc0d96_13\", \"run_number\": 43, \"metric\": null, \"status\": \"Completed\", \"run_type\": \"azureml.scriptrun\", \"training_percent\": \"100\", \"start_time\": \"2021-04-12T11:09:01.802668Z\", \"end_time\": \"2021-04-12T11:11:04.514197Z\", \"created_time\": \"2021-04-12T11:08:47.84578Z\", \"created_time_dt\": \"2021-04-12T11:08:47.84578Z\", \"duration\": \"0:02:16\", \"iteration\": \"13\", \"goal\": \"accuracy_max\", \"run_name\": \"StackEnsemble\", \"run_properties\": \"base_learners=[('0',\\n                                        Pipeline(memory=None,\\n                                                 steps=[('maxabsscaler',\\n                                                         MaxAbsScaler(copy=True\", \"primary_metric\": 0.99899978, \"best_metric\": 0.99901565}], \"children_metrics\": {\"categories\": [0], \"series\": {\"weighted_accuracy\": [{\"categories\": [\"0\", \"1\", \"2\", \"3\", \"4\", \"5\", \"6\", \"7\", \"8\", \"9\", \"10\", \"11\", \"12\", \"13\"], \"mode\": \"markers\", \"name\": \"weighted_accuracy\", \"stepped\": false, \"type\": \"scatter\", \"data\": [0.9990375412651714, 0.9497699026030311, 0.9227037191932681, 0.9309477785842881, 0.9280736863879145, 0.9571888003245552, 0.9077123950723782, 0.9301072658459107, 0.9836788520853773, 0.9773874194328462, 0.9950967225063412, 0.9862510986607141, 0.9989684314510449, 0.9990206760813312]}, {\"categories\": [\"0\", \"1\", \"2\", \"3\", \"4\", \"5\", \"6\", \"7\", \"8\", \"9\", \"10\", \"11\", \"12\", \"13\"], \"mode\": \"lines\", \"name\": \"weighted_accuracy_max\", \"stepped\": true, \"type\": \"scatter\", \"data\": [0.9990375412651714, 0.9990375412651714, 0.9990375412651714, 0.9990375412651714, 0.9990375412651714, 0.9990375412651714, 0.9990375412651714, 0.9990375412651714, 0.9990375412651714, 0.9990375412651714, 0.9990375412651714, 0.9990375412651714, 0.9990375412651714, 0.9990375412651714]}], \"log_loss\": [{\"categories\": [\"0\", \"1\", \"2\", \"3\", \"4\", \"5\", \"6\", \"7\", \"8\", \"9\", \"10\", \"11\", \"12\", \"13\"], \"mode\": \"markers\", \"name\": \"log_loss\", \"stepped\": false, \"type\": \"scatter\", \"data\": [0.003087168948792235, 0.1832692336058674, 0.3008793749165343, 0.333028746445922, 0.25934421145760156, 0.14386659591105977, 0.4558483669629809, 0.2338652824049398, 0.10101705406190187, 0.36634972796496823, 0.020008013948271862, 0.04212400069624069, 0.03332460591680035, 0.00472684444859131]}, {\"categories\": [\"0\", \"1\", \"2\", \"3\", \"4\", \"5\", \"6\", \"7\", \"8\", \"9\", \"10\", \"11\", \"12\", \"13\"], \"mode\": \"lines\", \"name\": \"log_loss_min\", \"stepped\": true, \"type\": \"scatter\", \"data\": [0.003087168948792235, 0.003087168948792235, 0.003087168948792235, 0.003087168948792235, 0.003087168948792235, 0.003087168948792235, 0.003087168948792235, 0.003087168948792235, 0.003087168948792235, 0.003087168948792235, 0.003087168948792235, 0.003087168948792235, 0.003087168948792235, 0.003087168948792235]}], \"f1_score_macro\": [{\"categories\": [\"0\", \"1\", \"2\", \"3\", \"4\", \"5\", \"6\", \"7\", \"8\", \"9\", \"10\", \"11\", \"12\", \"13\"], \"mode\": \"markers\", \"name\": \"f1_score_macro\", \"stepped\": false, \"type\": \"scatter\", \"data\": [0.9990108212344836, 0.9463645968374156, 0.9161267098334113, 0.9258531263894751, 0.9247571469104292, 0.9554412172731611, 0.898804494520706, 0.924355192773129, 0.9832895178898111, 0.9757568920109337, 0.994982079675658, 0.9859731697963696, 0.998930979825167, 0.9989948573325658]}, {\"categories\": [\"0\", \"1\", \"2\", \"3\", \"4\", \"5\", \"6\", \"7\", \"8\", \"9\", \"10\", \"11\", \"12\", \"13\"], \"mode\": \"lines\", \"name\": \"f1_score_macro_max\", \"stepped\": true, \"type\": \"scatter\", \"data\": [0.9990108212344836, 0.9990108212344836, 0.9990108212344836, 0.9990108212344836, 0.9990108212344836, 0.9990108212344836, 0.9990108212344836, 0.9990108212344836, 0.9990108212344836, 0.9990108212344836, 0.9990108212344836, 0.9990108212344836, 0.9990108212344836, 0.9990108212344836]}], \"precision_score_macro\": [{\"categories\": [\"0\", \"1\", \"2\", \"3\", \"4\", \"5\", \"6\", \"7\", \"8\", \"9\", \"10\", \"11\", \"12\", \"13\"], \"mode\": \"markers\", \"name\": \"precision_score_macro\", \"stepped\": false, \"type\": \"scatter\", \"data\": [0.9990282897148214, 0.9515135290970562, 0.9293228184710985, 0.9343725993843977, 0.9288212138817175, 0.9572033631155547, 0.9175076092453068, 0.9346214982037064, 0.9835349486871481, 0.9777683813233828, 0.9950505007843405, 0.9861220549702724, 0.9989585820929185, 0.9990112828985416]}, {\"categories\": [\"0\", \"1\", \"2\", \"3\", \"4\", \"5\", \"6\", \"7\", \"8\", \"9\", \"10\", \"11\", \"12\", \"13\"], \"mode\": \"lines\", \"name\": \"precision_score_macro_max\", \"stepped\": true, \"type\": \"scatter\", \"data\": [0.9990282897148214, 0.9990282897148214, 0.9990282897148214, 0.9990282897148214, 0.9990282897148214, 0.9990282897148214, 0.9990282897148214, 0.9990282897148214, 0.9990282897148214, 0.9990282897148214, 0.9990282897148214, 0.9990282897148214, 0.9990282897148214, 0.9990282897148214]}], \"precision_score_weighted\": [{\"categories\": [\"0\", \"1\", \"2\", \"3\", \"4\", \"5\", \"6\", \"7\", \"8\", \"9\", \"10\", \"11\", \"12\", \"13\"], \"mode\": \"markers\", \"name\": \"precision_score_weighted\", \"stepped\": false, \"type\": \"scatter\", \"data\": [0.9990157970764759, 0.9496116186196228, 0.9258904881284096, 0.9315685855438393, 0.9273426629930441, 0.9563014163459662, 0.9129031745678177, 0.9313474760569578, 0.9833977661532917, 0.9766026240682123, 0.9950085396530195, 0.9860518979225145, 0.9989366037598881, 0.9989999653498728]}, {\"categories\": [\"0\", \"1\", \"2\", \"3\", \"4\", \"5\", \"6\", \"7\", \"8\", \"9\", \"10\", \"11\", \"12\", \"13\"], \"mode\": \"lines\", \"name\": \"precision_score_weighted_max\", \"stepped\": true, \"type\": \"scatter\", \"data\": [0.9990157970764759, 0.9990157970764759, 0.9990157970764759, 0.9990157970764759, 0.9990157970764759, 0.9990157970764759, 0.9990157970764759, 0.9990157970764759, 0.9990157970764759, 0.9990157970764759, 0.9990157970764759, 0.9990157970764759, 0.9990157970764759, 0.9990157970764759]}], \"balanced_accuracy\": [{\"categories\": [\"0\", \"1\", \"2\", \"3\", \"4\", \"5\", \"6\", \"7\", \"8\", \"9\", \"10\", \"11\", \"12\", \"13\"], \"mode\": \"markers\", \"name\": \"balanced_accuracy\", \"stepped\": false, \"type\": \"scatter\", \"data\": [0.9989935320237022, 0.9443847382829503, 0.9129714952187339, 0.9230123583514664, 0.9230588413113432, 0.9543493642520751, 0.8947679523222654, 0.9211170628999475, 0.983072726043057, 0.9744925962170514, 0.9949160860947167, 0.9858358906489295, 0.9989037742392005, 0.9989786532101281]}, {\"categories\": [\"0\", \"1\", \"2\", \"3\", \"4\", \"5\", \"6\", \"7\", \"8\", \"9\", \"10\", \"11\", \"12\", \"13\"], \"mode\": \"lines\", \"name\": \"balanced_accuracy_max\", \"stepped\": true, \"type\": \"scatter\", \"data\": [0.9989935320237022, 0.9989935320237022, 0.9989935320237022, 0.9989935320237022, 0.9989935320237022, 0.9989935320237022, 0.9989935320237022, 0.9989935320237022, 0.9989935320237022, 0.9989935320237022, 0.9989935320237022, 0.9989935320237022, 0.9989935320237022, 0.9989935320237022]}], \"recall_score_weighted\": [{\"categories\": [\"0\", \"1\", \"2\", \"3\", \"4\", \"5\", \"6\", \"7\", \"8\", \"9\", \"10\", \"11\", \"12\", \"13\"], \"mode\": \"markers\", \"name\": \"recall_score_weighted\", \"stepped\": false, \"type\": \"scatter\", \"data\": [0.9990156518774107, 0.9470912951850063, 0.9178625566339479, 0.9269994485972027, 0.9255788118532398, 0.9557759338239764, 0.9012716967059966, 0.9256341991543519, 0.983377264229539, 0.9759470411964732, 0.9950068339697836, 0.9860445224872414, 0.9989362688423329, 0.9989997753964264]}, {\"categories\": [\"0\", \"1\", \"2\", \"3\", \"4\", \"5\", \"6\", \"7\", \"8\", \"9\", \"10\", \"11\", \"12\", \"13\"], \"mode\": \"lines\", \"name\": \"recall_score_weighted_max\", \"stepped\": true, \"type\": \"scatter\", \"data\": [0.9990156518774107, 0.9990156518774107, 0.9990156518774107, 0.9990156518774107, 0.9990156518774107, 0.9990156518774107, 0.9990156518774107, 0.9990156518774107, 0.9990156518774107, 0.9990156518774107, 0.9990156518774107, 0.9990156518774107, 0.9990156518774107, 0.9990156518774107]}], \"f1_score_micro\": [{\"categories\": [\"0\", \"1\", \"2\", \"3\", \"4\", \"5\", \"6\", \"7\", \"8\", \"9\", \"10\", \"11\", \"12\", \"13\"], \"mode\": \"markers\", \"name\": \"f1_score_micro\", \"stepped\": false, \"type\": \"scatter\", \"data\": [0.9990156518774107, 0.9470912951850063, 0.9178625566339479, 0.9269994485972027, 0.9255788118532398, 0.9557759338239764, 0.9012716967059966, 0.9256341991543519, 0.983377264229539, 0.9759470411964732, 0.9950068339697836, 0.9860445224872414, 0.9989362688423329, 0.9989997753964264]}, {\"categories\": [\"0\", \"1\", \"2\", \"3\", \"4\", \"5\", \"6\", \"7\", \"8\", \"9\", \"10\", \"11\", \"12\", \"13\"], \"mode\": \"lines\", \"name\": \"f1_score_micro_max\", \"stepped\": true, \"type\": \"scatter\", \"data\": [0.9990156518774107, 0.9990156518774107, 0.9990156518774107, 0.9990156518774107, 0.9990156518774107, 0.9990156518774107, 0.9990156518774107, 0.9990156518774107, 0.9990156518774107, 0.9990156518774107, 0.9990156518774107, 0.9990156518774107, 0.9990156518774107, 0.9990156518774107]}], \"recall_score_macro\": [{\"categories\": [\"0\", \"1\", \"2\", \"3\", \"4\", \"5\", \"6\", \"7\", \"8\", \"9\", \"10\", \"11\", \"12\", \"13\"], \"mode\": \"markers\", \"name\": \"recall_score_macro\", \"stepped\": false, \"type\": \"scatter\", \"data\": [0.9989935320237022, 0.9443847382829503, 0.9129714952187339, 0.9230123583514664, 0.9230588413113432, 0.9543493642520751, 0.8947679523222654, 0.9211170628999475, 0.983072726043057, 0.9744925962170514, 0.9949160860947167, 0.9858358906489295, 0.9989037742392005, 0.9989786532101281]}, {\"categories\": [\"0\", \"1\", \"2\", \"3\", \"4\", \"5\", \"6\", \"7\", \"8\", \"9\", \"10\", \"11\", \"12\", \"13\"], \"mode\": \"lines\", \"name\": \"recall_score_macro_max\", \"stepped\": true, \"type\": \"scatter\", \"data\": [0.9989935320237022, 0.9989935320237022, 0.9989935320237022, 0.9989935320237022, 0.9989935320237022, 0.9989935320237022, 0.9989935320237022, 0.9989935320237022, 0.9989935320237022, 0.9989935320237022, 0.9989935320237022, 0.9989935320237022, 0.9989935320237022, 0.9989935320237022]}], \"average_precision_score_micro\": [{\"categories\": [\"0\", \"1\", \"2\", \"3\", \"4\", \"5\", \"6\", \"7\", \"8\", \"9\", \"10\", \"11\", \"12\", \"13\"], \"mode\": \"markers\", \"name\": \"average_precision_score_micro\", \"stepped\": false, \"type\": \"scatter\", \"data\": [0.9999877924965391, 0.9885954352861805, 0.9756225398642527, 0.9851467277165972, 0.9800434120339035, 0.9859492210463096, 0.9696709314997412, 0.9829792906774338, 0.9962639316967691, 0.9939129599923971, 0.9997713482835838, 0.9986326922160014, 0.9999626015106851, 0.9999349114809606]}, {\"categories\": [\"0\", \"1\", \"2\", \"3\", \"4\", \"5\", \"6\", \"7\", \"8\", \"9\", \"10\", \"11\", \"12\", \"13\"], \"mode\": \"lines\", \"name\": \"average_precision_score_micro_max\", \"stepped\": true, \"type\": \"scatter\", \"data\": [0.9999877924965391, 0.9999877924965391, 0.9999877924965391, 0.9999877924965391, 0.9999877924965391, 0.9999877924965391, 0.9999877924965391, 0.9999877924965391, 0.9999877924965391, 0.9999877924965391, 0.9999877924965391, 0.9999877924965391, 0.9999877924965391, 0.9999877924965391]}], \"average_precision_score_macro\": [{\"categories\": [\"0\", \"1\", \"2\", \"3\", \"4\", \"5\", \"6\", \"7\", \"8\", \"9\", \"10\", \"11\", \"12\", \"13\"], \"mode\": \"markers\", \"name\": \"average_precision_score_macro\", \"stepped\": false, \"type\": \"scatter\", \"data\": [0.9999873929154622, 0.9890307486024256, 0.9782393670675932, 0.985376982385269, 0.9791363250863758, 0.9842526013004621, 0.9747558409787331, 0.984885946792031, 0.9962742123887125, 0.9950338944970667, 0.9997495005440747, 0.9985372631403004, 0.9999647264337252, 0.9998878256849132]}, {\"categories\": [\"0\", \"1\", \"2\", \"3\", \"4\", \"5\", \"6\", \"7\", \"8\", \"9\", \"10\", \"11\", \"12\", \"13\"], \"mode\": \"lines\", \"name\": \"average_precision_score_macro_max\", \"stepped\": true, \"type\": \"scatter\", \"data\": [0.9999873929154622, 0.9999873929154622, 0.9999873929154622, 0.9999873929154622, 0.9999873929154622, 0.9999873929154622, 0.9999873929154622, 0.9999873929154622, 0.9999873929154622, 0.9999873929154622, 0.9999873929154622, 0.9999873929154622, 0.9999873929154622, 0.9999873929154622]}], \"AUC_macro\": [{\"categories\": [\"0\", \"1\", \"2\", \"3\", \"4\", \"5\", \"6\", \"7\", \"8\", \"9\", \"10\", \"11\", \"12\", \"13\"], \"mode\": \"markers\", \"name\": \"AUC_macro\", \"stepped\": false, \"type\": \"scatter\", \"data\": [0.9999872822144283, 0.9885405114456365, 0.9780975113778334, 0.9846523163520121, 0.9784021734840117, 0.9860867648516163, 0.9741215795293845, 0.9842686571374193, 0.9971738620073813, 0.994833672953187, 0.9997443153642059, 0.9986029140984078, 0.9999639217940184, 0.9999272017310762]}, {\"categories\": [\"0\", \"1\", \"2\", \"3\", \"4\", \"5\", \"6\", \"7\", \"8\", \"9\", \"10\", \"11\", \"12\", \"13\"], \"mode\": \"lines\", \"name\": \"AUC_macro_max\", \"stepped\": true, \"type\": \"scatter\", \"data\": [0.9999872822144283, 0.9999872822144283, 0.9999872822144283, 0.9999872822144283, 0.9999872822144283, 0.9999872822144283, 0.9999872822144283, 0.9999872822144283, 0.9999872822144283, 0.9999872822144283, 0.9999872822144283, 0.9999872822144283, 0.9999872822144283, 0.9999872822144283]}], \"precision_score_micro\": [{\"categories\": [\"0\", \"1\", \"2\", \"3\", \"4\", \"5\", \"6\", \"7\", \"8\", \"9\", \"10\", \"11\", \"12\", \"13\"], \"mode\": \"markers\", \"name\": \"precision_score_micro\", \"stepped\": false, \"type\": \"scatter\", \"data\": [0.9990156518774107, 0.9470912951850063, 0.9178625566339479, 0.9269994485972027, 0.9255788118532398, 0.9557759338239764, 0.9012716967059966, 0.9256341991543519, 0.983377264229539, 0.9759470411964732, 0.9950068339697836, 0.9860445224872414, 0.9989362688423329, 0.9989997753964264]}, {\"categories\": [\"0\", \"1\", \"2\", \"3\", \"4\", \"5\", \"6\", \"7\", \"8\", \"9\", \"10\", \"11\", \"12\", \"13\"], \"mode\": \"lines\", \"name\": \"precision_score_micro_max\", \"stepped\": true, \"type\": \"scatter\", \"data\": [0.9990156518774107, 0.9990156518774107, 0.9990156518774107, 0.9990156518774107, 0.9990156518774107, 0.9990156518774107, 0.9990156518774107, 0.9990156518774107, 0.9990156518774107, 0.9990156518774107, 0.9990156518774107, 0.9990156518774107, 0.9990156518774107, 0.9990156518774107]}], \"f1_score_weighted\": [{\"categories\": [\"0\", \"1\", \"2\", \"3\", \"4\", \"5\", \"6\", \"7\", \"8\", \"9\", \"10\", \"11\", \"12\", \"13\"], \"mode\": \"markers\", \"name\": \"f1_score_weighted\", \"stepped\": false, \"type\": \"scatter\", \"data\": [0.9990156358304091, 0.9467973947574831, 0.9169572479512625, 0.9264923116240598, 0.9252957746672381, 0.955707523556638, 0.8999012053259536, 0.9250374913026608, 0.983373334731272, 0.9759056920674192, 0.9950064841551736, 0.9860424654298136, 0.9989362400735431, 0.9989997608445702]}, {\"categories\": [\"0\", \"1\", \"2\", \"3\", \"4\", \"5\", \"6\", \"7\", \"8\", \"9\", \"10\", \"11\", \"12\", \"13\"], \"mode\": \"lines\", \"name\": \"f1_score_weighted_max\", \"stepped\": true, \"type\": \"scatter\", \"data\": [0.9990156358304091, 0.9990156358304091, 0.9990156358304091, 0.9990156358304091, 0.9990156358304091, 0.9990156358304091, 0.9990156358304091, 0.9990156358304091, 0.9990156358304091, 0.9990156358304091, 0.9990156358304091, 0.9990156358304091, 0.9990156358304091, 0.9990156358304091]}], \"AUC_weighted\": [{\"categories\": [\"0\", \"1\", \"2\", \"3\", \"4\", \"5\", \"6\", \"7\", \"8\", \"9\", \"10\", \"11\", \"12\", \"13\"], \"mode\": \"markers\", \"name\": \"AUC_weighted\", \"stepped\": false, \"type\": \"scatter\", \"data\": [0.9999872822144283, 0.9885405114456365, 0.9780975113778334, 0.9846523163520121, 0.9784021734840117, 0.9860867648303338, 0.9741215795293845, 0.9842686571374193, 0.9971738620073813, 0.994833672953187, 0.9997443153642062, 0.9986029140984078, 0.9999639217940184, 0.9999272017310762]}, {\"categories\": [\"0\", \"1\", \"2\", \"3\", \"4\", \"5\", \"6\", \"7\", \"8\", \"9\", \"10\", \"11\", \"12\", \"13\"], \"mode\": \"lines\", \"name\": \"AUC_weighted_max\", \"stepped\": true, \"type\": \"scatter\", \"data\": [0.9999872822144283, 0.9999872822144283, 0.9999872822144283, 0.9999872822144283, 0.9999872822144283, 0.9999872822144283, 0.9999872822144283, 0.9999872822144283, 0.9999872822144283, 0.9999872822144283, 0.9999872822144283, 0.9999872822144283, 0.9999872822144283, 0.9999872822144283]}], \"accuracy\": [{\"categories\": [\"0\", \"1\", \"2\", \"3\", \"4\", \"5\", \"6\", \"7\", \"8\", \"9\", \"10\", \"11\", \"12\", \"13\"], \"mode\": \"markers\", \"name\": \"accuracy\", \"stepped\": false, \"type\": \"scatter\", \"data\": [0.9990156518774107, 0.9470912951850063, 0.9178625566339479, 0.9269994485972027, 0.9255788118532398, 0.9557759338239764, 0.9012716967059966, 0.9256341991543519, 0.983377264229539, 0.9759470411964732, 0.9950068339697836, 0.9860445224872414, 0.9989362688423329, 0.9989997753964264]}, {\"categories\": [\"0\", \"1\", \"2\", \"3\", \"4\", \"5\", \"6\", \"7\", \"8\", \"9\", \"10\", \"11\", \"12\", \"13\"], \"mode\": \"lines\", \"name\": \"accuracy_max\", \"stepped\": true, \"type\": \"scatter\", \"data\": [0.9990156518774107, 0.9990156518774107, 0.9990156518774107, 0.9990156518774107, 0.9990156518774107, 0.9990156518774107, 0.9990156518774107, 0.9990156518774107, 0.9990156518774107, 0.9990156518774107, 0.9990156518774107, 0.9990156518774107, 0.9990156518774107, 0.9990156518774107]}], \"recall_score_micro\": [{\"categories\": [\"0\", \"1\", \"2\", \"3\", \"4\", \"5\", \"6\", \"7\", \"8\", \"9\", \"10\", \"11\", \"12\", \"13\"], \"mode\": \"markers\", \"name\": \"recall_score_micro\", \"stepped\": false, \"type\": \"scatter\", \"data\": [0.9990156518774107, 0.9470912951850063, 0.9178625566339479, 0.9269994485972027, 0.9255788118532398, 0.9557759338239764, 0.9012716967059966, 0.9256341991543519, 0.983377264229539, 0.9759470411964732, 0.9950068339697836, 0.9860445224872414, 0.9989362688423329, 0.9989997753964264]}, {\"categories\": [\"0\", \"1\", \"2\", \"3\", \"4\", \"5\", \"6\", \"7\", \"8\", \"9\", \"10\", \"11\", \"12\", \"13\"], \"mode\": \"lines\", \"name\": \"recall_score_micro_max\", \"stepped\": true, \"type\": \"scatter\", \"data\": [0.9990156518774107, 0.9990156518774107, 0.9990156518774107, 0.9990156518774107, 0.9990156518774107, 0.9990156518774107, 0.9990156518774107, 0.9990156518774107, 0.9990156518774107, 0.9990156518774107, 0.9990156518774107, 0.9990156518774107, 0.9990156518774107, 0.9990156518774107]}], \"average_precision_score_weighted\": [{\"categories\": [\"0\", \"1\", \"2\", \"3\", \"4\", \"5\", \"6\", \"7\", \"8\", \"9\", \"10\", \"11\", \"12\", \"13\"], \"mode\": \"markers\", \"name\": \"average_precision_score_weighted\", \"stepped\": false, \"type\": \"scatter\", \"data\": [0.9999874956668237, 0.9890233352500178, 0.9781385951039011, 0.9853840643553049, 0.9791366675252139, 0.984170895285318, 0.9747395074399273, 0.9848548472670171, 0.9962762501079544, 0.9950499511532047, 0.9997507399732306, 0.9985373737416248, 0.9999648806017187, 0.9998842890366653]}, {\"categories\": [\"0\", \"1\", \"2\", \"3\", \"4\", \"5\", \"6\", \"7\", \"8\", \"9\", \"10\", \"11\", \"12\", \"13\"], \"mode\": \"lines\", \"name\": \"average_precision_score_weighted_max\", \"stepped\": true, \"type\": \"scatter\", \"data\": [0.9999874956668237, 0.9999874956668237, 0.9999874956668237, 0.9999874956668237, 0.9999874956668237, 0.9999874956668237, 0.9999874956668237, 0.9999874956668237, 0.9999874956668237, 0.9999874956668237, 0.9999874956668237, 0.9999874956668237, 0.9999874956668237, 0.9999874956668237]}], \"norm_macro_recall\": [{\"categories\": [\"0\", \"1\", \"2\", \"3\", \"4\", \"5\", \"6\", \"7\", \"8\", \"9\", \"10\", \"11\", \"12\", \"13\"], \"mode\": \"markers\", \"name\": \"norm_macro_recall\", \"stepped\": false, \"type\": \"scatter\", \"data\": [0.9979870640474043, 0.8887694765659007, 0.8259429904374679, 0.8460247167029331, 0.8461176826226866, 0.9086987285041499, 0.7895359046445307, 0.8422341257998951, 0.9661454520861137, 0.9489851924341032, 0.9898321721894334, 0.9716717812978588, 0.997807548478401, 0.9979573064202558]}, {\"categories\": [\"0\", \"1\", \"2\", \"3\", \"4\", \"5\", \"6\", \"7\", \"8\", \"9\", \"10\", \"11\", \"12\", \"13\"], \"mode\": \"lines\", \"name\": \"norm_macro_recall_max\", \"stepped\": true, \"type\": \"scatter\", \"data\": [0.9979870640474043, 0.9979870640474043, 0.9979870640474043, 0.9979870640474043, 0.9979870640474043, 0.9979870640474043, 0.9979870640474043, 0.9979870640474043, 0.9979870640474043, 0.9979870640474043, 0.9979870640474043, 0.9979870640474043, 0.9979870640474043, 0.9979870640474043]}], \"matthews_correlation\": [{\"categories\": [\"0\", \"1\", \"2\", \"3\", \"4\", \"5\", \"6\", \"7\", \"8\", \"9\", \"10\", \"11\", \"12\", \"13\"], \"mode\": \"markers\", \"name\": \"matthews_correlation\", \"stepped\": false, \"type\": \"scatter\", \"data\": [0.9980218207445251, 0.8958425468782585, 0.8420865013548298, 0.8572984510168933, 0.8518521532735758, 0.9115475837156714, 0.8119568899532457, 0.8556281109723065, 0.9666075275519903, 0.9522553392047998, 0.9899665755529495, 0.9719578850282738, 0.9978623542018769, 0.9979899349076586]}, {\"categories\": [\"0\", \"1\", \"2\", \"3\", \"4\", \"5\", \"6\", \"7\", \"8\", \"9\", \"10\", \"11\", \"12\", \"13\"], \"mode\": \"lines\", \"name\": \"matthews_correlation_max\", \"stepped\": true, \"type\": \"scatter\", \"data\": [0.9980218207445251, 0.9980218207445251, 0.9980218207445251, 0.9980218207445251, 0.9980218207445251, 0.9980218207445251, 0.9980218207445251, 0.9980218207445251, 0.9980218207445251, 0.9980218207445251, 0.9980218207445251, 0.9980218207445251, 0.9980218207445251, 0.9980218207445251]}], \"AUC_micro\": [{\"categories\": [\"0\", \"1\", \"2\", \"3\", \"4\", \"5\", \"6\", \"7\", \"8\", \"9\", \"10\", \"11\", \"12\", \"13\"], \"mode\": \"markers\", \"name\": \"AUC_micro\", \"stepped\": false, \"type\": \"scatter\", \"data\": [0.9999876290512869, 0.9882468164755298, 0.975847005460818, 0.9845666564339215, 0.979401448170146, 0.9875481269430526, 0.9697279334796625, 0.9824452151962222, 0.9971963701528337, 0.9937622969084983, 0.9997679450773227, 0.9986340379665961, 0.999961979317759, 0.9999369815137525]}, {\"categories\": [\"0\", \"1\", \"2\", \"3\", \"4\", \"5\", \"6\", \"7\", \"8\", \"9\", \"10\", \"11\", \"12\", \"13\"], \"mode\": \"lines\", \"name\": \"AUC_micro_max\", \"stepped\": true, \"type\": \"scatter\", \"data\": [0.9999876290512869, 0.9999876290512869, 0.9999876290512869, 0.9999876290512869, 0.9999876290512869, 0.9999876290512869, 0.9999876290512869, 0.9999876290512869, 0.9999876290512869, 0.9999876290512869, 0.9999876290512869, 0.9999876290512869, 0.9999876290512869, 0.9999876290512869]}]}, \"metricName\": null, \"primaryMetricName\": \"accuracy\", \"showLegend\": false}, \"run_metrics\": [{\"name\": \"experiment_status\", \"run_id\": \"AutoML_66b4861e-0acf-428b-8efe-279b87fc0d96\", \"categories\": [0, 1, 2, 3, 4, 5, 6, 7, 8, 9, 10, 11, 12, 13], \"series\": [{\"data\": [\"DatasetEvaluation\", \"FeaturesGeneration\", \"DatasetFeaturization\", \"DatasetFeaturizationCompleted\", \"DatasetCrossValidationSplit\", \"ModelSelection\", \"BestRunExplainModel\", \"ModelExplanationDataSetSetup\", \"PickSurrogateModel\", \"EngineeredFeatureExplanations\", \"EngineeredFeatureExplanations\", \"RawFeaturesExplanations\", \"RawFeaturesExplanations\", \"BestRunExplainModel\"]}]}, {\"name\": \"experiment_status_description\", \"run_id\": \"AutoML_66b4861e-0acf-428b-8efe-279b87fc0d96\", \"categories\": [0, 1, 2, 3, 4, 5, 6, 7, 8, 9, 10, 11, 12, 13], \"series\": [{\"data\": [\"Gathering dataset statistics.\", \"Generating features for the dataset.\", \"Beginning to fit featurizers and featurize the dataset.\", \"Completed fit featurizers and featurizing the dataset.\", \"Generating individually featurized CV splits.\", \"Beginning model selection.\", \"Best run model explanations started\", \"Model explanations data setup completed\", \"Choosing LightGBM as the surrogate model for explanations\", \"Computation of engineered features started\", \"Computation of engineered features completed\", \"Computation of raw features started\", \"Computation of raw features completed\", \"Best run model explanations completed\"]}]}, {\"name\": \"recall_score_weighted\", \"run_id\": \"AutoML_66b4861e-0acf-428b-8efe-279b87fc0d96\", \"categories\": [0], \"series\": [{\"data\": [0.9990156518774107]}]}, {\"name\": \"AUC_weighted\", \"run_id\": \"AutoML_66b4861e-0acf-428b-8efe-279b87fc0d96\", \"categories\": [0], \"series\": [{\"data\": [0.9999872822144283]}]}, {\"name\": \"AUC_macro\", \"run_id\": \"AutoML_66b4861e-0acf-428b-8efe-279b87fc0d96\", \"categories\": [0], \"series\": [{\"data\": [0.9999872822144283]}]}, {\"name\": \"average_precision_score_weighted\", \"run_id\": \"AutoML_66b4861e-0acf-428b-8efe-279b87fc0d96\", \"categories\": [0], \"series\": [{\"data\": [0.9999874956668237]}]}, {\"name\": \"average_precision_score_micro\", \"run_id\": \"AutoML_66b4861e-0acf-428b-8efe-279b87fc0d96\", \"categories\": [0], \"series\": [{\"data\": [0.9999877924965391]}]}, {\"name\": \"precision_score_micro\", \"run_id\": \"AutoML_66b4861e-0acf-428b-8efe-279b87fc0d96\", \"categories\": [0], \"series\": [{\"data\": [0.9990156518774107]}]}, {\"name\": \"average_precision_score_macro\", \"run_id\": \"AutoML_66b4861e-0acf-428b-8efe-279b87fc0d96\", \"categories\": [0], \"series\": [{\"data\": [0.9999873929154622]}]}, {\"name\": \"accuracy\", \"run_id\": \"AutoML_66b4861e-0acf-428b-8efe-279b87fc0d96\", \"categories\": [0], \"series\": [{\"data\": [0.9990156518774107]}]}, {\"name\": \"matthews_correlation\", \"run_id\": \"AutoML_66b4861e-0acf-428b-8efe-279b87fc0d96\", \"categories\": [0], \"series\": [{\"data\": [0.9980218207445251]}]}, {\"name\": \"norm_macro_recall\", \"run_id\": \"AutoML_66b4861e-0acf-428b-8efe-279b87fc0d96\", \"categories\": [0], \"series\": [{\"data\": [0.9979870640474043]}]}, {\"name\": \"f1_score_micro\", \"run_id\": \"AutoML_66b4861e-0acf-428b-8efe-279b87fc0d96\", \"categories\": [0], \"series\": [{\"data\": [0.9990156518774107]}]}, {\"name\": \"precision_score_macro\", \"run_id\": \"AutoML_66b4861e-0acf-428b-8efe-279b87fc0d96\", \"categories\": [0], \"series\": [{\"data\": [0.9990282897148214]}]}, {\"name\": \"f1_score_macro\", \"run_id\": \"AutoML_66b4861e-0acf-428b-8efe-279b87fc0d96\", \"categories\": [0], \"series\": [{\"data\": [0.9990108212344836]}]}, {\"name\": \"precision_score_weighted\", \"run_id\": \"AutoML_66b4861e-0acf-428b-8efe-279b87fc0d96\", \"categories\": [0], \"series\": [{\"data\": [0.9990157970764759]}]}, {\"name\": \"recall_score_macro\", \"run_id\": \"AutoML_66b4861e-0acf-428b-8efe-279b87fc0d96\", \"categories\": [0], \"series\": [{\"data\": [0.9989935320237022]}]}, {\"name\": \"AUC_micro\", \"run_id\": \"AutoML_66b4861e-0acf-428b-8efe-279b87fc0d96\", \"categories\": [0], \"series\": [{\"data\": [0.9999876290512869]}]}, {\"name\": \"f1_score_weighted\", \"run_id\": \"AutoML_66b4861e-0acf-428b-8efe-279b87fc0d96\", \"categories\": [0], \"series\": [{\"data\": [0.9990156358304091]}]}, {\"name\": \"recall_score_micro\", \"run_id\": \"AutoML_66b4861e-0acf-428b-8efe-279b87fc0d96\", \"categories\": [0], \"series\": [{\"data\": [0.9990156518774107]}]}, {\"name\": \"balanced_accuracy\", \"run_id\": \"AutoML_66b4861e-0acf-428b-8efe-279b87fc0d96\", \"categories\": [0], \"series\": [{\"data\": [0.9989935320237022]}]}, {\"name\": \"weighted_accuracy\", \"run_id\": \"AutoML_66b4861e-0acf-428b-8efe-279b87fc0d96\", \"categories\": [0], \"series\": [{\"data\": [0.9990375412651714]}]}, {\"name\": \"log_loss\", \"run_id\": \"AutoML_66b4861e-0acf-428b-8efe-279b87fc0d96\", \"categories\": [0], \"series\": [{\"data\": [0.003087168948792235]}]}], \"run_logs\": \"\\nRun is completed.\", \"graph\": {}, \"widget_settings\": {\"childWidgetDisplay\": \"popup\", \"send_telemetry\": false, \"log_level\": \"INFO\", \"sdk_version\": \"1.26.0\"}, \"loading\": false}"
     },
     "metadata": {},
     "output_type": "display_data"
    }
   ],
   "source": [
    "from azureml.widgets import RunDetails\n",
    "RunDetails(automl_ids_run).show()"
   ]
  },
  {
   "cell_type": "code",
   "execution_count": 41,
   "metadata": {},
   "outputs": [
    {
     "data": {
      "text/plain": [
       "{'runId': 'AutoML_66b4861e-0acf-428b-8efe-279b87fc0d96',\n",
       " 'target': 'cpucluster',\n",
       " 'status': 'Completed',\n",
       " 'startTimeUtc': '2021-04-12T10:18:48.571937Z',\n",
       " 'endTimeUtc': '2021-04-12T11:11:10.029153Z',\n",
       " 'properties': {'num_iterations': '1000',\n",
       "  'training_type': 'TrainFull',\n",
       "  'acquisition_function': 'EI',\n",
       "  'primary_metric': 'accuracy',\n",
       "  'train_split': '0',\n",
       "  'acquisition_parameter': '0',\n",
       "  'num_cross_validation': '5',\n",
       "  'target': 'cpucluster',\n",
       "  'AMLSettingsJsonString': '{\"path\":null,\"name\":\"vrk_ids_auto_exp\",\"subscription_id\":\"a0a76bad-11a1-4a2d-9887-97a29122c8ed\",\"resource_group\":\"aml-quickstarts-142471\",\"workspace_name\":\"quick-starts-ws-142471\",\"region\":\"southcentralus\",\"compute_target\":\"cpucluster\",\"spark_service\":null,\"azure_service\":\"remote\",\"many_models\":false,\"pipeline_fetch_max_batch_size\":1,\"enable_batch_run\":false,\"enable_run_restructure\":false,\"iterations\":1000,\"primary_metric\":\"accuracy\",\"task_type\":\"classification\",\"data_script\":null,\"test_size\":0.0,\"validation_size\":0.0,\"n_cross_validations\":5,\"y_min\":null,\"y_max\":null,\"num_classes\":null,\"featurization\":\"auto\",\"_ignore_package_version_incompatibilities\":false,\"is_timeseries\":false,\"max_cores_per_iteration\":1,\"max_concurrent_iterations\":1,\"iteration_timeout_minutes\":null,\"mem_in_mb\":null,\"enforce_time_on_windows\":false,\"experiment_timeout_minutes\":30,\"experiment_exit_score\":null,\"whitelist_models\":null,\"blacklist_algos\":[\"XGBoostClassifier\",\"TensorFlowLinearClassifier\",\"TensorFlowDNN\"],\"supported_models\":[\"ExtremeRandomTrees\",\"KNN\",\"LightGBM\",\"XGBoostClassifier\",\"TensorFlowDNN\",\"MultinomialNaiveBayes\",\"TensorFlowLinearClassifier\",\"DecisionTree\",\"RandomForest\",\"AveragedPerceptronClassifier\",\"SVM\",\"SGD\",\"LogisticRegression\",\"GradientBoosting\",\"LinearSVM\",\"BernoulliNaiveBayes\"],\"private_models\":[],\"auto_blacklist\":true,\"blacklist_samples_reached\":false,\"exclude_nan_labels\":true,\"verbosity\":20,\"_debug_log\":\"azureml_automl.log\",\"show_warnings\":false,\"model_explainability\":true,\"service_url\":null,\"sdk_url\":null,\"sdk_packages\":null,\"enable_onnx_compatible_models\":false,\"enable_split_onnx_featurizer_estimator_models\":false,\"vm_type\":\"STANDARD_D2_V2\",\"telemetry_verbosity\":20,\"send_telemetry\":true,\"enable_dnn\":false,\"scenario\":\"SDK-1.13.0\",\"environment_label\":null,\"save_mlflow\":false,\"force_text_dnn\":false,\"enable_feature_sweeping\":true,\"enable_early_stopping\":false,\"early_stopping_n_iters\":10,\"metrics\":null,\"enable_metric_confidence\":false,\"enable_ensembling\":true,\"enable_stack_ensembling\":true,\"ensemble_iterations\":15,\"enable_tf\":false,\"enable_subsampling\":null,\"subsample_seed\":null,\"enable_nimbusml\":false,\"enable_streaming\":false,\"force_streaming\":false,\"track_child_runs\":true,\"allowed_private_models\":[],\"label_column_name\":\"attack_type\",\"weight_column_name\":null,\"cv_split_column_names\":null,\"enable_local_managed\":false,\"_local_managed_run_id\":null,\"cost_mode\":1,\"lag_length\":0,\"metric_operation\":\"maximize\",\"preprocess\":true}',\n",
       "  'DataPrepJsonString': '{\\\\\"training_data\\\\\": {\\\\\"datasetId\\\\\": \\\\\"fe9cb9fb-2bd2-47b4-8fad-4e95c710a91c\\\\\"}, \\\\\"datasets\\\\\": 0}',\n",
       "  'EnableSubsampling': None,\n",
       "  'runTemplate': 'AutoML',\n",
       "  'azureml.runsource': 'automl',\n",
       "  'display_task_type': 'classification',\n",
       "  'dependencies_versions': '{\"azureml-widgets\": \"1.26.0\", \"azureml-train\": \"1.26.0\", \"azureml-train-restclients-hyperdrive\": \"1.26.0\", \"azureml-train-core\": \"1.26.0\", \"azureml-train-automl\": \"1.26.0\", \"azureml-train-automl-runtime\": \"1.26.0\", \"azureml-train-automl-client\": \"1.26.0\", \"azureml-tensorboard\": \"1.26.0\", \"azureml-telemetry\": \"1.26.0\", \"azureml-sdk\": \"1.26.0\", \"azureml-samples\": \"0+unknown\", \"azureml-pipeline\": \"1.26.0\", \"azureml-pipeline-steps\": \"1.26.0\", \"azureml-pipeline-core\": \"1.26.0\", \"azureml-opendatasets\": \"1.26.0\", \"azureml-model-management-sdk\": \"1.0.1b6.post1\", \"azureml-mlflow\": \"1.26.0\", \"azureml-interpret\": \"1.26.0\", \"azureml-explain-model\": \"1.26.0\", \"azureml-defaults\": \"1.26.0\", \"azureml-dataset-runtime\": \"1.26.0\", \"azureml-dataprep\": \"2.13.2\", \"azureml-dataprep-rslex\": \"1.11.2\", \"azureml-dataprep-native\": \"32.0.0\", \"azureml-datadrift\": \"1.26.0\", \"azureml-core\": \"1.26.0\", \"azureml-contrib-services\": \"1.26.0\", \"azureml-contrib-server\": \"1.26.0\", \"azureml-contrib-reinforcementlearning\": \"1.26.0\", \"azureml-contrib-pipeline-steps\": \"1.26.0\", \"azureml-contrib-notebook\": \"1.26.0\", \"azureml-contrib-gbdt\": \"1.26.0\", \"azureml-contrib-fairness\": \"1.26.0\", \"azureml-contrib-dataset\": \"1.26.0\", \"azureml-cli-common\": \"1.26.0\", \"azureml-automl-runtime\": \"1.26.0\", \"azureml-automl-dnn-nlp\": \"1.26.0\", \"azureml-automl-core\": \"1.26.0\", \"azureml-accel-models\": \"1.26.0\"}',\n",
       "  '_aml_system_scenario_identification': 'Remote.Parent',\n",
       "  'ClientType': 'SDK',\n",
       "  'environment_cpu_name': 'AzureML-AutoML',\n",
       "  'environment_cpu_label': 'prod',\n",
       "  'environment_gpu_name': 'AzureML-AutoML-GPU',\n",
       "  'environment_gpu_label': 'prod',\n",
       "  'root_attribution': 'automl',\n",
       "  'attribution': 'AutoML',\n",
       "  'Orchestrator': 'AutoML',\n",
       "  'CancelUri': 'https://southcentralus.experiments.azureml.net/jasmine/v1.0/subscriptions/a0a76bad-11a1-4a2d-9887-97a29122c8ed/resourceGroups/aml-quickstarts-142471/providers/Microsoft.MachineLearningServices/workspaces/quick-starts-ws-142471/experimentids/555e1bc9-28c7-4a82-a8c7-f6dde41968d9/cancel/AutoML_66b4861e-0acf-428b-8efe-279b87fc0d96',\n",
       "  'ClientSdkVersion': '1.25.0',\n",
       "  'snapshotId': '00000000-0000-0000-0000-000000000000',\n",
       "  'SetupRunId': 'AutoML_66b4861e-0acf-428b-8efe-279b87fc0d96_setup',\n",
       "  'SetupRunContainerId': 'dcid.AutoML_66b4861e-0acf-428b-8efe-279b87fc0d96_setup',\n",
       "  'FeaturizationRunJsonPath': 'featurizer_container.json',\n",
       "  'FeaturizationRunId': 'AutoML_66b4861e-0acf-428b-8efe-279b87fc0d96_featurize',\n",
       "  'ProblemInfoJsonString': '{\"dataset_num_categorical\": 0, \"is_sparse\": true, \"subsampling\": false, \"dataset_classes\": 2, \"dataset_features\": 205, \"dataset_samples\": 125972, \"single_frequency_class_detected\": false}',\n",
       "  'ModelExplainRunId': 'AutoML_66b4861e-0acf-428b-8efe-279b87fc0d96_ModelExplain'},\n",
       " 'inputDatasets': [{'dataset': {'id': 'fe9cb9fb-2bd2-47b4-8fad-4e95c710a91c'}, 'consumptionDetails': {'type': 'RunInput', 'inputName': 'training_data', 'mechanism': 'Direct'}}],\n",
       " 'outputDatasets': [],\n",
       " 'logFiles': {},\n",
       " 'submittedBy': 'ODL_User 142471'}"
      ]
     },
     "execution_count": 41,
     "metadata": {},
     "output_type": "execute_result"
    }
   ],
   "source": [
    "automl_ids_run.wait_for_completion()"
   ]
  },
  {
   "cell_type": "code",
   "execution_count": 42,
   "metadata": {},
   "outputs": [],
   "source": [
    "assert(automl_ids_run.get_status() == \"Completed\")"
   ]
  },
  {
   "cell_type": "markdown",
   "metadata": {},
   "source": [
    "## Best Model\n",
    "\n",
    "In the cell below, get the best model from the automl experiments and display all the properties of the model.\n",
    "\n"
   ]
  },
  {
   "cell_type": "code",
   "execution_count": 43,
   "metadata": {
    "gather": {
     "logged": 1598431425670
    },
    "jupyter": {
     "outputs_hidden": false,
     "source_hidden": false
    },
    "nteract": {
     "transient": {
      "deleting": false
     }
    }
   },
   "outputs": [
    {
     "name": "stdout",
     "output_type": "stream",
     "text": [
      "Auto best fitted model is:  LightGBMClassifier(boosting_type='gbdt', class_weight=None,\n",
      "                   colsample_bytree=1.0, importance_type='split',\n",
      "                   learning_rate=0.1, max_depth=-1, min_child_samples=20,\n",
      "                   min_child_weight=0.001, min_split_gain=0.0, n_estimators=100,\n",
      "                   n_jobs=1, num_leaves=31, objective=None, random_state=None,\n",
      "                   reg_alpha=0.0, reg_lambda=0.0, silent=True, subsample=1.0,\n",
      "                   subsample_for_bin=200000, subsample_freq=0, verbose=-10)\n"
     ]
    }
   ],
   "source": [
    "# Retrieve and save your best automl model.\n",
    "best_auto_run, best_fitted_model = automl_ids_run.get_output()\n",
    "\n",
    "import joblib\n",
    "#Save the best model\n",
    "if \"automl_bestmdl\" not in os.listdir():\n",
    "    os.mkdir(\"./automl_bestmdl\")\n",
    "joblib.dump(best_fitted_model, './automl_bestmdl/best_fit_automl_ids.pkl')\n",
    "\n",
    "print(\"Auto best fitted model is: \", best_fitted_model._final_estimator)"
   ]
  },
  {
   "cell_type": "code",
   "execution_count": 50,
   "metadata": {},
   "outputs": [
    {
     "name": "stdout",
     "output_type": "stream",
     "text": [
      "Run(Experiment: vrk_ids_auto_exp,\n",
      "Id: AutoML_66b4861e-0acf-428b-8efe-279b87fc0d96_0,\n",
      "Type: azureml.scriptrun,\n",
      "Status: Completed)\n"
     ]
    }
   ],
   "source": [
    "print(best_auto_run)"
   ]
  },
  {
   "cell_type": "code",
   "execution_count": 55,
   "metadata": {},
   "outputs": [
    {
     "name": "stdout",
     "output_type": "stream",
     "text": [
      "Pipeline(memory=None,\n",
      "         steps=[('datatransformer',\n",
      "                 DataTransformer(enable_dnn=None, enable_feature_sweeping=None,\n",
      "                                 feature_sweeping_config=None,\n",
      "                                 feature_sweeping_timeout=None,\n",
      "                                 featurization_config=None, force_text_dnn=None,\n",
      "                                 is_cross_validation=None,\n",
      "                                 is_onnx_compatible=None, logger=None,\n",
      "                                 observer=None, task=None, working_dir=None)),\n",
      "                ('MaxAbsScaler', MaxAbsScaler(copy...\n",
      "                 LightGBMClassifier(boosting_type='gbdt', class_weight=None,\n",
      "                                    colsample_bytree=1.0,\n",
      "                                    importance_type='split', learning_rate=0.1,\n",
      "                                    max_depth=-1, min_child_samples=20,\n",
      "                                    min_child_weight=0.001, min_split_gain=0.0,\n",
      "                                    n_estimators=100, n_jobs=1, num_leaves=31,\n",
      "                                    objective=None, random_state=None,\n",
      "                                    reg_alpha=0.0, reg_lambda=0.0, silent=True,\n",
      "                                    subsample=1.0, subsample_for_bin=200000,\n",
      "                                    subsample_freq=0, verbose=-10))],\n",
      "         verbose=False)\n"
     ]
    }
   ],
   "source": [
    "print(best_fitted_model)"
   ]
  },
  {
   "cell_type": "markdown",
   "metadata": {},
   "source": [
    "## Model Deployment\n",
    "\n",
    "Remember you have to deploy only one of the two models you trained. Perform the steps in the rest of this notebook only if you wish to deploy this model.\n",
    "\n",
    "\n",
    "Following are steps are model deployment:\n",
    "1. Register the model for operalization.\n",
    "2. Prepare an entry script.\n",
    "3. Prepare an inference configuration.\n",
    "4. Choose a compute target.\n",
    "5. Deploy the model to the compute target.\n",
    "6. Test the resulting webservice.\n"
   ]
  },
  {
   "cell_type": "markdown",
   "metadata": {},
   "source": [
    "#### Step1: Register Model: \n",
    "Register a model for operationalization.\n",
    "\n",
    "register_model(model_name, model_path=None, tags=None, properties=None, model_framework=None, model_framework_version=None, description=None, datasets=None, sample_input_dataset=None, sample_output_dataset=None, resource_configuration=None, **kwargs)\n",
    "\n",
    "Above function all are input parameters. Here model_path is best model is stored in file \"outputs/vrk_ids_model.joblib\". (Note outputs folder in home->models->vrk_ids_auto_mdl->artifiacts->outputs"
   ]
  },
  {
   "cell_type": "code",
   "execution_count": 45,
   "metadata": {
    "gather": {
     "logged": 1598431435189
    },
    "jupyter": {
     "outputs_hidden": false,
     "source_hidden": false
    },
    "nteract": {
     "transient": {
      "deleting": false
     }
    }
   },
   "outputs": [],
   "source": [
    "ids_auto_mdl = best_auto_run.register_model(model_name='vrk_ids_auto_mdlv1',\n",
    "                                            model_path='./outputs',\n",
    "                                            description = \"Vrk network intrusion detection model\",\n",
    "                                            tags = {'area' : \"ids\", 'type' : \"classification\"}\n",
    "                                           )"
   ]
  },
  {
   "cell_type": "markdown",
   "metadata": {
    "collapsed": true,
    "gather": {
     "logged": 1598431657736
    },
    "jupyter": {
     "outputs_hidden": false,
     "source_hidden": false
    },
    "nteract": {
     "transient": {
      "deleting": false
     }
    }
   },
   "source": [
    "#### Step2: Prepare an entry script: \n",
    "\n",
    "An inference configuration describes how to set up the web-service containing your model. It's used later, when you deploy the model. The entry script receives data submitted to a deployed web service and passes it to the model. It then takes the response returned by the model and returns that to the client. The script is specific to your model. It must understand the data that the model expects and returns.\n",
    "\n",
    "The two things you need to accomplish in your entry script are:\n",
    "\n",
    "Loading your model (using a function called init())\n",
    "Running your model on input data (using a function called run())"
   ]
  },
  {
   "cell_type": "code",
   "execution_count": 46,
   "metadata": {
    "gather": {
     "logged": 1598432707604
    },
    "jupyter": {
     "outputs_hidden": false,
     "source_hidden": false
    },
    "nteract": {
     "transient": {
      "deleting": false
     }
    }
   },
   "outputs": [],
   "source": [
    "if \"inference\" not in os.listdir():\n",
    "    os.mkdir(\"./inference\")\n",
    "    \n",
    "autoscore_file = 'inference/autoscore.py'\n",
    "\n",
    "# best_auto_run.download_file('outputs/scoring_file_v_1_0_0.py', 'inference/autoscore.py' )"
   ]
  },
  {
   "cell_type": "code",
   "execution_count": 47,
   "metadata": {},
   "outputs": [
    {
     "name": "stdout",
     "output_type": "stream",
     "text": [
      "Overwriting inference/autoscore.py\n"
     ]
    }
   ],
   "source": [
    "%%writefile inference/autoscore.py\n",
    "\n",
    "import json\n",
    "import logging\n",
    "import os\n",
    "import pickle\n",
    "import numpy as np\n",
    "import pandas as pd\n",
    "import joblib\n",
    "\n",
    "import azureml.automl.core\n",
    "from azureml.automl.core.shared import logging_utilities, log_server\n",
    "from azureml.telemetry import INSTRUMENTATION_KEY\n",
    "\n",
    "from inference_schema.schema_decorators import input_schema, output_schema\n",
    "from inference_schema.parameter_types.numpy_parameter_type import NumpyParameterType\n",
    "from inference_schema.parameter_types.pandas_parameter_type import PandasParameterType\n",
    "\n",
    "\n",
    "\n",
    "try:\n",
    "    log_server.enable_telemetry(INSTRUMENTATION_KEY)\n",
    "    log_server.set_verbosity('INFO')\n",
    "    logger = logging.getLogger('azureml.automl.core.scoring_script')\n",
    "except:\n",
    "    pass\n",
    "\n",
    "\n",
    "def init():\n",
    "    global model\n",
    "    # This name is model.id of model that we want to deploy deserialize the model file back\n",
    "    # into a sklearn model\n",
    "    model_base_path = os.path.join(os.getenv('AZUREML_MODEL_DIR'), 'outputs')\n",
    "    model_path = os.path.join(model_base_path, 'model.pkl')\n",
    "    path = os.path.normpath(model_path)\n",
    "    path_split = path.split(os.sep)\n",
    "    log_server.update_custom_dimensions({'model_name': path_split[-3], 'model_version': path_split[-2]})\n",
    "    try:\n",
    "        logger.info(\"Loading model from path.\")\n",
    "        model = joblib.load(model_path)\n",
    "        logger.info(\"Loading successful.\")\n",
    "    except Exception as e:\n",
    "        logging_utilities.log_traceback(e, logger)\n",
    "        raise\n",
    "\n",
    "\n",
    "def run(data):\n",
    "    try:\n",
    "        temp = json.loads(data)\n",
    "        data_df = pd.DataFrame(temp['data'])\n",
    "        print(\"data \", data_df)\n",
    "        print(\"**********************\")\n",
    "        result = model.predict(data_df)\n",
    "        print(\"Result is \", result)\n",
    "        return json.dumps({\"result\": result.tolist()})\n",
    "    except Exception as e:\n",
    "        result = str(e)\n",
    "        return json.dumps({\"error\": result})\n"
   ]
  },
  {
   "cell_type": "markdown",
   "metadata": {
    "collapsed": true,
    "gather": {
     "logged": 1598432765711
    },
    "jupyter": {
     "outputs_hidden": false,
     "source_hidden": false
    },
    "nteract": {
     "transient": {
      "deleting": false
     }
    }
   },
   "source": [
    "#### Step3: Prepare an inference configuration: \n",
    "\n",
    "An inference configuration describes how to set up the web-service containing your model. It's used later, when you deploy the model. Here we are chossing Azure Container Instance (ACI) as a computer target and deployed using deploy API of Model class.\n"
   ]
  },
  {
   "cell_type": "code",
   "execution_count": 48,
   "metadata": {
    "jupyter": {
     "outputs_hidden": false,
     "source_hidden": false
    },
    "nteract": {
     "transient": {
      "deleting": false
     }
    }
   },
   "outputs": [
    {
     "data": {
      "text/plain": [
       "'AutoML66b4861e00'"
      ]
     },
     "execution_count": 48,
     "metadata": {},
     "output_type": "execute_result"
    }
   ],
   "source": [
    "model_name = best_auto_run.properties['model_name']\n",
    "model_name"
   ]
  },
  {
   "cell_type": "code",
   "execution_count": 49,
   "metadata": {},
   "outputs": [
    {
     "name": "stdout",
     "output_type": "stream",
     "text": [
      "Tips: You can try get_logs(): https://aka.ms/debugimage#dockerlog or local deployment: https://aka.ms/debugimage#debug-locally to debug if deployment takes longer than 10 minutes.\n",
      "Running\n",
      "2021-04-12 11:16:06+00:00 Creating Container Registry if not exists.\n",
      "2021-04-12 11:16:06+00:00 Registering the environment.\n",
      "2021-04-12 11:16:08+00:00 Use the existing image.\n",
      "2021-04-12 11:16:08+00:00 Generating deployment configuration.\n",
      "2021-04-12 11:16:08+00:00 Submitting deployment to compute..\n",
      "2021-04-12 11:16:11+00:00 Checking the status of deployment vrk-auto-ids..\n",
      "2021-04-12 11:17:02+00:00 Checking the status of inference endpoint vrk-auto-ids.\n",
      "Succeeded\n",
      "ACI service creation operation finished, operation \"Succeeded\"\n",
      "Healthy\n",
      "http://4a035f48-a478-4ce4-b4f7-46d5baed2a0d.southcentralus.azurecontainer.io/score\n",
      "http://4a035f48-a478-4ce4-b4f7-46d5baed2a0d.southcentralus.azurecontainer.io/swagger.json\n"
     ]
    }
   ],
   "source": [
    "from azureml.core.environment import Environment\n",
    "from azureml.core.model import InferenceConfig\n",
    "from azureml.core.webservice import Webservice, AciWebservice\n",
    "from azureml.core.model import Model\n",
    "\n",
    "\n",
    "\n",
    "inference_config = InferenceConfig(entry_script=autoscore_file, environment=best_auto_run.get_environment())\n",
    "\n",
    "deployment_config = AciWebservice.deploy_configuration(cpu_cores=1, memory_gb=4, enable_app_insights=True)\n",
    "\n",
    "ids_auto_websvc = Model.deploy(vrk_auto_ids_ws, 'vrk-auto-ids', [ids_auto_mdl], inference_config, deployment_config)\n",
    "ids_auto_websvc.wait_for_deployment(show_output = True)\n",
    "\n",
    "print(ids_auto_websvc.state)\n",
    "print(ids_auto_websvc.scoring_uri)\n",
    "print(ids_auto_websvc.swagger_uri)"
   ]
  },
  {
   "cell_type": "markdown",
   "metadata": {},
   "source": [
    "#### Send request to deployed webservice\n",
    "In the cell below, send a request to the web service you deployed to test it."
   ]
  },
  {
   "cell_type": "code",
   "execution_count": 53,
   "metadata": {},
   "outputs": [
    {
     "name": "stdout",
     "output_type": "stream",
     "text": [
      "Response Code :  200\n",
      "Predicted Value :  {\"result\": [0]}\n"
     ]
    }
   ],
   "source": [
    "import requests\n",
    "import json\n",
    "\n",
    "# URL for the web service\n",
    "scoring_uri = 'http://4a035f48-a478-4ce4-b4f7-46d5baed2a0d.southcentralus.azurecontainer.io/score'\n",
    "\n",
    "# Set the content type\n",
    "headers = {'Content-Type': 'application/json'}\n",
    "\n",
    "# Two sets of data to score, so we get two results back\n",
    "data = {\"data\":\n",
    "        [{\n",
    "            \"duration\": 0,\n",
    "            \"protocol_type\": \"tcp\",\n",
    "            \"service\": \"http\",\n",
    "            \"flag\": \"REJ\",\n",
    "            \"src_bytes\": 0,\n",
    "            \"dst_bytes\": 0,\n",
    "            \"land\": 0,\n",
    "            \"wrong_fragment\": 0,\n",
    "            \"urgent\": 0,\n",
    "            \"hot\": 0,\n",
    "            \"num_failed_logins\": 0,\n",
    "            \"logged_in\": 0,\n",
    "            \"num_compromised\": 0,\n",
    "            \"root_shell\": 0,\n",
    "            \"su_attempted\": 0,\n",
    "            \"num_root\": 0,\n",
    "            \"num_file_creations\": 0,\n",
    "            \"num_shells\": 0,\n",
    "            \"num_access_files\": 0,\n",
    "            \"num_outbound_cmds\": 0,\n",
    "            \"is_hot_login\": 0,\n",
    "            \"is_guest_login\": 0,\n",
    "            \"count\": 0,\n",
    "            \"srv_count\": 0,\n",
    "            \"serror_rate\": 0,\n",
    "            \"srv_serror_rate\": 0,\n",
    "            \"rerror_rate\": 0,\n",
    "            \"srv_rerror_rate\": 0,\n",
    "            \"same_srv_rate\": 0,\n",
    "            \"diff_srv_rate\": 0,\n",
    "            \"srv_diff_host_rate\": 0,\n",
    "            \"dst_host_count\": 0,\n",
    "            \"dst_host_srv_count\": 0,\n",
    "            \"dst_host_same_srv_rate\": 0,\n",
    "            \"dst_host_diff_srv_rate\": 0,\n",
    "            \"dst_host_same_src_port_rate\": 0,\n",
    "            \"dst_host_srv_diff_host_rate\": 0,\n",
    "            \"dst_host_serror_rate\": 0,\n",
    "            \"dst_host_srv_serror_rate\": 0,\n",
    "            \"dst_host_rerror_rate\": 0,\n",
    "            \"dst_host_srv_rerror_rate\": 0 }\n",
    "        ]\n",
    "    }\n",
    "# Convert to JSON string\n",
    "input_data = json.dumps(data)\n",
    "\n",
    "# Make the request and display the response\n",
    "resp = requests.post(scoring_uri, input_data, headers=headers)\n",
    "\n",
    "print(\"Response Code : \", resp.status_code)\n",
    "print(\"Predicted Value : \",resp.json())"
   ]
  },
  {
   "cell_type": "code",
   "execution_count": 54,
   "metadata": {},
   "outputs": [
    {
     "name": "stdout",
     "output_type": "stream",
     "text": [
      "2021-04-12T11:16:54,513759000+00:00 - gunicorn/run \n",
      "2021-04-12T11:16:54,515651400+00:00 - rsyslog/run \n",
      "2021-04-12T11:16:54,532675000+00:00 - iot-server/run \n",
      "rsyslogd: /azureml-envs/azureml_8e5a5a51349877e7d47c6a2872e0ebfd/lib/libuuid.so.1: no version information available (required by rsyslogd)\n",
      "2021-04-12T11:16:54,558974300+00:00 - nginx/run \n",
      "/usr/sbin/nginx: /azureml-envs/azureml_8e5a5a51349877e7d47c6a2872e0ebfd/lib/libcrypto.so.1.0.0: no version information available (required by /usr/sbin/nginx)\n",
      "/usr/sbin/nginx: /azureml-envs/azureml_8e5a5a51349877e7d47c6a2872e0ebfd/lib/libcrypto.so.1.0.0: no version information available (required by /usr/sbin/nginx)\n",
      "/usr/sbin/nginx: /azureml-envs/azureml_8e5a5a51349877e7d47c6a2872e0ebfd/lib/libssl.so.1.0.0: no version information available (required by /usr/sbin/nginx)\n",
      "/usr/sbin/nginx: /azureml-envs/azureml_8e5a5a51349877e7d47c6a2872e0ebfd/lib/libssl.so.1.0.0: no version information available (required by /usr/sbin/nginx)\n",
      "/usr/sbin/nginx: /azureml-envs/azureml_8e5a5a51349877e7d47c6a2872e0ebfd/lib/libssl.so.1.0.0: no version information available (required by /usr/sbin/nginx)\n",
      "EdgeHubConnectionString and IOTEDGE_IOTHUBHOSTNAME are not set. Exiting...\n",
      "2021-04-12T11:16:54,858396900+00:00 - iot-server/finish 1 0\n",
      "2021-04-12T11:16:54,863481900+00:00 - Exit code 1 is normal. Not restarting iot-server.\n",
      "Starting gunicorn 19.9.0\n",
      "Listening at: http://127.0.0.1:31311 (71)\n",
      "Using worker: sync\n",
      "worker timeout is set to 300\n",
      "Booting worker with pid: 97\n",
      "SPARK_HOME not set. Skipping PySpark Initialization.\n",
      "Generating new fontManager, this may take some time...\n",
      "Initializing logger\n",
      "2021-04-12 11:16:57,425 | root | INFO | Starting up app insights client\n",
      "2021-04-12 11:16:57,426 | root | INFO | Starting up request id generator\n",
      "2021-04-12 11:16:57,426 | root | INFO | Starting up app insight hooks\n",
      "2021-04-12 11:16:57,426 | root | INFO | Invoking user's init function\n",
      "2021-04-12 11:17:02,327 | azureml.core | WARNING | Failure while loading azureml_run_type_providers. Failed to load entrypoint automl = azureml.train.automl.run:AutoMLRun._from_run_dto with exception cannot import name 'RunType'.\n",
      "Failure while loading azureml_run_type_providers. Failed to load entrypoint automl = azureml.train.automl.run:AutoMLRun._from_run_dto with exception cannot import name 'RunType'.\n",
      "2021-04-12 11:17:02,793 | root | INFO | Users's init has completed successfully\n",
      "2021-04-12 11:17:02,799 | root | INFO | Skipping middleware: dbg_model_info as it's not enabled.\n",
      "2021-04-12 11:17:02,799 | root | INFO | Skipping middleware: dbg_resource_usage as it's not enabled.\n",
      "2021-04-12 11:17:02,800 | root | INFO | Scoring timeout is found from os.environ: 60000 ms\n",
      "2021-04-12 11:17:02,862 | root | INFO | Swagger file not present\n",
      "2021-04-12 11:17:02,863 | root | INFO | 404\n",
      "127.0.0.1 - - [12/Apr/2021:11:17:02 +0000] \"GET /swagger.json HTTP/1.0\" 404 19 \"-\" \"Go-http-client/1.1\"\n",
      "2021-04-12 11:17:05,282 | root | INFO | Swagger file not present\n",
      "2021-04-12 11:17:05,283 | root | INFO | 404\n",
      "127.0.0.1 - - [12/Apr/2021:11:17:05 +0000] \"GET /swagger.json HTTP/1.0\" 404 19 \"-\" \"Go-http-client/1.1\"\n",
      "2021-04-12 11:25:30,306 | root | INFO | Swagger file not present\n",
      "2021-04-12 11:25:30,307 | root | INFO | 404\n",
      "127.0.0.1 - - [12/Apr/2021:11:25:30 +0000] \"GET /swagger.json HTTP/1.0\" 404 19 \"-\" \"Go-http-client/1.1\"\n",
      "2021-04-12 11:26:05,644 | root | INFO | Validation Request Content-Type\n",
      "2021-04-12 11:26:05,645 | root | INFO | Scoring Timer is set to 60.0 seconds\n",
      "data\n",
      "   duration protocol_type  ... dst_host_rerror_rate dst_host_srv_rerror_rate\n",
      "0         0           tcp  ...                    0                        0\n",
      "\n",
      "[1 rows x 41 columns]\n",
      "**********************\n",
      "Result is\n",
      "[0]\n",
      "2021-04-12 11:26:06,268 | root | INFO | 200\n",
      "127.0.0.1 - - [12/Apr/2021:11:26:06 +0000] \"POST /score HTTP/1.0\" 200 19 \"-\" \"python-requests/2.25.1\"\n",
      "2021-04-12 11:32:50,541 | root | INFO | Swagger file not present\n",
      "2021-04-12 11:32:50,541 | root | INFO | 404\n",
      "127.0.0.1 - - [12/Apr/2021:11:32:50 +0000] \"GET /swagger.json HTTP/1.0\" 404 19 \"-\" \"Go-http-client/1.1\"\n",
      "2021-04-12 11:33:19,707 | root | INFO | Validation Request Content-Type\n",
      "2021-04-12 11:33:19,708 | root | INFO | Scoring Timer is set to 60.0 seconds\n",
      "data\n",
      "   duration protocol_type  ... dst_host_rerror_rate dst_host_srv_rerror_rate\n",
      "0         0           tcp  ...                    0                        0\n",
      "\n",
      "[1 rows x 41 columns]\n",
      "**********************\n",
      "Result is\n",
      "[0]\n",
      "2021-04-12 11:33:20,131 | root | INFO | 200\n",
      "127.0.0.1 - - [12/Apr/2021:11:33:20 +0000] \"POST /score HTTP/1.0\" 200 19 \"-\" \"python-requests/2.25.1\"\n",
      "\n"
     ]
    }
   ],
   "source": [
    "# Web Service Logs\n",
    "print(ids_auto_websvc.get_logs())"
   ]
  },
  {
   "cell_type": "code",
   "execution_count": 32,
   "metadata": {},
   "outputs": [],
   "source": [
    "# Delete the service\n",
    "ids_auto_websvc.delete()"
   ]
  },
  {
   "cell_type": "markdown",
   "metadata": {},
   "source": [
    "### Following section Debug cells\n",
    "\n",
    "I left it for future reference"
   ]
  },
  {
   "cell_type": "code",
   "execution_count": null,
   "metadata": {},
   "outputs": [],
   "source": [
    "import joblib\n",
    "#TODO: Save the best model\n",
    "joblib.dump(best_fitted_model, 'best_fit_automm_ids.pkl')"
   ]
  },
  {
   "cell_type": "code",
   "execution_count": null,
   "metadata": {},
   "outputs": [],
   "source": [
    "best_ids_auto_model = joblib.load('best_fit_automm_ids.pkl')"
   ]
  },
  {
   "cell_type": "code",
   "execution_count": null,
   "metadata": {},
   "outputs": [],
   "source": [
    "import pandas as pd\n",
    "temp = json.loads(input_data)\n",
    "data_df = pd.DataFrame(temp['data'])\n",
    "print(\"data \", data_df)\n",
    "best_ids_auto_model.predict(data_df)"
   ]
  },
  {
   "cell_type": "code",
   "execution_count": 33,
   "metadata": {},
   "outputs": [],
   "source": [
    "cpu_cluster.delete()"
   ]
  },
  {
   "cell_type": "code",
   "execution_count": null,
   "metadata": {},
   "outputs": [],
   "source": []
  }
 ],
 "metadata": {
  "kernel_info": {
   "name": "python3-azureml"
  },
  "kernelspec": {
   "display_name": "Python 3",
   "language": "python",
   "name": "python3"
  },
  "language_info": {
   "codemirror_mode": {
    "name": "ipython",
    "version": 3
   },
   "file_extension": ".py",
   "mimetype": "text/x-python",
   "name": "python",
   "nbconvert_exporter": "python",
   "pygments_lexer": "ipython3",
   "version": "3.6.9"
  },
  "nteract": {
   "version": "nteract-front-end@1.0.0"
  }
 },
 "nbformat": 4,
 "nbformat_minor": 2
}
