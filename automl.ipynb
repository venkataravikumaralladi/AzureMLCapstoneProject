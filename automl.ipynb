{
 "cells": [
  {
   "cell_type": "code",
   "execution_count": null,
   "metadata": {},
   "outputs": [],
   "source": [
    "https://github.com/venkataravikumaralladi/AzureMLCapstoneProject.git"
   ]
  },
  {
   "cell_type": "markdown",
   "metadata": {},
   "source": [
    "# Automated ML\n",
    "\n",
    "In this capstone project I will showcase how we can use data science as a investigation tool, here we use classfication algorithm to distinguish between normal traffic (good connections) and intrusion or attacks traffic (bad connections). A connection is a sequence of TCP packets starting and ending at some well difined times, between which data flows to and from source IP address to a target IP address under some well defined protocol. We will create Intrusion Detection System (IDS)\n",
    "\n",
    "In this notebook you will learn how to:\n",
    "1. Create an `Experiment` in an existing `Workspace`.\n",
    "2. Create or Attach existing AmlCompute to a workspace.\n",
    "3. Define data loading in a `TabularDataset`.\n",
    "4. Configure AutoML using `AutoMLConfig`.\n",
    "5. Use AutoMLStep\n",
    "6. Train the model using AmlCompute\n",
    "7. Explore the results.\n",
    "8. Test the best fitted model."
   ]
  },
  {
   "cell_type": "markdown",
   "metadata": {},
   "source": [
    "#### Import Dependencies.\n",
    "In the cell below, import all the dependencies that you will need to complete the project."
   ]
  },
  {
   "cell_type": "code",
   "execution_count": 1,
   "metadata": {
    "gather": {
     "logged": 1598423888013
    },
    "jupyter": {
     "outputs_hidden": false,
     "source_hidden": false
    },
    "nteract": {
     "transient": {
      "deleting": false
     }
    }
   },
   "outputs": [],
   "source": [
    "import os"
   ]
  },
  {
   "cell_type": "markdown",
   "metadata": {},
   "source": [
    "## Dataset\n",
    "\n",
    "### Data description\n",
    "Data is collected by packet analyzers (also known as packet/network/protocol snifers) intercept and log traffic in the network.The dataset that we will use is the NSLKDD dataset. The original 1999 KDD Cup dataset was created for the DARPA Intrusion Detection Evaluation Program, prepared and managed by MIT Lincoln Laboratory. The data was collected over nine\n",
    "weeks and consists of raw tcpdump traffic in a local area network (LAN) that simulates the environment of a typical United States Air Force LAN. Some network attacks were deliberately carried out during the recording period. There were 38 different\n",
    "types of attacks, but only 24 are available in the training set. \n",
    "\n",
    "#### Data references\n",
    "\n",
    "https://www.unb.ca/cic/datasets/nsl.html     \n",
    "https://www.kaggle.com/hassan06/nslkdd"
   ]
  },
  {
   "cell_type": "markdown",
   "metadata": {},
   "source": [
    "## Initialize Workspace\n",
    "Initialize a workspace object from persisted configuration. Make sure the config file is present at .\\config.json"
   ]
  },
  {
   "cell_type": "code",
   "execution_count": 2,
   "metadata": {
    "gather": {
     "logged": 1598423890461
    },
    "jupyter": {
     "outputs_hidden": false,
     "source_hidden": false
    },
    "nteract": {
     "transient": {
      "deleting": false
     }
    }
   },
   "outputs": [
    {
     "name": "stdout",
     "output_type": "stream",
     "text": [
      "Workspace name: quick-starts-ws-142375\n",
      "Azure region: southcentralus\n",
      "Subscription id: d4ad7261-832d-46b2-b093-22156001df5b\n",
      "Resource group: aml-quickstarts-142375\n",
      "SDK version: 1.26.0\n"
     ]
    }
   ],
   "source": [
    "from azureml.core import Workspace, Experiment\n",
    "\n",
    "vrk_auto_ids_ws = Workspace.from_config()\n",
    "vrk_auto_ids_exp = Experiment(workspace=vrk_auto_ids_ws, name=\"vrk_ids_auto_exp\")\n",
    "\n",
    "print('Workspace name: ' + vrk_auto_ids_ws.name, \n",
    "      'Azure region: ' + vrk_auto_ids_ws.location, \n",
    "      'Subscription id: ' + vrk_auto_ids_ws.subscription_id, \n",
    "      'Resource group: ' + vrk_auto_ids_ws.resource_group, sep = '\\n')\n",
    "\n",
    "auto_ids_run = vrk_auto_ids_exp.start_logging()\n",
    "print(\"SDK version:\", azureml.core.VERSION)"
   ]
  },
  {
   "cell_type": "markdown",
   "metadata": {},
   "source": [
    "### Create or Attach an AmlCompute cluster\n",
    "You will need to create a [compute target](https://docs.microsoft.com/azure/machine-learning/service/concept-azure-machine-learning-architecture#compute-target) for your run. "
   ]
  },
  {
   "cell_type": "code",
   "execution_count": 3,
   "metadata": {},
   "outputs": [
    {
     "name": "stdout",
     "output_type": "stream",
     "text": [
      "Found existing cluster, use it.\n",
      "Succeeded\n",
      "AmlCompute wait for completion finished\n",
      "\n",
      "Minimum number of nodes requested have been provisioned\n"
     ]
    }
   ],
   "source": [
    "from azureml.core.compute import ComputeTarget, AmlCompute\n",
    "from azureml.core.compute_target import ComputeTargetException\n",
    "\n",
    "# Choose a name for your CPU cluster\n",
    "cpu_cluster_name = \"cpucluster\"\n",
    "\n",
    "# Verify that cluster does not exist already\n",
    "try:\n",
    "    cpu_cluster = ComputeTarget(workspace=vrk_auto_ids_ws, name=cpu_cluster_name)\n",
    "    print('Found existing cluster, use it.')\n",
    "except ComputeTargetException:\n",
    "    compute_config = AmlCompute.provisioning_configuration(vm_size='STANDARD_D2_V2',\n",
    "                                                           max_nodes=4)\n",
    "    cpu_cluster = ComputeTarget.create(vrk_auto_ids_ws, cpu_cluster_name, compute_config)\n",
    "\n",
    "cpu_cluster.wait_for_completion(show_output=True)"
   ]
  },
  {
   "cell_type": "markdown",
   "metadata": {},
   "source": [
    "### Download and prepare data for AutoML learning\n"
   ]
  },
  {
   "cell_type": "code",
   "execution_count": 4,
   "metadata": {},
   "outputs": [],
   "source": [
    "from azureml.data.dataset_factory import TabularDatasetFactory\n",
    "\n",
    "# Create TabularDataset using TabularDatasetFactory\n",
    "\n",
    "kdd_auto_webpath = [\n",
    "                     'https://raw.githubusercontent.com/venkataravikumaralladi/AzureMLCapstoneProject/main/KDDTrain.csv'\n",
    "                   ]\n",
    "\n",
    "#create bankmarketing data set in tabular format using TabularDatasetFactory\n",
    "ids_auto_dataset = TabularDatasetFactory.from_delimited_files(path=kdd_auto_webpath)"
   ]
  },
  {
   "cell_type": "code",
   "execution_count": 5,
   "metadata": {},
   "outputs": [
    {
     "name": "stdout",
     "output_type": "stream",
     "text": [
      "train df data shape  (125972, 43)\n"
     ]
    },
    {
     "data": {
      "text/html": [
       "<div>\n",
       "<style scoped>\n",
       "    .dataframe tbody tr th:only-of-type {\n",
       "        vertical-align: middle;\n",
       "    }\n",
       "\n",
       "    .dataframe tbody tr th {\n",
       "        vertical-align: top;\n",
       "    }\n",
       "\n",
       "    .dataframe thead th {\n",
       "        text-align: right;\n",
       "    }\n",
       "</style>\n",
       "<table border=\"1\" class=\"dataframe\">\n",
       "  <thead>\n",
       "    <tr style=\"text-align: right;\">\n",
       "      <th></th>\n",
       "      <th>duration</th>\n",
       "      <th>protocol_type</th>\n",
       "      <th>service</th>\n",
       "      <th>flag</th>\n",
       "      <th>src_bytes</th>\n",
       "      <th>dst_bytes</th>\n",
       "      <th>land</th>\n",
       "      <th>wrong_fragment</th>\n",
       "      <th>urgent</th>\n",
       "      <th>hot</th>\n",
       "      <th>...</th>\n",
       "      <th>dst_host_same_srv_rate</th>\n",
       "      <th>dst_host_diff_srv_rate</th>\n",
       "      <th>dst_host_same_src_port_rate</th>\n",
       "      <th>dst_host_srv_diff_host_rate</th>\n",
       "      <th>dst_host_serror_rate</th>\n",
       "      <th>dst_host_srv_serror_rate</th>\n",
       "      <th>dst_host_rerror_rate</th>\n",
       "      <th>dst_host_srv_rerror_rate</th>\n",
       "      <th>attack_type</th>\n",
       "      <th>success_pred</th>\n",
       "    </tr>\n",
       "  </thead>\n",
       "  <tbody>\n",
       "    <tr>\n",
       "      <th>0</th>\n",
       "      <td>0</td>\n",
       "      <td>udp</td>\n",
       "      <td>other</td>\n",
       "      <td>SF</td>\n",
       "      <td>146</td>\n",
       "      <td>0</td>\n",
       "      <td>0</td>\n",
       "      <td>0</td>\n",
       "      <td>0</td>\n",
       "      <td>0</td>\n",
       "      <td>...</td>\n",
       "      <td>0.00</td>\n",
       "      <td>0.60</td>\n",
       "      <td>0.88</td>\n",
       "      <td>0.00</td>\n",
       "      <td>0.00</td>\n",
       "      <td>0.00</td>\n",
       "      <td>0.0</td>\n",
       "      <td>0.00</td>\n",
       "      <td>normal</td>\n",
       "      <td>15</td>\n",
       "    </tr>\n",
       "    <tr>\n",
       "      <th>1</th>\n",
       "      <td>0</td>\n",
       "      <td>tcp</td>\n",
       "      <td>private</td>\n",
       "      <td>S0</td>\n",
       "      <td>0</td>\n",
       "      <td>0</td>\n",
       "      <td>0</td>\n",
       "      <td>0</td>\n",
       "      <td>0</td>\n",
       "      <td>0</td>\n",
       "      <td>...</td>\n",
       "      <td>0.10</td>\n",
       "      <td>0.05</td>\n",
       "      <td>0.00</td>\n",
       "      <td>0.00</td>\n",
       "      <td>1.00</td>\n",
       "      <td>1.00</td>\n",
       "      <td>0.0</td>\n",
       "      <td>0.00</td>\n",
       "      <td>neptune</td>\n",
       "      <td>19</td>\n",
       "    </tr>\n",
       "    <tr>\n",
       "      <th>2</th>\n",
       "      <td>0</td>\n",
       "      <td>tcp</td>\n",
       "      <td>http</td>\n",
       "      <td>SF</td>\n",
       "      <td>232</td>\n",
       "      <td>8153</td>\n",
       "      <td>0</td>\n",
       "      <td>0</td>\n",
       "      <td>0</td>\n",
       "      <td>0</td>\n",
       "      <td>...</td>\n",
       "      <td>1.00</td>\n",
       "      <td>0.00</td>\n",
       "      <td>0.03</td>\n",
       "      <td>0.04</td>\n",
       "      <td>0.03</td>\n",
       "      <td>0.01</td>\n",
       "      <td>0.0</td>\n",
       "      <td>0.01</td>\n",
       "      <td>normal</td>\n",
       "      <td>21</td>\n",
       "    </tr>\n",
       "    <tr>\n",
       "      <th>3</th>\n",
       "      <td>0</td>\n",
       "      <td>tcp</td>\n",
       "      <td>http</td>\n",
       "      <td>SF</td>\n",
       "      <td>199</td>\n",
       "      <td>420</td>\n",
       "      <td>0</td>\n",
       "      <td>0</td>\n",
       "      <td>0</td>\n",
       "      <td>0</td>\n",
       "      <td>...</td>\n",
       "      <td>1.00</td>\n",
       "      <td>0.00</td>\n",
       "      <td>0.00</td>\n",
       "      <td>0.00</td>\n",
       "      <td>0.00</td>\n",
       "      <td>0.00</td>\n",
       "      <td>0.0</td>\n",
       "      <td>0.00</td>\n",
       "      <td>normal</td>\n",
       "      <td>21</td>\n",
       "    </tr>\n",
       "    <tr>\n",
       "      <th>4</th>\n",
       "      <td>0</td>\n",
       "      <td>tcp</td>\n",
       "      <td>private</td>\n",
       "      <td>REJ</td>\n",
       "      <td>0</td>\n",
       "      <td>0</td>\n",
       "      <td>0</td>\n",
       "      <td>0</td>\n",
       "      <td>0</td>\n",
       "      <td>0</td>\n",
       "      <td>...</td>\n",
       "      <td>0.07</td>\n",
       "      <td>0.07</td>\n",
       "      <td>0.00</td>\n",
       "      <td>0.00</td>\n",
       "      <td>0.00</td>\n",
       "      <td>0.00</td>\n",
       "      <td>1.0</td>\n",
       "      <td>1.00</td>\n",
       "      <td>neptune</td>\n",
       "      <td>21</td>\n",
       "    </tr>\n",
       "  </tbody>\n",
       "</table>\n",
       "<p>5 rows × 43 columns</p>\n",
       "</div>"
      ],
      "text/plain": [
       "   duration protocol_type  service flag  src_bytes  dst_bytes  land  \\\n",
       "0         0           udp    other   SF        146          0     0   \n",
       "1         0           tcp  private   S0          0          0     0   \n",
       "2         0           tcp     http   SF        232       8153     0   \n",
       "3         0           tcp     http   SF        199        420     0   \n",
       "4         0           tcp  private  REJ          0          0     0   \n",
       "\n",
       "   wrong_fragment  urgent  hot  ...  dst_host_same_srv_rate  \\\n",
       "0               0       0    0  ...                    0.00   \n",
       "1               0       0    0  ...                    0.10   \n",
       "2               0       0    0  ...                    1.00   \n",
       "3               0       0    0  ...                    1.00   \n",
       "4               0       0    0  ...                    0.07   \n",
       "\n",
       "   dst_host_diff_srv_rate  dst_host_same_src_port_rate  \\\n",
       "0                    0.60                         0.88   \n",
       "1                    0.05                         0.00   \n",
       "2                    0.00                         0.03   \n",
       "3                    0.00                         0.00   \n",
       "4                    0.07                         0.00   \n",
       "\n",
       "   dst_host_srv_diff_host_rate  dst_host_serror_rate  \\\n",
       "0                         0.00                  0.00   \n",
       "1                         0.00                  1.00   \n",
       "2                         0.04                  0.03   \n",
       "3                         0.00                  0.00   \n",
       "4                         0.00                  0.00   \n",
       "\n",
       "   dst_host_srv_serror_rate  dst_host_rerror_rate  dst_host_srv_rerror_rate  \\\n",
       "0                      0.00                   0.0                      0.00   \n",
       "1                      1.00                   0.0                      0.00   \n",
       "2                      0.01                   0.0                      0.01   \n",
       "3                      0.00                   0.0                      0.00   \n",
       "4                      0.00                   1.0                      1.00   \n",
       "\n",
       "   attack_type  success_pred  \n",
       "0       normal            15  \n",
       "1      neptune            19  \n",
       "2       normal            21  \n",
       "3       normal            21  \n",
       "4      neptune            21  \n",
       "\n",
       "[5 rows x 43 columns]"
      ]
     },
     "execution_count": 5,
     "metadata": {},
     "output_type": "execute_result"
    }
   ],
   "source": [
    "# class variables\n",
    "network_data_column_names = [ \n",
    "                  'duration', 'protocol_type', 'service',\n",
    "                  'flag', 'src_bytes', 'dst_bytes',\n",
    "                  'land', 'wrong_fragment', 'urgent',\n",
    "    \n",
    "            \n",
    "                  'hot', 'num_failed_logins', 'logged_in',\n",
    "                  'num_compromised', 'root_shell', 'su_attempted',\n",
    "                  'num_root', 'num_file_creations', 'num_shells',\n",
    "                  'num_access_files', 'num_outbound_cmds', 'is_hot_login',\n",
    "                  'is_guest_login',\n",
    "    \n",
    "                 \n",
    "                  'count', 'srv_count', 'serror_rate',\n",
    "                  'srv_serror_rate', 'rerror_rate', 'srv_rerror_rate',\n",
    "                  'same_srv_rate', 'diff_srv_rate', 'srv_diff_host_rate',\n",
    "                 \n",
    "                  'dst_host_count', 'dst_host_srv_count', 'dst_host_same_srv_rate',\n",
    "                  'dst_host_diff_srv_rate', 'dst_host_same_src_port_rate', 'dst_host_srv_diff_host_rate',\n",
    "                  'dst_host_serror_rate', 'dst_host_srv_serror_rate', 'dst_host_rerror_rate',\n",
    "                  'dst_host_srv_rerror_rate',\n",
    "    \n",
    "                   'attack_type',\n",
    "                   'success_pred' ]\n",
    "\n",
    "train_df = ids_auto_dataset.to_pandas_dataframe().dropna()\n",
    "print(\"train df data shape \", train_df.shape)\n",
    "train_df.columns = network_data_column_names\n",
    "train_df.head()"
   ]
  },
  {
   "cell_type": "code",
   "execution_count": 6,
   "metadata": {},
   "outputs": [
    {
     "name": "stdout",
     "output_type": "stream",
     "text": [
      "train df data shape  (125972, 43)\n",
      "Train data frame after droping success pred is   (125972, 42)\n"
     ]
    }
   ],
   "source": [
    "print(\"train df data shape \", train_df.shape)\n",
    "# For this analysis we drop \"success_pred\" column\n",
    "train_df.drop('success_pred', axis=1, inplace=True)\n",
    "print(\"Train data frame after droping success pred is  \", train_df.shape)"
   ]
  },
  {
   "cell_type": "code",
   "execution_count": 7,
   "metadata": {},
   "outputs": [
    {
     "name": "stdout",
     "output_type": "stream",
     "text": [
      "Shape of train_X is  (125972, 41)\n",
      "Shape of train_Y is  (125972,)\n",
      "After join train_X shape is  (125972, 42)\n"
     ]
    },
    {
     "data": {
      "text/html": [
       "<div>\n",
       "<style scoped>\n",
       "    .dataframe tbody tr th:only-of-type {\n",
       "        vertical-align: middle;\n",
       "    }\n",
       "\n",
       "    .dataframe tbody tr th {\n",
       "        vertical-align: top;\n",
       "    }\n",
       "\n",
       "    .dataframe thead th {\n",
       "        text-align: right;\n",
       "    }\n",
       "</style>\n",
       "<table border=\"1\" class=\"dataframe\">\n",
       "  <thead>\n",
       "    <tr style=\"text-align: right;\">\n",
       "      <th></th>\n",
       "      <th>duration</th>\n",
       "      <th>protocol_type</th>\n",
       "      <th>service</th>\n",
       "      <th>flag</th>\n",
       "      <th>src_bytes</th>\n",
       "      <th>dst_bytes</th>\n",
       "      <th>land</th>\n",
       "      <th>wrong_fragment</th>\n",
       "      <th>urgent</th>\n",
       "      <th>hot</th>\n",
       "      <th>...</th>\n",
       "      <th>dst_host_srv_count</th>\n",
       "      <th>dst_host_same_srv_rate</th>\n",
       "      <th>dst_host_diff_srv_rate</th>\n",
       "      <th>dst_host_same_src_port_rate</th>\n",
       "      <th>dst_host_srv_diff_host_rate</th>\n",
       "      <th>dst_host_serror_rate</th>\n",
       "      <th>dst_host_srv_serror_rate</th>\n",
       "      <th>dst_host_rerror_rate</th>\n",
       "      <th>dst_host_srv_rerror_rate</th>\n",
       "      <th>attack_type</th>\n",
       "    </tr>\n",
       "  </thead>\n",
       "  <tbody>\n",
       "    <tr>\n",
       "      <th>0</th>\n",
       "      <td>0</td>\n",
       "      <td>udp</td>\n",
       "      <td>other</td>\n",
       "      <td>SF</td>\n",
       "      <td>146</td>\n",
       "      <td>0</td>\n",
       "      <td>0</td>\n",
       "      <td>0</td>\n",
       "      <td>0</td>\n",
       "      <td>0</td>\n",
       "      <td>...</td>\n",
       "      <td>1</td>\n",
       "      <td>0.00</td>\n",
       "      <td>0.60</td>\n",
       "      <td>0.88</td>\n",
       "      <td>0.00</td>\n",
       "      <td>0.00</td>\n",
       "      <td>0.00</td>\n",
       "      <td>0.0</td>\n",
       "      <td>0.00</td>\n",
       "      <td>0</td>\n",
       "    </tr>\n",
       "    <tr>\n",
       "      <th>1</th>\n",
       "      <td>0</td>\n",
       "      <td>tcp</td>\n",
       "      <td>private</td>\n",
       "      <td>S0</td>\n",
       "      <td>0</td>\n",
       "      <td>0</td>\n",
       "      <td>0</td>\n",
       "      <td>0</td>\n",
       "      <td>0</td>\n",
       "      <td>0</td>\n",
       "      <td>...</td>\n",
       "      <td>26</td>\n",
       "      <td>0.10</td>\n",
       "      <td>0.05</td>\n",
       "      <td>0.00</td>\n",
       "      <td>0.00</td>\n",
       "      <td>1.00</td>\n",
       "      <td>1.00</td>\n",
       "      <td>0.0</td>\n",
       "      <td>0.00</td>\n",
       "      <td>1</td>\n",
       "    </tr>\n",
       "    <tr>\n",
       "      <th>2</th>\n",
       "      <td>0</td>\n",
       "      <td>tcp</td>\n",
       "      <td>http</td>\n",
       "      <td>SF</td>\n",
       "      <td>232</td>\n",
       "      <td>8153</td>\n",
       "      <td>0</td>\n",
       "      <td>0</td>\n",
       "      <td>0</td>\n",
       "      <td>0</td>\n",
       "      <td>...</td>\n",
       "      <td>255</td>\n",
       "      <td>1.00</td>\n",
       "      <td>0.00</td>\n",
       "      <td>0.03</td>\n",
       "      <td>0.04</td>\n",
       "      <td>0.03</td>\n",
       "      <td>0.01</td>\n",
       "      <td>0.0</td>\n",
       "      <td>0.01</td>\n",
       "      <td>0</td>\n",
       "    </tr>\n",
       "    <tr>\n",
       "      <th>3</th>\n",
       "      <td>0</td>\n",
       "      <td>tcp</td>\n",
       "      <td>http</td>\n",
       "      <td>SF</td>\n",
       "      <td>199</td>\n",
       "      <td>420</td>\n",
       "      <td>0</td>\n",
       "      <td>0</td>\n",
       "      <td>0</td>\n",
       "      <td>0</td>\n",
       "      <td>...</td>\n",
       "      <td>255</td>\n",
       "      <td>1.00</td>\n",
       "      <td>0.00</td>\n",
       "      <td>0.00</td>\n",
       "      <td>0.00</td>\n",
       "      <td>0.00</td>\n",
       "      <td>0.00</td>\n",
       "      <td>0.0</td>\n",
       "      <td>0.00</td>\n",
       "      <td>0</td>\n",
       "    </tr>\n",
       "    <tr>\n",
       "      <th>4</th>\n",
       "      <td>0</td>\n",
       "      <td>tcp</td>\n",
       "      <td>private</td>\n",
       "      <td>REJ</td>\n",
       "      <td>0</td>\n",
       "      <td>0</td>\n",
       "      <td>0</td>\n",
       "      <td>0</td>\n",
       "      <td>0</td>\n",
       "      <td>0</td>\n",
       "      <td>...</td>\n",
       "      <td>19</td>\n",
       "      <td>0.07</td>\n",
       "      <td>0.07</td>\n",
       "      <td>0.00</td>\n",
       "      <td>0.00</td>\n",
       "      <td>0.00</td>\n",
       "      <td>0.00</td>\n",
       "      <td>1.0</td>\n",
       "      <td>1.00</td>\n",
       "      <td>1</td>\n",
       "    </tr>\n",
       "  </tbody>\n",
       "</table>\n",
       "<p>5 rows × 42 columns</p>\n",
       "</div>"
      ],
      "text/plain": [
       "   duration protocol_type  service flag  src_bytes  dst_bytes  land  \\\n",
       "0         0           udp    other   SF        146          0     0   \n",
       "1         0           tcp  private   S0          0          0     0   \n",
       "2         0           tcp     http   SF        232       8153     0   \n",
       "3         0           tcp     http   SF        199        420     0   \n",
       "4         0           tcp  private  REJ          0          0     0   \n",
       "\n",
       "   wrong_fragment  urgent  hot  ...  dst_host_srv_count  \\\n",
       "0               0       0    0  ...                   1   \n",
       "1               0       0    0  ...                  26   \n",
       "2               0       0    0  ...                 255   \n",
       "3               0       0    0  ...                 255   \n",
       "4               0       0    0  ...                  19   \n",
       "\n",
       "   dst_host_same_srv_rate  dst_host_diff_srv_rate  \\\n",
       "0                    0.00                    0.60   \n",
       "1                    0.10                    0.05   \n",
       "2                    1.00                    0.00   \n",
       "3                    1.00                    0.00   \n",
       "4                    0.07                    0.07   \n",
       "\n",
       "   dst_host_same_src_port_rate  dst_host_srv_diff_host_rate  \\\n",
       "0                         0.88                         0.00   \n",
       "1                         0.00                         0.00   \n",
       "2                         0.03                         0.04   \n",
       "3                         0.00                         0.00   \n",
       "4                         0.00                         0.00   \n",
       "\n",
       "   dst_host_serror_rate  dst_host_srv_serror_rate  dst_host_rerror_rate  \\\n",
       "0                  0.00                      0.00                   0.0   \n",
       "1                  1.00                      1.00                   0.0   \n",
       "2                  0.03                      0.01                   0.0   \n",
       "3                  0.00                      0.00                   0.0   \n",
       "4                  0.00                      0.00                   1.0   \n",
       "\n",
       "   dst_host_srv_rerror_rate  attack_type  \n",
       "0                      0.00            0  \n",
       "1                      0.00            1  \n",
       "2                      0.01            0  \n",
       "3                      0.00            0  \n",
       "4                      1.00            1  \n",
       "\n",
       "[5 rows x 42 columns]"
      ]
     },
     "execution_count": 7,
     "metadata": {},
     "output_type": "execute_result"
    }
   ],
   "source": [
    "# Drop attack type in training data which is to be predicted.\n",
    "train_X = train_df.drop(\"attack_type\", axis=1)\n",
    "train_Y = train_df['attack_type']\n",
    "# we build binary classifier for this project\n",
    "train_Y = train_Y.apply(lambda x: 0 if x == 'normal' else 1)  \n",
    "\n",
    "print(\"Shape of train_X is \", train_X.shape)\n",
    "print(\"Shape of train_Y is \", train_Y.shape)\n",
    "train_X = train_X.join(train_Y)\n",
    "print(\"After join train_X shape is \", train_X.shape)\n",
    "train_X.head()"
   ]
  },
  {
   "cell_type": "code",
   "execution_count": 8,
   "metadata": {},
   "outputs": [
    {
     "data": {
      "text/plain": [
       "{\n",
       "  \"name\": \"workspaceblobstore\",\n",
       "  \"container_name\": \"azureml-blobstore-18aa6dcb-1ff5-4d1c-9ee7-0fc6ade942e1\",\n",
       "  \"account_name\": \"mlstrg142375\",\n",
       "  \"protocol\": \"https\",\n",
       "  \"endpoint\": \"core.windows.net\"\n",
       "}"
      ]
     },
     "execution_count": 8,
     "metadata": {},
     "output_type": "execute_result"
    }
   ],
   "source": [
    "#store data frame to data store for AutoMLConfig training\n",
    "if \"training\" not in os.listdir():\n",
    "    os.mkdir(\"./training\")\n",
    "train_X.to_csv('training/ids_train_data.csv', index=False)\n",
    "default_datastore = vrk_auto_ids_ws.get_default_datastore()\n",
    "default_datastore"
   ]
  },
  {
   "cell_type": "code",
   "execution_count": 9,
   "metadata": {},
   "outputs": [
    {
     "name": "stdout",
     "output_type": "stream",
     "text": [
      "Uploading an estimated of 1 files\n",
      "Uploading training/ids_train_data.csv\n",
      "Uploaded training/ids_train_data.csv, 1 files out of an estimated total of 1\n",
      "Uploaded 1 files\n"
     ]
    },
    {
     "data": {
      "text/plain": [
       "$AZUREML_DATAREFERENCE_79e187fd890d47909a3f392497dca894"
      ]
     },
     "execution_count": 9,
     "metadata": {},
     "output_type": "execute_result"
    }
   ],
   "source": [
    "#upload training data to data store for AutomMLConfig training\n",
    "default_datastore.upload(src_dir='training', target_path='data/')"
   ]
  },
  {
   "cell_type": "code",
   "execution_count": 10,
   "metadata": {},
   "outputs": [],
   "source": [
    "# get data set pointer to data store for bank training data\n",
    "from azureml.core import Dataset\n",
    "ids_auto_dataset = Dataset.Tabular.from_delimited_files(path=[(default_datastore, ('data/ids_train_data.csv'))])"
   ]
  },
  {
   "cell_type": "markdown",
   "metadata": {},
   "source": [
    "## AutoML Configuration\n",
    "\n",
    "Intrusion Detection system is a classification task. According AutomMLConfigParameters are set which are used for this job as mentioned here.\n",
    "\n",
    "#### AutoML Settings:\n",
    "\n",
    "`max_cores_per_iteration`: int = 1 <br>\n",
    "\n",
    "`max_concurrent_iterations`: int = 1 <br>\n",
    "\n",
    "`featurization` = auto (by default so not set here) AutoMLConfig provides featurization arguments by default auto which provided learning features automatically. <br>\n",
    "\n",
    "`n_cross_validations` = 5 Number of cross validations to perform configured are 5.<br>\n",
    "\n",
    "`experiment timeout_minutes` = 30 minutes is set according to lab time provided. <br>\n",
    "\n",
    "`primary_metric` = accuracy is used as provided dataset is balanced and is best suited for job at hand. <br>\n",
    "\n",
    "#### AutoML Config:\n",
    "\n",
    "`training_data` : Registered tabular data pointer in default data store is provided here. <br>\n",
    "\n",
    "`blocked_modles`: In this project I blocked XGBoostClassifier as I am facing issues in importing the model created in AutoML environment to compute envirnoment due to version difference of XGBoost library.<br>\n",
    "                 \n",
    "`label_column_name` : attack_type is one we have to predict if traffic is normal or attack. <br>\n",
    "\n",
    "`compute_target`: The Azure Machine Learning compute target to run the Automated Machine Learning experiment on.<br>"
   ]
  },
  {
   "cell_type": "code",
   "execution_count": 11,
   "metadata": {
    "gather": {
     "logged": 1598429217746
    },
    "jupyter": {
     "outputs_hidden": false,
     "source_hidden": false
    },
    "nteract": {
     "transient": {
      "deleting": false
     }
    }
   },
   "outputs": [],
   "source": [
    "from azureml.train.automl import AutoMLConfig\n",
    "\n",
    "# Set parameters for AutoMLConfig\n",
    "vrk_ids_automl_config = AutoMLConfig(\n",
    "                   experiment_timeout_minutes=30,\n",
    "                   task=\"classification\",\n",
    "                   primary_metric=\"accuracy\",\n",
    "                   compute_target = cpu_cluster,\n",
    "                   training_data=ids_auto_dataset,\n",
    "                   blocked_models=['XGBoostClassifier'],\n",
    "                   label_column_name='attack_type',\n",
    "                   n_cross_validations=5)"
   ]
  },
  {
   "cell_type": "code",
   "execution_count": 12,
   "metadata": {
    "gather": {
     "logged": 1598431107951
    },
    "jupyter": {
     "outputs_hidden": false,
     "source_hidden": false
    },
    "nteract": {
     "transient": {
      "deleting": false
     }
    }
   },
   "outputs": [
    {
     "name": "stdout",
     "output_type": "stream",
     "text": [
      "Submitting remote run.\n",
      "No run_configuration provided, running on cpucluster with default configuration\n",
      "Running on remote compute: cpucluster\n"
     ]
    },
    {
     "data": {
      "text/html": [
       "<table style=\"width:100%\"><tr><th>Experiment</th><th>Id</th><th>Type</th><th>Status</th><th>Details Page</th><th>Docs Page</th></tr><tr><td>vrk_ids_auto_exp</td><td>AutoML_8a96112e-4bf2-4dc7-8c8c-1ca10cb4c888</td><td>automl</td><td>NotStarted</td><td><a href=\"https://ml.azure.com/runs/AutoML_8a96112e-4bf2-4dc7-8c8c-1ca10cb4c888?wsid=/subscriptions/d4ad7261-832d-46b2-b093-22156001df5b/resourcegroups/aml-quickstarts-142375/workspaces/quick-starts-ws-142375&amp;tid=660b3398-b80e-49d2-bc5b-ac1dc93b5254\" target=\"_blank\" rel=\"noopener\">Link to Azure Machine Learning studio</a></td><td><a href=\"https://docs.microsoft.com/en-us/python/api/overview/azure/ml/intro?view=azure-ml-py\" target=\"_blank\" rel=\"noopener\">Link to Documentation</a></td></tr></table>"
      ],
      "text/plain": [
       "<IPython.core.display.HTML object>"
      ]
     },
     "metadata": {},
     "output_type": "display_data"
    },
    {
     "name": "stdout",
     "output_type": "stream",
     "text": [
      "\n",
      "Current status: FeaturesGeneration. Generating features for the dataset.\n",
      "Current status: DatasetFeaturization. Beginning to fit featurizers and featurize the dataset.\n",
      "Current status: DatasetCrossValidationSplit. Generating individually featurized CV splits.\n",
      "Current status: ModelSelection. Beginning model selection.\n",
      "\n",
      "****************************************************************************************************\n",
      "DATA GUARDRAILS: \n",
      "\n",
      "TYPE:         Class balancing detection\n",
      "STATUS:       PASSED\n",
      "DESCRIPTION:  Your inputs were analyzed, and all classes are balanced in your training data.\n",
      "              Learn more about imbalanced data: https://aka.ms/AutomatedMLImbalancedData\n",
      "\n",
      "****************************************************************************************************\n",
      "\n",
      "TYPE:         Missing feature values imputation\n",
      "STATUS:       PASSED\n",
      "DESCRIPTION:  No feature missing values were detected in the training data.\n",
      "              Learn more about missing value imputation: https://aka.ms/AutomatedMLFeaturization\n",
      "\n",
      "****************************************************************************************************\n",
      "\n",
      "TYPE:         High cardinality feature detection\n",
      "STATUS:       PASSED\n",
      "DESCRIPTION:  Your inputs were analyzed, and no high cardinality features were detected.\n",
      "              Learn more about high cardinality feature handling: https://aka.ms/AutomatedMLFeaturization\n",
      "\n",
      "****************************************************************************************************\n",
      "\n",
      "****************************************************************************************************\n",
      "ITERATION: The iteration being evaluated.\n",
      "PIPELINE: A summary description of the pipeline being evaluated.\n",
      "DURATION: Time taken for the current iteration.\n",
      "METRIC: The result of computing score on the fitted pipeline.\n",
      "BEST: The best observed score thus far.\n",
      "****************************************************************************************************\n",
      "\n",
      " ITERATION   PIPELINE                                       DURATION      METRIC      BEST\n",
      "         0   MaxAbsScaler LightGBM                          0:01:18       0.9990    0.9990\n",
      "         1   MaxAbsScaler RandomForest                      0:01:05       0.9563    0.9990\n",
      "         2   MaxAbsScaler RandomForest                      0:01:01       0.9181    0.9990\n",
      "         3   MaxAbsScaler RandomForest                      0:01:01       0.9406    0.9990\n",
      "         4   MaxAbsScaler RandomForest                      0:01:05       0.9192    0.9990\n",
      "         5   SparseNormalizer LogisticRegression            0:01:03       0.9558    0.9990\n",
      "         6   MaxAbsScaler RandomForest                      0:03:27       0.9244    0.9990\n",
      "         7   MaxAbsScaler ExtremeRandomTrees                0:01:08       0.9035    0.9990\n",
      "         8   StandardScalerWrapper LightGBM                 0:01:02       0.9759    0.9990\n",
      "         9   SparseNormalizer LightGBM                      0:01:29       0.9950    0.9990\n",
      "        10   MaxAbsScaler LogisticRegression                0:02:15       0.9860    0.9990\n",
      "        11   SparseNormalizer LightGBM                      0:01:02       0.9758    0.9990\n",
      "        12   SparseNormalizer LogisticRegression            0:02:23       0.9541    0.9990\n",
      "        13   MaxAbsScaler LightGBM                          0:01:02       0.9763    0.9990\n",
      "        14   MaxAbsScaler LightGBM                          0:01:06       0.9904    0.9990\n",
      "        15   MaxAbsScaler ExtremeRandomTrees                0:01:03       0.9289    0.9990\n",
      "        16   SparseNormalizer LogisticRegression            0:02:12       0.9649    0.9990\n",
      "        17    VotingEnsemble                                0:01:35       0.9989    0.9990\n",
      "        18    StackEnsemble                                 0:02:19       0.9990    0.9990\n"
     ]
    }
   ],
   "source": [
    "# Submit your automl run\n",
    "from azureml.pipeline.steps import AutoMLStep\n",
    "#vrk_auto__exp = Experiment(workspace=vrk_auto_ids_ws, name=\"vrk_auto_ids_train_exp\")\n",
    "automl_ids_run = vrk_auto_ids_exp.submit(vrk_ids_automl_config, show_output=True)"
   ]
  },
  {
   "cell_type": "markdown",
   "metadata": {},
   "source": [
    "## Run Details\n",
    "\n",
    "OPTIONAL: Write about the different models trained and their performance. Why do you think some models did better than others?\n",
    "\n",
    "In the cell below, `RunDetails` widget to show the different experiments."
   ]
  },
  {
   "cell_type": "code",
   "execution_count": 13,
   "metadata": {
    "gather": {
     "logged": 1598431121770
    },
    "jupyter": {
     "outputs_hidden": false,
     "source_hidden": false
    },
    "nteract": {
     "transient": {
      "deleting": false
     }
    }
   },
   "outputs": [
    {
     "data": {
      "application/vnd.jupyter.widget-view+json": {
       "model_id": "a7530f0d3484486cb781994a7784a6ee",
       "version_major": 2,
       "version_minor": 0
      },
      "text/plain": [
       "_AutoMLWidget(widget_settings={'childWidgetDisplay': 'popup', 'send_telemetry': False, 'log_level': 'INFO', 's…"
      ]
     },
     "metadata": {},
     "output_type": "display_data"
    },
    {
     "data": {
      "application/aml.mini.widget.v1": "{\"status\": \"Completed\", \"workbench_run_details_uri\": \"https://ml.azure.com/runs/AutoML_8a96112e-4bf2-4dc7-8c8c-1ca10cb4c888?wsid=/subscriptions/d4ad7261-832d-46b2-b093-22156001df5b/resourcegroups/aml-quickstarts-142375/workspaces/quick-starts-ws-142375&tid=660b3398-b80e-49d2-bc5b-ac1dc93b5254\", \"run_id\": \"AutoML_8a96112e-4bf2-4dc7-8c8c-1ca10cb4c888\", \"run_properties\": {\"run_id\": \"AutoML_8a96112e-4bf2-4dc7-8c8c-1ca10cb4c888\", \"created_utc\": \"2021-04-11T06:26:12.36491Z\", \"properties\": {\"num_iterations\": \"1000\", \"training_type\": \"TrainFull\", \"acquisition_function\": \"EI\", \"primary_metric\": \"accuracy\", \"train_split\": \"0\", \"acquisition_parameter\": \"0\", \"num_cross_validation\": \"5\", \"target\": \"cpucluster\", \"AMLSettingsJsonString\": \"{\\\"path\\\":null,\\\"name\\\":\\\"vrk_ids_auto_exp\\\",\\\"subscription_id\\\":\\\"d4ad7261-832d-46b2-b093-22156001df5b\\\",\\\"resource_group\\\":\\\"aml-quickstarts-142375\\\",\\\"workspace_name\\\":\\\"quick-starts-ws-142375\\\",\\\"region\\\":\\\"southcentralus\\\",\\\"compute_target\\\":\\\"cpucluster\\\",\\\"spark_service\\\":null,\\\"azure_service\\\":\\\"remote\\\",\\\"many_models\\\":false,\\\"pipeline_fetch_max_batch_size\\\":1,\\\"enable_batch_run\\\":false,\\\"enable_run_restructure\\\":false,\\\"iterations\\\":1000,\\\"primary_metric\\\":\\\"accuracy\\\",\\\"task_type\\\":\\\"classification\\\",\\\"data_script\\\":null,\\\"test_size\\\":0.0,\\\"validation_size\\\":0.0,\\\"n_cross_validations\\\":5,\\\"y_min\\\":null,\\\"y_max\\\":null,\\\"num_classes\\\":null,\\\"featurization\\\":\\\"auto\\\",\\\"_ignore_package_version_incompatibilities\\\":false,\\\"is_timeseries\\\":false,\\\"max_cores_per_iteration\\\":1,\\\"max_concurrent_iterations\\\":1,\\\"iteration_timeout_minutes\\\":null,\\\"mem_in_mb\\\":null,\\\"enforce_time_on_windows\\\":false,\\\"experiment_timeout_minutes\\\":30,\\\"experiment_exit_score\\\":null,\\\"whitelist_models\\\":null,\\\"blacklist_algos\\\":[\\\"XGBoostClassifier\\\",\\\"TensorFlowLinearClassifier\\\",\\\"TensorFlowDNN\\\"],\\\"supported_models\\\":[\\\"AveragedPerceptronClassifier\\\",\\\"GradientBoosting\\\",\\\"DecisionTree\\\",\\\"KNN\\\",\\\"SGD\\\",\\\"BernoulliNaiveBayes\\\",\\\"LightGBM\\\",\\\"MultinomialNaiveBayes\\\",\\\"XGBoostClassifier\\\",\\\"TensorFlowDNN\\\",\\\"RandomForest\\\",\\\"LogisticRegression\\\",\\\"TensorFlowLinearClassifier\\\",\\\"ExtremeRandomTrees\\\",\\\"LinearSVM\\\",\\\"SVM\\\"],\\\"private_models\\\":[],\\\"auto_blacklist\\\":true,\\\"blacklist_samples_reached\\\":false,\\\"exclude_nan_labels\\\":true,\\\"verbosity\\\":20,\\\"_debug_log\\\":\\\"azureml_automl.log\\\",\\\"show_warnings\\\":false,\\\"model_explainability\\\":true,\\\"service_url\\\":null,\\\"sdk_url\\\":null,\\\"sdk_packages\\\":null,\\\"enable_onnx_compatible_models\\\":false,\\\"enable_split_onnx_featurizer_estimator_models\\\":false,\\\"vm_type\\\":\\\"STANDARD_D2_V2\\\",\\\"telemetry_verbosity\\\":20,\\\"send_telemetry\\\":true,\\\"enable_dnn\\\":false,\\\"scenario\\\":\\\"SDK-1.13.0\\\",\\\"environment_label\\\":null,\\\"save_mlflow\\\":false,\\\"force_text_dnn\\\":false,\\\"enable_feature_sweeping\\\":true,\\\"enable_early_stopping\\\":false,\\\"early_stopping_n_iters\\\":10,\\\"metrics\\\":null,\\\"enable_metric_confidence\\\":false,\\\"enable_ensembling\\\":true,\\\"enable_stack_ensembling\\\":true,\\\"ensemble_iterations\\\":15,\\\"enable_tf\\\":false,\\\"enable_subsampling\\\":null,\\\"subsample_seed\\\":null,\\\"enable_nimbusml\\\":false,\\\"enable_streaming\\\":false,\\\"force_streaming\\\":false,\\\"track_child_runs\\\":true,\\\"allowed_private_models\\\":[],\\\"label_column_name\\\":\\\"attack_type\\\",\\\"weight_column_name\\\":null,\\\"cv_split_column_names\\\":null,\\\"enable_local_managed\\\":false,\\\"_local_managed_run_id\\\":null,\\\"cost_mode\\\":1,\\\"lag_length\\\":0,\\\"metric_operation\\\":\\\"maximize\\\",\\\"preprocess\\\":true}\", \"DataPrepJsonString\": \"{\\\\\\\"training_data\\\\\\\": {\\\\\\\"datasetId\\\\\\\": \\\\\\\"ae7b1b0d-a64f-455d-930f-c9a264e9e3fc\\\\\\\"}, \\\\\\\"datasets\\\\\\\": 0}\", \"EnableSubsampling\": null, \"runTemplate\": \"AutoML\", \"azureml.runsource\": \"automl\", \"display_task_type\": \"classification\", \"dependencies_versions\": \"{\\\"azureml-widgets\\\": \\\"1.26.0\\\", \\\"azureml-train\\\": \\\"1.26.0\\\", \\\"azureml-train-restclients-hyperdrive\\\": \\\"1.26.0\\\", \\\"azureml-train-core\\\": \\\"1.26.0\\\", \\\"azureml-train-automl\\\": \\\"1.26.0\\\", \\\"azureml-train-automl-runtime\\\": \\\"1.26.0\\\", \\\"azureml-train-automl-client\\\": \\\"1.26.0\\\", \\\"azureml-tensorboard\\\": \\\"1.26.0\\\", \\\"azureml-telemetry\\\": \\\"1.26.0\\\", \\\"azureml-sdk\\\": \\\"1.26.0\\\", \\\"azureml-samples\\\": \\\"0+unknown\\\", \\\"azureml-pipeline\\\": \\\"1.26.0\\\", \\\"azureml-pipeline-steps\\\": \\\"1.26.0\\\", \\\"azureml-pipeline-core\\\": \\\"1.26.0\\\", \\\"azureml-opendatasets\\\": \\\"1.26.0\\\", \\\"azureml-model-management-sdk\\\": \\\"1.0.1b6.post1\\\", \\\"azureml-mlflow\\\": \\\"1.26.0\\\", \\\"azureml-interpret\\\": \\\"1.26.0\\\", \\\"azureml-explain-model\\\": \\\"1.26.0\\\", \\\"azureml-defaults\\\": \\\"1.26.0\\\", \\\"azureml-dataset-runtime\\\": \\\"1.26.0\\\", \\\"azureml-dataprep\\\": \\\"2.13.2\\\", \\\"azureml-dataprep-rslex\\\": \\\"1.11.2\\\", \\\"azureml-dataprep-native\\\": \\\"32.0.0\\\", \\\"azureml-datadrift\\\": \\\"1.26.0\\\", \\\"azureml-core\\\": \\\"1.26.0\\\", \\\"azureml-contrib-services\\\": \\\"1.26.0\\\", \\\"azureml-contrib-server\\\": \\\"1.26.0\\\", \\\"azureml-contrib-reinforcementlearning\\\": \\\"1.26.0\\\", \\\"azureml-contrib-pipeline-steps\\\": \\\"1.26.0\\\", \\\"azureml-contrib-notebook\\\": \\\"1.26.0\\\", \\\"azureml-contrib-gbdt\\\": \\\"1.26.0\\\", \\\"azureml-contrib-fairness\\\": \\\"1.26.0\\\", \\\"azureml-contrib-dataset\\\": \\\"1.26.0\\\", \\\"azureml-cli-common\\\": \\\"1.26.0\\\", \\\"azureml-automl-runtime\\\": \\\"1.26.0\\\", \\\"azureml-automl-dnn-nlp\\\": \\\"1.26.0\\\", \\\"azureml-automl-core\\\": \\\"1.26.0\\\", \\\"azureml-accel-models\\\": \\\"1.26.0\\\"}\", \"_aml_system_scenario_identification\": \"Remote.Parent\", \"ClientType\": \"SDK\", \"environment_cpu_name\": \"AzureML-AutoML\", \"environment_cpu_label\": \"prod\", \"environment_gpu_name\": \"AzureML-AutoML-GPU\", \"environment_gpu_label\": \"prod\", \"root_attribution\": \"automl\", \"attribution\": \"AutoML\", \"Orchestrator\": \"AutoML\", \"CancelUri\": \"https://southcentralus.experiments.azureml.net/jasmine/v1.0/subscriptions/d4ad7261-832d-46b2-b093-22156001df5b/resourceGroups/aml-quickstarts-142375/providers/Microsoft.MachineLearningServices/workspaces/quick-starts-ws-142375/experimentids/ec284e87-9b80-49c0-8d2a-679ecd1bfceb/cancel/AutoML_8a96112e-4bf2-4dc7-8c8c-1ca10cb4c888\", \"ClientSdkVersion\": \"1.25.0\", \"snapshotId\": \"00000000-0000-0000-0000-000000000000\", \"SetupRunId\": \"AutoML_8a96112e-4bf2-4dc7-8c8c-1ca10cb4c888_setup\", \"SetupRunContainerId\": \"dcid.AutoML_8a96112e-4bf2-4dc7-8c8c-1ca10cb4c888_setup\", \"FeaturizationRunJsonPath\": \"featurizer_container.json\", \"FeaturizationRunId\": \"AutoML_8a96112e-4bf2-4dc7-8c8c-1ca10cb4c888_featurize\", \"ProblemInfoJsonString\": \"{\\\"dataset_num_categorical\\\": 0, \\\"is_sparse\\\": true, \\\"subsampling\\\": false, \\\"dataset_classes\\\": 2, \\\"dataset_features\\\": 205, \\\"dataset_samples\\\": 125972, \\\"single_frequency_class_detected\\\": false}\", \"ModelExplainRunId\": \"AutoML_8a96112e-4bf2-4dc7-8c8c-1ca10cb4c888_ModelExplain\", \"azureml.git.repository_uri\": \"https://github.com/venkataravikumaralladi/AzureMLCapstoneProject.git\", \"mlflow.source.git.repoURL\": \"https://github.com/venkataravikumaralladi/AzureMLCapstoneProject.git\", \"azureml.git.branch\": \"main\", \"mlflow.source.git.branch\": \"main\", \"azureml.git.commit\": \"a34ffcd2ce94584efcf5ebcb48b1e25c83ceb3cb\", \"mlflow.source.git.commit\": \"a34ffcd2ce94584efcf5ebcb48b1e25c83ceb3cb\", \"azureml.git.dirty\": \"True\"}, \"tags\": {\"model_explain_run\": \"best_run\", \"_aml_system_azureml.automlComponent\": \"AutoML\", \"pipeline_id\": \"\", \"score\": \"\", \"predicted_cost\": \"\", \"fit_time\": \"\", \"training_percent\": \"\", \"iteration\": \"\", \"run_preprocessor\": \"\", \"run_algorithm\": \"\", \"automl_best_child_run_id\": \"AutoML_8a96112e-4bf2-4dc7-8c8c-1ca10cb4c888_18\", \"model_explain_best_run_child_id\": \"AutoML_8a96112e-4bf2-4dc7-8c8c-1ca10cb4c888_18\"}, \"end_time_utc\": \"2021-04-11T07:19:55.247101Z\", \"status\": \"Completed\", \"log_files\": {}, \"log_groups\": [], \"run_duration\": \"0:53:42\", \"run_number\": \"26\", \"run_queued_details\": {\"status\": \"Completed\", \"details\": null}}, \"child_runs\": [{\"run_id\": \"AutoML_8a96112e-4bf2-4dc7-8c8c-1ca10cb4c888_0\", \"run_number\": 40, \"metric\": null, \"status\": \"Completed\", \"run_type\": \"azureml.scriptrun\", \"training_percent\": \"100\", \"start_time\": \"2021-04-11T06:44:11.641092Z\", \"end_time\": \"2021-04-11T06:45:29.311107Z\", \"created_time\": \"2021-04-11T06:43:58.227043Z\", \"created_time_dt\": \"2021-04-11T06:43:58.227043Z\", \"duration\": \"0:01:31\", \"iteration\": \"0\", \"goal\": \"accuracy_max\", \"run_name\": \"MaxAbsScaler, LightGBM\", \"run_properties\": \"copy=True\", \"primary_metric\": 0.99901565, \"best_metric\": 0.99901565}, {\"run_id\": \"AutoML_8a96112e-4bf2-4dc7-8c8c-1ca10cb4c888_1\", \"run_number\": 41, \"metric\": null, \"status\": \"Completed\", \"run_type\": \"azureml.scriptrun\", \"training_percent\": \"100\", \"start_time\": \"2021-04-11T06:45:40.028417Z\", \"end_time\": \"2021-04-11T06:46:45.365359Z\", \"created_time\": \"2021-04-11T06:45:30.988147Z\", \"created_time_dt\": \"2021-04-11T06:45:30.988147Z\", \"duration\": \"0:01:14\", \"iteration\": \"1\", \"goal\": \"accuracy_max\", \"run_name\": \"MaxAbsScaler, RandomForest\", \"run_properties\": \"copy=True\", \"primary_metric\": 0.95625217, \"best_metric\": 0.99901565}, {\"run_id\": \"AutoML_8a96112e-4bf2-4dc7-8c8c-1ca10cb4c888_2\", \"run_number\": 42, \"metric\": null, \"status\": \"Completed\", \"run_type\": \"azureml.scriptrun\", \"training_percent\": \"100\", \"start_time\": \"2021-04-11T06:46:58.327714Z\", \"end_time\": \"2021-04-11T06:47:58.968995Z\", \"created_time\": \"2021-04-11T06:46:47.277398Z\", \"created_time_dt\": \"2021-04-11T06:46:47.277398Z\", \"duration\": \"0:01:11\", \"iteration\": \"2\", \"goal\": \"accuracy_max\", \"run_name\": \"MaxAbsScaler, RandomForest\", \"run_properties\": \"copy=True\", \"primary_metric\": 0.91806087, \"best_metric\": 0.99901565}, {\"run_id\": \"AutoML_8a96112e-4bf2-4dc7-8c8c-1ca10cb4c888_3\", \"run_number\": 43, \"metric\": null, \"status\": \"Completed\", \"run_type\": \"azureml.scriptrun\", \"training_percent\": \"100\", \"start_time\": \"2021-04-11T06:48:15.555908Z\", \"end_time\": \"2021-04-11T06:49:16.094515Z\", \"created_time\": \"2021-04-11T06:48:02.004276Z\", \"created_time_dt\": \"2021-04-11T06:48:02.004276Z\", \"duration\": \"0:01:14\", \"iteration\": \"3\", \"goal\": \"accuracy_max\", \"run_name\": \"MaxAbsScaler, RandomForest\", \"run_properties\": \"copy=True\", \"primary_metric\": 0.94059781, \"best_metric\": 0.99901565}, {\"run_id\": \"AutoML_8a96112e-4bf2-4dc7-8c8c-1ca10cb4c888_4\", \"run_number\": 44, \"metric\": null, \"status\": \"Completed\", \"run_type\": \"azureml.scriptrun\", \"training_percent\": \"100\", \"start_time\": \"2021-04-11T06:49:31.176678Z\", \"end_time\": \"2021-04-11T06:50:36.62412Z\", \"created_time\": \"2021-04-11T06:49:19.790002Z\", \"created_time_dt\": \"2021-04-11T06:49:19.790002Z\", \"duration\": \"0:01:16\", \"iteration\": \"4\", \"goal\": \"accuracy_max\", \"run_name\": \"MaxAbsScaler, RandomForest\", \"run_properties\": \"copy=True\", \"primary_metric\": 0.91918032, \"best_metric\": 0.99901565}, {\"run_id\": \"AutoML_8a96112e-4bf2-4dc7-8c8c-1ca10cb4c888_5\", \"run_number\": 45, \"metric\": null, \"status\": \"Completed\", \"run_type\": \"azureml.scriptrun\", \"training_percent\": \"100\", \"start_time\": \"2021-04-11T06:50:51.533807Z\", \"end_time\": \"2021-04-11T06:51:54.949725Z\", \"created_time\": \"2021-04-11T06:50:39.657078Z\", \"created_time_dt\": \"2021-04-11T06:50:39.657078Z\", \"duration\": \"0:01:15\", \"iteration\": \"5\", \"goal\": \"accuracy_max\", \"run_name\": \"SparseNormalizer, LogisticRegression\", \"run_properties\": \"<azureml.automl.runtime.shared.model_wrappers.SparseNormalizer object at 0x7f112e8ab1d0\", \"primary_metric\": 0.95577593, \"best_metric\": 0.99901565}, {\"run_id\": \"AutoML_8a96112e-4bf2-4dc7-8c8c-1ca10cb4c888_6\", \"run_number\": 46, \"metric\": null, \"status\": \"Completed\", \"run_type\": \"azureml.scriptrun\", \"training_percent\": \"100\", \"start_time\": \"2021-04-11T06:52:11.751249Z\", \"end_time\": \"2021-04-11T06:55:38.404773Z\", \"created_time\": \"2021-04-11T06:51:57.066052Z\", \"created_time_dt\": \"2021-04-11T06:51:57.066052Z\", \"duration\": \"0:03:41\", \"iteration\": \"6\", \"goal\": \"accuracy_max\", \"run_name\": \"MaxAbsScaler, RandomForest\", \"run_properties\": \"copy=True\", \"primary_metric\": 0.92437215, \"best_metric\": 0.99901565}, {\"run_id\": \"AutoML_8a96112e-4bf2-4dc7-8c8c-1ca10cb4c888_7\", \"run_number\": 47, \"metric\": null, \"status\": \"Completed\", \"run_type\": \"azureml.scriptrun\", \"training_percent\": \"100\", \"start_time\": \"2021-04-11T06:55:52.933966Z\", \"end_time\": \"2021-04-11T06:57:01.184805Z\", \"created_time\": \"2021-04-11T06:55:41.334631Z\", \"created_time_dt\": \"2021-04-11T06:55:41.334631Z\", \"duration\": \"0:01:19\", \"iteration\": \"7\", \"goal\": \"accuracy_max\", \"run_name\": \"MaxAbsScaler, ExtremeRandomTrees\", \"run_properties\": \"copy=True\", \"primary_metric\": 0.90349444, \"best_metric\": 0.99901565}, {\"run_id\": \"AutoML_8a96112e-4bf2-4dc7-8c8c-1ca10cb4c888_8\", \"run_number\": 48, \"metric\": null, \"status\": \"Completed\", \"run_type\": \"azureml.scriptrun\", \"training_percent\": \"100\", \"start_time\": \"2021-04-11T06:57:19.289675Z\", \"end_time\": \"2021-04-11T06:58:20.945469Z\", \"created_time\": \"2021-04-11T06:57:03.000559Z\", \"created_time_dt\": \"2021-04-11T06:57:03.000559Z\", \"duration\": \"0:01:17\", \"iteration\": \"8\", \"goal\": \"accuracy_max\", \"run_name\": \"StandardScalerWrapper, LightGBM\", \"run_properties\": \"<azureml.automl.runtime.shared.model_wrappers.StandardScalerWrapper object at 0x7f57cc3cc1d0\", \"primary_metric\": 0.97594704, \"best_metric\": 0.99901565}, {\"run_id\": \"AutoML_8a96112e-4bf2-4dc7-8c8c-1ca10cb4c888_9\", \"run_number\": 49, \"metric\": null, \"status\": \"Completed\", \"run_type\": \"azureml.scriptrun\", \"training_percent\": \"100\", \"start_time\": \"2021-04-11T06:58:37.500757Z\", \"end_time\": \"2021-04-11T07:00:06.34477Z\", \"created_time\": \"2021-04-11T06:58:24.823388Z\", \"created_time_dt\": \"2021-04-11T06:58:24.823388Z\", \"duration\": \"0:01:41\", \"iteration\": \"9\", \"goal\": \"accuracy_max\", \"run_name\": \"SparseNormalizer, LightGBM\", \"run_properties\": \"<azureml.automl.runtime.shared.model_wrappers.SparseNormalizer object at 0x7f7f3c332f98\", \"primary_metric\": 0.99500683, \"best_metric\": 0.99901565}, {\"run_id\": \"AutoML_8a96112e-4bf2-4dc7-8c8c-1ca10cb4c888_10\", \"run_number\": 50, \"metric\": null, \"status\": \"Completed\", \"run_type\": \"azureml.scriptrun\", \"training_percent\": \"100\", \"start_time\": \"2021-04-11T07:00:21.747286Z\", \"end_time\": \"2021-04-11T07:02:36.644232Z\", \"created_time\": \"2021-04-11T07:00:08.279585Z\", \"created_time_dt\": \"2021-04-11T07:00:08.279585Z\", \"duration\": \"0:02:28\", \"iteration\": \"10\", \"goal\": \"accuracy_max\", \"run_name\": \"MaxAbsScaler, LogisticRegression\", \"run_properties\": \"copy=True\", \"primary_metric\": 0.98604452, \"best_metric\": 0.99901565}, {\"run_id\": \"AutoML_8a96112e-4bf2-4dc7-8c8c-1ca10cb4c888_11\", \"run_number\": 51, \"metric\": null, \"status\": \"Completed\", \"run_type\": \"azureml.scriptrun\", \"training_percent\": \"100\", \"start_time\": \"2021-04-11T07:02:51.067937Z\", \"end_time\": \"2021-04-11T07:03:53.380022Z\", \"created_time\": \"2021-04-11T07:02:38.447764Z\", \"created_time_dt\": \"2021-04-11T07:02:38.447764Z\", \"duration\": \"0:01:14\", \"iteration\": \"11\", \"goal\": \"accuracy_max\", \"run_name\": \"SparseNormalizer, LightGBM\", \"run_properties\": \"<azureml.automl.runtime.shared.model_wrappers.SparseNormalizer object at 0x7f96435fff28\", \"primary_metric\": 0.97578828, \"best_metric\": 0.99901565}, {\"run_id\": \"AutoML_8a96112e-4bf2-4dc7-8c8c-1ca10cb4c888_12\", \"run_number\": 52, \"metric\": null, \"status\": \"Completed\", \"run_type\": \"azureml.scriptrun\", \"training_percent\": \"100\", \"start_time\": \"2021-04-11T07:04:09.563953Z\", \"end_time\": \"2021-04-11T07:06:33.061169Z\", \"created_time\": \"2021-04-11T07:03:55.403803Z\", \"created_time_dt\": \"2021-04-11T07:03:55.403803Z\", \"duration\": \"0:02:37\", \"iteration\": \"12\", \"goal\": \"accuracy_max\", \"run_name\": \"SparseNormalizer, LogisticRegression\", \"run_properties\": \"<azureml.automl.runtime.shared.model_wrappers.SparseNormalizer object at 0x7f95eae72898\", \"primary_metric\": 0.95413266, \"best_metric\": 0.99901565}, {\"run_id\": \"AutoML_8a96112e-4bf2-4dc7-8c8c-1ca10cb4c888_13\", \"run_number\": 53, \"metric\": null, \"status\": \"Completed\", \"run_type\": \"azureml.scriptrun\", \"training_percent\": \"100\", \"start_time\": \"2021-04-11T07:06:45.771207Z\", \"end_time\": \"2021-04-11T07:07:47.799796Z\", \"created_time\": \"2021-04-11T07:06:35.154725Z\", \"created_time_dt\": \"2021-04-11T07:06:35.154725Z\", \"duration\": \"0:01:12\", \"iteration\": \"13\", \"goal\": \"accuracy_max\", \"run_name\": \"MaxAbsScaler, LightGBM\", \"run_properties\": \"copy=True\", \"primary_metric\": 0.97628837, \"best_metric\": 0.99901565}, {\"run_id\": \"AutoML_8a96112e-4bf2-4dc7-8c8c-1ca10cb4c888_14\", \"run_number\": 54, \"metric\": null, \"status\": \"Completed\", \"run_type\": \"azureml.scriptrun\", \"training_percent\": \"100\", \"start_time\": \"2021-04-11T07:10:36.146839Z\", \"end_time\": \"2021-04-11T07:11:42.04827Z\", \"created_time\": \"2021-04-11T07:07:50.06486Z\", \"created_time_dt\": \"2021-04-11T07:07:50.06486Z\", \"duration\": \"0:03:51\", \"iteration\": \"14\", \"goal\": \"accuracy_max\", \"run_name\": \"MaxAbsScaler, LightGBM\", \"run_properties\": \"copy=True\", \"primary_metric\": 0.99044231, \"best_metric\": 0.99901565}, {\"run_id\": \"AutoML_8a96112e-4bf2-4dc7-8c8c-1ca10cb4c888_15\", \"run_number\": 55, \"metric\": null, \"status\": \"Completed\", \"run_type\": \"azureml.scriptrun\", \"training_percent\": \"100\", \"start_time\": \"2021-04-11T07:11:58.022636Z\", \"end_time\": \"2021-04-11T07:13:01.139026Z\", \"created_time\": \"2021-04-11T07:11:44.560343Z\", \"created_time_dt\": \"2021-04-11T07:11:44.560343Z\", \"duration\": \"0:01:16\", \"iteration\": \"15\", \"goal\": \"accuracy_max\", \"run_name\": \"MaxAbsScaler, ExtremeRandomTrees\", \"run_properties\": \"copy=True\", \"primary_metric\": 0.92894455, \"best_metric\": 0.99901565}, {\"run_id\": \"AutoML_8a96112e-4bf2-4dc7-8c8c-1ca10cb4c888_16\", \"run_number\": 56, \"metric\": null, \"status\": \"Completed\", \"run_type\": \"azureml.scriptrun\", \"training_percent\": \"100\", \"start_time\": \"2021-04-11T07:13:15.269539Z\", \"end_time\": \"2021-04-11T07:15:27.767927Z\", \"created_time\": \"2021-04-11T07:13:04.571655Z\", \"created_time_dt\": \"2021-04-11T07:13:04.571655Z\", \"duration\": \"0:02:23\", \"iteration\": \"16\", \"goal\": \"accuracy_max\", \"run_name\": \"SparseNormalizer, LogisticRegression\", \"run_properties\": \"<azureml.automl.runtime.shared.model_wrappers.SparseNormalizer object at 0x7f33ca3b7780\", \"primary_metric\": 0.96489696, \"best_metric\": 0.99901565}, {\"run_id\": \"AutoML_8a96112e-4bf2-4dc7-8c8c-1ca10cb4c888_17\", \"run_number\": 57, \"metric\": null, \"status\": \"Completed\", \"run_type\": \"azureml.scriptrun\", \"training_percent\": \"100\", \"start_time\": \"2021-04-11T07:15:42.02343Z\", \"end_time\": \"2021-04-11T07:17:17.120115Z\", \"created_time\": \"2021-04-11T07:15:28.649101Z\", \"created_time_dt\": \"2021-04-11T07:15:28.649101Z\", \"duration\": \"0:01:48\", \"iteration\": \"17\", \"goal\": \"accuracy_max\", \"run_name\": \"VotingEnsemble\", \"run_properties\": \"classification_labels=None,\\n                              estimators=[('0',\\n                                           Pipeline(memory=None,\\n                                                    steps=[('maxabsscaler',\\n                                                            MaxAbsScaler(copy=True\", \"primary_metric\": 0.99894421, \"best_metric\": 0.99901565}, {\"run_id\": \"AutoML_8a96112e-4bf2-4dc7-8c8c-1ca10cb4c888_18\", \"run_number\": 58, \"metric\": null, \"status\": \"Completed\", \"run_type\": \"azureml.scriptrun\", \"training_percent\": \"100\", \"start_time\": \"2021-04-11T07:17:31.943953Z\", \"end_time\": \"2021-04-11T07:19:51.097491Z\", \"created_time\": \"2021-04-11T07:17:18.133159Z\", \"created_time_dt\": \"2021-04-11T07:17:18.133159Z\", \"duration\": \"0:02:32\", \"iteration\": \"18\", \"goal\": \"accuracy_max\", \"run_name\": \"StackEnsemble\", \"run_properties\": \"base_learners=[('0',\\n                                        Pipeline(memory=None,\\n                                                 steps=[('maxabsscaler',\\n                                                         MaxAbsScaler(copy=True\", \"primary_metric\": 0.99903947, \"best_metric\": 0.99903947}], \"children_metrics\": {\"categories\": [0], \"series\": {\"average_precision_score_macro\": [{\"categories\": [\"0\", \"1\", \"2\", \"3\", \"4\", \"5\", \"6\", \"7\", \"8\", \"9\", \"10\", \"11\", \"12\", \"13\", \"14\", \"15\", \"16\", \"17\", \"18\"], \"mode\": \"markers\", \"name\": \"average_precision_score_macro\", \"stepped\": false, \"type\": \"scatter\", \"data\": [0.9999873929154622, 0.9926131078284017, 0.9801776720779485, 0.9864546404518592, 0.981011005442871, 0.9842526013004621, 0.9849452582530389, 0.9752153168999692, 0.9950338944970667, 0.9997495005440747, 0.9985368555949339, 0.9960855447319407, 0.985077955851958, 0.9983242002948745, 0.9993848695002694, 0.9821718037501561, 0.9880891021573444, 0.9999706976690208, 0.9997916518462819]}, {\"categories\": [\"0\", \"1\", \"2\", \"3\", \"4\", \"5\", \"6\", \"7\", \"8\", \"9\", \"10\", \"11\", \"12\", \"13\", \"14\", \"15\", \"16\", \"17\", \"18\"], \"mode\": \"lines\", \"name\": \"average_precision_score_macro_max\", \"stepped\": true, \"type\": \"scatter\", \"data\": [0.9999873929154622, 0.9999873929154622, 0.9999873929154622, 0.9999873929154622, 0.9999873929154622, 0.9999873929154622, 0.9999873929154622, 0.9999873929154622, 0.9999873929154622, 0.9999873929154622, 0.9999873929154622, 0.9999873929154622, 0.9999873929154622, 0.9999873929154622, 0.9999873929154622, 0.9999873929154622, 0.9999873929154622, 0.9999873929154622, 0.9999873929154622]}], \"AUC_micro\": [{\"categories\": [\"0\", \"1\", \"2\", \"3\", \"4\", \"5\", \"6\", \"7\", \"8\", \"9\", \"10\", \"11\", \"12\", \"13\", \"14\", \"15\", \"16\", \"17\", \"18\"], \"mode\": \"markers\", \"name\": \"AUC_micro\", \"stepped\": false, \"type\": \"scatter\", \"data\": [0.9999876290512869, 0.9915616157099812, 0.9769118483550432, 0.985870330946414, 0.9801973150729403, 0.9875481269430526, 0.9822296460944531, 0.9668771950351509, 0.9937622969084983, 0.9997679450773227, 0.9986340140171428, 0.9960927893554657, 0.9875171911715681, 0.9983272783458981, 0.999389372959557, 0.9816877969633857, 0.9905830145965446, 0.9999707798727149, 0.9999084403138836]}, {\"categories\": [\"0\", \"1\", \"2\", \"3\", \"4\", \"5\", \"6\", \"7\", \"8\", \"9\", \"10\", \"11\", \"12\", \"13\", \"14\", \"15\", \"16\", \"17\", \"18\"], \"mode\": \"lines\", \"name\": \"AUC_micro_max\", \"stepped\": true, \"type\": \"scatter\", \"data\": [0.9999876290512869, 0.9999876290512869, 0.9999876290512869, 0.9999876290512869, 0.9999876290512869, 0.9999876290512869, 0.9999876290512869, 0.9999876290512869, 0.9999876290512869, 0.9999876290512869, 0.9999876290512869, 0.9999876290512869, 0.9999876290512869, 0.9999876290512869, 0.9999876290512869, 0.9999876290512869, 0.9999876290512869, 0.9999876290512869, 0.9999876290512869]}], \"f1_score_macro\": [{\"categories\": [\"0\", \"1\", \"2\", \"3\", \"4\", \"5\", \"6\", \"7\", \"8\", \"9\", \"10\", \"11\", \"12\", \"13\", \"14\", \"15\", \"16\", \"17\", \"18\"], \"mode\": \"markers\", \"name\": \"f1_score_macro\", \"stepped\": false, \"type\": \"scatter\", \"data\": [0.9990108212344836, 0.9558765081079447, 0.9163907614294164, 0.9396966807545418, 0.9180922375567706, 0.9554412172731611, 0.9229899254168792, 0.900959547241509, 0.9757568920109337, 0.994982079675658, 0.9859731697963696, 0.9756438259599701, 0.9538241776022623, 0.9761259142100821, 0.9903911527007025, 0.9287319213365919, 0.9646110147819812, 0.9989389991004056, 0.9990347283264646]}, {\"categories\": [\"0\", \"1\", \"2\", \"3\", \"4\", \"5\", \"6\", \"7\", \"8\", \"9\", \"10\", \"11\", \"12\", \"13\", \"14\", \"15\", \"16\", \"17\", \"18\"], \"mode\": \"lines\", \"name\": \"f1_score_macro_max\", \"stepped\": true, \"type\": \"scatter\", \"data\": [0.9990108212344836, 0.9990108212344836, 0.9990108212344836, 0.9990108212344836, 0.9990108212344836, 0.9990108212344836, 0.9990108212344836, 0.9990108212344836, 0.9990108212344836, 0.9990108212344836, 0.9990108212344836, 0.9990108212344836, 0.9990108212344836, 0.9990108212344836, 0.9990108212344836, 0.9990108212344836, 0.9990108212344836, 0.9990108212344836, 0.9990347283264646]}], \"norm_macro_recall\": [{\"categories\": [\"0\", \"1\", \"2\", \"3\", \"4\", \"5\", \"6\", \"7\", \"8\", \"9\", \"10\", \"11\", \"12\", \"13\", \"14\", \"15\", \"16\", \"17\", \"18\"], \"mode\": \"markers\", \"name\": \"norm_macro_recall\", \"stepped\": false, \"type\": \"scatter\", \"data\": [0.9979870640474043, 0.9090485792463652, 0.8268109462297009, 0.8742740805424816, 0.8313581708273381, 0.9086987285041499, 0.8391909020613426, 0.7934401325292484, 0.9489851924341032, 0.9898321721894334, 0.9716717812978588, 0.9502642250040862, 0.9060899890727983, 0.9505319785017541, 0.9803190976451808, 0.8592558568120932, 0.926593145278866, 0.9978248043972091, 0.9980382677156088]}, {\"categories\": [\"0\", \"1\", \"2\", \"3\", \"4\", \"5\", \"6\", \"7\", \"8\", \"9\", \"10\", \"11\", \"12\", \"13\", \"14\", \"15\", \"16\", \"17\", \"18\"], \"mode\": \"lines\", \"name\": \"norm_macro_recall_max\", \"stepped\": true, \"type\": \"scatter\", \"data\": [0.9979870640474043, 0.9979870640474043, 0.9979870640474043, 0.9979870640474043, 0.9979870640474043, 0.9979870640474043, 0.9979870640474043, 0.9979870640474043, 0.9979870640474043, 0.9979870640474043, 0.9979870640474043, 0.9979870640474043, 0.9979870640474043, 0.9979870640474043, 0.9979870640474043, 0.9979870640474043, 0.9979870640474043, 0.9979870640474043, 0.9980382677156088]}], \"recall_score_macro\": [{\"categories\": [\"0\", \"1\", \"2\", \"3\", \"4\", \"5\", \"6\", \"7\", \"8\", \"9\", \"10\", \"11\", \"12\", \"13\", \"14\", \"15\", \"16\", \"17\", \"18\"], \"mode\": \"markers\", \"name\": \"recall_score_macro\", \"stepped\": false, \"type\": \"scatter\", \"data\": [0.9989935320237022, 0.9545242896231825, 0.9134054731148504, 0.9371370402712408, 0.9156790854136689, 0.9543493642520751, 0.9195954510306713, 0.8967200662646242, 0.9744925962170514, 0.9949160860947167, 0.9858358906489295, 0.9751321125020432, 0.953044994536399, 0.975265989250877, 0.9901595488225905, 0.9296279284060466, 0.963296572639433, 0.9989124021986046, 0.9990191338578045]}, {\"categories\": [\"0\", \"1\", \"2\", \"3\", \"4\", \"5\", \"6\", \"7\", \"8\", \"9\", \"10\", \"11\", \"12\", \"13\", \"14\", \"15\", \"16\", \"17\", \"18\"], \"mode\": \"lines\", \"name\": \"recall_score_macro_max\", \"stepped\": true, \"type\": \"scatter\", \"data\": [0.9989935320237022, 0.9989935320237022, 0.9989935320237022, 0.9989935320237022, 0.9989935320237022, 0.9989935320237022, 0.9989935320237022, 0.9989935320237022, 0.9989935320237022, 0.9989935320237022, 0.9989935320237022, 0.9989935320237022, 0.9989935320237022, 0.9989935320237022, 0.9989935320237022, 0.9989935320237022, 0.9989935320237022, 0.9989935320237022, 0.9990191338578045]}], \"accuracy\": [{\"categories\": [\"0\", \"1\", \"2\", \"3\", \"4\", \"5\", \"6\", \"7\", \"8\", \"9\", \"10\", \"11\", \"12\", \"13\", \"14\", \"15\", \"16\", \"17\", \"18\"], \"mode\": \"markers\", \"name\": \"accuracy\", \"stepped\": false, \"type\": \"scatter\", \"data\": [0.9990156518774107, 0.9562521731147994, 0.918060873854255, 0.9405978138322938, 0.9191803196793991, 0.9557759338239764, 0.924372148255751, 0.9034944396476398, 0.9759470411964732, 0.9950068339697836, 0.9860445224872414, 0.9757882839485104, 0.9541326589649242, 0.9762883696261799, 0.9904423111857383, 0.9289445464221652, 0.9648969565530484, 0.9989442075554423, 0.9990394664413479]}, {\"categories\": [\"0\", \"1\", \"2\", \"3\", \"4\", \"5\", \"6\", \"7\", \"8\", \"9\", \"10\", \"11\", \"12\", \"13\", \"14\", \"15\", \"16\", \"17\", \"18\"], \"mode\": \"lines\", \"name\": \"accuracy_max\", \"stepped\": true, \"type\": \"scatter\", \"data\": [0.9990156518774107, 0.9990156518774107, 0.9990156518774107, 0.9990156518774107, 0.9990156518774107, 0.9990156518774107, 0.9990156518774107, 0.9990156518774107, 0.9990156518774107, 0.9990156518774107, 0.9990156518774107, 0.9990156518774107, 0.9990156518774107, 0.9990156518774107, 0.9990156518774107, 0.9990156518774107, 0.9990156518774107, 0.9990156518774107, 0.9990394664413479]}], \"precision_score_weighted\": [{\"categories\": [\"0\", \"1\", \"2\", \"3\", \"4\", \"5\", \"6\", \"7\", \"8\", \"9\", \"10\", \"11\", \"12\", \"13\", \"14\", \"15\", \"16\", \"17\", \"18\"], \"mode\": \"markers\", \"name\": \"precision_score_weighted\", \"stepped\": false, \"type\": \"scatter\", \"data\": [0.9990157970764759, 0.957144463782237, 0.9259307175645173, 0.944359914370225, 0.9221312087405259, 0.9563014163459662, 0.9309962864998594, 0.9163729733456594, 0.9766026240682123, 0.9950085396530195, 0.9860518979225145, 0.9758809016644641, 0.954343048240542, 0.9765725111986143, 0.990462024356512, 0.9294759045144781, 0.9655959039798218, 0.9989445002392259, 0.9990396144570803]}, {\"categories\": [\"0\", \"1\", \"2\", \"3\", \"4\", \"5\", \"6\", \"7\", \"8\", \"9\", \"10\", \"11\", \"12\", \"13\", \"14\", \"15\", \"16\", \"17\", \"18\"], \"mode\": \"lines\", \"name\": \"precision_score_weighted_max\", \"stepped\": true, \"type\": \"scatter\", \"data\": [0.9990157970764759, 0.9990157970764759, 0.9990157970764759, 0.9990157970764759, 0.9990157970764759, 0.9990157970764759, 0.9990157970764759, 0.9990157970764759, 0.9990157970764759, 0.9990157970764759, 0.9990157970764759, 0.9990157970764759, 0.9990157970764759, 0.9990157970764759, 0.9990157970764759, 0.9990157970764759, 0.9990157970764759, 0.9990157970764759, 0.9990396144570803]}], \"AUC_macro\": [{\"categories\": [\"0\", \"1\", \"2\", \"3\", \"4\", \"5\", \"6\", \"7\", \"8\", \"9\", \"10\", \"11\", \"12\", \"13\", \"14\", \"15\", \"16\", \"17\", \"18\"], \"mode\": \"markers\", \"name\": \"AUC_macro\", \"stepped\": false, \"type\": \"scatter\", \"data\": [0.9999872822144283, 0.9923264047597848, 0.9797101242587178, 0.9858087829778311, 0.9802644499472569, 0.9860867648516163, 0.9843469209863243, 0.9739586390658197, 0.994833672953187, 0.9997443153642059, 0.9986028380301262, 0.9959401864523839, 0.9861440753000886, 0.9982797958832424, 0.9993707067703392, 0.9812809991950158, 0.9889800904944435, 0.9999700971208727, 0.9998957968936217]}, {\"categories\": [\"0\", \"1\", \"2\", \"3\", \"4\", \"5\", \"6\", \"7\", \"8\", \"9\", \"10\", \"11\", \"12\", \"13\", \"14\", \"15\", \"16\", \"17\", \"18\"], \"mode\": \"lines\", \"name\": \"AUC_macro_max\", \"stepped\": true, \"type\": \"scatter\", \"data\": [0.9999872822144283, 0.9999872822144283, 0.9999872822144283, 0.9999872822144283, 0.9999872822144283, 0.9999872822144283, 0.9999872822144283, 0.9999872822144283, 0.9999872822144283, 0.9999872822144283, 0.9999872822144283, 0.9999872822144283, 0.9999872822144283, 0.9999872822144283, 0.9999872822144283, 0.9999872822144283, 0.9999872822144283, 0.9999872822144283, 0.9999872822144283]}], \"average_precision_score_weighted\": [{\"categories\": [\"0\", \"1\", \"2\", \"3\", \"4\", \"5\", \"6\", \"7\", \"8\", \"9\", \"10\", \"11\", \"12\", \"13\", \"14\", \"15\", \"16\", \"17\", \"18\"], \"mode\": \"markers\", \"name\": \"average_precision_score_weighted\", \"stepped\": false, \"type\": \"scatter\", \"data\": [0.9999874956668237, 0.9926469696205601, 0.9801332749394671, 0.9864340803337793, 0.9810556080350974, 0.984170895285318, 0.9849087509955107, 0.9752852583957485, 0.9950499511532047, 0.9997507399732306, 0.9985369442774406, 0.996093772758508, 0.9850360303368723, 0.9983296470461596, 0.9993867157875835, 0.9821832450167841, 0.9880605847782844, 0.999970839903438, 0.9997876394749582]}, {\"categories\": [\"0\", \"1\", \"2\", \"3\", \"4\", \"5\", \"6\", \"7\", \"8\", \"9\", \"10\", \"11\", \"12\", \"13\", \"14\", \"15\", \"16\", \"17\", \"18\"], \"mode\": \"lines\", \"name\": \"average_precision_score_weighted_max\", \"stepped\": true, \"type\": \"scatter\", \"data\": [0.9999874956668237, 0.9999874956668237, 0.9999874956668237, 0.9999874956668237, 0.9999874956668237, 0.9999874956668237, 0.9999874956668237, 0.9999874956668237, 0.9999874956668237, 0.9999874956668237, 0.9999874956668237, 0.9999874956668237, 0.9999874956668237, 0.9999874956668237, 0.9999874956668237, 0.9999874956668237, 0.9999874956668237, 0.9999874956668237, 0.9999874956668237]}], \"recall_score_weighted\": [{\"categories\": [\"0\", \"1\", \"2\", \"3\", \"4\", \"5\", \"6\", \"7\", \"8\", \"9\", \"10\", \"11\", \"12\", \"13\", \"14\", \"15\", \"16\", \"17\", \"18\"], \"mode\": \"markers\", \"name\": \"recall_score_weighted\", \"stepped\": false, \"type\": \"scatter\", \"data\": [0.9990156518774107, 0.9562521731147994, 0.918060873854255, 0.9405978138322938, 0.9191803196793991, 0.9557759338239764, 0.924372148255751, 0.9034944396476398, 0.9759470411964732, 0.9950068339697836, 0.9860445224872414, 0.9757882839485104, 0.9541326589649242, 0.9762883696261799, 0.9904423111857383, 0.9289445464221652, 0.9648969565530484, 0.9989442075554423, 0.9990394664413479]}, {\"categories\": [\"0\", \"1\", \"2\", \"3\", \"4\", \"5\", \"6\", \"7\", \"8\", \"9\", \"10\", \"11\", \"12\", \"13\", \"14\", \"15\", \"16\", \"17\", \"18\"], \"mode\": \"lines\", \"name\": \"recall_score_weighted_max\", \"stepped\": true, \"type\": \"scatter\", \"data\": [0.9990156518774107, 0.9990156518774107, 0.9990156518774107, 0.9990156518774107, 0.9990156518774107, 0.9990156518774107, 0.9990156518774107, 0.9990156518774107, 0.9990156518774107, 0.9990156518774107, 0.9990156518774107, 0.9990156518774107, 0.9990156518774107, 0.9990156518774107, 0.9990156518774107, 0.9990156518774107, 0.9990156518774107, 0.9990156518774107, 0.9990394664413479]}], \"precision_score_micro\": [{\"categories\": [\"0\", \"1\", \"2\", \"3\", \"4\", \"5\", \"6\", \"7\", \"8\", \"9\", \"10\", \"11\", \"12\", \"13\", \"14\", \"15\", \"16\", \"17\", \"18\"], \"mode\": \"markers\", \"name\": \"precision_score_micro\", \"stepped\": false, \"type\": \"scatter\", \"data\": [0.9990156518774107, 0.9562521731147994, 0.918060873854255, 0.9405978138322938, 0.9191803196793991, 0.9557759338239764, 0.924372148255751, 0.9034944396476398, 0.9759470411964732, 0.9950068339697836, 0.9860445224872414, 0.9757882839485104, 0.9541326589649242, 0.9762883696261799, 0.9904423111857383, 0.9289445464221652, 0.9648969565530484, 0.9989442075554423, 0.9990394664413479]}, {\"categories\": [\"0\", \"1\", \"2\", \"3\", \"4\", \"5\", \"6\", \"7\", \"8\", \"9\", \"10\", \"11\", \"12\", \"13\", \"14\", \"15\", \"16\", \"17\", \"18\"], \"mode\": \"lines\", \"name\": \"precision_score_micro_max\", \"stepped\": true, \"type\": \"scatter\", \"data\": [0.9990156518774107, 0.9990156518774107, 0.9990156518774107, 0.9990156518774107, 0.9990156518774107, 0.9990156518774107, 0.9990156518774107, 0.9990156518774107, 0.9990156518774107, 0.9990156518774107, 0.9990156518774107, 0.9990156518774107, 0.9990156518774107, 0.9990156518774107, 0.9990156518774107, 0.9990156518774107, 0.9990156518774107, 0.9990156518774107, 0.9990394664413479]}], \"f1_score_micro\": [{\"categories\": [\"0\", \"1\", \"2\", \"3\", \"4\", \"5\", \"6\", \"7\", \"8\", \"9\", \"10\", \"11\", \"12\", \"13\", \"14\", \"15\", \"16\", \"17\", \"18\"], \"mode\": \"markers\", \"name\": \"f1_score_micro\", \"stepped\": false, \"type\": \"scatter\", \"data\": [0.9990156518774107, 0.9562521731147994, 0.918060873854255, 0.9405978138322938, 0.9191803196793991, 0.9557759338239764, 0.924372148255751, 0.9034944396476398, 0.9759470411964732, 0.9950068339697836, 0.9860445224872414, 0.9757882839485104, 0.9541326589649242, 0.9762883696261799, 0.9904423111857383, 0.9289445464221652, 0.9648969565530484, 0.9989442075554423, 0.9990394664413479]}, {\"categories\": [\"0\", \"1\", \"2\", \"3\", \"4\", \"5\", \"6\", \"7\", \"8\", \"9\", \"10\", \"11\", \"12\", \"13\", \"14\", \"15\", \"16\", \"17\", \"18\"], \"mode\": \"lines\", \"name\": \"f1_score_micro_max\", \"stepped\": true, \"type\": \"scatter\", \"data\": [0.9990156518774107, 0.9990156518774107, 0.9990156518774107, 0.9990156518774107, 0.9990156518774107, 0.9990156518774107, 0.9990156518774107, 0.9990156518774107, 0.9990156518774107, 0.9990156518774107, 0.9990156518774107, 0.9990156518774107, 0.9990156518774107, 0.9990156518774107, 0.9990156518774107, 0.9990156518774107, 0.9990156518774107, 0.9990156518774107, 0.9990394664413479]}], \"average_precision_score_micro\": [{\"categories\": [\"0\", \"1\", \"2\", \"3\", \"4\", \"5\", \"6\", \"7\", \"8\", \"9\", \"10\", \"11\", \"12\", \"13\", \"14\", \"15\", \"16\", \"17\", \"18\"], \"mode\": \"markers\", \"name\": \"average_precision_score_micro\", \"stepped\": false, \"type\": \"scatter\", \"data\": [0.9999877924965391, 0.9918363304369807, 0.977144105630656, 0.9863405261795968, 0.9809051099548052, 0.9859492210463096, 0.9827714915059307, 0.9683264407744601, 0.9939129599923971, 0.9997713482835838, 0.9986326895515593, 0.9961863217943125, 0.9863718593166706, 0.9983587640974386, 0.9993982033709703, 0.9821649125608977, 0.9896474214923785, 0.9999712027939621, 0.9998175807543832]}, {\"categories\": [\"0\", \"1\", \"2\", \"3\", \"4\", \"5\", \"6\", \"7\", \"8\", \"9\", \"10\", \"11\", \"12\", \"13\", \"14\", \"15\", \"16\", \"17\", \"18\"], \"mode\": \"lines\", \"name\": \"average_precision_score_micro_max\", \"stepped\": true, \"type\": \"scatter\", \"data\": [0.9999877924965391, 0.9999877924965391, 0.9999877924965391, 0.9999877924965391, 0.9999877924965391, 0.9999877924965391, 0.9999877924965391, 0.9999877924965391, 0.9999877924965391, 0.9999877924965391, 0.9999877924965391, 0.9999877924965391, 0.9999877924965391, 0.9999877924965391, 0.9999877924965391, 0.9999877924965391, 0.9999877924965391, 0.9999877924965391, 0.9999877924965391]}], \"balanced_accuracy\": [{\"categories\": [\"0\", \"1\", \"2\", \"3\", \"4\", \"5\", \"6\", \"7\", \"8\", \"9\", \"10\", \"11\", \"12\", \"13\", \"14\", \"15\", \"16\", \"17\", \"18\"], \"mode\": \"markers\", \"name\": \"balanced_accuracy\", \"stepped\": false, \"type\": \"scatter\", \"data\": [0.9989935320237022, 0.9545242896231825, 0.9134054731148504, 0.9371370402712408, 0.9156790854136689, 0.9543493642520751, 0.9195954510306713, 0.8967200662646242, 0.9744925962170514, 0.9949160860947167, 0.9858358906489295, 0.9751321125020432, 0.953044994536399, 0.975265989250877, 0.9901595488225905, 0.9296279284060466, 0.963296572639433, 0.9989124021986046, 0.9990191338578045]}, {\"categories\": [\"0\", \"1\", \"2\", \"3\", \"4\", \"5\", \"6\", \"7\", \"8\", \"9\", \"10\", \"11\", \"12\", \"13\", \"14\", \"15\", \"16\", \"17\", \"18\"], \"mode\": \"lines\", \"name\": \"balanced_accuracy_max\", \"stepped\": true, \"type\": \"scatter\", \"data\": [0.9989935320237022, 0.9989935320237022, 0.9989935320237022, 0.9989935320237022, 0.9989935320237022, 0.9989935320237022, 0.9989935320237022, 0.9989935320237022, 0.9989935320237022, 0.9989935320237022, 0.9989935320237022, 0.9989935320237022, 0.9989935320237022, 0.9989935320237022, 0.9989935320237022, 0.9989935320237022, 0.9989935320237022, 0.9989935320237022, 0.9990191338578045]}], \"AUC_weighted\": [{\"categories\": [\"0\", \"1\", \"2\", \"3\", \"4\", \"5\", \"6\", \"7\", \"8\", \"9\", \"10\", \"11\", \"12\", \"13\", \"14\", \"15\", \"16\", \"17\", \"18\"], \"mode\": \"markers\", \"name\": \"AUC_weighted\", \"stepped\": false, \"type\": \"scatter\", \"data\": [0.9999872822144283, 0.9923264047597848, 0.9797101242587178, 0.9858087829778313, 0.980264449947257, 0.9860867648303338, 0.9843469209863243, 0.9739586390658197, 0.994833672953187, 0.9997443153642062, 0.9986028380301262, 0.9959401864523839, 0.9861440752812582, 0.9982797958832424, 0.9993707067703392, 0.9812809991950159, 0.9889800893462389, 0.9999700971208727, 0.9998957968936217]}, {\"categories\": [\"0\", \"1\", \"2\", \"3\", \"4\", \"5\", \"6\", \"7\", \"8\", \"9\", \"10\", \"11\", \"12\", \"13\", \"14\", \"15\", \"16\", \"17\", \"18\"], \"mode\": \"lines\", \"name\": \"AUC_weighted_max\", \"stepped\": true, \"type\": \"scatter\", \"data\": [0.9999872822144283, 0.9999872822144283, 0.9999872822144283, 0.9999872822144283, 0.9999872822144283, 0.9999872822144283, 0.9999872822144283, 0.9999872822144283, 0.9999872822144283, 0.9999872822144283, 0.9999872822144283, 0.9999872822144283, 0.9999872822144283, 0.9999872822144283, 0.9999872822144283, 0.9999872822144283, 0.9999872822144283, 0.9999872822144283, 0.9999872822144283]}], \"precision_score_macro\": [{\"categories\": [\"0\", \"1\", \"2\", \"3\", \"4\", \"5\", \"6\", \"7\", \"8\", \"9\", \"10\", \"11\", \"12\", \"13\", \"14\", \"15\", \"16\", \"17\", \"18\"], \"mode\": \"markers\", \"name\": \"precision_score_macro\", \"stepped\": false, \"type\": \"scatter\", \"data\": [0.9990282897148214, 0.9583207433918778, 0.9291657022681367, 0.9468837332970093, 0.9243772382483855, 0.9572033631155547, 0.9344955639796145, 0.9212849255268198, 0.9777683813233828, 0.9950505007843405, 0.9861220549702724, 0.9762786732721743, 0.9549108878279086, 0.977325070295886, 0.9906474487319403, 0.9282569652235058, 0.9667653607048937, 0.998965947225145, 0.999050500077552]}, {\"categories\": [\"0\", \"1\", \"2\", \"3\", \"4\", \"5\", \"6\", \"7\", \"8\", \"9\", \"10\", \"11\", \"12\", \"13\", \"14\", \"15\", \"16\", \"17\", \"18\"], \"mode\": \"lines\", \"name\": \"precision_score_macro_max\", \"stepped\": true, \"type\": \"scatter\", \"data\": [0.9990282897148214, 0.9990282897148214, 0.9990282897148214, 0.9990282897148214, 0.9990282897148214, 0.9990282897148214, 0.9990282897148214, 0.9990282897148214, 0.9990282897148214, 0.9990282897148214, 0.9990282897148214, 0.9990282897148214, 0.9990282897148214, 0.9990282897148214, 0.9990282897148214, 0.9990282897148214, 0.9990282897148214, 0.9990282897148214, 0.999050500077552]}], \"matthews_correlation\": [{\"categories\": [\"0\", \"1\", \"2\", \"3\", \"4\", \"5\", \"6\", \"7\", \"8\", \"9\", \"10\", \"11\", \"12\", \"13\", \"14\", \"15\", \"16\", \"17\", \"18\"], \"mode\": \"markers\", \"name\": \"matthews_correlation\", \"stepped\": false, \"type\": \"scatter\", \"data\": [0.9980218207445251, 0.9128358951360489, 0.842368619868808, 0.8839431652595877, 0.8400075862620907, 0.9115475837156714, 0.853956152641962, 0.8176338079028911, 0.9522553392047998, 0.9899665755529495, 0.9719578850282738, 0.951410091559042, 0.9079539141357046, 0.9525888031087366, 0.9808068693820614, 0.8578837355410132, 0.930055418919931, 0.9978783475528441, 0.9980696329764986]}, {\"categories\": [\"0\", \"1\", \"2\", \"3\", \"4\", \"5\", \"6\", \"7\", \"8\", \"9\", \"10\", \"11\", \"12\", \"13\", \"14\", \"15\", \"16\", \"17\", \"18\"], \"mode\": \"lines\", \"name\": \"matthews_correlation_max\", \"stepped\": true, \"type\": \"scatter\", \"data\": [0.9980218207445251, 0.9980218207445251, 0.9980218207445251, 0.9980218207445251, 0.9980218207445251, 0.9980218207445251, 0.9980218207445251, 0.9980218207445251, 0.9980218207445251, 0.9980218207445251, 0.9980218207445251, 0.9980218207445251, 0.9980218207445251, 0.9980218207445251, 0.9980218207445251, 0.9980218207445251, 0.9980218207445251, 0.9980218207445251, 0.9980696329764986]}], \"weighted_accuracy\": [{\"categories\": [\"0\", \"1\", \"2\", \"3\", \"4\", \"5\", \"6\", \"7\", \"8\", \"9\", \"10\", \"11\", \"12\", \"13\", \"14\", \"15\", \"16\", \"17\", \"18\"], \"mode\": \"markers\", \"name\": \"weighted_accuracy\", \"stepped\": false, \"type\": \"scatter\", \"data\": [0.9990375412651714, 0.9579637389585051, 0.9226677922895947, 0.9440236914357698, 0.9226468925195436, 0.9571888003245552, 0.9291028222847745, 0.9102027458425687, 0.9773874194328462, 0.9950967225063412, 0.9862510986607141, 0.9764381458504093, 0.9552097316584017, 0.9773007544101698, 0.9907223320515586, 0.9282679508260463, 0.9664817673867221, 0.9989756892356295, 0.9990595863553026]}, {\"categories\": [\"0\", \"1\", \"2\", \"3\", \"4\", \"5\", \"6\", \"7\", \"8\", \"9\", \"10\", \"11\", \"12\", \"13\", \"14\", \"15\", \"16\", \"17\", \"18\"], \"mode\": \"lines\", \"name\": \"weighted_accuracy_max\", \"stepped\": true, \"type\": \"scatter\", \"data\": [0.9990375412651714, 0.9990375412651714, 0.9990375412651714, 0.9990375412651714, 0.9990375412651714, 0.9990375412651714, 0.9990375412651714, 0.9990375412651714, 0.9990375412651714, 0.9990375412651714, 0.9990375412651714, 0.9990375412651714, 0.9990375412651714, 0.9990375412651714, 0.9990375412651714, 0.9990375412651714, 0.9990375412651714, 0.9990375412651714, 0.9990595863553026]}], \"f1_score_weighted\": [{\"categories\": [\"0\", \"1\", \"2\", \"3\", \"4\", \"5\", \"6\", \"7\", \"8\", \"9\", \"10\", \"11\", \"12\", \"13\", \"14\", \"15\", \"16\", \"17\", \"18\"], \"mode\": \"markers\", \"name\": \"f1_score_weighted\", \"stepped\": false, \"type\": \"scatter\", \"data\": [0.9990156358304091, 0.9561589134766105, 0.9172002969852562, 0.9402077185393505, 0.9187502528051592, 0.955707523556638, 0.9236992821250889, 0.902058175344545, 0.9759056920674192, 0.9950064841551736, 0.9860424654298136, 0.9757736555142905, 0.9540857903241884, 0.976262747253412, 0.9904399438801675, 0.929001254804503, 0.9648315891168915, 0.9989441801437925, 0.9990394527615323]}, {\"categories\": [\"0\", \"1\", \"2\", \"3\", \"4\", \"5\", \"6\", \"7\", \"8\", \"9\", \"10\", \"11\", \"12\", \"13\", \"14\", \"15\", \"16\", \"17\", \"18\"], \"mode\": \"lines\", \"name\": \"f1_score_weighted_max\", \"stepped\": true, \"type\": \"scatter\", \"data\": [0.9990156358304091, 0.9990156358304091, 0.9990156358304091, 0.9990156358304091, 0.9990156358304091, 0.9990156358304091, 0.9990156358304091, 0.9990156358304091, 0.9990156358304091, 0.9990156358304091, 0.9990156358304091, 0.9990156358304091, 0.9990156358304091, 0.9990156358304091, 0.9990156358304091, 0.9990156358304091, 0.9990156358304091, 0.9990156358304091, 0.9990394527615323]}], \"recall_score_micro\": [{\"categories\": [\"0\", \"1\", \"2\", \"3\", \"4\", \"5\", \"6\", \"7\", \"8\", \"9\", \"10\", \"11\", \"12\", \"13\", \"14\", \"15\", \"16\", \"17\", \"18\"], \"mode\": \"markers\", \"name\": \"recall_score_micro\", \"stepped\": false, \"type\": \"scatter\", \"data\": [0.9990156518774107, 0.9562521731147994, 0.918060873854255, 0.9405978138322938, 0.9191803196793991, 0.9557759338239764, 0.924372148255751, 0.9034944396476398, 0.9759470411964732, 0.9950068339697836, 0.9860445224872414, 0.9757882839485104, 0.9541326589649242, 0.9762883696261799, 0.9904423111857383, 0.9289445464221652, 0.9648969565530484, 0.9989442075554423, 0.9990394664413479]}, {\"categories\": [\"0\", \"1\", \"2\", \"3\", \"4\", \"5\", \"6\", \"7\", \"8\", \"9\", \"10\", \"11\", \"12\", \"13\", \"14\", \"15\", \"16\", \"17\", \"18\"], \"mode\": \"lines\", \"name\": \"recall_score_micro_max\", \"stepped\": true, \"type\": \"scatter\", \"data\": [0.9990156518774107, 0.9990156518774107, 0.9990156518774107, 0.9990156518774107, 0.9990156518774107, 0.9990156518774107, 0.9990156518774107, 0.9990156518774107, 0.9990156518774107, 0.9990156518774107, 0.9990156518774107, 0.9990156518774107, 0.9990156518774107, 0.9990156518774107, 0.9990156518774107, 0.9990156518774107, 0.9990156518774107, 0.9990156518774107, 0.9990394664413479]}], \"log_loss\": [{\"categories\": [\"0\", \"1\", \"2\", \"3\", \"4\", \"5\", \"6\", \"7\", \"8\", \"9\", \"10\", \"11\", \"12\", \"13\", \"14\", \"15\", \"16\", \"17\", \"18\"], \"mode\": \"markers\", \"name\": \"log_loss\", \"stepped\": false, \"type\": \"scatter\", \"data\": [0.003087168948792235, 0.19450088982324343, 0.27356502412422246, 0.3578781565999069, 0.26202756984525327, 0.14386659591105977, 0.23061541902316018, 0.4573213462223604, 0.36634972796496823, 0.020008013948271862, 0.042124329632021, 0.10563204269826802, 0.14479874959414957, 0.06851117118518243, 0.039069073460512804, 0.21918656120629948, 0.12636392539020785, 0.010581430830481776, 0.004626263761906375]}, {\"categories\": [\"0\", \"1\", \"2\", \"3\", \"4\", \"5\", \"6\", \"7\", \"8\", \"9\", \"10\", \"11\", \"12\", \"13\", \"14\", \"15\", \"16\", \"17\", \"18\"], \"mode\": \"lines\", \"name\": \"log_loss_min\", \"stepped\": true, \"type\": \"scatter\", \"data\": [0.003087168948792235, 0.003087168948792235, 0.003087168948792235, 0.003087168948792235, 0.003087168948792235, 0.003087168948792235, 0.003087168948792235, 0.003087168948792235, 0.003087168948792235, 0.003087168948792235, 0.003087168948792235, 0.003087168948792235, 0.003087168948792235, 0.003087168948792235, 0.003087168948792235, 0.003087168948792235, 0.003087168948792235, 0.003087168948792235, 0.003087168948792235]}]}, \"metricName\": null, \"primaryMetricName\": \"accuracy\", \"showLegend\": false}, \"run_metrics\": [{\"name\": \"experiment_status\", \"run_id\": \"AutoML_8a96112e-4bf2-4dc7-8c8c-1ca10cb4c888\", \"categories\": [0, 1, 2, 3, 4, 5, 6, 7, 8, 9, 10, 11, 12, 13], \"series\": [{\"data\": [\"DatasetEvaluation\", \"FeaturesGeneration\", \"DatasetFeaturization\", \"DatasetFeaturizationCompleted\", \"DatasetCrossValidationSplit\", \"ModelSelection\", \"BestRunExplainModel\", \"ModelExplanationDataSetSetup\", \"PickSurrogateModel\", \"EngineeredFeatureExplanations\", \"EngineeredFeatureExplanations\", \"RawFeaturesExplanations\", \"RawFeaturesExplanations\", \"BestRunExplainModel\"]}]}, {\"name\": \"experiment_status_description\", \"run_id\": \"AutoML_8a96112e-4bf2-4dc7-8c8c-1ca10cb4c888\", \"categories\": [0, 1, 2, 3, 4, 5, 6, 7, 8, 9, 10, 11, 12, 13], \"series\": [{\"data\": [\"Gathering dataset statistics.\", \"Generating features for the dataset.\", \"Beginning to fit featurizers and featurize the dataset.\", \"Completed fit featurizers and featurizing the dataset.\", \"Generating individually featurized CV splits.\", \"Beginning model selection.\", \"Best run model explanations started\", \"Model explanations data setup completed\", \"Choosing LightGBM as the surrogate model for explanations\", \"Computation of engineered features started\", \"Computation of engineered features completed\", \"Computation of raw features started\", \"Computation of raw features completed\", \"Best run model explanations completed\"]}]}, {\"name\": \"f1_score_micro\", \"run_id\": \"AutoML_8a96112e-4bf2-4dc7-8c8c-1ca10cb4c888\", \"categories\": [0], \"series\": [{\"data\": [0.9990394664413479]}]}, {\"name\": \"average_precision_score_macro\", \"run_id\": \"AutoML_8a96112e-4bf2-4dc7-8c8c-1ca10cb4c888\", \"categories\": [0], \"series\": [{\"data\": [0.9997916518462819]}]}, {\"name\": \"norm_macro_recall\", \"run_id\": \"AutoML_8a96112e-4bf2-4dc7-8c8c-1ca10cb4c888\", \"categories\": [0], \"series\": [{\"data\": [0.9980382677156088]}]}, {\"name\": \"precision_score_macro\", \"run_id\": \"AutoML_8a96112e-4bf2-4dc7-8c8c-1ca10cb4c888\", \"categories\": [0], \"series\": [{\"data\": [0.999050500077552]}]}, {\"name\": \"accuracy\", \"run_id\": \"AutoML_8a96112e-4bf2-4dc7-8c8c-1ca10cb4c888\", \"categories\": [0], \"series\": [{\"data\": [0.9990394664413479]}]}, {\"name\": \"recall_score_micro\", \"run_id\": \"AutoML_8a96112e-4bf2-4dc7-8c8c-1ca10cb4c888\", \"categories\": [0], \"series\": [{\"data\": [0.9990394664413479]}]}, {\"name\": \"average_precision_score_micro\", \"run_id\": \"AutoML_8a96112e-4bf2-4dc7-8c8c-1ca10cb4c888\", \"categories\": [0], \"series\": [{\"data\": [0.9998175807543832]}]}, {\"name\": \"balanced_accuracy\", \"run_id\": \"AutoML_8a96112e-4bf2-4dc7-8c8c-1ca10cb4c888\", \"categories\": [0], \"series\": [{\"data\": [0.9990191338578045]}]}, {\"name\": \"log_loss\", \"run_id\": \"AutoML_8a96112e-4bf2-4dc7-8c8c-1ca10cb4c888\", \"categories\": [0], \"series\": [{\"data\": [0.004626263761906375]}]}, {\"name\": \"average_precision_score_weighted\", \"run_id\": \"AutoML_8a96112e-4bf2-4dc7-8c8c-1ca10cb4c888\", \"categories\": [0], \"series\": [{\"data\": [0.9997876394749582]}]}, {\"name\": \"recall_score_weighted\", \"run_id\": \"AutoML_8a96112e-4bf2-4dc7-8c8c-1ca10cb4c888\", \"categories\": [0], \"series\": [{\"data\": [0.9990394664413479]}]}, {\"name\": \"recall_score_macro\", \"run_id\": \"AutoML_8a96112e-4bf2-4dc7-8c8c-1ca10cb4c888\", \"categories\": [0], \"series\": [{\"data\": [0.9990191338578045]}]}, {\"name\": \"AUC_weighted\", \"run_id\": \"AutoML_8a96112e-4bf2-4dc7-8c8c-1ca10cb4c888\", \"categories\": [0], \"series\": [{\"data\": [0.9998957968936217]}]}, {\"name\": \"weighted_accuracy\", \"run_id\": \"AutoML_8a96112e-4bf2-4dc7-8c8c-1ca10cb4c888\", \"categories\": [0], \"series\": [{\"data\": [0.9990595863553026]}]}, {\"name\": \"f1_score_macro\", \"run_id\": \"AutoML_8a96112e-4bf2-4dc7-8c8c-1ca10cb4c888\", \"categories\": [0], \"series\": [{\"data\": [0.9990347283264646]}]}, {\"name\": \"precision_score_weighted\", \"run_id\": \"AutoML_8a96112e-4bf2-4dc7-8c8c-1ca10cb4c888\", \"categories\": [0], \"series\": [{\"data\": [0.9990396144570803]}]}, {\"name\": \"matthews_correlation\", \"run_id\": \"AutoML_8a96112e-4bf2-4dc7-8c8c-1ca10cb4c888\", \"categories\": [0], \"series\": [{\"data\": [0.9980696329764986]}]}, {\"name\": \"AUC_micro\", \"run_id\": \"AutoML_8a96112e-4bf2-4dc7-8c8c-1ca10cb4c888\", \"categories\": [0], \"series\": [{\"data\": [0.9999084403138836]}]}, {\"name\": \"f1_score_weighted\", \"run_id\": \"AutoML_8a96112e-4bf2-4dc7-8c8c-1ca10cb4c888\", \"categories\": [0], \"series\": [{\"data\": [0.9990394527615323]}]}, {\"name\": \"precision_score_micro\", \"run_id\": \"AutoML_8a96112e-4bf2-4dc7-8c8c-1ca10cb4c888\", \"categories\": [0], \"series\": [{\"data\": [0.9990394664413479]}]}, {\"name\": \"AUC_macro\", \"run_id\": \"AutoML_8a96112e-4bf2-4dc7-8c8c-1ca10cb4c888\", \"categories\": [0], \"series\": [{\"data\": [0.9998957968936217]}]}], \"run_logs\": \"\\nRun is completed.\", \"graph\": {}, \"widget_settings\": {\"childWidgetDisplay\": \"popup\", \"send_telemetry\": false, \"log_level\": \"INFO\", \"sdk_version\": \"1.26.0\"}, \"loading\": false}"
     },
     "metadata": {},
     "output_type": "display_data"
    }
   ],
   "source": [
    "from azureml.widgets import RunDetails\n",
    "RunDetails(automl_ids_run).show()"
   ]
  },
  {
   "cell_type": "code",
   "execution_count": 14,
   "metadata": {},
   "outputs": [
    {
     "data": {
      "text/plain": [
       "{'runId': 'AutoML_8a96112e-4bf2-4dc7-8c8c-1ca10cb4c888',\n",
       " 'target': 'cpucluster',\n",
       " 'status': 'Completed',\n",
       " 'startTimeUtc': '2021-04-11T06:26:27.764592Z',\n",
       " 'endTimeUtc': '2021-04-11T07:19:55.247101Z',\n",
       " 'properties': {'num_iterations': '1000',\n",
       "  'training_type': 'TrainFull',\n",
       "  'acquisition_function': 'EI',\n",
       "  'primary_metric': 'accuracy',\n",
       "  'train_split': '0',\n",
       "  'acquisition_parameter': '0',\n",
       "  'num_cross_validation': '5',\n",
       "  'target': 'cpucluster',\n",
       "  'AMLSettingsJsonString': '{\"path\":null,\"name\":\"vrk_ids_auto_exp\",\"subscription_id\":\"d4ad7261-832d-46b2-b093-22156001df5b\",\"resource_group\":\"aml-quickstarts-142375\",\"workspace_name\":\"quick-starts-ws-142375\",\"region\":\"southcentralus\",\"compute_target\":\"cpucluster\",\"spark_service\":null,\"azure_service\":\"remote\",\"many_models\":false,\"pipeline_fetch_max_batch_size\":1,\"enable_batch_run\":false,\"enable_run_restructure\":false,\"iterations\":1000,\"primary_metric\":\"accuracy\",\"task_type\":\"classification\",\"data_script\":null,\"test_size\":0.0,\"validation_size\":0.0,\"n_cross_validations\":5,\"y_min\":null,\"y_max\":null,\"num_classes\":null,\"featurization\":\"auto\",\"_ignore_package_version_incompatibilities\":false,\"is_timeseries\":false,\"max_cores_per_iteration\":1,\"max_concurrent_iterations\":1,\"iteration_timeout_minutes\":null,\"mem_in_mb\":null,\"enforce_time_on_windows\":false,\"experiment_timeout_minutes\":30,\"experiment_exit_score\":null,\"whitelist_models\":null,\"blacklist_algos\":[\"XGBoostClassifier\",\"TensorFlowLinearClassifier\",\"TensorFlowDNN\"],\"supported_models\":[\"AveragedPerceptronClassifier\",\"GradientBoosting\",\"DecisionTree\",\"KNN\",\"SGD\",\"BernoulliNaiveBayes\",\"LightGBM\",\"MultinomialNaiveBayes\",\"XGBoostClassifier\",\"TensorFlowDNN\",\"RandomForest\",\"LogisticRegression\",\"TensorFlowLinearClassifier\",\"ExtremeRandomTrees\",\"LinearSVM\",\"SVM\"],\"private_models\":[],\"auto_blacklist\":true,\"blacklist_samples_reached\":false,\"exclude_nan_labels\":true,\"verbosity\":20,\"_debug_log\":\"azureml_automl.log\",\"show_warnings\":false,\"model_explainability\":true,\"service_url\":null,\"sdk_url\":null,\"sdk_packages\":null,\"enable_onnx_compatible_models\":false,\"enable_split_onnx_featurizer_estimator_models\":false,\"vm_type\":\"STANDARD_D2_V2\",\"telemetry_verbosity\":20,\"send_telemetry\":true,\"enable_dnn\":false,\"scenario\":\"SDK-1.13.0\",\"environment_label\":null,\"save_mlflow\":false,\"force_text_dnn\":false,\"enable_feature_sweeping\":true,\"enable_early_stopping\":false,\"early_stopping_n_iters\":10,\"metrics\":null,\"enable_metric_confidence\":false,\"enable_ensembling\":true,\"enable_stack_ensembling\":true,\"ensemble_iterations\":15,\"enable_tf\":false,\"enable_subsampling\":null,\"subsample_seed\":null,\"enable_nimbusml\":false,\"enable_streaming\":false,\"force_streaming\":false,\"track_child_runs\":true,\"allowed_private_models\":[],\"label_column_name\":\"attack_type\",\"weight_column_name\":null,\"cv_split_column_names\":null,\"enable_local_managed\":false,\"_local_managed_run_id\":null,\"cost_mode\":1,\"lag_length\":0,\"metric_operation\":\"maximize\",\"preprocess\":true}',\n",
       "  'DataPrepJsonString': '{\\\\\"training_data\\\\\": {\\\\\"datasetId\\\\\": \\\\\"ae7b1b0d-a64f-455d-930f-c9a264e9e3fc\\\\\"}, \\\\\"datasets\\\\\": 0}',\n",
       "  'EnableSubsampling': None,\n",
       "  'runTemplate': 'AutoML',\n",
       "  'azureml.runsource': 'automl',\n",
       "  'display_task_type': 'classification',\n",
       "  'dependencies_versions': '{\"azureml-widgets\": \"1.26.0\", \"azureml-train\": \"1.26.0\", \"azureml-train-restclients-hyperdrive\": \"1.26.0\", \"azureml-train-core\": \"1.26.0\", \"azureml-train-automl\": \"1.26.0\", \"azureml-train-automl-runtime\": \"1.26.0\", \"azureml-train-automl-client\": \"1.26.0\", \"azureml-tensorboard\": \"1.26.0\", \"azureml-telemetry\": \"1.26.0\", \"azureml-sdk\": \"1.26.0\", \"azureml-samples\": \"0+unknown\", \"azureml-pipeline\": \"1.26.0\", \"azureml-pipeline-steps\": \"1.26.0\", \"azureml-pipeline-core\": \"1.26.0\", \"azureml-opendatasets\": \"1.26.0\", \"azureml-model-management-sdk\": \"1.0.1b6.post1\", \"azureml-mlflow\": \"1.26.0\", \"azureml-interpret\": \"1.26.0\", \"azureml-explain-model\": \"1.26.0\", \"azureml-defaults\": \"1.26.0\", \"azureml-dataset-runtime\": \"1.26.0\", \"azureml-dataprep\": \"2.13.2\", \"azureml-dataprep-rslex\": \"1.11.2\", \"azureml-dataprep-native\": \"32.0.0\", \"azureml-datadrift\": \"1.26.0\", \"azureml-core\": \"1.26.0\", \"azureml-contrib-services\": \"1.26.0\", \"azureml-contrib-server\": \"1.26.0\", \"azureml-contrib-reinforcementlearning\": \"1.26.0\", \"azureml-contrib-pipeline-steps\": \"1.26.0\", \"azureml-contrib-notebook\": \"1.26.0\", \"azureml-contrib-gbdt\": \"1.26.0\", \"azureml-contrib-fairness\": \"1.26.0\", \"azureml-contrib-dataset\": \"1.26.0\", \"azureml-cli-common\": \"1.26.0\", \"azureml-automl-runtime\": \"1.26.0\", \"azureml-automl-dnn-nlp\": \"1.26.0\", \"azureml-automl-core\": \"1.26.0\", \"azureml-accel-models\": \"1.26.0\"}',\n",
       "  '_aml_system_scenario_identification': 'Remote.Parent',\n",
       "  'ClientType': 'SDK',\n",
       "  'environment_cpu_name': 'AzureML-AutoML',\n",
       "  'environment_cpu_label': 'prod',\n",
       "  'environment_gpu_name': 'AzureML-AutoML-GPU',\n",
       "  'environment_gpu_label': 'prod',\n",
       "  'root_attribution': 'automl',\n",
       "  'attribution': 'AutoML',\n",
       "  'Orchestrator': 'AutoML',\n",
       "  'CancelUri': 'https://southcentralus.experiments.azureml.net/jasmine/v1.0/subscriptions/d4ad7261-832d-46b2-b093-22156001df5b/resourceGroups/aml-quickstarts-142375/providers/Microsoft.MachineLearningServices/workspaces/quick-starts-ws-142375/experimentids/ec284e87-9b80-49c0-8d2a-679ecd1bfceb/cancel/AutoML_8a96112e-4bf2-4dc7-8c8c-1ca10cb4c888',\n",
       "  'ClientSdkVersion': '1.25.0',\n",
       "  'snapshotId': '00000000-0000-0000-0000-000000000000',\n",
       "  'SetupRunId': 'AutoML_8a96112e-4bf2-4dc7-8c8c-1ca10cb4c888_setup',\n",
       "  'SetupRunContainerId': 'dcid.AutoML_8a96112e-4bf2-4dc7-8c8c-1ca10cb4c888_setup',\n",
       "  'FeaturizationRunJsonPath': 'featurizer_container.json',\n",
       "  'FeaturizationRunId': 'AutoML_8a96112e-4bf2-4dc7-8c8c-1ca10cb4c888_featurize',\n",
       "  'ProblemInfoJsonString': '{\"dataset_num_categorical\": 0, \"is_sparse\": true, \"subsampling\": false, \"dataset_classes\": 2, \"dataset_features\": 205, \"dataset_samples\": 125972, \"single_frequency_class_detected\": false}',\n",
       "  'ModelExplainRunId': 'AutoML_8a96112e-4bf2-4dc7-8c8c-1ca10cb4c888_ModelExplain',\n",
       "  'azureml.git.repository_uri': 'https://github.com/venkataravikumaralladi/AzureMLCapstoneProject.git',\n",
       "  'mlflow.source.git.repoURL': 'https://github.com/venkataravikumaralladi/AzureMLCapstoneProject.git',\n",
       "  'azureml.git.branch': 'main',\n",
       "  'mlflow.source.git.branch': 'main',\n",
       "  'azureml.git.commit': 'a34ffcd2ce94584efcf5ebcb48b1e25c83ceb3cb',\n",
       "  'mlflow.source.git.commit': 'a34ffcd2ce94584efcf5ebcb48b1e25c83ceb3cb',\n",
       "  'azureml.git.dirty': 'True'},\n",
       " 'inputDatasets': [{'dataset': {'id': 'ae7b1b0d-a64f-455d-930f-c9a264e9e3fc'}, 'consumptionDetails': {'type': 'RunInput', 'inputName': 'training_data', 'mechanism': 'Direct'}}],\n",
       " 'outputDatasets': [],\n",
       " 'logFiles': {},\n",
       " 'submittedBy': 'ODL_User 142375'}"
      ]
     },
     "execution_count": 14,
     "metadata": {},
     "output_type": "execute_result"
    }
   ],
   "source": [
    "automl_ids_run.wait_for_completion()"
   ]
  },
  {
   "cell_type": "code",
   "execution_count": null,
   "metadata": {},
   "outputs": [],
   "source": [
    "assert(automl_ids_run.get_status() == \"Completed\")"
   ]
  },
  {
   "cell_type": "markdown",
   "metadata": {},
   "source": [
    "## Best Model\n",
    "\n",
    "In the cell below, get the best model from the automl experiments and display all the properties of the model.\n",
    "\n"
   ]
  },
  {
   "cell_type": "code",
   "execution_count": 15,
   "metadata": {
    "gather": {
     "logged": 1598431425670
    },
    "jupyter": {
     "outputs_hidden": false,
     "source_hidden": false
    },
    "nteract": {
     "transient": {
      "deleting": false
     }
    }
   },
   "outputs": [
    {
     "name": "stdout",
     "output_type": "stream",
     "text": [
      "Auto best fitted model is:  StackEnsembleClassifier(base_learners=[('0',\n",
      "                                        Pipeline(memory=None,\n",
      "                                                 steps=[('maxabsscaler',\n",
      "                                                         MaxAbsScaler(copy=True)),\n",
      "                                                        ('lightgbmclassifier',\n",
      "                                                         LightGBMClassifier(boosting_type='gbdt',\n",
      "                                                                            class_weight=None,\n",
      "                                                                            colsample_bytree=1.0,\n",
      "                                                                            importance_type='split',\n",
      "                                                                            learning_rate=0.1,\n",
      "                                                                            max_depth=-1,\n",
      "                                                                            min_child_samples=20,\n",
      "                                                                            min_child_weight=0.001,\n",
      "                                                                            min_split_gain=0.0,\n",
      "                                                                            n_estimators=100,\n",
      "                                                                            n...\n",
      "                        meta_learner=LogisticRegressionCV(Cs=10,\n",
      "                                                          class_weight=None,\n",
      "                                                          cv=None, dual=False,\n",
      "                                                          fit_intercept=True,\n",
      "                                                          intercept_scaling=1.0,\n",
      "                                                          l1_ratios=None,\n",
      "                                                          max_iter=100,\n",
      "                                                          multi_class='auto',\n",
      "                                                          n_jobs=None,\n",
      "                                                          penalty='l2',\n",
      "                                                          random_state=None,\n",
      "                                                          refit=True,\n",
      "                                                          scoring=<azureml.automl.runtime.stack_ensemble_base.Scorer object at 0x7f254ce5f6a0>,\n",
      "                                                          solver='lbfgs',\n",
      "                                                          tol=0.0001,\n",
      "                                                          verbose=0),\n",
      "                        training_cv_folds=5)\n"
     ]
    }
   ],
   "source": [
    "# Retrieve and save your best automl model.\n",
    "best_auto_run, best_fitted_model = automl_ids_run.get_output()\n",
    "\n",
    "import joblib\n",
    "#Save the best model\n",
    "if \"automl_bestmdl\" not in os.listdir():\n",
    "    os.mkdir(\"./automl_bestmdl\")\n",
    "joblib.dump(best_fitted_model, './automl_bestmdl/best_fit_automl_ids.pkl')\n",
    "\n",
    "print(\"Auto best fitted model is: \", best_fitted_model._final_estimator)"
   ]
  },
  {
   "cell_type": "markdown",
   "metadata": {},
   "source": [
    "## Model Deployment\n",
    "\n",
    "Remember you have to deploy only one of the two models you trained. Perform the steps in the rest of this notebook only if you wish to deploy this model.\n",
    "\n",
    "\n",
    "Following are steps are model deployment:\n",
    "1. Register the model for operalization.\n",
    "2. Prepare an entry script.\n",
    "3. Prepare an inference configuration.\n",
    "4. Choose a compute target.\n",
    "5. Deploy the model to the compute target.\n",
    "6. Test the resulting webservice.\n"
   ]
  },
  {
   "cell_type": "markdown",
   "metadata": {},
   "source": [
    "#### Step1: Register Model: \n",
    "Register a model for operationalization.\n",
    "\n",
    "register_model(model_name, model_path=None, tags=None, properties=None, model_framework=None, model_framework_version=None, description=None, datasets=None, sample_input_dataset=None, sample_output_dataset=None, resource_configuration=None, **kwargs)\n",
    "\n",
    "Above function all are input parameters. Here model_path is best model is stored in file \"outputs/vrk_ids_model.joblib\". (Note outputs folder in home->models->vrk_ids_auto_mdl->artifiacts->outputs"
   ]
  },
  {
   "cell_type": "code",
   "execution_count": 16,
   "metadata": {
    "gather": {
     "logged": 1598431435189
    },
    "jupyter": {
     "outputs_hidden": false,
     "source_hidden": false
    },
    "nteract": {
     "transient": {
      "deleting": false
     }
    }
   },
   "outputs": [],
   "source": [
    "ids_auto_mdl = best_auto_run.register_model(model_name='vrk_ids_auto_mdl', model_path='./outputs')"
   ]
  },
  {
   "cell_type": "markdown",
   "metadata": {
    "collapsed": true,
    "gather": {
     "logged": 1598431657736
    },
    "jupyter": {
     "outputs_hidden": false,
     "source_hidden": false
    },
    "nteract": {
     "transient": {
      "deleting": false
     }
    }
   },
   "source": [
    "#### Step2: Prepare an entry script: \n",
    "\n",
    "An inference configuration describes how to set up the web-service containing your model. It's used later, when you deploy the model. The entry script receives data submitted to a deployed web service and passes it to the model. It then takes the response returned by the model and returns that to the client. The script is specific to your model. It must understand the data that the model expects and returns.\n",
    "\n",
    "The two things you need to accomplish in your entry script are:\n",
    "\n",
    "Loading your model (using a function called init())\n",
    "Running your model on input data (using a function called run())"
   ]
  },
  {
   "cell_type": "code",
   "execution_count": 17,
   "metadata": {
    "gather": {
     "logged": 1598432707604
    },
    "jupyter": {
     "outputs_hidden": false,
     "source_hidden": false
    },
    "nteract": {
     "transient": {
      "deleting": false
     }
    }
   },
   "outputs": [],
   "source": [
    "if \"inference\" not in os.listdir():\n",
    "    os.mkdir(\"./inference\")\n",
    "    \n",
    "autoscore_file = 'inference/autoscore.py'\n",
    "\n",
    "# best_auto_run.download_file('outputs/scoring_file_v_1_0_0.py', 'inference/autoscore.py' )"
   ]
  },
  {
   "cell_type": "code",
   "execution_count": 18,
   "metadata": {},
   "outputs": [
    {
     "name": "stdout",
     "output_type": "stream",
     "text": [
      "Writing inference/autoscore.py\n"
     ]
    }
   ],
   "source": [
    "%%writefile inference/autoscore.py\n",
    "\n",
    "import json\n",
    "import logging\n",
    "import os\n",
    "import pickle\n",
    "import numpy as np\n",
    "import pandas as pd\n",
    "import joblib\n",
    "\n",
    "import azureml.automl.core\n",
    "from azureml.automl.core.shared import logging_utilities, log_server\n",
    "from azureml.telemetry import INSTRUMENTATION_KEY\n",
    "\n",
    "from inference_schema.schema_decorators import input_schema, output_schema\n",
    "from inference_schema.parameter_types.numpy_parameter_type import NumpyParameterType\n",
    "from inference_schema.parameter_types.pandas_parameter_type import PandasParameterType\n",
    "\n",
    "\n",
    "\n",
    "try:\n",
    "    log_server.enable_telemetry(INSTRUMENTATION_KEY)\n",
    "    log_server.set_verbosity('INFO')\n",
    "    logger = logging.getLogger('azureml.automl.core.scoring_script')\n",
    "except:\n",
    "    pass\n",
    "\n",
    "\n",
    "def init():\n",
    "    global model\n",
    "    # This name is model.id of model that we want to deploy deserialize the model file back\n",
    "    # into a sklearn model\n",
    "    model_base_path = os.path.join(os.getenv('AZUREML_MODEL_DIR'), 'outputs')\n",
    "    model_path = os.path.join(model_base_path, 'model.pkl')\n",
    "    path = os.path.normpath(model_path)\n",
    "    path_split = path.split(os.sep)\n",
    "    log_server.update_custom_dimensions({'model_name': path_split[-3], 'model_version': path_split[-2]})\n",
    "    try:\n",
    "        logger.info(\"Loading model from path.\")\n",
    "        model = joblib.load(model_path)\n",
    "        logger.info(\"Loading successful.\")\n",
    "    except Exception as e:\n",
    "        logging_utilities.log_traceback(e, logger)\n",
    "        raise\n",
    "\n",
    "\n",
    "def run(data):\n",
    "    try:\n",
    "        temp = json.loads(data)\n",
    "        data_df = pd.DataFrame(temp['data'])\n",
    "        print(\"data \", data_df)\n",
    "        print(\"**********************\")\n",
    "        result = model.predict(data_df)\n",
    "        print(\"Result is \", result)\n",
    "        return json.dumps({\"result\": result.tolist()})\n",
    "    except Exception as e:\n",
    "        result = str(e)\n",
    "        return json.dumps({\"error\": result})\n"
   ]
  },
  {
   "cell_type": "markdown",
   "metadata": {
    "collapsed": true,
    "gather": {
     "logged": 1598432765711
    },
    "jupyter": {
     "outputs_hidden": false,
     "source_hidden": false
    },
    "nteract": {
     "transient": {
      "deleting": false
     }
    }
   },
   "source": [
    "#### Step3: Prepare an inference configuration: \n",
    "\n",
    "An inference configuration describes how to set up the web-service containing your model. It's used later, when you deploy the model. Here we are chossing Azure Container Instance (ACI) as a computer target and deployed using deploy API of Model class.\n"
   ]
  },
  {
   "cell_type": "code",
   "execution_count": 19,
   "metadata": {
    "jupyter": {
     "outputs_hidden": false,
     "source_hidden": false
    },
    "nteract": {
     "transient": {
      "deleting": false
     }
    }
   },
   "outputs": [
    {
     "data": {
      "text/plain": [
       "'AutoML8a96112e418'"
      ]
     },
     "execution_count": 19,
     "metadata": {},
     "output_type": "execute_result"
    }
   ],
   "source": [
    "model_name = best_auto_run.properties['model_name']\n",
    "model_name"
   ]
  },
  {
   "cell_type": "code",
   "execution_count": 20,
   "metadata": {},
   "outputs": [
    {
     "name": "stdout",
     "output_type": "stream",
     "text": [
      "Tips: You can try get_logs(): https://aka.ms/debugimage#dockerlog or local deployment: https://aka.ms/debugimage#debug-locally to debug if deployment takes longer than 10 minutes.\n",
      "Running\n",
      "2021-04-11 07:47:11+00:00 Registering the environment.\n",
      "2021-04-11 07:47:12+00:00 Use the existing image.\n",
      "2021-04-11 07:47:16+00:00 Submitting deployment to compute..\n",
      "2021-04-11 07:47:19+00:00 Checking the status of deployment vrk-auto-ids..\n",
      "2021-04-11 07:47:55+00:00 Checking the status of inference endpoint vrk-auto-ids.\n",
      "Succeeded\n",
      "ACI service creation operation finished, operation \"Succeeded\"\n",
      "Healthy\n",
      "http://c80d7e68-f55c-47f4-b475-721dbe072769.southcentralus.azurecontainer.io/score\n",
      "http://c80d7e68-f55c-47f4-b475-721dbe072769.southcentralus.azurecontainer.io/swagger.json\n"
     ]
    }
   ],
   "source": [
    "from azureml.core.environment import Environment\n",
    "from azureml.core.model import InferenceConfig\n",
    "from azureml.core.webservice import Webservice, AciWebservice\n",
    "from azureml.core.model import Model\n",
    "\n",
    "\n",
    "\n",
    "inference_config = InferenceConfig(entry_script=autoscore_file, environment=best_auto_run.get_environment())\n",
    "\n",
    "deployment_config = AciWebservice.deploy_configuration(cpu_cores=1, memory_gb=4, enable_app_insights=True)\n",
    "\n",
    "ids_auto_websvc = Model.deploy(vrk_auto_ids_ws, 'vrk-auto-ids', [ids_auto_mdl], inference_config, deployment_config)\n",
    "ids_auto_websvc.wait_for_deployment(show_output = True)\n",
    "\n",
    "print(ids_auto_websvc.state)\n",
    "print(ids_auto_websvc.scoring_uri)\n",
    "print(ids_auto_websvc.swagger_uri)"
   ]
  },
  {
   "cell_type": "markdown",
   "metadata": {},
   "source": [
    "#### Send request to deployed webservice\n",
    "In the cell below, send a request to the web service you deployed to test it."
   ]
  },
  {
   "cell_type": "code",
   "execution_count": 24,
   "metadata": {},
   "outputs": [
    {
     "name": "stdout",
     "output_type": "stream",
     "text": [
      "Response Code :  200\n",
      "Predicted Value :  {\"result\": [0]}\n"
     ]
    }
   ],
   "source": [
    "import requests\n",
    "import json\n",
    "\n",
    "# URL for the web service\n",
    "scoring_uri = 'http://c80d7e68-f55c-47f4-b475-721dbe072769.southcentralus.azurecontainer.io/score'\n",
    "\n",
    "# Set the content type\n",
    "headers = {'Content-Type': 'application/json'}\n",
    "\n",
    "# Two sets of data to score, so we get two results back\n",
    "data = {\"data\":\n",
    "        [{\n",
    "            \"duration\": 0,\n",
    "            \"protocol_type\": \"tcp\",\n",
    "            \"service\": \"http\",\n",
    "            \"flag\": \"REJ\",\n",
    "            \"src_bytes\": 0,\n",
    "            \"dst_bytes\": 0,\n",
    "            \"land\": 0,\n",
    "            \"wrong_fragment\": 0,\n",
    "            \"urgent\": 0,\n",
    "            \"hot\": 0,\n",
    "            \"num_failed_logins\": 0,\n",
    "            \"logged_in\": 0,\n",
    "            \"num_compromised\": 0,\n",
    "            \"root_shell\": 0,\n",
    "            \"su_attempted\": 0,\n",
    "            \"num_root\": 0,\n",
    "            \"num_file_creations\": 0,\n",
    "            \"num_shells\": 0,\n",
    "            \"num_access_files\": 0,\n",
    "            \"num_outbound_cmds\": 0,\n",
    "            \"is_hot_login\": 0,\n",
    "            \"is_guest_login\": 0,\n",
    "            \"count\": 0,\n",
    "            \"srv_count\": 0,\n",
    "            \"serror_rate\": 0,\n",
    "            \"srv_serror_rate\": 0,\n",
    "            \"rerror_rate\": 0,\n",
    "            \"srv_rerror_rate\": 0,\n",
    "            \"same_srv_rate\": 0,\n",
    "            \"diff_srv_rate\": 0,\n",
    "            \"srv_diff_host_rate\": 0,\n",
    "            \"dst_host_count\": 0,\n",
    "            \"dst_host_srv_count\": 0,\n",
    "            \"dst_host_same_srv_rate\": 0,\n",
    "            \"dst_host_diff_srv_rate\": 0,\n",
    "            \"dst_host_same_src_port_rate\": 0,\n",
    "            \"dst_host_srv_diff_host_rate\": 0,\n",
    "            \"dst_host_serror_rate\": 0,\n",
    "            \"dst_host_srv_serror_rate\": 0,\n",
    "            \"dst_host_rerror_rate\": 0,\n",
    "            \"dst_host_srv_rerror_rate\": 0 }\n",
    "        ]\n",
    "    }\n",
    "# Convert to JSON string\n",
    "input_data = json.dumps(data)\n",
    "\n",
    "# Make the request and display the response\n",
    "resp = requests.post(scoring_uri, input_data, headers=headers)\n",
    "\n",
    "print(\"Response Code : \", resp.status_code)\n",
    "print(\"Predicted Value : \",resp.json())"
   ]
  },
  {
   "cell_type": "code",
   "execution_count": 25,
   "metadata": {},
   "outputs": [
    {
     "name": "stdout",
     "output_type": "stream",
     "text": [
      "2021-04-11T07:47:47,578718400+00:00 - iot-server/run \n",
      "2021-04-11T07:47:47,589248800+00:00 - gunicorn/run \n",
      "2021-04-11T07:47:47,607493500+00:00 - rsyslog/run \n",
      "2021-04-11T07:47:47,635027300+00:00 - nginx/run \n",
      "/usr/sbin/nginx: /azureml-envs/azureml_8e5a5a51349877e7d47c6a2872e0ebfd/lib/libcrypto.so.1.0.0: no version information available (required by /usr/sbin/nginx)\n",
      "/usr/sbin/nginx: /azureml-envs/azureml_8e5a5a51349877e7d47c6a2872e0ebfd/lib/libcrypto.so.1.0.0: no version information available (required by /usr/sbin/nginx)\n",
      "/usr/sbin/nginx: /azureml-envs/azureml_8e5a5a51349877e7d47c6a2872e0ebfd/lib/libssl.so.1.0.0: no version information available (required by /usr/sbin/nginx)\n",
      "/usr/sbin/nginx: /azureml-envs/azureml_8e5a5a51349877e7d47c6a2872e0ebfd/lib/libssl.so.1.0.0: no version information available (required by /usr/sbin/nginx)\n",
      "/usr/sbin/nginx: /azureml-envs/azureml_8e5a5a51349877e7d47c6a2872e0ebfd/lib/libssl.so.1.0.0: no version information available (required by /usr/sbin/nginx)\n",
      "rsyslogd: /azureml-envs/azureml_8e5a5a51349877e7d47c6a2872e0ebfd/lib/libuuid.so.1: no version information available (required by rsyslogd)\n",
      "EdgeHubConnectionString and IOTEDGE_IOTHUBHOSTNAME are not set. Exiting...\n",
      "2021-04-11T07:47:47,864394200+00:00 - iot-server/finish 1 0\n",
      "2021-04-11T07:47:47,866028300+00:00 - Exit code 1 is normal. Not restarting iot-server.\n",
      "Starting gunicorn 19.9.0\n",
      "Listening at: http://127.0.0.1:31311 (71)\n",
      "Using worker: sync\n",
      "worker timeout is set to 300\n",
      "Booting worker with pid: 99\n",
      "SPARK_HOME not set. Skipping PySpark Initialization.\n",
      "Generating new fontManager, this may take some time...\n",
      "Initializing logger\n",
      "2021-04-11 07:47:50,282 | root | INFO | Starting up app insights client\n",
      "2021-04-11 07:47:50,283 | root | INFO | Starting up request id generator\n",
      "2021-04-11 07:47:50,283 | root | INFO | Starting up app insight hooks\n",
      "2021-04-11 07:47:50,284 | root | INFO | Invoking user's init function\n",
      "2021-04-11 07:47:54,760 | azureml.core | WARNING | Failure while loading azureml_run_type_providers. Failed to load entrypoint automl = azureml.train.automl.run:AutoMLRun._from_run_dto with exception cannot import name 'RunType'.\n",
      "Failure while loading azureml_run_type_providers. Failed to load entrypoint automl = azureml.train.automl.run:AutoMLRun._from_run_dto with exception cannot import name 'RunType'.\n",
      "2021-04-11 07:47:55,193 | root | INFO | Users's init has completed successfully\n",
      "2021-04-11 07:47:55,200 | root | INFO | Skipping middleware: dbg_model_info as it's not enabled.\n",
      "2021-04-11 07:47:55,238 | root | INFO | Skipping middleware: dbg_resource_usage as it's not enabled.\n",
      "2021-04-11 07:47:55,238 | root | INFO | Scoring timeout is found from os.environ: 60000 ms\n",
      "2021-04-11 07:47:58,294 | root | INFO | Swagger file not present\n",
      "2021-04-11 07:47:58,294 | root | INFO | 404\n",
      "127.0.0.1 - - [11/Apr/2021:07:47:58 +0000] \"GET /swagger.json HTTP/1.0\" 404 19 \"-\" \"Go-http-client/1.1\"\n",
      "2021-04-11 07:48:03,719 | root | INFO | Swagger file not present\n",
      "2021-04-11 07:48:03,719 | root | INFO | 404\n",
      "127.0.0.1 - - [11/Apr/2021:07:48:03 +0000] \"GET /swagger.json HTTP/1.0\" 404 19 \"-\" \"Go-http-client/1.1\"\n",
      "2021-04-11 07:48:34,873 | root | INFO | Swagger file not present\n",
      "2021-04-11 07:48:34,873 | root | INFO | 404\n",
      "127.0.0.1 - - [11/Apr/2021:07:48:34 +0000] \"GET /swagger.json HTTP/1.0\" 404 19 \"-\" \"Go-http-client/1.1\"\n",
      "2021-04-11 07:48:46,654 | root | INFO | Validation Request Content-Type\n",
      "2021-04-11 07:48:46,655 | root | INFO | Scoring Timer is set to 60.0 seconds\n",
      "data\n",
      "   duration protocol_type  ... dst_host_rerror_rate dst_host_srv_rerror_rate\n",
      "0         0           tcp  ...                    0                        0\n",
      "\n",
      "[1 rows x 41 columns]\n",
      "**********************\n",
      "Result is\n",
      "[0]\n",
      "2021-04-11 07:48:47,148 | root | INFO | 200\n",
      "127.0.0.1 - - [11/Apr/2021:07:48:47 +0000] \"POST /score HTTP/1.0\" 200 19 \"-\" \"python-requests/2.25.1\"\n",
      "2021-04-11 07:56:06,540 | root | INFO | Swagger file not present\n",
      "2021-04-11 07:56:06,540 | root | INFO | 404\n",
      "127.0.0.1 - - [11/Apr/2021:07:56:06 +0000] \"GET /swagger.json HTTP/1.0\" 404 19 \"-\" \"Go-http-client/1.1\"\n",
      "2021-04-11 07:58:58,047 | root | INFO | Swagger file not present\n",
      "2021-04-11 07:58:58,048 | root | INFO | 404\n",
      "127.0.0.1 - - [11/Apr/2021:07:58:58 +0000] \"GET /swagger.json HTTP/1.0\" 404 19 \"-\" \"Go-http-client/1.1\"\n",
      "2021-04-11 08:00:58,893 | root | INFO | Validation Request Content-Type\n",
      "2021-04-11 08:00:58,896 | root | INFO | Scoring Timer is set to 60.0 seconds\n",
      "data\n",
      "   duration protocol_type  ... dst_host_rerror_rate dst_host_srv_rerror_rate\n",
      "0         0           tcp  ...                    0                        0\n",
      "\n",
      "[1 rows x 41 columns]\n",
      "**********************\n",
      "Result is\n",
      "[0]\n",
      "2021-04-11 08:00:59,288 | root | INFO | 200\n",
      "127.0.0.1 - - [11/Apr/2021:08:00:59 +0000] \"POST /score HTTP/1.0\" 200 19 \"-\" \"python-requests/2.25.1\"\n",
      "2021-04-11 08:29:50,645 | root | INFO | Swagger file not present\n",
      "2021-04-11 08:29:50,646 | root | INFO | 404\n",
      "127.0.0.1 - - [11/Apr/2021:08:29:50 +0000] \"GET /swagger.json HTTP/1.0\" 404 19 \"-\" \"Go-http-client/1.1\"\n",
      "2021-04-11 08:30:07,399 | root | INFO | Validation Request Content-Type\n",
      "2021-04-11 08:30:07,403 | root | INFO | Scoring Timer is set to 60.0 seconds\n",
      "data\n",
      "   duration protocol_type  ... dst_host_rerror_rate dst_host_srv_rerror_rate\n",
      "0         0           tcp  ...                    0                        0\n",
      "\n",
      "[1 rows x 41 columns]\n",
      "**********************\n",
      "Result is\n",
      "[0]\n",
      "2021-04-11 08:30:07,813 | root | INFO | 200\n",
      "127.0.0.1 - - [11/Apr/2021:08:30:07 +0000] \"POST /score HTTP/1.0\" 200 19 \"-\" \"python-requests/2.25.1\"\n",
      "\n"
     ]
    }
   ],
   "source": [
    "# Web Service Logs\n",
    "print(ids_auto_websvc.get_logs())"
   ]
  },
  {
   "cell_type": "code",
   "execution_count": null,
   "metadata": {},
   "outputs": [],
   "source": [
    "# Delete the service\n",
    "ids_auto_websvc.delete()"
   ]
  },
  {
   "cell_type": "markdown",
   "metadata": {},
   "source": [
    "### Following section Debug cells\n",
    "\n",
    "I left it for future reference"
   ]
  },
  {
   "cell_type": "code",
   "execution_count": null,
   "metadata": {},
   "outputs": [],
   "source": [
    "import joblib\n",
    "#TODO: Save the best model\n",
    "joblib.dump(best_fitted_model, 'best_fit_automm_ids.pkl')"
   ]
  },
  {
   "cell_type": "code",
   "execution_count": null,
   "metadata": {},
   "outputs": [],
   "source": [
    "best_ids_auto_model = joblib.load('best_fit_automm_ids.pkl')"
   ]
  },
  {
   "cell_type": "code",
   "execution_count": null,
   "metadata": {},
   "outputs": [],
   "source": [
    "import pandas as pd\n",
    "temp = json.loads(input_data)\n",
    "data_df = pd.DataFrame(temp['data'])\n",
    "print(\"data \", data_df)\n",
    "best_ids_auto_model.predict(data_df)"
   ]
  }
 ],
 "metadata": {
  "kernel_info": {
   "name": "python3-azureml"
  },
  "kernelspec": {
   "display_name": "Python 3",
   "language": "python",
   "name": "python3"
  },
  "language_info": {
   "codemirror_mode": {
    "name": "ipython",
    "version": 3
   },
   "file_extension": ".py",
   "mimetype": "text/x-python",
   "name": "python",
   "nbconvert_exporter": "python",
   "pygments_lexer": "ipython3",
   "version": "3.6.9"
  },
  "nteract": {
   "version": "nteract-front-end@1.0.0"
  }
 },
 "nbformat": 4,
 "nbformat_minor": 2
}
